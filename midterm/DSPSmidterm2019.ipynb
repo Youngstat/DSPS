{
  "nbformat": 4,
  "nbformat_minor": 0,
  "metadata": {
    "kernelspec": {
      "display_name": "Python 3",
      "language": "python",
      "name": "python3"
    },
    "language_info": {
      "codemirror_mode": {
        "name": "ipython",
        "version": 3
      },
      "file_extension": ".py",
      "mimetype": "text/x-python",
      "name": "python",
      "nbconvert_exporter": "python",
      "pygments_lexer": "ipython3",
      "version": "3.7.3"
    },
    "latex_envs": {
      "LaTeX_envs_menu_present": true,
      "autoclose": false,
      "autocomplete": true,
      "bibliofile": "biblio.bib",
      "cite_by": "apalike",
      "current_citInitial": 1,
      "eqLabelWithNumbers": true,
      "eqNumInitial": 1,
      "hotkeys": {
        "equation": "Ctrl-E",
        "itemize": "Ctrl-I"
      },
      "labels_anchors": false,
      "latex_user_defs": false,
      "report_style_numbering": false,
      "user_envs_cfg": false
    },
    "nbTranslate": {
      "displayLangs": [
        "*"
      ],
      "hotkey": "alt-t",
      "langInMainMenu": true,
      "sourceLang": "en",
      "targetLang": "fr",
      "useGoogleTranslate": true
    },
    "toc": {
      "base_numbering": 1,
      "nav_menu": {
        "height": "13px",
        "width": "251px"
      },
      "number_sections": false,
      "sideBar": true,
      "skip_h1_title": false,
      "title_cell": "Table of Contents",
      "title_sidebar": "Contents",
      "toc_cell": false,
      "toc_position": {},
      "toc_section_display": "block",
      "toc_window_display": false
    },
    "colab": {
      "name": "DSPSmidterm2019.ipynb",
      "provenance": [],
      "collapsed_sections": []
    }
  },
  "cells": [
    {
      "cell_type": "markdown",
      "metadata": {
        "id": "JBT9-Oz6Y2kk",
        "colab_type": "text"
      },
      "source": [
        "# READ THESE INSTRUCTIONS CAREFULLY AND IN FULL BEFORE YOU PROCEED TO WORK!\n",
        "\n",
        "### CONTEXT :  Investigation of the nature of stellar explosions\n",
        "\n",
        "10 stars explode every second in the sky, most of them unseen as they are too far for their light to reach us. When they do, we can measure the property of the explosion and we find that there is a diversity of properties. Through the study of their spectra, we can measure the chemical composition of the progenitor star and the energy released in the explosion. We will focus here on 3 types of stellar explosions, or Supernovae (shortened to SN, for the singular, SNe for the plural). SNe Ic, SNe Ic-BL (which stands for \"broad-lined\", describing the broad quality of their spectral features), and SNe Ic-BL accompanied by a Gamma Ray Burst (GRB) which is an emission at higher electromagnetic frequencies (gamma rays). The details of this taxonomy are not important at this point (you can read about them [here](https://ned.ipac.caltech.edu/level5/March03/Filippenko/frames.html) if you wish), but suffice to say that these explosions have increasing energy release Ic < Ic-BL < Ic-BLGRB.\n",
        "\n",
        "We do not know why the energy released is different in spite of similar observed chemical properties. In a recent paper, we asked if the *environment* in which they explode is the same: the environment from an astrophysical perspective means the chemical environment of the region of the Galaxy where the explosion happens, which we measure relative to the chemical environment near our Sun: the *Metallicity*.\n",
        "\n",
        "\n",
        "\n",
        "\n",
        "In the files below, we report the metallicity measured in several ways for the environment of several stellar explosions. \n",
        "\n",
        "***Focusing on the metallicity measured as \"KD02comb\" find a statistical answer to the question: do the three kinds of explosions, SN Ic, SN Ic-BL, SN Ic-BLGRB, come from the same distribution of chemical properties?***\n",
        "\n",
        "\n",
        "Note: \"KD02comb\" stands for [Kewely and Dopite 2012](https://www2.scopus.com/record/display.uri?eid=2-s2.0-0013467486&origin=inward&txGid=fcab97eb7a9f1602e0512094f61c91ed), combined scale"
      ]
    },
    {
      "cell_type": "markdown",
      "metadata": {
        "id": "PtBMuQJyY2km",
        "colab_type": "text"
      },
      "source": [
        "# Objective: assessing differences in the chemical environment of stellar explosion"
      ]
    },
    {
      "cell_type": "markdown",
      "metadata": {
        "id": "vxRZ9mEnY2kn",
        "colab_type": "text"
      },
      "source": [
        "PLEASE SEE THE HINTS TO EACH TASK [here](https://docs.google.com/document/d/1V9PVb6tK0yuCSTyCILkKXZD9--5PVIvhKDPZIiREdtQ/edit?usp=sharing) (no points loss for hints!)\n",
        "\n",
        "You will receive points for each of the marked deliverables, *and for your discussion of your findings*. \n",
        "\n",
        "## 1-6 are the data wrangling portion of the exercise, and are worth up to 60% of the points\n",
        "*In the data wrangling portion points are awarded for data processed so that they support the analysis in parts 7-11. This portion is likely going to be the most time consuming.*\n",
        "\n",
        "## 7-11 are the analysis portion of the exercise (including exploratory and visual analysis), and are worth up to 50% of the points \n",
        "*In the data analysis portion points are awarded for correct analysis, conclusions supported by the analysis* ***and expressed in full sentences***, *and plots that support the analysis and conclusions.*\n",
        "\n",
        "*That sums up to 110%, but the maximum grade is reached at 100%. This means you have a better chance to get 100% on your test, and if you exceed 100% the rest will be accounted for as extra credit and help your cumulative score at the end of the semester.*\n",
        "\n",
        "## Data Wrangling (each task is 10% of the points)\n",
        "    1. Read in the data for SN metallicity\n",
        "\n",
        "    2. Read in the GRB metallicity file\n",
        "    \n",
        "    3. Read in the classification of Ic and Ic-BL explosions \n",
        "    \n",
        "    4. Merge the metallicity and classification files\n",
        "    \n",
        "    5. Define the 3 samples GRB, IcBL, and Ic\n",
        "    \n",
        "    6. Create a second \"abridged\" GRB sample by removing uncertain classifications\n",
        "\n",
        "\n",
        "## Analysis (visual and quantitative)\n",
        "\n",
        "    7. Plot the distribution of metallicities (KD02comb) for each of the (4) samples\n",
        "    \n",
        "    8. Calculate the mean metallicity for each of the samples  and its uncertainty\n",
        "    \n",
        "    9. Compare the distribution of Ic with that of IcBL\n",
        "   \n",
        "    10. Compare the distribution of SNe Ic with that of GRBs and that of SNe IcBL with GRBs using, in both cases, the full GRB sample.\n",
        "    \n",
        "    11. Repeat the comparison of SNe IcBL with GRBs using now the abridged GRB sample\n",
        "    \n",
        "**Extra Credit**. The metallicity measurements include uncertainties which are asymmetric. Do you think these are included in the analysis I outlined above? if not, how would you incorporate these uncertainty in your analysis? (Describe what you would do and, of course, if you have time include this step in the analysis.)\"\n",
        "\n",
        "    \n",
        "     \n",
        "\n"
      ]
    },
    {
      "cell_type": "markdown",
      "metadata": {
        "id": "QDqhIDBdYNeR",
        "colab_type": "text"
      },
      "source": [
        "### DATA WRANGLING"
      ]
    },
    {
      "cell_type": "markdown",
      "metadata": {
        "id": "unglofA7Y2kn",
        "colab_type": "text"
      },
      "source": [
        "# 1 Read in the SN metallicity file\n",
        "\n",
        "You can find the data in the github repository \n",
        "\n",
        "https://github.com/fedhere/DSPS/tree/master/midterm\n",
        "\n",
        "Clean your dataset removing all the columns you will not need in the analysis and all invalid values in the resulting dataframe \n",
        "_the deliverable is a table like the one below_\n",
        "\n",
        "\n",
        "[hints](https://docs.google.com/document/d/1V9PVb6tK0yuCSTyCILkKXZD9--5PVIvhKDPZIiREdtQ/edit#heading=h.wqv9503ir8mr)\n",
        "\n",
        "You can find the solution at this URL: http://fbb.space/dsps/sne_clean.csv - if you use this solution you will not get the 10 points for this deliverable (but you can take the shortcut now and go back later to this! and if you do get the solution later you will get the points!)\n"
      ]
    },
    {
      "cell_type": "code",
      "metadata": {
        "ExecuteTime": {
          "end_time": "2019-10-08T07:41:00.302204Z",
          "start_time": "2019-10-08T07:40:59.228474Z"
        },
        "id": "_dj0wK1AY2ko",
        "colab_type": "code",
        "outputId": "c4713cf3-847e-4086-a203-7b4ae941ba68",
        "colab": {
          "base_uri": "https://localhost:8080/",
          "height": 241
        }
      },
      "source": [
        "#delete\n",
        "import numpy as np\n",
        "import pandas as pd\n",
        "%pylab inline\n",
        "url = 'https://raw.githubusercontent.com/fedhere/DSPSsolutions/'\n",
        "url += 'master/midterm/sne_metallicities.tsv?token=AAM6JBV6WSWVIUM2KWVWLG25UVNQO'\n",
        "sne =pd.read_csv(url, sep='\\t', \n",
        "            skiprows=1, index_col=None, header=None, \n",
        "                 na_values=['-'],\n",
        "            names=[\"SN\", \"D31\", \"D13m\", \"D13p\", \"KD02comb\", \n",
        "                   \"KD02m\", \"KD02p\", \"PP04\", \"PP04m\", \n",
        "                   \"PP04p\", \"M08\", \"M08m\", \"M08p\", \n",
        "                   \"Emv\", \"mvm\", \"mvp\", \"M13\", \"M13m\", \"M13p\"])\n",
        "sne.head()\n"
      ],
      "execution_count": 1,
      "outputs": [
        {
          "output_type": "stream",
          "text": [
            "Populating the interactive namespace from numpy and matplotlib\n"
          ],
          "name": "stdout"
        },
        {
          "output_type": "execute_result",
          "data": {
            "text/html": [
              "<div>\n",
              "<style scoped>\n",
              "    .dataframe tbody tr th:only-of-type {\n",
              "        vertical-align: middle;\n",
              "    }\n",
              "\n",
              "    .dataframe tbody tr th {\n",
              "        vertical-align: top;\n",
              "    }\n",
              "\n",
              "    .dataframe thead th {\n",
              "        text-align: right;\n",
              "    }\n",
              "</style>\n",
              "<table border=\"1\" class=\"dataframe\">\n",
              "  <thead>\n",
              "    <tr style=\"text-align: right;\">\n",
              "      <th></th>\n",
              "      <th>SN</th>\n",
              "      <th>D31</th>\n",
              "      <th>D13m</th>\n",
              "      <th>D13p</th>\n",
              "      <th>KD02comb</th>\n",
              "      <th>KD02m</th>\n",
              "      <th>KD02p</th>\n",
              "      <th>PP04</th>\n",
              "      <th>PP04m</th>\n",
              "      <th>PP04p</th>\n",
              "      <th>M08</th>\n",
              "      <th>M08m</th>\n",
              "      <th>M08p</th>\n",
              "      <th>Emv</th>\n",
              "      <th>mvm</th>\n",
              "      <th>mvp</th>\n",
              "      <th>M13</th>\n",
              "      <th>M13m</th>\n",
              "      <th>M13p</th>\n",
              "    </tr>\n",
              "  </thead>\n",
              "  <tbody>\n",
              "    <tr>\n",
              "      <th>0</th>\n",
              "      <td>09ps</td>\n",
              "      <td>8.309</td>\n",
              "      <td>0.088</td>\n",
              "      <td>0.073</td>\n",
              "      <td>8.347</td>\n",
              "      <td>0.131</td>\n",
              "      <td>0.116</td>\n",
              "      <td>8.362</td>\n",
              "      <td>0.025</td>\n",
              "      <td>0.026</td>\n",
              "      <td>8.472</td>\n",
              "      <td>0.050</td>\n",
              "      <td>0.042</td>\n",
              "      <td>0.292</td>\n",
              "      <td>0.078</td>\n",
              "      <td>0.083</td>\n",
              "      <td>8.287</td>\n",
              "      <td>0.016</td>\n",
              "      <td>0.017</td>\n",
              "    </tr>\n",
              "    <tr>\n",
              "      <th>1</th>\n",
              "      <td>10bip</td>\n",
              "      <td>8.378</td>\n",
              "      <td>0.050</td>\n",
              "      <td>0.042</td>\n",
              "      <td>NaN</td>\n",
              "      <td>NaN</td>\n",
              "      <td>NaN</td>\n",
              "      <td>8.302</td>\n",
              "      <td>0.013</td>\n",
              "      <td>0.013</td>\n",
              "      <td>8.580</td>\n",
              "      <td>0.027</td>\n",
              "      <td>0.027</td>\n",
              "      <td>0.504</td>\n",
              "      <td>0.061</td>\n",
              "      <td>0.065</td>\n",
              "      <td>8.246</td>\n",
              "      <td>0.010</td>\n",
              "      <td>0.009</td>\n",
              "    </tr>\n",
              "    <tr>\n",
              "      <th>2</th>\n",
              "      <td>10gvb</td>\n",
              "      <td>7.945</td>\n",
              "      <td>0.231</td>\n",
              "      <td>0.191</td>\n",
              "      <td>8.280</td>\n",
              "      <td>0.135</td>\n",
              "      <td>0.129</td>\n",
              "      <td>8.102</td>\n",
              "      <td>0.062</td>\n",
              "      <td>0.045</td>\n",
              "      <td>8.161</td>\n",
              "      <td>0.185</td>\n",
              "      <td>0.118</td>\n",
              "      <td>0.329</td>\n",
              "      <td>0.058</td>\n",
              "      <td>0.061</td>\n",
              "      <td>8.175</td>\n",
              "      <td>0.008</td>\n",
              "      <td>0.009</td>\n",
              "    </tr>\n",
              "    <tr>\n",
              "      <th>3</th>\n",
              "      <td>10svt</td>\n",
              "      <td>8.296</td>\n",
              "      <td>0.079</td>\n",
              "      <td>0.070</td>\n",
              "      <td>8.479</td>\n",
              "      <td>0.061</td>\n",
              "      <td>0.049</td>\n",
              "      <td>8.218</td>\n",
              "      <td>0.016</td>\n",
              "      <td>0.015</td>\n",
              "      <td>8.331</td>\n",
              "      <td>0.042</td>\n",
              "      <td>0.037</td>\n",
              "      <td>0.032</td>\n",
              "      <td>0.020</td>\n",
              "      <td>0.021</td>\n",
              "      <td>8.191</td>\n",
              "      <td>0.013</td>\n",
              "      <td>0.012</td>\n",
              "    </tr>\n",
              "    <tr>\n",
              "      <th>4</th>\n",
              "      <td>12gzk</td>\n",
              "      <td>8.048</td>\n",
              "      <td>0.091</td>\n",
              "      <td>0.072</td>\n",
              "      <td>7.943</td>\n",
              "      <td>0.053</td>\n",
              "      <td>0.046</td>\n",
              "      <td>8.071</td>\n",
              "      <td>0.017</td>\n",
              "      <td>0.015</td>\n",
              "      <td>7.941</td>\n",
              "      <td>0.052</td>\n",
              "      <td>0.046</td>\n",
              "      <td>0.081</td>\n",
              "      <td>0.022</td>\n",
              "      <td>0.022</td>\n",
              "      <td>NaN</td>\n",
              "      <td>NaN</td>\n",
              "      <td>NaN</td>\n",
              "    </tr>\n",
              "  </tbody>\n",
              "</table>\n",
              "</div>"
            ],
            "text/plain": [
              "      SN    D31   D13m   D13p  KD02comb  ...    mvm    mvp    M13   M13m   M13p\n",
              "0   09ps  8.309  0.088  0.073     8.347  ...  0.078  0.083  8.287  0.016  0.017\n",
              "1  10bip  8.378  0.050  0.042       NaN  ...  0.061  0.065  8.246  0.010  0.009\n",
              "2  10gvb  7.945  0.231  0.191     8.280  ...  0.058  0.061  8.175  0.008  0.009\n",
              "3  10svt  8.296  0.079  0.070     8.479  ...  0.020  0.021  8.191  0.013  0.012\n",
              "4  12gzk  8.048  0.091  0.072     7.943  ...  0.022  0.022    NaN    NaN    NaN\n",
              "\n",
              "[5 rows x 19 columns]"
            ]
          },
          "metadata": {
            "tags": []
          },
          "execution_count": 1
        }
      ]
    },
    {
      "cell_type": "code",
      "metadata": {
        "ExecuteTime": {
          "end_time": "2019-10-08T07:41:00.310036Z",
          "start_time": "2019-10-08T07:41:00.303848Z"
        },
        "id": "JaHplmnMY2kq",
        "colab_type": "code",
        "colab": {}
      },
      "source": [
        "#delete\n",
        "sne.drop([\"D31\", \"D13m\", \"D13p\", \"KD02m\", \"KD02p\", \"PP04\", \"PP04m\", \n",
        "                   \"PP04p\", \"M08\", \"M08m\", \"M08p\", \n",
        "                   \"Emv\", \"mvm\", \"mvp\", \"M13\", \"M13m\", \"M13p\"], \n",
        "         axis=1, inplace=True)\n",
        "sne.dropna(inplace=True)\n"
      ],
      "execution_count": 0,
      "outputs": []
    },
    {
      "cell_type": "code",
      "metadata": {
        "ExecuteTime": {
          "end_time": "2019-10-08T07:41:00.317321Z",
          "start_time": "2019-10-08T07:41:00.311478Z"
        },
        "id": "eeAYXz-hY2ks",
        "colab_type": "code",
        "outputId": "d47817fc-d430-49f0-bb69-e3e07ee81b66",
        "colab": {
          "base_uri": "https://localhost:8080/",
          "height": 204
        }
      },
      "source": [
        "sne.head()"
      ],
      "execution_count": 3,
      "outputs": [
        {
          "output_type": "execute_result",
          "data": {
            "text/html": [
              "<div>\n",
              "<style scoped>\n",
              "    .dataframe tbody tr th:only-of-type {\n",
              "        vertical-align: middle;\n",
              "    }\n",
              "\n",
              "    .dataframe tbody tr th {\n",
              "        vertical-align: top;\n",
              "    }\n",
              "\n",
              "    .dataframe thead th {\n",
              "        text-align: right;\n",
              "    }\n",
              "</style>\n",
              "<table border=\"1\" class=\"dataframe\">\n",
              "  <thead>\n",
              "    <tr style=\"text-align: right;\">\n",
              "      <th></th>\n",
              "      <th>SN</th>\n",
              "      <th>KD02comb</th>\n",
              "    </tr>\n",
              "  </thead>\n",
              "  <tbody>\n",
              "    <tr>\n",
              "      <th>0</th>\n",
              "      <td>09ps</td>\n",
              "      <td>8.347</td>\n",
              "    </tr>\n",
              "    <tr>\n",
              "      <th>2</th>\n",
              "      <td>10gvb</td>\n",
              "      <td>8.280</td>\n",
              "    </tr>\n",
              "    <tr>\n",
              "      <th>3</th>\n",
              "      <td>10svt</td>\n",
              "      <td>8.479</td>\n",
              "    </tr>\n",
              "    <tr>\n",
              "      <th>4</th>\n",
              "      <td>12gzk</td>\n",
              "      <td>7.943</td>\n",
              "    </tr>\n",
              "    <tr>\n",
              "      <th>5</th>\n",
              "      <td>12hni</td>\n",
              "      <td>8.457</td>\n",
              "    </tr>\n",
              "  </tbody>\n",
              "</table>\n",
              "</div>"
            ],
            "text/plain": [
              "      SN  KD02comb\n",
              "0   09ps     8.347\n",
              "2  10gvb     8.280\n",
              "3  10svt     8.479\n",
              "4  12gzk     7.943\n",
              "5  12hni     8.457"
            ]
          },
          "metadata": {
            "tags": []
          },
          "execution_count": 3
        }
      ]
    },
    {
      "cell_type": "code",
      "metadata": {
        "ExecuteTime": {
          "end_time": "2019-10-08T07:41:00.325201Z",
          "start_time": "2019-10-08T07:41:00.319410Z"
        },
        "id": "lZI_3cqMY2ku",
        "colab_type": "code",
        "colab": {}
      },
      "source": [
        "#delete\n",
        "sne.to_csv(\"sne_clean.csv\", index=False)"
      ],
      "execution_count": 0,
      "outputs": []
    },
    {
      "cell_type": "markdown",
      "metadata": {
        "id": "uTVXw1adY2kw",
        "colab_type": "text"
      },
      "source": [
        "# 2.  Read in the GRB metallicity file\n",
        "\n",
        "You can find the data in the github repository \n",
        "\n",
        "https://github.com/fedhere/DSPS/tree/master/midterm\n",
        "\n",
        "Clean your dataset of all the columns you will not need and all invalid values in the remaining dataframe \n",
        "_the deliverable is a table like the one below_\n",
        "\n",
        "[hints](https://docs.google.com/document/d/1V9PVb6tK0yuCSTyCILkKXZD9--5PVIvhKDPZIiREdtQ/edit#heading=h.wqv9503ir8mr)\n",
        "\n",
        "You can find the solution at http://fbb.space/dsps/grb_clean.csv - if you use this solution you will not get the 10 points for this deliverable (but you can go back later to this! and if you do get the solution later you will get the points!)\n"
      ]
    },
    {
      "cell_type": "code",
      "metadata": {
        "ExecuteTime": {
          "end_time": "2019-10-08T07:41:00.539096Z",
          "start_time": "2019-10-08T07:41:00.326127Z"
        },
        "id": "ZdMmqZ30Y2kw",
        "colab_type": "code",
        "outputId": "b755e970-dba2-42ea-8d48-0be249dff76c",
        "colab": {
          "base_uri": "https://localhost:8080/",
          "height": 224
        }
      },
      "source": [
        "#delete\n",
        "url = 'https://raw.githubusercontent.com/fedhere/DSPSsolutions/master/midterm/grb_metallicities.tsv?token=AAM6JBWD5SD2BZ4C47ZG6PK5UVYLG'\n",
        "grb = pd.read_csv(url, sep='\\t', \n",
        "            skiprows=1, header=None,   na_values=['-'],\n",
        "            names=[\"SN\", \"D31\", \"D13m\", \"D13p\", \"KD02comb\", \n",
        "                   \"KD02m\", \"KD02p\", \"PP04\", \"PP04m\", \n",
        "                   \"PP04p\", \"M08\", \"M08m\", \"M08p\", \n",
        "                   \"Emv\", \"mvm\", \"mvp\", \"M13\", \"M13m\", \"M13p\"])\n",
        "grb.head()"
      ],
      "execution_count": 6,
      "outputs": [
        {
          "output_type": "execute_result",
          "data": {
            "text/html": [
              "<div>\n",
              "<style scoped>\n",
              "    .dataframe tbody tr th:only-of-type {\n",
              "        vertical-align: middle;\n",
              "    }\n",
              "\n",
              "    .dataframe tbody tr th {\n",
              "        vertical-align: top;\n",
              "    }\n",
              "\n",
              "    .dataframe thead th {\n",
              "        text-align: right;\n",
              "    }\n",
              "</style>\n",
              "<table border=\"1\" class=\"dataframe\">\n",
              "  <thead>\n",
              "    <tr style=\"text-align: right;\">\n",
              "      <th></th>\n",
              "      <th>SN</th>\n",
              "      <th>D31</th>\n",
              "      <th>D13m</th>\n",
              "      <th>D13p</th>\n",
              "      <th>KD02comb</th>\n",
              "      <th>KD02m</th>\n",
              "      <th>KD02p</th>\n",
              "      <th>PP04</th>\n",
              "      <th>PP04m</th>\n",
              "      <th>PP04p</th>\n",
              "      <th>M08</th>\n",
              "      <th>M08m</th>\n",
              "      <th>M08p</th>\n",
              "      <th>Emv</th>\n",
              "      <th>mvm</th>\n",
              "      <th>mvp</th>\n",
              "      <th>M13</th>\n",
              "      <th>M13m</th>\n",
              "      <th>M13p</th>\n",
              "    </tr>\n",
              "  </thead>\n",
              "  <tbody>\n",
              "    <tr>\n",
              "      <th>0</th>\n",
              "      <td>GRB980425/SN1998bw</td>\n",
              "      <td>8.320</td>\n",
              "      <td>0.072</td>\n",
              "      <td>0.066</td>\n",
              "      <td>8.485</td>\n",
              "      <td>0.049</td>\n",
              "      <td>0.068</td>\n",
              "      <td>8.329</td>\n",
              "      <td>0.025</td>\n",
              "      <td>0.024</td>\n",
              "      <td>8.550</td>\n",
              "      <td>0.049</td>\n",
              "      <td>0.046</td>\n",
              "      <td>0.743</td>\n",
              "      <td>0.150</td>\n",
              "      <td>0.143</td>\n",
              "      <td>8.265</td>\n",
              "      <td>0.017</td>\n",
              "      <td>0.016</td>\n",
              "    </tr>\n",
              "    <tr>\n",
              "      <th>1</th>\n",
              "      <td>XRF020903</td>\n",
              "      <td>8.007</td>\n",
              "      <td>0.111</td>\n",
              "      <td>0.083</td>\n",
              "      <td>8.183</td>\n",
              "      <td>0.045</td>\n",
              "      <td>0.252</td>\n",
              "      <td>8.016</td>\n",
              "      <td>0.019</td>\n",
              "      <td>0.018</td>\n",
              "      <td>8.068</td>\n",
              "      <td>0.058</td>\n",
              "      <td>0.049</td>\n",
              "      <td>0.059</td>\n",
              "      <td>0.035</td>\n",
              "      <td>0.035</td>\n",
              "      <td>NaN</td>\n",
              "      <td>NaN</td>\n",
              "      <td>NaN</td>\n",
              "    </tr>\n",
              "    <tr>\n",
              "      <th>2</th>\n",
              "      <td>GRB030329/SN2003dh</td>\n",
              "      <td>7.485</td>\n",
              "      <td>0.051</td>\n",
              "      <td>0.081</td>\n",
              "      <td>8.073</td>\n",
              "      <td>0.018</td>\n",
              "      <td>0.019</td>\n",
              "      <td>7.927</td>\n",
              "      <td>0.091</td>\n",
              "      <td>0.057</td>\n",
              "      <td>7.584</td>\n",
              "      <td>0.210</td>\n",
              "      <td>0.183</td>\n",
              "      <td>0.100</td>\n",
              "      <td>0.019</td>\n",
              "      <td>0.018</td>\n",
              "      <td>NaN</td>\n",
              "      <td>NaN</td>\n",
              "      <td>NaN</td>\n",
              "    </tr>\n",
              "    <tr>\n",
              "      <th>3</th>\n",
              "      <td>GRB031203/SN2003lw</td>\n",
              "      <td>NaN</td>\n",
              "      <td>NaN</td>\n",
              "      <td>NaN</td>\n",
              "      <td>8.647</td>\n",
              "      <td>0.082</td>\n",
              "      <td>0.069</td>\n",
              "      <td>8.066</td>\n",
              "      <td>0.016</td>\n",
              "      <td>0.017</td>\n",
              "      <td>8.282</td>\n",
              "      <td>0.037</td>\n",
              "      <td>0.038</td>\n",
              "      <td>0.347</td>\n",
              "      <td>0.098</td>\n",
              "      <td>0.097</td>\n",
              "      <td>NaN</td>\n",
              "      <td>NaN</td>\n",
              "      <td>NaN</td>\n",
              "    </tr>\n",
              "    <tr>\n",
              "      <th>4</th>\n",
              "      <td>GRB/XRF060218/SN2006aj</td>\n",
              "      <td>8.357</td>\n",
              "      <td>0.020</td>\n",
              "      <td>0.021</td>\n",
              "      <td>8.125</td>\n",
              "      <td>0.006</td>\n",
              "      <td>0.007</td>\n",
              "      <td>8.125</td>\n",
              "      <td>0.004</td>\n",
              "      <td>0.004</td>\n",
              "      <td>8.194</td>\n",
              "      <td>0.011</td>\n",
              "      <td>0.011</td>\n",
              "      <td>0.000</td>\n",
              "      <td>0.000</td>\n",
              "      <td>0.007</td>\n",
              "      <td>NaN</td>\n",
              "      <td>NaN</td>\n",
              "      <td>NaN</td>\n",
              "    </tr>\n",
              "  </tbody>\n",
              "</table>\n",
              "</div>"
            ],
            "text/plain": [
              "                       SN    D31   D13m   D13p  ...    mvp    M13   M13m   M13p\n",
              "0      GRB980425/SN1998bw  8.320  0.072  0.066  ...  0.143  8.265  0.017  0.016\n",
              "1               XRF020903  8.007  0.111  0.083  ...  0.035    NaN    NaN    NaN\n",
              "2      GRB030329/SN2003dh  7.485  0.051  0.081  ...  0.018    NaN    NaN    NaN\n",
              "3      GRB031203/SN2003lw    NaN    NaN    NaN  ...  0.097    NaN    NaN    NaN\n",
              "4  GRB/XRF060218/SN2006aj  8.357  0.020  0.021  ...  0.007    NaN    NaN    NaN\n",
              "\n",
              "[5 rows x 19 columns]"
            ]
          },
          "metadata": {
            "tags": []
          },
          "execution_count": 6
        }
      ]
    },
    {
      "cell_type": "code",
      "metadata": {
        "ExecuteTime": {
          "end_time": "2019-10-08T07:41:00.545996Z",
          "start_time": "2019-10-08T07:41:00.540206Z"
        },
        "id": "NLpDQIvQY2ky",
        "colab_type": "code",
        "colab": {}
      },
      "source": [
        "#delete\n",
        "grb.drop([\"D31\", \"D13m\", \"D13p\", \"KD02m\", \"KD02p\", \"PP04\", \"PP04m\", \n",
        "                   \"PP04p\", \"M08\", \"M08m\", \"M08p\", \n",
        "                   \"Emv\", \"mvm\", \"mvp\", \"M13\", \"M13m\", \"M13p\"], \n",
        "         axis=1, inplace=True)\n",
        "grb.dropna(inplace=True)\n"
      ],
      "execution_count": 0,
      "outputs": []
    },
    {
      "cell_type": "code",
      "metadata": {
        "ExecuteTime": {
          "end_time": "2019-10-08T07:41:00.554244Z",
          "start_time": "2019-10-08T07:41:00.547733Z"
        },
        "id": "RsYVHBbPY2kz",
        "colab_type": "code",
        "outputId": "42baf6e4-986a-464b-e276-54094716938e",
        "colab": {
          "base_uri": "https://localhost:8080/",
          "height": 204
        }
      },
      "source": [
        "grb.head()"
      ],
      "execution_count": 8,
      "outputs": [
        {
          "output_type": "execute_result",
          "data": {
            "text/html": [
              "<div>\n",
              "<style scoped>\n",
              "    .dataframe tbody tr th:only-of-type {\n",
              "        vertical-align: middle;\n",
              "    }\n",
              "\n",
              "    .dataframe tbody tr th {\n",
              "        vertical-align: top;\n",
              "    }\n",
              "\n",
              "    .dataframe thead th {\n",
              "        text-align: right;\n",
              "    }\n",
              "</style>\n",
              "<table border=\"1\" class=\"dataframe\">\n",
              "  <thead>\n",
              "    <tr style=\"text-align: right;\">\n",
              "      <th></th>\n",
              "      <th>SN</th>\n",
              "      <th>KD02comb</th>\n",
              "    </tr>\n",
              "  </thead>\n",
              "  <tbody>\n",
              "    <tr>\n",
              "      <th>0</th>\n",
              "      <td>GRB980425/SN1998bw</td>\n",
              "      <td>8.485</td>\n",
              "    </tr>\n",
              "    <tr>\n",
              "      <th>1</th>\n",
              "      <td>XRF020903</td>\n",
              "      <td>8.183</td>\n",
              "    </tr>\n",
              "    <tr>\n",
              "      <th>2</th>\n",
              "      <td>GRB030329/SN2003dh</td>\n",
              "      <td>8.073</td>\n",
              "    </tr>\n",
              "    <tr>\n",
              "      <th>3</th>\n",
              "      <td>GRB031203/SN2003lw</td>\n",
              "      <td>8.647</td>\n",
              "    </tr>\n",
              "    <tr>\n",
              "      <th>4</th>\n",
              "      <td>GRB/XRF060218/SN2006aj</td>\n",
              "      <td>8.125</td>\n",
              "    </tr>\n",
              "  </tbody>\n",
              "</table>\n",
              "</div>"
            ],
            "text/plain": [
              "                       SN  KD02comb\n",
              "0      GRB980425/SN1998bw     8.485\n",
              "1               XRF020903     8.183\n",
              "2      GRB030329/SN2003dh     8.073\n",
              "3      GRB031203/SN2003lw     8.647\n",
              "4  GRB/XRF060218/SN2006aj     8.125"
            ]
          },
          "metadata": {
            "tags": []
          },
          "execution_count": 8
        }
      ]
    },
    {
      "cell_type": "code",
      "metadata": {
        "ExecuteTime": {
          "end_time": "2019-10-08T07:41:00.560854Z",
          "start_time": "2019-10-08T07:41:00.556485Z"
        },
        "id": "kCUwoJSvY2k1",
        "colab_type": "code",
        "colab": {}
      },
      "source": [
        "#delete\n",
        "grb.to_csv(\"grb_clean.csv\", index=False)"
      ],
      "execution_count": 0,
      "outputs": []
    },
    {
      "cell_type": "code",
      "metadata": {
        "ExecuteTime": {
          "end_time": "2019-10-08T07:41:00.719074Z",
          "start_time": "2019-10-08T07:41:00.562914Z"
        },
        "id": "yxry_8icY2k3",
        "colab_type": "code",
        "outputId": "9588a5c5-11e0-48f4-f2d7-60a85d321b01",
        "colab": {
          "base_uri": "https://localhost:8080/",
          "height": 204
        }
      },
      "source": [
        "#using solution\n",
        "grb = pd.read_csv(\"http://fbb.space/dsps/grb_clean.csv\")\n",
        "sne = pd.read_csv(\"http://fbb.space/dsps/sne_clean.csv\")\n",
        "grb.head()"
      ],
      "execution_count": 12,
      "outputs": [
        {
          "output_type": "execute_result",
          "data": {
            "text/html": [
              "<div>\n",
              "<style scoped>\n",
              "    .dataframe tbody tr th:only-of-type {\n",
              "        vertical-align: middle;\n",
              "    }\n",
              "\n",
              "    .dataframe tbody tr th {\n",
              "        vertical-align: top;\n",
              "    }\n",
              "\n",
              "    .dataframe thead th {\n",
              "        text-align: right;\n",
              "    }\n",
              "</style>\n",
              "<table border=\"1\" class=\"dataframe\">\n",
              "  <thead>\n",
              "    <tr style=\"text-align: right;\">\n",
              "      <th></th>\n",
              "      <th>SN</th>\n",
              "      <th>KD02comb</th>\n",
              "    </tr>\n",
              "  </thead>\n",
              "  <tbody>\n",
              "    <tr>\n",
              "      <th>0</th>\n",
              "      <td>GRB980425/SN1998bw</td>\n",
              "      <td>8.485</td>\n",
              "    </tr>\n",
              "    <tr>\n",
              "      <th>1</th>\n",
              "      <td>XRF020903</td>\n",
              "      <td>8.183</td>\n",
              "    </tr>\n",
              "    <tr>\n",
              "      <th>2</th>\n",
              "      <td>GRB030329/SN2003dh</td>\n",
              "      <td>8.073</td>\n",
              "    </tr>\n",
              "    <tr>\n",
              "      <th>3</th>\n",
              "      <td>GRB031203/SN2003lw</td>\n",
              "      <td>8.647</td>\n",
              "    </tr>\n",
              "    <tr>\n",
              "      <th>4</th>\n",
              "      <td>GRB/XRF060218/SN2006aj</td>\n",
              "      <td>8.125</td>\n",
              "    </tr>\n",
              "  </tbody>\n",
              "</table>\n",
              "</div>"
            ],
            "text/plain": [
              "                       SN  KD02comb\n",
              "0      GRB980425/SN1998bw     8.485\n",
              "1               XRF020903     8.183\n",
              "2      GRB030329/SN2003dh     8.073\n",
              "3      GRB031203/SN2003lw     8.647\n",
              "4  GRB/XRF060218/SN2006aj     8.125"
            ]
          },
          "metadata": {
            "tags": []
          },
          "execution_count": 12
        }
      ]
    },
    {
      "cell_type": "code",
      "metadata": {
        "ExecuteTime": {
          "end_time": "2019-10-08T07:41:00.723672Z",
          "start_time": "2019-10-08T07:41:00.720784Z"
        },
        "id": "Iq5rfzoMY2k6",
        "colab_type": "code",
        "outputId": "b231a50b-4db0-4309-b25b-3f6149361f74",
        "colab": {
          "base_uri": "https://localhost:8080/",
          "height": 34
        }
      },
      "source": [
        "#leave\n",
        "sne.shape"
      ],
      "execution_count": 13,
      "outputs": [
        {
          "output_type": "execute_result",
          "data": {
            "text/plain": [
              "(47, 2)"
            ]
          },
          "metadata": {
            "tags": []
          },
          "execution_count": 13
        }
      ]
    },
    {
      "cell_type": "code",
      "metadata": {
        "ExecuteTime": {
          "end_time": "2019-10-08T07:41:00.727372Z",
          "start_time": "2019-10-08T07:41:00.724899Z"
        },
        "id": "IEB_1tlMY2k7",
        "colab_type": "code",
        "outputId": "21b11271-d724-4061-e34d-cd7202e85d1b",
        "colab": {
          "base_uri": "https://localhost:8080/",
          "height": 34
        }
      },
      "source": [
        "#leave\n",
        "grb.shape"
      ],
      "execution_count": 14,
      "outputs": [
        {
          "output_type": "execute_result",
          "data": {
            "text/plain": [
              "(11, 2)"
            ]
          },
          "metadata": {
            "tags": []
          },
          "execution_count": 14
        }
      ]
    },
    {
      "cell_type": "markdown",
      "metadata": {
        "id": "S7OcTSyhY2k9",
        "colab_type": "text"
      },
      "source": [
        "# 3 Read in the classification of Ic and Ic-BL explosions and process it to extract the SN name\n",
        "\n",
        "Modify the SN name column to be consistent with the name column in the SNe file \n",
        "\n",
        "[hint](https://docs.google.com/document/d/1V9PVb6tK0yuCSTyCILkKXZD9--5PVIvhKDPZIiREdtQ/edit#heading=h.isi30wsuhrhc)\n",
        "\n",
        "You can get the solution at http://fbb.space/dsps/SNtype.csv\n"
      ]
    },
    {
      "cell_type": "code",
      "metadata": {
        "ExecuteTime": {
          "end_time": "2019-10-08T07:41:00.942813Z",
          "start_time": "2019-10-08T07:41:00.728468Z"
        },
        "id": "vr__96LeY2k9",
        "colab_type": "code",
        "outputId": "0d48010a-aead-4cf5-f72a-29997919aa42",
        "colab": {
          "base_uri": "https://localhost:8080/",
          "height": 235
        }
      },
      "source": [
        "#delete\n",
        "url = \"https://raw.githubusercontent.com/fedhere/DSPSsolutions/master/midterm/SNinfo_072617.txt?token=AAM6JBXKVRPFERVSIFB73U25UVROI\"\n",
        "SNtypes = pd.read_csv(url, skiprows=4, \n",
        "            delim_whitespace=True, \n",
        "              header=None, index_col=0,\n",
        "           names=['galnum', 'PTFname_region', 'SNtype'])\n",
        "SNtypes.head()"
      ],
      "execution_count": 15,
      "outputs": [
        {
          "output_type": "execute_result",
          "data": {
            "text/html": [
              "<div>\n",
              "<style scoped>\n",
              "    .dataframe tbody tr th:only-of-type {\n",
              "        vertical-align: middle;\n",
              "    }\n",
              "\n",
              "    .dataframe tbody tr th {\n",
              "        vertical-align: top;\n",
              "    }\n",
              "\n",
              "    .dataframe thead th {\n",
              "        text-align: right;\n",
              "    }\n",
              "</style>\n",
              "<table border=\"1\" class=\"dataframe\">\n",
              "  <thead>\n",
              "    <tr style=\"text-align: right;\">\n",
              "      <th></th>\n",
              "      <th>PTFname_region</th>\n",
              "      <th>SNtype</th>\n",
              "    </tr>\n",
              "    <tr>\n",
              "      <th>galnum</th>\n",
              "      <th></th>\n",
              "      <th></th>\n",
              "    </tr>\n",
              "  </thead>\n",
              "  <tbody>\n",
              "    <tr>\n",
              "      <th>1</th>\n",
              "      <td>PTF10xem-host-SNsite</td>\n",
              "      <td>Ic-BL</td>\n",
              "    </tr>\n",
              "    <tr>\n",
              "      <th>2</th>\n",
              "      <td>PTF10wal-host-SNsite</td>\n",
              "      <td>Ic</td>\n",
              "    </tr>\n",
              "    <tr>\n",
              "      <th>3</th>\n",
              "      <td>PTF09iqd-host-HII3</td>\n",
              "      <td>Ic</td>\n",
              "    </tr>\n",
              "    <tr>\n",
              "      <th>4</th>\n",
              "      <td>PTF10xik-host-SNsite</td>\n",
              "      <td>Ic</td>\n",
              "    </tr>\n",
              "    <tr>\n",
              "      <th>5</th>\n",
              "      <td>PTF10ood-host-SNsite</td>\n",
              "      <td>Ic</td>\n",
              "    </tr>\n",
              "  </tbody>\n",
              "</table>\n",
              "</div>"
            ],
            "text/plain": [
              "              PTFname_region SNtype\n",
              "galnum                             \n",
              "1       PTF10xem-host-SNsite  Ic-BL\n",
              "2       PTF10wal-host-SNsite     Ic\n",
              "3         PTF09iqd-host-HII3     Ic\n",
              "4       PTF10xik-host-SNsite     Ic\n",
              "5       PTF10ood-host-SNsite     Ic"
            ]
          },
          "metadata": {
            "tags": []
          },
          "execution_count": 15
        }
      ]
    },
    {
      "cell_type": "code",
      "metadata": {
        "ExecuteTime": {
          "end_time": "2019-10-08T07:41:00.951954Z",
          "start_time": "2019-10-08T07:41:00.943945Z"
        },
        "id": "C5CPAHZgY2k_",
        "colab_type": "code",
        "colab": {}
      },
      "source": [
        "#delete\n",
        "SNtypes[\"name\"] = SNtypes[\"PTFname_region\"].apply(lambda x:\n",
        "                x.replace(\"PTF\", \"\").split(\"-\")[0])\n",
        "SNtypes.drop(\"PTFname_region\", axis=1, inplace=True)\n",
        "SNtypes.to_csv(\"SNtype.csv\")"
      ],
      "execution_count": 0,
      "outputs": []
    },
    {
      "cell_type": "code",
      "metadata": {
        "ExecuteTime": {
          "end_time": "2019-10-08T07:41:00.958608Z",
          "start_time": "2019-10-08T07:41:00.952952Z"
        },
        "id": "G7lTWyrlY2lA",
        "colab_type": "code",
        "outputId": "eb5a5d42-ab79-4672-c32e-096b403c8288",
        "colab": {
          "base_uri": "https://localhost:8080/",
          "height": 235
        }
      },
      "source": [
        "SNtypes.head()"
      ],
      "execution_count": 17,
      "outputs": [
        {
          "output_type": "execute_result",
          "data": {
            "text/html": [
              "<div>\n",
              "<style scoped>\n",
              "    .dataframe tbody tr th:only-of-type {\n",
              "        vertical-align: middle;\n",
              "    }\n",
              "\n",
              "    .dataframe tbody tr th {\n",
              "        vertical-align: top;\n",
              "    }\n",
              "\n",
              "    .dataframe thead th {\n",
              "        text-align: right;\n",
              "    }\n",
              "</style>\n",
              "<table border=\"1\" class=\"dataframe\">\n",
              "  <thead>\n",
              "    <tr style=\"text-align: right;\">\n",
              "      <th></th>\n",
              "      <th>SNtype</th>\n",
              "      <th>name</th>\n",
              "    </tr>\n",
              "    <tr>\n",
              "      <th>galnum</th>\n",
              "      <th></th>\n",
              "      <th></th>\n",
              "    </tr>\n",
              "  </thead>\n",
              "  <tbody>\n",
              "    <tr>\n",
              "      <th>1</th>\n",
              "      <td>Ic-BL</td>\n",
              "      <td>10xem</td>\n",
              "    </tr>\n",
              "    <tr>\n",
              "      <th>2</th>\n",
              "      <td>Ic</td>\n",
              "      <td>10wal</td>\n",
              "    </tr>\n",
              "    <tr>\n",
              "      <th>3</th>\n",
              "      <td>Ic</td>\n",
              "      <td>09iqd</td>\n",
              "    </tr>\n",
              "    <tr>\n",
              "      <th>4</th>\n",
              "      <td>Ic</td>\n",
              "      <td>10xik</td>\n",
              "    </tr>\n",
              "    <tr>\n",
              "      <th>5</th>\n",
              "      <td>Ic</td>\n",
              "      <td>10ood</td>\n",
              "    </tr>\n",
              "  </tbody>\n",
              "</table>\n",
              "</div>"
            ],
            "text/plain": [
              "       SNtype   name\n",
              "galnum              \n",
              "1       Ic-BL  10xem\n",
              "2          Ic  10wal\n",
              "3          Ic  09iqd\n",
              "4          Ic  10xik\n",
              "5          Ic  10ood"
            ]
          },
          "metadata": {
            "tags": []
          },
          "execution_count": 17
        }
      ]
    },
    {
      "cell_type": "code",
      "metadata": {
        "ExecuteTime": {
          "end_time": "2019-10-08T07:41:01.023954Z",
          "start_time": "2019-10-08T07:41:00.960065Z"
        },
        "id": "FHxaPDk8Y2lC",
        "colab_type": "code",
        "outputId": "2d4333e0-5350-4535-d485-22335fdd0cc3",
        "colab": {
          "base_uri": "https://localhost:8080/",
          "height": 235
        }
      },
      "source": [
        "#delete\n",
        "SNtypes = pd.read_csv(\"http://fbb.space/dsps/SNtype.csv\", \n",
        "                      index_col=\"galnum\")\n",
        "SNtypes.head()"
      ],
      "execution_count": 18,
      "outputs": [
        {
          "output_type": "execute_result",
          "data": {
            "text/html": [
              "<div>\n",
              "<style scoped>\n",
              "    .dataframe tbody tr th:only-of-type {\n",
              "        vertical-align: middle;\n",
              "    }\n",
              "\n",
              "    .dataframe tbody tr th {\n",
              "        vertical-align: top;\n",
              "    }\n",
              "\n",
              "    .dataframe thead th {\n",
              "        text-align: right;\n",
              "    }\n",
              "</style>\n",
              "<table border=\"1\" class=\"dataframe\">\n",
              "  <thead>\n",
              "    <tr style=\"text-align: right;\">\n",
              "      <th></th>\n",
              "      <th>SNtype</th>\n",
              "      <th>name</th>\n",
              "    </tr>\n",
              "    <tr>\n",
              "      <th>galnum</th>\n",
              "      <th></th>\n",
              "      <th></th>\n",
              "    </tr>\n",
              "  </thead>\n",
              "  <tbody>\n",
              "    <tr>\n",
              "      <th>1</th>\n",
              "      <td>Ic-BL</td>\n",
              "      <td>10xem</td>\n",
              "    </tr>\n",
              "    <tr>\n",
              "      <th>2</th>\n",
              "      <td>Ic</td>\n",
              "      <td>10wal</td>\n",
              "    </tr>\n",
              "    <tr>\n",
              "      <th>3</th>\n",
              "      <td>Ic</td>\n",
              "      <td>09iqd</td>\n",
              "    </tr>\n",
              "    <tr>\n",
              "      <th>4</th>\n",
              "      <td>Ic</td>\n",
              "      <td>10xik</td>\n",
              "    </tr>\n",
              "    <tr>\n",
              "      <th>5</th>\n",
              "      <td>Ic</td>\n",
              "      <td>10ood</td>\n",
              "    </tr>\n",
              "  </tbody>\n",
              "</table>\n",
              "</div>"
            ],
            "text/plain": [
              "       SNtype   name\n",
              "galnum              \n",
              "1       Ic-BL  10xem\n",
              "2          Ic  10wal\n",
              "3          Ic  09iqd\n",
              "4          Ic  10xik\n",
              "5          Ic  10ood"
            ]
          },
          "metadata": {
            "tags": []
          },
          "execution_count": 18
        }
      ]
    },
    {
      "cell_type": "markdown",
      "metadata": {
        "id": "YRZAUpEEY2lD",
        "colab_type": "text"
      },
      "source": [
        "# 4 Merge the metallicity and classification files\n",
        "\n",
        "Merge the SN names and SN metallicity files based on the SN name\n",
        "\n",
        "[hints](https://docs.google.com/document/d/1V9PVb6tK0yuCSTyCILkKXZD9--5PVIvhKDPZIiREdtQ/edit#heading=h.vu3ga15gdvc0)\n",
        "\n",
        "You can get the solution at this url: http://fbb.space/dsps/SNmetallicity_final.csv\n"
      ]
    },
    {
      "cell_type": "code",
      "metadata": {
        "ExecuteTime": {
          "end_time": "2019-10-08T07:41:01.035745Z",
          "start_time": "2019-10-08T07:41:01.026045Z"
        },
        "id": "TvaeMlNdY2lD",
        "colab_type": "code",
        "colab": {}
      },
      "source": [
        "#delete\n",
        "sneall = sne.merge(SNtypes, left_on=\"SN\", right_on=\"name\")\n",
        "sneall.drop(\"name\", axis=1, inplace=True)\n",
        "sneall.to_csv(\"SNmetallicity_final.csv\", index=False)"
      ],
      "execution_count": 0,
      "outputs": []
    },
    {
      "cell_type": "code",
      "metadata": {
        "ExecuteTime": {
          "end_time": "2019-10-08T07:41:01.044087Z",
          "start_time": "2019-10-08T07:41:01.037066Z"
        },
        "id": "GVfeyN0FY2lF",
        "colab_type": "code",
        "outputId": "01334639-4432-4667-dffe-1daf6141ba8b",
        "colab": {
          "base_uri": "https://localhost:8080/",
          "height": 204
        }
      },
      "source": [
        "sneall.head()"
      ],
      "execution_count": 20,
      "outputs": [
        {
          "output_type": "execute_result",
          "data": {
            "text/html": [
              "<div>\n",
              "<style scoped>\n",
              "    .dataframe tbody tr th:only-of-type {\n",
              "        vertical-align: middle;\n",
              "    }\n",
              "\n",
              "    .dataframe tbody tr th {\n",
              "        vertical-align: top;\n",
              "    }\n",
              "\n",
              "    .dataframe thead th {\n",
              "        text-align: right;\n",
              "    }\n",
              "</style>\n",
              "<table border=\"1\" class=\"dataframe\">\n",
              "  <thead>\n",
              "    <tr style=\"text-align: right;\">\n",
              "      <th></th>\n",
              "      <th>SN</th>\n",
              "      <th>KD02comb</th>\n",
              "      <th>SNtype</th>\n",
              "    </tr>\n",
              "  </thead>\n",
              "  <tbody>\n",
              "    <tr>\n",
              "      <th>0</th>\n",
              "      <td>09ps</td>\n",
              "      <td>8.347</td>\n",
              "      <td>uncertain</td>\n",
              "    </tr>\n",
              "    <tr>\n",
              "      <th>1</th>\n",
              "      <td>10gvb</td>\n",
              "      <td>8.280</td>\n",
              "      <td>uncertain</td>\n",
              "    </tr>\n",
              "    <tr>\n",
              "      <th>2</th>\n",
              "      <td>10svt</td>\n",
              "      <td>8.479</td>\n",
              "      <td>uncertain</td>\n",
              "    </tr>\n",
              "    <tr>\n",
              "      <th>3</th>\n",
              "      <td>12gzk</td>\n",
              "      <td>7.943</td>\n",
              "      <td>uncertain</td>\n",
              "    </tr>\n",
              "    <tr>\n",
              "      <th>4</th>\n",
              "      <td>12hni</td>\n",
              "      <td>8.457</td>\n",
              "      <td>uncertain</td>\n",
              "    </tr>\n",
              "  </tbody>\n",
              "</table>\n",
              "</div>"
            ],
            "text/plain": [
              "      SN  KD02comb     SNtype\n",
              "0   09ps     8.347  uncertain\n",
              "1  10gvb     8.280  uncertain\n",
              "2  10svt     8.479  uncertain\n",
              "3  12gzk     7.943  uncertain\n",
              "4  12hni     8.457  uncertain"
            ]
          },
          "metadata": {
            "tags": []
          },
          "execution_count": 20
        }
      ]
    },
    {
      "cell_type": "code",
      "metadata": {
        "ExecuteTime": {
          "end_time": "2019-10-08T07:41:01.111208Z",
          "start_time": "2019-10-08T07:41:01.046041Z"
        },
        "id": "q4D0FfqbY2lH",
        "colab_type": "code",
        "outputId": "4fa9e312-c413-4a8c-9c5a-412462a7364b",
        "colab": {
          "base_uri": "https://localhost:8080/",
          "height": 204
        }
      },
      "source": [
        "#delete\n",
        "sneall = pd.read_csv(\"http://fbb.space/dsps/SNmetallicity_final.csv\")\n",
        "sneall.head()"
      ],
      "execution_count": 21,
      "outputs": [
        {
          "output_type": "execute_result",
          "data": {
            "text/html": [
              "<div>\n",
              "<style scoped>\n",
              "    .dataframe tbody tr th:only-of-type {\n",
              "        vertical-align: middle;\n",
              "    }\n",
              "\n",
              "    .dataframe tbody tr th {\n",
              "        vertical-align: top;\n",
              "    }\n",
              "\n",
              "    .dataframe thead th {\n",
              "        text-align: right;\n",
              "    }\n",
              "</style>\n",
              "<table border=\"1\" class=\"dataframe\">\n",
              "  <thead>\n",
              "    <tr style=\"text-align: right;\">\n",
              "      <th></th>\n",
              "      <th>SN</th>\n",
              "      <th>KD02comb</th>\n",
              "      <th>SNtype</th>\n",
              "    </tr>\n",
              "  </thead>\n",
              "  <tbody>\n",
              "    <tr>\n",
              "      <th>0</th>\n",
              "      <td>09ps</td>\n",
              "      <td>8.347</td>\n",
              "      <td>uncertain</td>\n",
              "    </tr>\n",
              "    <tr>\n",
              "      <th>1</th>\n",
              "      <td>10gvb</td>\n",
              "      <td>8.280</td>\n",
              "      <td>uncertain</td>\n",
              "    </tr>\n",
              "    <tr>\n",
              "      <th>2</th>\n",
              "      <td>10svt</td>\n",
              "      <td>8.479</td>\n",
              "      <td>uncertain</td>\n",
              "    </tr>\n",
              "    <tr>\n",
              "      <th>3</th>\n",
              "      <td>12gzk</td>\n",
              "      <td>7.943</td>\n",
              "      <td>uncertain</td>\n",
              "    </tr>\n",
              "    <tr>\n",
              "      <th>4</th>\n",
              "      <td>12hni</td>\n",
              "      <td>8.457</td>\n",
              "      <td>uncertain</td>\n",
              "    </tr>\n",
              "  </tbody>\n",
              "</table>\n",
              "</div>"
            ],
            "text/plain": [
              "      SN  KD02comb     SNtype\n",
              "0   09ps     8.347  uncertain\n",
              "1  10gvb     8.280  uncertain\n",
              "2  10svt     8.479  uncertain\n",
              "3  12gzk     7.943  uncertain\n",
              "4  12hni     8.457  uncertain"
            ]
          },
          "metadata": {
            "tags": []
          },
          "execution_count": 21
        }
      ]
    },
    {
      "cell_type": "markdown",
      "metadata": {
        "id": "IeYzplkXY2lK",
        "colab_type": "text"
      },
      "source": [
        "# 5 Define the 3 samples GRB, IcBL, and Ic\n",
        "\n",
        "Split the SN sample so that you have 2 dataframes: snIc and snIcBL\n",
        "\n",
        "[hint](https://docs.google.com/document/d/1V9PVb6tK0yuCSTyCILkKXZD9--5PVIvhKDPZIiREdtQ/edit#heading=h.bojijnl6aiq5)"
      ]
    },
    {
      "cell_type": "code",
      "metadata": {
        "ExecuteTime": {
          "end_time": "2019-10-08T07:41:01.116906Z",
          "start_time": "2019-10-08T07:41:01.112471Z"
        },
        "id": "lOmeW425Y2lK",
        "colab_type": "code",
        "colab": {}
      },
      "source": [
        "#delete\n",
        "snIc = sneall[sneall.SNtype == \"Ic\"]\n",
        "snIcBL = sneall[sneall.SNtype == \"Ic-BL\"]\n"
      ],
      "execution_count": 0,
      "outputs": []
    },
    {
      "cell_type": "code",
      "metadata": {
        "ExecuteTime": {
          "end_time": "2019-10-08T07:41:01.125528Z",
          "start_time": "2019-10-08T07:41:01.118588Z"
        },
        "id": "BGacAy1RY2lN",
        "colab_type": "code",
        "outputId": "fc44c6e5-4cb1-4227-b3c3-fbf8938bb888",
        "colab": {
          "base_uri": "https://localhost:8080/",
          "height": 204
        }
      },
      "source": [
        "snIc.head()"
      ],
      "execution_count": 23,
      "outputs": [
        {
          "output_type": "execute_result",
          "data": {
            "text/html": [
              "<div>\n",
              "<style scoped>\n",
              "    .dataframe tbody tr th:only-of-type {\n",
              "        vertical-align: middle;\n",
              "    }\n",
              "\n",
              "    .dataframe tbody tr th {\n",
              "        vertical-align: top;\n",
              "    }\n",
              "\n",
              "    .dataframe thead th {\n",
              "        text-align: right;\n",
              "    }\n",
              "</style>\n",
              "<table border=\"1\" class=\"dataframe\">\n",
              "  <thead>\n",
              "    <tr style=\"text-align: right;\">\n",
              "      <th></th>\n",
              "      <th>SN</th>\n",
              "      <th>KD02comb</th>\n",
              "      <th>SNtype</th>\n",
              "    </tr>\n",
              "  </thead>\n",
              "  <tbody>\n",
              "    <tr>\n",
              "      <th>19</th>\n",
              "      <td>09iqd</td>\n",
              "      <td>8.802</td>\n",
              "      <td>Ic</td>\n",
              "    </tr>\n",
              "    <tr>\n",
              "      <th>20</th>\n",
              "      <td>10bhu</td>\n",
              "      <td>8.751</td>\n",
              "      <td>Ic</td>\n",
              "    </tr>\n",
              "    <tr>\n",
              "      <th>21</th>\n",
              "      <td>10fmx</td>\n",
              "      <td>8.812</td>\n",
              "      <td>Ic</td>\n",
              "    </tr>\n",
              "    <tr>\n",
              "      <th>22</th>\n",
              "      <td>10hfe</td>\n",
              "      <td>8.787</td>\n",
              "      <td>Ic</td>\n",
              "    </tr>\n",
              "    <tr>\n",
              "      <th>23</th>\n",
              "      <td>10hie</td>\n",
              "      <td>8.108</td>\n",
              "      <td>Ic</td>\n",
              "    </tr>\n",
              "  </tbody>\n",
              "</table>\n",
              "</div>"
            ],
            "text/plain": [
              "       SN  KD02comb SNtype\n",
              "19  09iqd     8.802     Ic\n",
              "20  10bhu     8.751     Ic\n",
              "21  10fmx     8.812     Ic\n",
              "22  10hfe     8.787     Ic\n",
              "23  10hie     8.108     Ic"
            ]
          },
          "metadata": {
            "tags": []
          },
          "execution_count": 23
        }
      ]
    },
    {
      "cell_type": "code",
      "metadata": {
        "ExecuteTime": {
          "end_time": "2019-10-08T07:41:01.129816Z",
          "start_time": "2019-10-08T07:41:01.126582Z"
        },
        "id": "MNIcfKhyY2lP",
        "colab_type": "code",
        "outputId": "ea23318c-10b2-49dd-827c-8d4e4aa98ed3",
        "colab": {
          "base_uri": "https://localhost:8080/",
          "height": 34
        }
      },
      "source": [
        "snIc.shape"
      ],
      "execution_count": 24,
      "outputs": [
        {
          "output_type": "execute_result",
          "data": {
            "text/plain": [
              "(28, 3)"
            ]
          },
          "metadata": {
            "tags": []
          },
          "execution_count": 24
        }
      ]
    },
    {
      "cell_type": "code",
      "metadata": {
        "ExecuteTime": {
          "end_time": "2019-10-08T07:41:01.137728Z",
          "start_time": "2019-10-08T07:41:01.131285Z"
        },
        "id": "qRHq63FVY2lR",
        "colab_type": "code",
        "outputId": "65f03346-da24-4198-8ae6-13d387739231",
        "colab": {
          "base_uri": "https://localhost:8080/",
          "height": 204
        }
      },
      "source": [
        "snIcBL.head()"
      ],
      "execution_count": 25,
      "outputs": [
        {
          "output_type": "execute_result",
          "data": {
            "text/html": [
              "<div>\n",
              "<style scoped>\n",
              "    .dataframe tbody tr th:only-of-type {\n",
              "        vertical-align: middle;\n",
              "    }\n",
              "\n",
              "    .dataframe tbody tr th {\n",
              "        vertical-align: top;\n",
              "    }\n",
              "\n",
              "    .dataframe thead th {\n",
              "        text-align: right;\n",
              "    }\n",
              "</style>\n",
              "<table border=\"1\" class=\"dataframe\">\n",
              "  <thead>\n",
              "    <tr style=\"text-align: right;\">\n",
              "      <th></th>\n",
              "      <th>SN</th>\n",
              "      <th>KD02comb</th>\n",
              "      <th>SNtype</th>\n",
              "    </tr>\n",
              "  </thead>\n",
              "  <tbody>\n",
              "    <tr>\n",
              "      <th>5</th>\n",
              "      <td>09sk</td>\n",
              "      <td>8.486</td>\n",
              "      <td>Ic-BL</td>\n",
              "    </tr>\n",
              "    <tr>\n",
              "      <th>6</th>\n",
              "      <td>10aavz</td>\n",
              "      <td>8.631</td>\n",
              "      <td>Ic-BL</td>\n",
              "    </tr>\n",
              "    <tr>\n",
              "      <th>7</th>\n",
              "      <td>10bzf</td>\n",
              "      <td>8.625</td>\n",
              "      <td>Ic-BL</td>\n",
              "    </tr>\n",
              "    <tr>\n",
              "      <th>8</th>\n",
              "      <td>10ciw</td>\n",
              "      <td>8.572</td>\n",
              "      <td>Ic-BL</td>\n",
              "    </tr>\n",
              "    <tr>\n",
              "      <th>9</th>\n",
              "      <td>10qts</td>\n",
              "      <td>8.033</td>\n",
              "      <td>Ic-BL</td>\n",
              "    </tr>\n",
              "  </tbody>\n",
              "</table>\n",
              "</div>"
            ],
            "text/plain": [
              "       SN  KD02comb SNtype\n",
              "5    09sk     8.486  Ic-BL\n",
              "6  10aavz     8.631  Ic-BL\n",
              "7   10bzf     8.625  Ic-BL\n",
              "8   10ciw     8.572  Ic-BL\n",
              "9   10qts     8.033  Ic-BL"
            ]
          },
          "metadata": {
            "tags": []
          },
          "execution_count": 25
        }
      ]
    },
    {
      "cell_type": "code",
      "metadata": {
        "ExecuteTime": {
          "end_time": "2019-10-08T07:41:01.144204Z",
          "start_time": "2019-10-08T07:41:01.141126Z"
        },
        "id": "XvHBkZVdY2lT",
        "colab_type": "code",
        "outputId": "b8a1dde7-5204-4faf-9646-3b4e57cf6880",
        "colab": {
          "base_uri": "https://localhost:8080/",
          "height": 34
        }
      },
      "source": [
        "snIcBL.shape"
      ],
      "execution_count": 26,
      "outputs": [
        {
          "output_type": "execute_result",
          "data": {
            "text/plain": [
              "(14, 3)"
            ]
          },
          "metadata": {
            "tags": []
          },
          "execution_count": 26
        }
      ]
    },
    {
      "cell_type": "markdown",
      "metadata": {
        "id": "JGSneWxxY2lU",
        "colab_type": "text"
      },
      "source": [
        "# 6 Create a second \"abridged\" GRB sample by removing uncertain classifications\n",
        "\n",
        "The classification of SN 2013dx ('13dx') is uncertain: remove it from the grb sample to create an \"abridged\" sample (saving the original sample as well)\n",
        "\n",
        "You can get the solution [here](https://docs.google.com/document/d/1V9PVb6tK0yuCSTyCILkKXZD9--5PVIvhKDPZIiREdtQ/edit#heading=h.e1jtfsuajcdv)\n"
      ]
    },
    {
      "cell_type": "code",
      "metadata": {
        "ExecuteTime": {
          "end_time": "2019-10-08T07:41:01.150366Z",
          "start_time": "2019-10-08T07:41:01.145838Z"
        },
        "id": "WqrcsdCsY2lV",
        "colab_type": "code",
        "colab": {}
      },
      "source": [
        "#delete\n",
        "grbul = [SN for SN in grb.SN.values if '13dx' in SN ]\n",
        "grbul\n",
        "grbabridged = grb[~(grb.SN.values == grbul)]"
      ],
      "execution_count": 0,
      "outputs": []
    },
    {
      "cell_type": "code",
      "metadata": {
        "ExecuteTime": {
          "end_time": "2019-10-08T07:41:01.156449Z",
          "start_time": "2019-10-08T07:41:01.152309Z"
        },
        "id": "pX4nCV7cY2lW",
        "colab_type": "code",
        "outputId": "a86a3399-54cf-4048-e986-30bfa26f0bcb",
        "colab": {
          "base_uri": "https://localhost:8080/",
          "height": 34
        }
      },
      "source": [
        "grbabridged.shape"
      ],
      "execution_count": 28,
      "outputs": [
        {
          "output_type": "execute_result",
          "data": {
            "text/plain": [
              "(10, 2)"
            ]
          },
          "metadata": {
            "tags": []
          },
          "execution_count": 28
        }
      ]
    },
    {
      "cell_type": "markdown",
      "metadata": {
        "id": "BrOXoymcYGdo",
        "colab_type": "text"
      },
      "source": [
        "#### ANALYSIS"
      ]
    },
    {
      "cell_type": "markdown",
      "metadata": {
        "id": "5l0nkZw_Y2lY",
        "colab_type": "text"
      },
      "source": [
        "# 7  Plot the distribution of metallicities  for each of the  samples\n",
        "    \n",
        "   \n",
        "\n",
        "[hint](https://docs.google.com/document/d/1V9PVb6tK0yuCSTyCILkKXZD9--5PVIvhKDPZIiREdtQ/edit#heading=h.pwkb8bo4nrla)"
      ]
    },
    {
      "cell_type": "code",
      "metadata": {
        "ExecuteTime": {
          "end_time": "2019-10-08T07:41:01.345173Z",
          "start_time": "2019-10-08T07:41:01.157806Z"
        },
        "id": "yiJ_oXY6Y2lY",
        "colab_type": "code",
        "outputId": "e2284c58-d633-424d-d033-be21b664f0a6",
        "colab": {
          "base_uri": "https://localhost:8080/",
          "height": 332
        }
      },
      "source": [
        "#delete\n",
        "ax = snIc.hist(normed=1)\n",
        "snIcBL.hist(alpha=0.5, ax=ax, normed=1)\n",
        "grb.hist(alpha=0.5, ax=ax, normed=1);"
      ],
      "execution_count": 29,
      "outputs": [
        {
          "output_type": "stream",
          "text": [
            "/usr/local/lib/python3.6/dist-packages/matplotlib/axes/_axes.py:6521: MatplotlibDeprecationWarning: \n",
            "The 'normed' kwarg was deprecated in Matplotlib 2.1 and will be removed in 3.1. Use 'density' instead.\n",
            "  alternative=\"'density'\", removal=\"3.1\")\n"
          ],
          "name": "stderr"
        },
        {
          "output_type": "display_data",
          "data": {
            "image/png": "[encoded data removed]",
            "text/plain": [
              "<Figure size 432x288 with 1 Axes>"
            ]
          },
          "metadata": {
            "tags": []
          }
        }
      ]
    },
    {
      "cell_type": "markdown",
      "metadata": {
        "id": "2MURQWZHY2la",
        "colab_type": "text"
      },
      "source": [
        "#  8. Calculate the mean metallicity for each of the samples  and its uncertainty\n",
        "\n",
        "Don't just spit out numbers, but properly write what the numbers are in a well formatted statement\n"
      ]
    },
    {
      "cell_type": "code",
      "metadata": {
        "ExecuteTime": {
          "end_time": "2019-10-08T07:41:01.354970Z",
          "start_time": "2019-10-08T07:41:01.346292Z"
        },
        "id": "vPwPxQmGY2la",
        "colab_type": "code",
        "outputId": "edb7c024-1882-4307-896d-d53688145ff5",
        "colab": {
          "base_uri": "https://localhost:8080/",
          "height": 34
        }
      },
      "source": [
        "print(\" SN Ic metallicity: {:.2f} +/- {:.2f}\".format(snIc.mean()[0], \n",
        "                                                 snIc.std()[0]))"
      ],
      "execution_count": 30,
      "outputs": [
        {
          "output_type": "stream",
          "text": [
            " SN Ic metallicity: 8.78 +/- 0.29\n"
          ],
          "name": "stdout"
        }
      ]
    },
    {
      "cell_type": "code",
      "metadata": {
        "ExecuteTime": {
          "end_time": "2019-10-08T07:41:01.364666Z",
          "start_time": "2019-10-08T07:41:01.356716Z"
        },
        "id": "DFK9FqaqY2lb",
        "colab_type": "code",
        "outputId": "b2257a63-2bad-4188-d5fc-ee34bc3ca507",
        "colab": {
          "base_uri": "https://localhost:8080/",
          "height": 34
        }
      },
      "source": [
        "print(\" SN IcBL metallicity: {:.2f} +/- {:.2f}\".format(snIcBL.mean()[0], \n",
        "                                                 snIcBL.std()[0]))"
      ],
      "execution_count": 31,
      "outputs": [
        {
          "output_type": "stream",
          "text": [
            " SN IcBL metallicity: 8.42 +/- 0.23\n"
          ],
          "name": "stdout"
        }
      ]
    },
    {
      "cell_type": "code",
      "metadata": {
        "ExecuteTime": {
          "end_time": "2019-10-08T07:41:01.371942Z",
          "start_time": "2019-10-08T07:41:01.366284Z"
        },
        "id": "whNGJMGVY2ld",
        "colab_type": "code",
        "outputId": "b37eb6b8-f3c2-4217-cfa8-aae97ee9ddf2",
        "colab": {
          "base_uri": "https://localhost:8080/",
          "height": 34
        }
      },
      "source": [
        "print(\" SN GRB metallicity: {:.2f} +/- {:.2f}\".format(grb.mean()[0], \n",
        "                                                 grb.std()[0]))"
      ],
      "execution_count": 32,
      "outputs": [
        {
          "output_type": "stream",
          "text": [
            " SN GRB metallicity: 8.36 +/- 0.22\n"
          ],
          "name": "stdout"
        }
      ]
    },
    {
      "cell_type": "code",
      "metadata": {
        "ExecuteTime": {
          "end_time": "2019-10-08T07:41:01.378599Z",
          "start_time": "2019-10-08T07:41:01.373432Z"
        },
        "id": "wZwtwPLgY2le",
        "colab_type": "code",
        "outputId": "297c7fab-e44a-4a13-d95f-b9885e242d71",
        "colab": {
          "base_uri": "https://localhost:8080/",
          "height": 34
        }
      },
      "source": [
        "print(\" SN GRB abridged metallicity: {:.2f} +/- {:.2f}\".format(\n",
        "    grbabridged.mean()[0], grbabridged.std()[0]))"
      ],
      "execution_count": 33,
      "outputs": [
        {
          "output_type": "stream",
          "text": [
            " SN GRB abridged metallicity: 8.38 +/- 0.23\n"
          ],
          "name": "stdout"
        }
      ]
    },
    {
      "cell_type": "markdown",
      "metadata": {
        "id": "RYlnjSc9Y2lf",
        "colab_type": "text"
      },
      "source": [
        "# 9 Compare the distribution of Ic and IcBL\n",
        "\n",
        "Describe the test you are about to run and why you choose it, and state its Null Hypothesis and weather it is rejected or not. \n",
        "\n",
        "**Extra Credit** define a function that given the 2 samples runs and interprets the test reporting the result automatically. That way you can use it for all sample comparisons\n",
        "\n"
      ]
    },
    {
      "cell_type": "code",
      "metadata": {
        "ExecuteTime": {
          "end_time": "2019-10-08T07:41:01.382722Z",
          "start_time": "2019-10-08T07:41:01.380461Z"
        },
        "id": "Ht6EVuUtY2lg",
        "colab_type": "code",
        "colab": {}
      },
      "source": [
        "#delete\n",
        "alpha = 0.05"
      ],
      "execution_count": 0,
      "outputs": []
    },
    {
      "cell_type": "code",
      "metadata": {
        "ExecuteTime": {
          "end_time": "2019-10-08T07:41:01.390240Z",
          "start_time": "2019-10-08T07:41:01.384160Z"
        },
        "id": "QB4EEFU4Y2lh",
        "colab_type": "code",
        "outputId": "f0345a55-e054-4615-d8c7-147050efa47a",
        "colab": {
          "base_uri": "https://localhost:8080/",
          "height": 390
        }
      },
      "source": [
        "grb"
      ],
      "execution_count": 35,
      "outputs": [
        {
          "output_type": "execute_result",
          "data": {
            "text/html": [
              "<div>\n",
              "<style scoped>\n",
              "    .dataframe tbody tr th:only-of-type {\n",
              "        vertical-align: middle;\n",
              "    }\n",
              "\n",
              "    .dataframe tbody tr th {\n",
              "        vertical-align: top;\n",
              "    }\n",
              "\n",
              "    .dataframe thead th {\n",
              "        text-align: right;\n",
              "    }\n",
              "</style>\n",
              "<table border=\"1\" class=\"dataframe\">\n",
              "  <thead>\n",
              "    <tr style=\"text-align: right;\">\n",
              "      <th></th>\n",
              "      <th>SN</th>\n",
              "      <th>KD02comb</th>\n",
              "    </tr>\n",
              "  </thead>\n",
              "  <tbody>\n",
              "    <tr>\n",
              "      <th>0</th>\n",
              "      <td>GRB980425/SN1998bw</td>\n",
              "      <td>8.485</td>\n",
              "    </tr>\n",
              "    <tr>\n",
              "      <th>1</th>\n",
              "      <td>XRF020903</td>\n",
              "      <td>8.183</td>\n",
              "    </tr>\n",
              "    <tr>\n",
              "      <th>2</th>\n",
              "      <td>GRB030329/SN2003dh</td>\n",
              "      <td>8.073</td>\n",
              "    </tr>\n",
              "    <tr>\n",
              "      <th>3</th>\n",
              "      <td>GRB031203/SN2003lw</td>\n",
              "      <td>8.647</td>\n",
              "    </tr>\n",
              "    <tr>\n",
              "      <th>4</th>\n",
              "      <td>GRB/XRF060218/SN2006aj</td>\n",
              "      <td>8.125</td>\n",
              "    </tr>\n",
              "    <tr>\n",
              "      <th>5</th>\n",
              "      <td>GRB091127/SN2009nz</td>\n",
              "      <td>8.504</td>\n",
              "    </tr>\n",
              "    <tr>\n",
              "      <th>6</th>\n",
              "      <td>GRB100316D/SN2010bh</td>\n",
              "      <td>8.460</td>\n",
              "    </tr>\n",
              "    <tr>\n",
              "      <th>7</th>\n",
              "      <td>GRB120422A/SN2012bz</td>\n",
              "      <td>8.545</td>\n",
              "    </tr>\n",
              "    <tr>\n",
              "      <th>8</th>\n",
              "      <td>GRB130427A/SN2013cq</td>\n",
              "      <td>8.630</td>\n",
              "    </tr>\n",
              "    <tr>\n",
              "      <th>9</th>\n",
              "      <td>GRB130702A/SN2013dx</td>\n",
              "      <td>8.207</td>\n",
              "    </tr>\n",
              "    <tr>\n",
              "      <th>10</th>\n",
              "      <td>GRB161219B/SN2016jca</td>\n",
              "      <td>8.115</td>\n",
              "    </tr>\n",
              "  </tbody>\n",
              "</table>\n",
              "</div>"
            ],
            "text/plain": [
              "                        SN  KD02comb\n",
              "0       GRB980425/SN1998bw     8.485\n",
              "1                XRF020903     8.183\n",
              "2       GRB030329/SN2003dh     8.073\n",
              "3       GRB031203/SN2003lw     8.647\n",
              "4   GRB/XRF060218/SN2006aj     8.125\n",
              "5       GRB091127/SN2009nz     8.504\n",
              "6      GRB100316D/SN2010bh     8.460\n",
              "7      GRB120422A/SN2012bz     8.545\n",
              "8      GRB130427A/SN2013cq     8.630\n",
              "9      GRB130702A/SN2013dx     8.207\n",
              "10    GRB161219B/SN2016jca     8.115"
            ]
          },
          "metadata": {
            "tags": []
          },
          "execution_count": 35
        }
      ]
    },
    {
      "cell_type": "code",
      "metadata": {
        "ExecuteTime": {
          "end_time": "2019-10-08T07:41:01.396578Z",
          "start_time": "2019-10-08T07:41:01.392091Z"
        },
        "id": "DHmnlvNiY2li",
        "colab_type": "code",
        "colab": {}
      },
      "source": [
        "#delete\n",
        "def reject(samp1, samp2, alpha=0.05, verbose=False):\n",
        "    '''\n",
        "    runs KS test an stated is NH is rejected.\n",
        "    '''\n",
        "    ks = sp.stats.ks_2samp(samp1.KD02comb, samp2.KD02comb)\n",
        "    if verbose:\n",
        "        print(ks)\n",
        "    if ks[1] >= alpha:\n",
        "        print(\n",
        "            \"We cannot reject the NH that the distributions \" + \n",
        "            \"come from the same parent distributions\")\n",
        "    else :\n",
        "        print(\n",
        "        \"We reject the NH that the distributions come from the \" + \n",
        "            \"same parent distributions at p-value<{}\".format(alpha))    "
      ],
      "execution_count": 0,
      "outputs": []
    },
    {
      "cell_type": "code",
      "metadata": {
        "ExecuteTime": {
          "end_time": "2019-10-08T07:41:01.705415Z",
          "start_time": "2019-10-08T07:41:01.398679Z"
        },
        "id": "uqYjePmSY2lk",
        "colab_type": "code",
        "outputId": "94a2ee62-bbc5-4adf-9b0f-010c46292525",
        "colab": {
          "base_uri": "https://localhost:8080/",
          "height": 34
        }
      },
      "source": [
        "#delete\n",
        "import scipy as sp\n",
        "from scipy import stats\n",
        "sp.stats.ks_2samp(sneall[sneall.SNtype == \"Ic\"].KD02comb, \n",
        "                     grb.KD02comb)"
      ],
      "execution_count": 37,
      "outputs": [
        {
          "output_type": "execute_result",
          "data": {
            "text/plain": [
              "Ks_2sampResult(statistic=0.7857142857142857, pvalue=2.265676027768393e-05)"
            ]
          },
          "metadata": {
            "tags": []
          },
          "execution_count": 37
        }
      ]
    },
    {
      "cell_type": "code",
      "metadata": {
        "ExecuteTime": {
          "end_time": "2019-10-08T07:41:01.710054Z",
          "start_time": "2019-10-08T07:41:01.706618Z"
        },
        "id": "Fq_2b0unY2ll",
        "colab_type": "code",
        "outputId": "6c7f2d11-1740-4d40-8c60-7d86dbaccb87",
        "colab": {
          "base_uri": "https://localhost:8080/",
          "height": 34
        }
      },
      "source": [
        "reject(snIc, snIcBL, alpha=0.05)"
      ],
      "execution_count": 38,
      "outputs": [
        {
          "output_type": "stream",
          "text": [
            "We reject the NH that the distributions come from the same parent distributions at p-value<0.05\n"
          ],
          "name": "stdout"
        }
      ]
    },
    {
      "cell_type": "markdown",
      "metadata": {
        "id": "4o7hK5KmY2ln",
        "colab_type": "text"
      },
      "source": [
        "# 10 Compare the distribution of Ic and Ic-BL GRB with the full GRB sample\n"
      ]
    },
    {
      "cell_type": "code",
      "metadata": {
        "ExecuteTime": {
          "end_time": "2019-10-08T07:41:01.716726Z",
          "start_time": "2019-10-08T07:41:01.711440Z"
        },
        "id": "hXSOYT-IY2ln",
        "colab_type": "code",
        "outputId": "edf1cffa-09e5-49a6-d41d-74d1451016d7",
        "colab": {
          "base_uri": "https://localhost:8080/",
          "height": 85
        }
      },
      "source": [
        "print(\"Ic vs GRB\")\n",
        "reject(snIc, grb, alpha=0.05)\n",
        "\n",
        "print(\"IcBL vs GRB\")\n",
        "reject(snIcBL, grb, alpha=0.05)"
      ],
      "execution_count": 39,
      "outputs": [
        {
          "output_type": "stream",
          "text": [
            "Ic vs GRB\n",
            "We reject the NH that the distributions come from the same parent distributions at p-value<0.05\n",
            "IcBL vs GRB\n",
            "We cannot reject the NH that the distributions come from the same parent distributions\n"
          ],
          "name": "stdout"
        }
      ]
    },
    {
      "cell_type": "markdown",
      "metadata": {
        "id": "xj7rl9rgY2lp",
        "colab_type": "text"
      },
      "source": [
        "# 11. Repeat the comparison of IcBL and GRB with the abridged GRB sample\n",
        "    \n"
      ]
    },
    {
      "cell_type": "code",
      "metadata": {
        "ExecuteTime": {
          "end_time": "2019-10-08T07:41:01.729990Z",
          "start_time": "2019-10-08T07:41:01.718298Z"
        },
        "id": "EzEl_DfbY2lq",
        "colab_type": "code",
        "outputId": "3a795a6e-5fb0-43bf-f91f-ac29c5c94505",
        "colab": {
          "base_uri": "https://localhost:8080/",
          "height": 85
        }
      },
      "source": [
        "print(\"Ic vs GRB\")\n",
        "reject(snIc, grbabridged, alpha=0.05)\n",
        "\n",
        "print(\"IcBL vs GRB\")\n",
        "reject(snIcBL, grbabridged, alpha=0.05)"
      ],
      "execution_count": 40,
      "outputs": [
        {
          "output_type": "stream",
          "text": [
            "Ic vs GRB\n",
            "We reject the NH that the distributions come from the same parent distributions at p-value<0.05\n",
            "IcBL vs GRB\n",
            "We cannot reject the NH that the distributions come from the same parent distributions\n"
          ],
          "name": "stdout"
        }
      ]
    },
    {
      "cell_type": "markdown",
      "metadata": {
        "ExecuteTime": {
          "end_time": "2018-11-01T14:00:25.616878Z",
          "start_time": "2018-11-01T14:00:25.606326Z"
        },
        "id": "aPbAGf7CY2ls",
        "colab_type": "text"
      },
      "source": [
        "   \n",
        "# Extra Credit. The metallicity measurements include uncertainties which are asymmetric. How would you incorporate them in your analysis (describe what you would do and, of course, if you have time to include this step in the analysis).\n",
        "\n",
        "Run a MC simulation:"
      ]
    }
  ]
}