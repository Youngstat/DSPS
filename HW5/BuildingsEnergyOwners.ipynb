{
  "nbformat": 4,
  "nbformat_minor": 0,
  "metadata": {
    "colab": {
      "name": "BuildingsEnergyOwners.ipynb",
      "provenance": [],
      "collapsed_sections": [],
      "include_colab_link": true
    },
    "kernelspec": {
      "display_name": "Python 3",
      "language": "python",
      "name": "python3"
    },
    "language_info": {
      "codemirror_mode": {
        "name": "ipython",
        "version": 3
      },
      "file_extension": ".py",
      "mimetype": "text/x-python",
      "name": "python",
      "nbconvert_exporter": "python",
      "pygments_lexer": "ipython3",
      "version": "3.7.3"
    },
    "latex_envs": {
      "LaTeX_envs_menu_present": true,
      "autoclose": false,
      "autocomplete": true,
      "bibliofile": "biblio.bib",
      "cite_by": "apalike",
      "current_citInitial": 1,
      "eqLabelWithNumbers": true,
      "eqNumInitial": 1,
      "hotkeys": {
        "equation": "Ctrl-E",
        "itemize": "Ctrl-I"
      },
      "labels_anchors": false,
      "latex_user_defs": false,
      "report_style_numbering": false,
      "user_envs_cfg": false
    },
    "nbTranslate": {
      "displayLangs": [
        "*"
      ],
      "hotkey": "alt-t",
      "langInMainMenu": true,
      "sourceLang": "en",
      "targetLang": "fr",
      "useGoogleTranslate": true
    },
    "toc": {
      "base_numbering": 1,
      "nav_menu": {},
      "number_sections": true,
      "sideBar": true,
      "skip_h1_title": false,
      "title_cell": "Table of Contents",
      "title_sidebar": "Contents",
      "toc_cell": false,
      "toc_position": {},
      "toc_section_display": true,
      "toc_window_display": false
    }
  },
  "cells": [
    {
      "cell_type": "markdown",
      "metadata": {
        "id": "view-in-github",
        "colab_type": "text"
      },
      "source": [
        "<a href=\"https://colab.research.google.com/github/fedhere/DSPS/blob/master/HW5/BuildingsEnergyOwners.ipynb\" target=\"_parent\"><img src=\"https://colab.research.google.com/assets/colab-badge.svg\" alt=\"Open In Colab\"/></a>"
      ]
    },
    {
      "cell_type": "code",
      "metadata": {
        "colab_type": "code",
        "id": "mwsn7ih7RWle",
        "outputId": "087247c5-c6b8-49ce-c605-e965583f8bf1",
        "colab": {
          "base_uri": "https://localhost:8080/",
          "height": 122
        }
      },
      "source": [
        "# -- link google drive\n",
        "from google.colab import drive\n",
        "drive.mount(\"/content/drive\")"
      ],
      "execution_count": 1,
      "outputs": [
        {
          "output_type": "stream",
          "text": [
            "Go to this URL in a browser: https://accounts.google.com/o/oauth2/auth?client_id=947318989803-6bn6qk8qdgf4n4g3pfee6491hc0brc4i.apps.googleusercontent.com&redirect_uri=urn%3Aietf%3Awg%3Aoauth%3A2.0%3Aoob&scope=email%20https%3A%2F%2Fwww.googleapis.com%2Fauth%2Fdocs.test%20https%3A%2F%2Fwww.googleapis.com%2Fauth%2Fdrive%20https%3A%2F%2Fwww.googleapis.com%2Fauth%2Fdrive.photos.readonly%20https%3A%2F%2Fwww.googleapis.com%2Fauth%2Fpeopleapi.readonly&response_type=code\n",
            "\n",
            "Enter your authorization code:\n",
            "··········\n",
            "Mounted at /content/drive\n"
          ],
          "name": "stdout"
        }
      ]
    },
    {
      "cell_type": "code",
      "metadata": {
        "ExecuteTime": {
          "end_time": "2019-09-24T21:52:47.068553Z",
          "start_time": "2019-09-24T21:52:47.065670Z"
        },
        "colab_type": "code",
        "id": "yav2dVuWJn_T",
        "colab": {}
      },
      "source": [
        "# -- useful imports\n",
        "import numpy as np\n",
        "import pandas as pd\n",
        "import matplotlib.pyplot as pl\n",
        "import scipy as sp\n",
        "from scipy import stats"
      ],
      "execution_count": 0,
      "outputs": []
    },
    {
      "cell_type": "markdown",
      "metadata": {
        "id": "rCnUCueiY5Xt",
        "colab_type": "text"
      },
      "source": [
        "# data retrival\n",
        "### LL84\n",
        "get the Local Law 84 (ll84) data from the URL: https://data.cityofnewyork.us/api/views/8u86-bviy/rows.csv and read it in with Pandas\n",
        "\n",
        "### Pluto\n",
        "Download the pluto csv data and store it in your google drive. \n",
        "\n",
        "You can find the data here \n",
        "https://www1.nyc.gov/site/planning/data-maps/open-data/dwn-pluto-mappluto.page\n",
        "\n",
        "IMPORTANT: store it in the path *drive/My Drive/dsps/ with the name pluto_18v2_1.csv*\n",
        "\n",
        "This path and name have to be exact. This way the grader and I will be able to run your notebook without changing anything as long as we also have stored the data in path drive/My Drive/dsps/pluto_18v2_1.csv. This is part of the _reproducibility_ requirement."
      ]
    },
    {
      "cell_type": "code",
      "metadata": {
        "ExecuteTime": {
          "end_time": "2019-09-25T02:21:25.147254Z",
          "start_time": "2019-09-25T02:21:23.320665Z"
        },
        "colab_type": "code",
        "id": "XluTuqpRJzwP",
        "colab": {}
      },
      "source": [
        "#delete\n",
        "# -- set the location of the Local Law 84 file\n",
        "ll84_name = \"https://data.cityofnewyork.us/api/views/8u86-bviy/rows.csv\"\n",
        "\n",
        "# -- read in the Local Law 84 csv file\n",
        "ll84 = pd.read_csv(ll84_name)\n",
        "\n",
        "# -- select only Local Law 84 rows with Manhattan as borough\n",
        "ll84 = ll84[ll84.Borough == \"Manhattan\"]"
      ],
      "execution_count": 0,
      "outputs": []
    },
    {
      "cell_type": "code",
      "metadata": {
        "ExecuteTime": {
          "end_time": "2019-09-25T02:21:51.695909Z",
          "start_time": "2019-09-25T02:21:35.377614Z"
        },
        "colab_type": "code",
        "id": "hlaV4RgGJ5_i",
        "colab": {}
      },
      "source": [
        "#delete\n",
        "# -- set the location of the PLUTO file\n",
        "pl_name = \"drive/My Drive/dsps/pluto_18v2_1.csv\"\n",
        "\n",
        "# -- read in the PLUTO file\n",
        "pluto = pd.read_csv(pl_name, low_memory=False)"
      ],
      "execution_count": 0,
      "outputs": []
    },
    {
      "cell_type": "markdown",
      "metadata": {
        "id": "Jns_yfQ2Y5Xz",
        "colab_type": "text"
      },
      "source": [
        "# data fusion\n",
        "\n",
        "### select data\n",
        "select the data for buildings _in the borough of Manhattan_ only from the pluto file (you can do it broadcasting!)\n",
        "\n",
        "### merge\n",
        "merge the pluto and ll84 dataframes. you will have to choose an appropriate column that both datasets share fo do so. The column may not have the same nbame, but should have the same _variable_."
      ]
    },
    {
      "cell_type": "code",
      "metadata": {
        "ExecuteTime": {
          "end_time": "2019-09-25T02:22:11.715960Z",
          "start_time": "2019-09-25T02:22:11.711789Z"
        },
        "id": "-Cao7peNY5Xz",
        "colab_type": "code",
        "colab": {
          "base_uri": "https://localhost:8080/",
          "height": 632
        },
        "outputId": "042fc966-ccef-4cb7-9b10-076eab9f294d"
      },
      "source": [
        "#delete\n",
        "ll84.columns"
      ],
      "execution_count": 88,
      "outputs": [
        {
          "output_type": "execute_result",
          "data": {
            "text/plain": [
              "Index(['Order', 'Property Id', 'Property Name', 'Parent Property Id',\n",
              "       'Parent Property Name', 'BBL - 10 digits',\n",
              "       'NYC Borough, Block and Lot (BBL) self-reported',\n",
              "       'NYC Building Identification Number (BIN)', 'Address 1 (self-reported)',\n",
              "       'Address 2', 'Postal Code', 'Street Number', 'Street Name', 'Borough',\n",
              "       'DOF Gross Floor Area', 'Primary Property Type - Self Selected',\n",
              "       'List of All Property Use Types at Property',\n",
              "       'Largest Property Use Type',\n",
              "       'Largest Property Use Type - Gross Floor Area (ft²)',\n",
              "       '2nd Largest Property Use Type',\n",
              "       '2nd Largest Property Use - Gross Floor Area (ft²)',\n",
              "       '3rd Largest Property Use Type',\n",
              "       '3rd Largest Property Use Type - Gross Floor Area (ft²)', 'Year Built',\n",
              "       'Number of Buildings - Self-reported', 'Occupancy',\n",
              "       'Metered Areas (Energy)', 'Metered Areas  (Water)', 'ENERGY STAR Score',\n",
              "       'Site EUI (kBtu/ft²)', 'Weather Normalized Site EUI (kBtu/ft²)',\n",
              "       'Weather Normalized Site Electricity Intensity (kWh/ft²)',\n",
              "       'Weather Normalized Site Natural Gas Intensity (therms/ft²)',\n",
              "       'Weather Normalized Source EUI (kBtu/ft²)', 'Fuel Oil #1 Use (kBtu)',\n",
              "       'Fuel Oil #2 Use (kBtu)', 'Fuel Oil #4 Use (kBtu)',\n",
              "       'Fuel Oil #5 & 6 Use (kBtu)', 'Diesel #2 Use (kBtu)',\n",
              "       'District Steam Use (kBtu)', 'Natural Gas Use (kBtu)',\n",
              "       'Weather Normalized Site Natural Gas Use (therms)',\n",
              "       'Electricity Use - Grid Purchase (kBtu)',\n",
              "       'Weather Normalized Site Electricity (kWh)',\n",
              "       'Total GHG Emissions (Metric Tons CO2e)',\n",
              "       'Direct GHG Emissions (Metric Tons CO2e)',\n",
              "       'Indirect GHG Emissions (Metric Tons CO2e)',\n",
              "       'Property GFA - Self-Reported (ft²)',\n",
              "       'Water Use (All Water Sources) (kgal)',\n",
              "       'Water Intensity (All Water Sources) (gal/ft²)',\n",
              "       'Source EUI (kBtu/ft²)', 'Release Date', 'Water Required?',\n",
              "       'DOF Benchmarking Submission Status', 'Latitude', 'Longitude',\n",
              "       'Community Board', 'Council District', 'Census Tract', 'NTA'],\n",
              "      dtype='object')"
            ]
          },
          "metadata": {
            "tags": []
          },
          "execution_count": 88
        }
      ]
    },
    {
      "cell_type": "code",
      "metadata": {
        "ExecuteTime": {
          "end_time": "2019-09-25T02:22:33.883540Z",
          "start_time": "2019-09-25T02:22:33.879213Z"
        },
        "id": "hRPoEUIiY5X1",
        "colab_type": "code",
        "colab": {
          "base_uri": "https://localhost:8080/",
          "height": 360
        },
        "outputId": "6278768b-8af3-4867-f97d-57edc677c917"
      },
      "source": [
        "#delete\n",
        "pluto.columns"
      ],
      "execution_count": 89,
      "outputs": [
        {
          "output_type": "execute_result",
          "data": {
            "text/plain": [
              "Index(['borough', 'block', 'lot', 'cd', 'ct2010', 'cb2010', 'schooldist',\n",
              "       'council', 'zipcode', 'firecomp', 'policeprct', 'healtharea',\n",
              "       'sanitboro', 'sanitsub', 'address', 'zonedist1', 'zonedist2',\n",
              "       'zonedist3', 'zonedist4', 'overlay1', 'overlay2', 'spdist1', 'spdist2',\n",
              "       'spdist3', 'ltdheight', 'splitzone', 'bldgclass', 'landuse',\n",
              "       'easements', 'ownertype', 'ownername', 'lotarea', 'bldgarea', 'comarea',\n",
              "       'resarea', 'officearea', 'retailarea', 'garagearea', 'strgearea',\n",
              "       'factryarea', 'otherarea', 'areasource', 'numbldgs', 'numfloors',\n",
              "       'unitsres', 'unitstotal', 'lotfront', 'lotdepth', 'bldgfront',\n",
              "       'bldgdepth', 'ext', 'proxcode', 'irrlotcode', 'lottype', 'bsmtcode',\n",
              "       'assessland', 'assesstot', 'exemptland', 'exempttot', 'yearbuilt',\n",
              "       'yearalter1', 'yearalter2', 'histdist', 'landmark', 'builtfar',\n",
              "       'residfar', 'commfar', 'facilfar', 'borocode', 'bbl', 'condono',\n",
              "       'tract2010', 'xcoord', 'ycoord', 'zonemap', 'zmcode', 'sanborn',\n",
              "       'taxmap', 'edesignum', 'appbbl', 'appdate', 'mappluto_f', 'plutomapid',\n",
              "       'version', 'sanitdistrict', 'healthcenterdistrict', 'firm07_flag',\n",
              "       'pfirm15_flag', 'rpaddate', 'dcasdate', 'zoningdate', 'landmkdate',\n",
              "       'basempdate', 'masdate', 'polidate', 'edesigdate'],\n",
              "      dtype='object')"
            ]
          },
          "metadata": {
            "tags": []
          },
          "execution_count": 89
        }
      ]
    },
    {
      "cell_type": "code",
      "metadata": {
        "id": "hXkRXhRua2OF",
        "colab_type": "code",
        "colab": {}
      },
      "source": [
        "#delete\n",
        "# -- select only PLUTO buildings in Manhattan\n",
        "pluto = pluto[pluto.borough == \"MN\"]\n",
        "\n",
        "ll84pl = ll84.merge(pluto, left_on=\"BBL - 10 digits\", \n",
        "                    right_on=\"bbl\", how=\"outer\")"
      ],
      "execution_count": 0,
      "outputs": []
    },
    {
      "cell_type": "markdown",
      "metadata": {
        "id": "eExs_TXwlQkT",
        "colab_type": "text"
      },
      "source": [
        "# data exploration and cleaning\n",
        "\n",
        "### extact columns\n",
        "extract the columns listed in the file \"columns.txt\" from the dataset.\n",
        "\n",
        "convert the resulting dataset to numerical, converting non-numerical values to NaN. drop rows that contain invalid values and save the resulting dataframe (_reducted_ dataframe)"
      ]
    },
    {
      "cell_type": "code",
      "metadata": {
        "ExecuteTime": {
          "end_time": "2019-09-25T02:23:49.690564Z",
          "start_time": "2019-09-25T02:23:49.683295Z"
        },
        "id": "yEoM0ExwY5X5",
        "colab_type": "code",
        "colab": {
          "base_uri": "https://localhost:8080/",
          "height": 34
        },
        "outputId": "34f6240e-c5c0-4dfe-face-c3437cea220c"
      },
      "source": [
        "#delete\n",
        "goodcols = np.array(pd.read_csv(\n",
        "    \"https://raw.githubusercontent.com/fedhere/DSPS/master/HW5/columns.txt\").\n",
        "                    values).flatten()\n",
        "len(goodcols)"
      ],
      "execution_count": 97,
      "outputs": [
        {
          "output_type": "execute_result",
          "data": {
            "text/plain": [
              "21"
            ]
          },
          "metadata": {
            "tags": []
          },
          "execution_count": 97
        }
      ]
    },
    {
      "cell_type": "code",
      "metadata": {
        "ExecuteTime": {
          "end_time": "2019-09-25T02:23:51.755581Z",
          "start_time": "2019-09-25T02:23:51.112487Z"
        },
        "id": "4W8l1MmfY5X8",
        "colab_type": "code",
        "colab": {
          "base_uri": "https://localhost:8080/",
          "height": 34
        },
        "outputId": "34ecadc3-0642-4af3-c9f8-2c07f62bf610"
      },
      "source": [
        "#delete\n",
        "ll84pl_reduct = ll84pl[goodcols].copy()\n",
        "for c  in goodcols:\n",
        "    ll84pl[c] = pd.to_numeric(ll84pl[c], errors='coerce')    \n",
        "    ll84pl_reduct[c] = pd.to_numeric(ll84pl[c], errors='coerce')    \n",
        "ll84pl_reduct.dropna(inplace=True)\n",
        "ll84pl_reduct.describe().shape, len(goodcols)"
      ],
      "execution_count": 98,
      "outputs": [
        {
          "output_type": "execute_result",
          "data": {
            "text/plain": [
              "((8, 21), 21)"
            ]
          },
          "metadata": {
            "tags": []
          },
          "execution_count": 98
        }
      ]
    },
    {
      "cell_type": "markdown",
      "metadata": {
        "id": "C5-nB1RdY5X5",
        "colab_type": "text"
      },
      "source": [
        "### Assess imact \n",
        "Describe the  datasets resulting from this data cleaning: \n",
        "\n",
        "- how many observations have you lost? \n",
        "\n",
        "- did any of the features (=columns) have inconsistent distribution between the full and reducted dataset? \n",
        "\n",
        "You can approach this question in a number of ways, and you have done this in the  homewors already (with a KS test, and by just looking at uncertainties are two examples of ways to do ut that you worked out in HW3 and HW4, the Z test might work if you can convince yourself that the full sample is the \"population\" - up to you! a quick google search would probably describe many more ways). Choose _2_ ways, describe what each does and why it is appropriate. Compare the results (indeed I did it in 4 ways and did not always get consistent results! each of these meathods measures a slightly different thing).\n",
        "\n"
      ]
    },
    {
      "cell_type": "code",
      "metadata": {
        "ExecuteTime": {
          "end_time": "2019-09-25T02:24:30.299322Z",
          "start_time": "2019-09-25T02:24:30.184734Z"
        },
        "id": "_cZwH0d4Y5X_",
        "colab_type": "code",
        "colab": {
          "base_uri": "https://localhost:8080/",
          "height": 402
        },
        "outputId": "8f9ed8ed-f4a4-4f77-f2c2-11188dd1601b"
      },
      "source": [
        "ll84pl[goodcols].describe()"
      ],
      "execution_count": 99,
      "outputs": [
        {
          "output_type": "execute_result",
          "data": {
            "text/html": [
              "<div>\n",
              "<style scoped>\n",
              "    .dataframe tbody tr th:only-of-type {\n",
              "        vertical-align: middle;\n",
              "    }\n",
              "\n",
              "    .dataframe tbody tr th {\n",
              "        vertical-align: top;\n",
              "    }\n",
              "\n",
              "    .dataframe thead th {\n",
              "        text-align: right;\n",
              "    }\n",
              "</style>\n",
              "<table border=\"1\" class=\"dataframe\">\n",
              "  <thead>\n",
              "    <tr style=\"text-align: right;\">\n",
              "      <th></th>\n",
              "      <th>Year Built</th>\n",
              "      <th>Number of Buildings - Self-reported</th>\n",
              "      <th>Occupancy</th>\n",
              "      <th>ENERGY STAR Score</th>\n",
              "      <th>Site EUI (kBtu/ft²)</th>\n",
              "      <th>Weather Normalized Site EUI (kBtu/ft²)</th>\n",
              "      <th>Weather Normalized Site Electricity Intensity (kWh/ft²)</th>\n",
              "      <th>Weather Normalized Site Natural Gas Intensity (therms/ft²)</th>\n",
              "      <th>Weather Normalized Source EUI (kBtu/ft²)</th>\n",
              "      <th>Electricity Use - Grid Purchase (kBtu)</th>\n",
              "      <th>Total GHG Emissions (Metric Tons CO2e)</th>\n",
              "      <th>Property GFA - Self-Reported (ft²)</th>\n",
              "      <th>Water Use (All Water Sources) (kgal)</th>\n",
              "      <th>Water Intensity (All Water Sources) (gal/ft²)</th>\n",
              "      <th>Source EUI (kBtu/ft²)</th>\n",
              "      <th>bldgarea</th>\n",
              "      <th>numbldgs</th>\n",
              "      <th>numfloors</th>\n",
              "      <th>unitsres</th>\n",
              "      <th>unitstotal</th>\n",
              "      <th>yearalter1</th>\n",
              "    </tr>\n",
              "  </thead>\n",
              "  <tbody>\n",
              "    <tr>\n",
              "      <th>count</th>\n",
              "      <td>5176.000000</td>\n",
              "      <td>5176.000000</td>\n",
              "      <td>5176.000000</td>\n",
              "      <td>4057.000000</td>\n",
              "      <td>5122.000000</td>\n",
              "      <td>4619.000000</td>\n",
              "      <td>4899.000000</td>\n",
              "      <td>4070.000000</td>\n",
              "      <td>4619.000000</td>\n",
              "      <td>5.101000e+03</td>\n",
              "      <td>5.160000e+03</td>\n",
              "      <td>5.176000e+03</td>\n",
              "      <td>3.388000e+03</td>\n",
              "      <td>3388.000000</td>\n",
              "      <td>5122.000000</td>\n",
              "      <td>4.290000e+04</td>\n",
              "      <td>42844.000000</td>\n",
              "      <td>42844.000000</td>\n",
              "      <td>42898.000000</td>\n",
              "      <td>42898.000000</td>\n",
              "      <td>42898.000000</td>\n",
              "    </tr>\n",
              "    <tr>\n",
              "      <th>mean</th>\n",
              "      <td>1943.956723</td>\n",
              "      <td>1.056221</td>\n",
              "      <td>98.469861</td>\n",
              "      <td>58.689426</td>\n",
              "      <td>252.626045</td>\n",
              "      <td>266.941373</td>\n",
              "      <td>10.414227</td>\n",
              "      <td>0.411818</td>\n",
              "      <td>381.910067</td>\n",
              "      <td>8.584119e+06</td>\n",
              "      <td>4.704265e+03</td>\n",
              "      <td>2.088364e+05</td>\n",
              "      <td>1.481517e+04</td>\n",
              "      <td>94.268548</td>\n",
              "      <td>364.565502</td>\n",
              "      <td>4.301289e+04</td>\n",
              "      <td>1.113762</td>\n",
              "      <td>5.872763</td>\n",
              "      <td>22.280876</td>\n",
              "      <td>25.351858</td>\n",
              "      <td>1055.207096</td>\n",
              "    </tr>\n",
              "    <tr>\n",
              "      <th>std</th>\n",
              "      <td>33.123462</td>\n",
              "      <td>0.773553</td>\n",
              "      <td>8.486776</td>\n",
              "      <td>30.809480</td>\n",
              "      <td>3124.750511</td>\n",
              "      <td>3277.960226</td>\n",
              "      <td>58.764605</td>\n",
              "      <td>2.624555</td>\n",
              "      <td>3987.815401</td>\n",
              "      <td>2.498918e+07</td>\n",
              "      <td>8.912783e+04</td>\n",
              "      <td>3.109891e+05</td>\n",
              "      <td>1.483005e+05</td>\n",
              "      <td>1126.541657</td>\n",
              "      <td>3802.615408</td>\n",
              "      <td>1.664784e+05</td>\n",
              "      <td>1.383727</td>\n",
              "      <td>6.189731</td>\n",
              "      <td>92.373077</td>\n",
              "      <td>95.386177</td>\n",
              "      <td>993.277780</td>\n",
              "    </tr>\n",
              "    <tr>\n",
              "      <th>min</th>\n",
              "      <td>1600.000000</td>\n",
              "      <td>0.000000</td>\n",
              "      <td>0.000000</td>\n",
              "      <td>1.000000</td>\n",
              "      <td>0.000000</td>\n",
              "      <td>0.000000</td>\n",
              "      <td>0.000000</td>\n",
              "      <td>0.000000</td>\n",
              "      <td>0.000000</td>\n",
              "      <td>0.000000e+00</td>\n",
              "      <td>0.000000e+00</td>\n",
              "      <td>0.000000e+00</td>\n",
              "      <td>0.000000e+00</td>\n",
              "      <td>0.000000</td>\n",
              "      <td>0.000000</td>\n",
              "      <td>0.000000e+00</td>\n",
              "      <td>0.000000</td>\n",
              "      <td>0.000000</td>\n",
              "      <td>0.000000</td>\n",
              "      <td>0.000000</td>\n",
              "      <td>0.000000</td>\n",
              "    </tr>\n",
              "    <tr>\n",
              "      <th>25%</th>\n",
              "      <td>1920.000000</td>\n",
              "      <td>1.000000</td>\n",
              "      <td>100.000000</td>\n",
              "      <td>33.000000</td>\n",
              "      <td>61.900000</td>\n",
              "      <td>64.800000</td>\n",
              "      <td>4.800000</td>\n",
              "      <td>0.000000</td>\n",
              "      <td>110.750000</td>\n",
              "      <td>1.540483e+06</td>\n",
              "      <td>4.000250e+02</td>\n",
              "      <td>7.230700e+04</td>\n",
              "      <td>2.375100e+03</td>\n",
              "      <td>22.580000</td>\n",
              "      <td>106.800000</td>\n",
              "      <td>4.390000e+03</td>\n",
              "      <td>1.000000</td>\n",
              "      <td>3.000000</td>\n",
              "      <td>1.000000</td>\n",
              "      <td>2.000000</td>\n",
              "      <td>0.000000</td>\n",
              "    </tr>\n",
              "    <tr>\n",
              "      <th>50%</th>\n",
              "      <td>1930.000000</td>\n",
              "      <td>1.000000</td>\n",
              "      <td>100.000000</td>\n",
              "      <td>66.000000</td>\n",
              "      <td>77.200000</td>\n",
              "      <td>80.800000</td>\n",
              "      <td>7.300000</td>\n",
              "      <td>0.300000</td>\n",
              "      <td>143.100000</td>\n",
              "      <td>3.180848e+06</td>\n",
              "      <td>6.545500e+02</td>\n",
              "      <td>1.150115e+05</td>\n",
              "      <td>4.327050e+03</td>\n",
              "      <td>35.925000</td>\n",
              "      <td>139.300000</td>\n",
              "      <td>8.875000e+03</td>\n",
              "      <td>1.000000</td>\n",
              "      <td>5.000000</td>\n",
              "      <td>6.000000</td>\n",
              "      <td>8.000000</td>\n",
              "      <td>1968.000000</td>\n",
              "    </tr>\n",
              "    <tr>\n",
              "      <th>75%</th>\n",
              "      <td>1967.000000</td>\n",
              "      <td>1.000000</td>\n",
              "      <td>100.000000</td>\n",
              "      <td>85.000000</td>\n",
              "      <td>98.400000</td>\n",
              "      <td>102.000000</td>\n",
              "      <td>12.400000</td>\n",
              "      <td>0.600000</td>\n",
              "      <td>188.100000</td>\n",
              "      <td>7.265680e+06</td>\n",
              "      <td>1.292225e+03</td>\n",
              "      <td>2.136252e+05</td>\n",
              "      <td>8.308225e+03</td>\n",
              "      <td>53.855000</td>\n",
              "      <td>184.975000</td>\n",
              "      <td>2.321050e+04</td>\n",
              "      <td>1.000000</td>\n",
              "      <td>6.000000</td>\n",
              "      <td>18.000000</td>\n",
              "      <td>20.000000</td>\n",
              "      <td>1988.000000</td>\n",
              "    </tr>\n",
              "    <tr>\n",
              "      <th>max</th>\n",
              "      <td>2016.000000</td>\n",
              "      <td>35.000000</td>\n",
              "      <td>100.000000</td>\n",
              "      <td>100.000000</td>\n",
              "      <td>126307.400000</td>\n",
              "      <td>126307.400000</td>\n",
              "      <td>4074.900000</td>\n",
              "      <td>131.000000</td>\n",
              "      <td>152001.300000</td>\n",
              "      <td>1.037256e+09</td>\n",
              "      <td>4.764456e+06</td>\n",
              "      <td>8.942176e+06</td>\n",
              "      <td>6.376003e+06</td>\n",
              "      <td>57699.300000</td>\n",
              "      <td>152001.300000</td>\n",
              "      <td>1.343508e+07</td>\n",
              "      <td>159.000000</td>\n",
              "      <td>104.000000</td>\n",
              "      <td>8764.000000</td>\n",
              "      <td>8812.000000</td>\n",
              "      <td>2018.000000</td>\n",
              "    </tr>\n",
              "  </tbody>\n",
              "</table>\n",
              "</div>"
            ],
            "text/plain": [
              "        Year Built  ...    yearalter1\n",
              "count  5176.000000  ...  42898.000000\n",
              "mean   1943.956723  ...   1055.207096\n",
              "std      33.123462  ...    993.277780\n",
              "min    1600.000000  ...      0.000000\n",
              "25%    1920.000000  ...      0.000000\n",
              "50%    1930.000000  ...   1968.000000\n",
              "75%    1967.000000  ...   1988.000000\n",
              "max    2016.000000  ...   2018.000000\n",
              "\n",
              "[8 rows x 21 columns]"
            ]
          },
          "metadata": {
            "tags": []
          },
          "execution_count": 99
        }
      ]
    },
    {
      "cell_type": "code",
      "metadata": {
        "ExecuteTime": {
          "end_time": "2019-09-25T02:24:32.873837Z",
          "start_time": "2019-09-25T02:24:32.809279Z"
        },
        "id": "09cRgIuuY5YB",
        "colab_type": "code",
        "colab": {
          "base_uri": "https://localhost:8080/",
          "height": 402
        },
        "outputId": "696b1a59-8131-469c-8472-a1ecf4ec3ad3"
      },
      "source": [
        "#delete\n",
        "ll84pl_reduct.describe()"
      ],
      "execution_count": 100,
      "outputs": [
        {
          "output_type": "execute_result",
          "data": {
            "text/html": [
              "<div>\n",
              "<style scoped>\n",
              "    .dataframe tbody tr th:only-of-type {\n",
              "        vertical-align: middle;\n",
              "    }\n",
              "\n",
              "    .dataframe tbody tr th {\n",
              "        vertical-align: top;\n",
              "    }\n",
              "\n",
              "    .dataframe thead th {\n",
              "        text-align: right;\n",
              "    }\n",
              "</style>\n",
              "<table border=\"1\" class=\"dataframe\">\n",
              "  <thead>\n",
              "    <tr style=\"text-align: right;\">\n",
              "      <th></th>\n",
              "      <th>Year Built</th>\n",
              "      <th>Number of Buildings - Self-reported</th>\n",
              "      <th>Occupancy</th>\n",
              "      <th>ENERGY STAR Score</th>\n",
              "      <th>Site EUI (kBtu/ft²)</th>\n",
              "      <th>Weather Normalized Site EUI (kBtu/ft²)</th>\n",
              "      <th>Weather Normalized Site Electricity Intensity (kWh/ft²)</th>\n",
              "      <th>Weather Normalized Site Natural Gas Intensity (therms/ft²)</th>\n",
              "      <th>Weather Normalized Source EUI (kBtu/ft²)</th>\n",
              "      <th>Electricity Use - Grid Purchase (kBtu)</th>\n",
              "      <th>Total GHG Emissions (Metric Tons CO2e)</th>\n",
              "      <th>Property GFA - Self-Reported (ft²)</th>\n",
              "      <th>Water Use (All Water Sources) (kgal)</th>\n",
              "      <th>Water Intensity (All Water Sources) (gal/ft²)</th>\n",
              "      <th>Source EUI (kBtu/ft²)</th>\n",
              "      <th>bldgarea</th>\n",
              "      <th>numbldgs</th>\n",
              "      <th>numfloors</th>\n",
              "      <th>unitsres</th>\n",
              "      <th>unitstotal</th>\n",
              "      <th>yearalter1</th>\n",
              "    </tr>\n",
              "  </thead>\n",
              "  <tbody>\n",
              "    <tr>\n",
              "      <th>count</th>\n",
              "      <td>2044.000000</td>\n",
              "      <td>2044.000000</td>\n",
              "      <td>2044.000000</td>\n",
              "      <td>2044.000000</td>\n",
              "      <td>2044.000000</td>\n",
              "      <td>2044.000000</td>\n",
              "      <td>2044.000000</td>\n",
              "      <td>2044.000000</td>\n",
              "      <td>2044.000000</td>\n",
              "      <td>2.044000e+03</td>\n",
              "      <td>2044.000000</td>\n",
              "      <td>2.044000e+03</td>\n",
              "      <td>2.044000e+03</td>\n",
              "      <td>2044.000000</td>\n",
              "      <td>2044.000000</td>\n",
              "      <td>2.044000e+03</td>\n",
              "      <td>2044.000000</td>\n",
              "      <td>2044.000000</td>\n",
              "      <td>2044.000000</td>\n",
              "      <td>2044.000000</td>\n",
              "      <td>2044.000000</td>\n",
              "    </tr>\n",
              "    <tr>\n",
              "      <th>mean</th>\n",
              "      <td>1944.097358</td>\n",
              "      <td>1.026419</td>\n",
              "      <td>99.060665</td>\n",
              "      <td>57.454501</td>\n",
              "      <td>179.519472</td>\n",
              "      <td>182.952446</td>\n",
              "      <td>10.828376</td>\n",
              "      <td>0.347701</td>\n",
              "      <td>282.695205</td>\n",
              "      <td>7.417714e+06</td>\n",
              "      <td>1727.084393</td>\n",
              "      <td>1.834298e+05</td>\n",
              "      <td>1.520801e+04</td>\n",
              "      <td>86.745225</td>\n",
              "      <td>280.406898</td>\n",
              "      <td>1.743071e+05</td>\n",
              "      <td>1.136497</td>\n",
              "      <td>14.504892</td>\n",
              "      <td>86.314579</td>\n",
              "      <td>99.047456</td>\n",
              "      <td>1094.831703</td>\n",
              "    </tr>\n",
              "    <tr>\n",
              "      <th>std</th>\n",
              "      <td>34.124614</td>\n",
              "      <td>0.367935</td>\n",
              "      <td>5.202529</td>\n",
              "      <td>30.424238</td>\n",
              "      <td>3024.806998</td>\n",
              "      <td>3024.763020</td>\n",
              "      <td>90.161639</td>\n",
              "      <td>0.386811</td>\n",
              "      <td>3746.045382</td>\n",
              "      <td>2.721299e+07</td>\n",
              "      <td>14586.701420</td>\n",
              "      <td>2.516655e+05</td>\n",
              "      <td>1.228927e+05</td>\n",
              "      <td>488.899493</td>\n",
              "      <td>3749.437950</td>\n",
              "      <td>2.334882e+05</td>\n",
              "      <td>0.695738</td>\n",
              "      <td>9.104346</td>\n",
              "      <td>123.580062</td>\n",
              "      <td>125.353668</td>\n",
              "      <td>989.810792</td>\n",
              "    </tr>\n",
              "    <tr>\n",
              "      <th>min</th>\n",
              "      <td>1827.000000</td>\n",
              "      <td>1.000000</td>\n",
              "      <td>0.000000</td>\n",
              "      <td>1.000000</td>\n",
              "      <td>2.600000</td>\n",
              "      <td>2.600000</td>\n",
              "      <td>0.000000</td>\n",
              "      <td>0.000000</td>\n",
              "      <td>5.600000</td>\n",
              "      <td>1.501000e+02</td>\n",
              "      <td>12.000000</td>\n",
              "      <td>1.995400e+04</td>\n",
              "      <td>0.000000e+00</td>\n",
              "      <td>0.000000</td>\n",
              "      <td>6.200000</td>\n",
              "      <td>0.000000e+00</td>\n",
              "      <td>1.000000</td>\n",
              "      <td>0.000000</td>\n",
              "      <td>0.000000</td>\n",
              "      <td>0.000000</td>\n",
              "      <td>0.000000</td>\n",
              "    </tr>\n",
              "    <tr>\n",
              "      <th>25%</th>\n",
              "      <td>1920.000000</td>\n",
              "      <td>1.000000</td>\n",
              "      <td>100.000000</td>\n",
              "      <td>33.000000</td>\n",
              "      <td>63.700000</td>\n",
              "      <td>66.700000</td>\n",
              "      <td>4.500000</td>\n",
              "      <td>0.000000</td>\n",
              "      <td>109.800000</td>\n",
              "      <td>1.384589e+06</td>\n",
              "      <td>385.100000</td>\n",
              "      <td>6.933925e+04</td>\n",
              "      <td>2.506025e+03</td>\n",
              "      <td>25.217500</td>\n",
              "      <td>106.425000</td>\n",
              "      <td>6.563200e+04</td>\n",
              "      <td>1.000000</td>\n",
              "      <td>8.000000</td>\n",
              "      <td>0.000000</td>\n",
              "      <td>37.000000</td>\n",
              "      <td>0.000000</td>\n",
              "    </tr>\n",
              "    <tr>\n",
              "      <th>50%</th>\n",
              "      <td>1929.000000</td>\n",
              "      <td>1.000000</td>\n",
              "      <td>100.000000</td>\n",
              "      <td>64.000000</td>\n",
              "      <td>77.650000</td>\n",
              "      <td>81.300000</td>\n",
              "      <td>6.800000</td>\n",
              "      <td>0.300000</td>\n",
              "      <td>139.300000</td>\n",
              "      <td>2.772684e+06</td>\n",
              "      <td>604.700000</td>\n",
              "      <td>1.033400e+05</td>\n",
              "      <td>4.410800e+03</td>\n",
              "      <td>37.535000</td>\n",
              "      <td>136.500000</td>\n",
              "      <td>1.009690e+05</td>\n",
              "      <td>1.000000</td>\n",
              "      <td>12.000000</td>\n",
              "      <td>60.000000</td>\n",
              "      <td>67.000000</td>\n",
              "      <td>1980.000000</td>\n",
              "    </tr>\n",
              "    <tr>\n",
              "      <th>75%</th>\n",
              "      <td>1970.000000</td>\n",
              "      <td>1.000000</td>\n",
              "      <td>100.000000</td>\n",
              "      <td>83.000000</td>\n",
              "      <td>98.125000</td>\n",
              "      <td>101.625000</td>\n",
              "      <td>11.800000</td>\n",
              "      <td>0.600000</td>\n",
              "      <td>181.725000</td>\n",
              "      <td>6.004705e+06</td>\n",
              "      <td>1091.375000</td>\n",
              "      <td>1.852130e+05</td>\n",
              "      <td>8.151900e+03</td>\n",
              "      <td>56.857500</td>\n",
              "      <td>179.825000</td>\n",
              "      <td>1.779970e+05</td>\n",
              "      <td>1.000000</td>\n",
              "      <td>17.000000</td>\n",
              "      <td>104.000000</td>\n",
              "      <td>115.000000</td>\n",
              "      <td>1988.000000</td>\n",
              "    </tr>\n",
              "    <tr>\n",
              "      <th>max</th>\n",
              "      <td>2016.000000</td>\n",
              "      <td>12.000000</td>\n",
              "      <td>100.000000</td>\n",
              "      <td>100.000000</td>\n",
              "      <td>126307.400000</td>\n",
              "      <td>126307.400000</td>\n",
              "      <td>4074.900000</td>\n",
              "      <td>8.400000</td>\n",
              "      <td>152001.300000</td>\n",
              "      <td>1.037256e+09</td>\n",
              "      <td>567440.800000</td>\n",
              "      <td>2.577575e+06</td>\n",
              "      <td>3.414616e+06</td>\n",
              "      <td>11175.440000</td>\n",
              "      <td>152001.300000</td>\n",
              "      <td>2.689635e+06</td>\n",
              "      <td>14.000000</td>\n",
              "      <td>66.000000</td>\n",
              "      <td>1689.000000</td>\n",
              "      <td>1706.000000</td>\n",
              "      <td>2017.000000</td>\n",
              "    </tr>\n",
              "  </tbody>\n",
              "</table>\n",
              "</div>"
            ],
            "text/plain": [
              "        Year Built  ...   yearalter1\n",
              "count  2044.000000  ...  2044.000000\n",
              "mean   1944.097358  ...  1094.831703\n",
              "std      34.124614  ...   989.810792\n",
              "min    1827.000000  ...     0.000000\n",
              "25%    1920.000000  ...     0.000000\n",
              "50%    1929.000000  ...  1980.000000\n",
              "75%    1970.000000  ...  1988.000000\n",
              "max    2016.000000  ...  2017.000000\n",
              "\n",
              "[8 rows x 21 columns]"
            ]
          },
          "metadata": {
            "tags": []
          },
          "execution_count": 100
        }
      ]
    },
    {
      "cell_type": "code",
      "metadata": {
        "id": "6J1q5XnwvtJC",
        "colab_type": "code",
        "colab": {
          "base_uri": "https://localhost:8080/",
          "height": 34
        },
        "outputId": "662719ef-43b2-4626-e6da-ee3e817d4b99"
      },
      "source": [
        "print(\"lost buildings: ... (...\\%) \")"
      ],
      "execution_count": 130,
      "outputs": [
        {
          "output_type": "stream",
          "text": [
            "lost buildings: ... (...\\%) \n"
          ],
          "name": "stdout"
        }
      ]
    },
    {
      "cell_type": "code",
      "metadata": {
        "id": "7AYsAiNZliQF",
        "colab_type": "code",
        "colab": {
          "base_uri": "https://localhost:8080/",
          "height": 34
        },
        "outputId": "36f9821a-88eb-4730-958e-6d495237c2cb"
      },
      "source": [
        "#delete\n",
        "print(\"lost buildings: \", ll84pl[goodcols].shape[0] - ll84pl_reduct.shape[0], \n",
        "      \"({:.2f}\\%)\".format((ll84pl[goodcols].shape[0] - ll84pl_reduct.shape[0]) * 100 / \n",
        "                          ll84pl[goodcols].shape[0]))"
      ],
      "execution_count": 101,
      "outputs": [
        {
          "output_type": "stream",
          "text": [
            "lost buildings:  40918 (95.24\\%)\n"
          ],
          "name": "stdout"
        }
      ]
    },
    {
      "cell_type": "code",
      "metadata": {
        "id": "-hycJHmxnN7B",
        "colab_type": "code",
        "colab": {}
      },
      "source": [
        "#delete\n",
        "for g in goodcols:\n",
        "    if np.abs(ll84pl_reduct[g].mean() - ll84pl[g].mean())  >\\\n",
        "                ll84pl_reduct[g].std() + ll84pl[g].std():\n",
        "        print (\"{:60}\".format(g), \n",
        "               \"{:.1f} +/- {:.1f} not consistent with {:.1f} +/- {:.1f}\".format(\n",
        "            ll84pl[g].mean(), ll84pl[g].std(), ll84pl_reduct[g].mean(), ll84pl_reduct[g].std()))"
      ],
      "execution_count": 0,
      "outputs": []
    },
    {
      "cell_type": "code",
      "metadata": {
        "id": "_Wj6wt-SnQ9N",
        "colab_type": "code",
        "colab": {
          "base_uri": "https://localhost:8080/",
          "height": 751
        },
        "outputId": "88f5227a-1fb5-45d0-e464-0c2a69b01089"
      },
      "source": [
        "#delete\n",
        "for g in goodcols:\n",
        "    if sp.stats.ks_2samp(ll84pl_reduct[g],ll84pl[g])[1] < 0.05:\n",
        "        print (\"{:60}\\n\".format(g), \n",
        "               \"         p-value {:.2f}\".format(sp.stats.ks_2samp(ll84pl_reduct[g],ll84pl[g])[1]),\n",
        "               \"{:.1f} +/- {:.1f} not consistent with {:.1f} +/- {:.1f}\".format(\n",
        "            ll84pl[g].mean(), ll84pl[g].std(), ll84pl_reduct[g].mean(), ll84pl_reduct[g].std()))"
      ],
      "execution_count": 103,
      "outputs": [
        {
          "output_type": "stream",
          "text": [
            "Year Built                                                  \n",
            "          p-value 0.00 1944.0 +/- 33.1 not consistent with 1944.1 +/- 34.1\n",
            "Number of Buildings - Self-reported                         \n",
            "          p-value 0.00 1.1 +/- 0.8 not consistent with 1.0 +/- 0.4\n",
            "Occupancy                                                   \n",
            "          p-value 0.00 98.5 +/- 8.5 not consistent with 99.1 +/- 5.2\n",
            "ENERGY STAR Score                                           \n",
            "          p-value 0.00 58.7 +/- 30.8 not consistent with 57.5 +/- 30.4\n",
            "Site EUI (kBtu/ft²)                                         \n",
            "          p-value 0.00 252.6 +/- 3124.8 not consistent with 179.5 +/- 3024.8\n",
            "Weather Normalized Site EUI (kBtu/ft²)                      \n",
            "          p-value 0.00 266.9 +/- 3278.0 not consistent with 183.0 +/- 3024.8\n",
            "Weather Normalized Site Electricity Intensity (kWh/ft²)     \n",
            "          p-value 0.00 10.4 +/- 58.8 not consistent with 10.8 +/- 90.2\n",
            "Weather Normalized Site Natural Gas Intensity (therms/ft²)  \n",
            "          p-value 0.00 0.4 +/- 2.6 not consistent with 0.3 +/- 0.4\n",
            "Weather Normalized Source EUI (kBtu/ft²)                    \n",
            "          p-value 0.00 381.9 +/- 3987.8 not consistent with 282.7 +/- 3746.0\n",
            "Electricity Use - Grid Purchase (kBtu)                      \n",
            "          p-value 0.00 8584119.0 +/- 24989175.8 not consistent with 7417714.2 +/- 27212995.0\n",
            "Total GHG Emissions (Metric Tons CO2e)                      \n",
            "          p-value 0.00 4704.3 +/- 89127.8 not consistent with 1727.1 +/- 14586.7\n",
            "Property GFA - Self-Reported (ft²)                          \n",
            "          p-value 0.00 208836.4 +/- 310989.1 not consistent with 183429.8 +/- 251665.5\n",
            "Water Use (All Water Sources) (kgal)                        \n",
            "          p-value 0.00 14815.2 +/- 148300.5 not consistent with 15208.0 +/- 122892.7\n",
            "Water Intensity (All Water Sources) (gal/ft²)               \n",
            "          p-value 0.00 94.3 +/- 1126.5 not consistent with 86.7 +/- 488.9\n",
            "Source EUI (kBtu/ft²)                                       \n",
            "          p-value 0.00 364.6 +/- 3802.6 not consistent with 280.4 +/- 3749.4\n",
            "bldgarea                                                    \n",
            "          p-value 0.00 43012.9 +/- 166478.4 not consistent with 174307.1 +/- 233488.2\n",
            "numbldgs                                                    \n",
            "          p-value 0.00 1.1 +/- 1.4 not consistent with 1.1 +/- 0.7\n",
            "numfloors                                                   \n",
            "          p-value 0.00 5.9 +/- 6.2 not consistent with 14.5 +/- 9.1\n",
            "unitsres                                                    \n",
            "          p-value 0.00 22.3 +/- 92.4 not consistent with 86.3 +/- 123.6\n",
            "unitstotal                                                  \n",
            "          p-value 0.00 25.4 +/- 95.4 not consistent with 99.0 +/- 125.4\n",
            "yearalter1                                                  \n",
            "          p-value 0.00 1055.2 +/- 993.3 not consistent with 1094.8 +/- 989.8\n"
          ],
          "name": "stdout"
        }
      ]
    },
    {
      "cell_type": "code",
      "metadata": {
        "ExecuteTime": {
          "end_time": "2019-09-25T02:26:17.855750Z",
          "start_time": "2019-09-25T02:26:17.652920Z"
        },
        "id": "nYFmFWEYY5YD",
        "colab_type": "code",
        "colab": {
          "base_uri": "https://localhost:8080/",
          "height": 275
        },
        "outputId": "bdfa5f66-aa88-4efd-c160-707142d62c0b"
      },
      "source": [
        "#delete\n",
        "for g in goodcols:\n",
        "    z = np.abs(ll84pl_reduct[g].mean() - ll84pl[g].mean()) / (ll84pl[g].std() /\n",
        "                                                              np.sqrt(len(ll84pl_reduct[g])))\n",
        "    if z > 2:\n",
        "        print (\"{:40}\\n\".format(g), \n",
        "               \"           z={:.2f} {:.1f} +/- {:.1f} not consistent with {:.1f} +/- {:.1f}\".format(z,\n",
        "            ll84pl[g].mean(), ll84pl[g].std(), ll84pl_reduct[g].mean(), ll84pl_reduct[g].std()))"
      ],
      "execution_count": 104,
      "outputs": [
        {
          "output_type": "stream",
          "text": [
            "Occupancy                               \n",
            "            z=3.15 98.5 +/- 8.5 not consistent with 99.1 +/- 5.2\n",
            "Electricity Use - Grid Purchase (kBtu)  \n",
            "            z=2.11 8584119.0 +/- 24989175.8 not consistent with 7417714.2 +/- 27212995.0\n",
            "Property GFA - Self-Reported (ft²)      \n",
            "            z=3.69 208836.4 +/- 310989.1 not consistent with 183429.8 +/- 251665.5\n",
            "bldgarea                                \n",
            "            z=35.66 43012.9 +/- 166478.4 not consistent with 174307.1 +/- 233488.2\n",
            "numfloors                               \n",
            "            z=63.05 5.9 +/- 6.2 not consistent with 14.5 +/- 9.1\n",
            "unitsres                                \n",
            "            z=31.34 22.3 +/- 92.4 not consistent with 86.3 +/- 123.6\n",
            "unitstotal                              \n",
            "            z=34.93 25.4 +/- 95.4 not consistent with 99.0 +/- 125.4\n"
          ],
          "name": "stdout"
        }
      ]
    },
    {
      "cell_type": "markdown",
      "metadata": {
        "id": "OBPiLSfnY5YE",
        "colab_type": "text"
      },
      "source": [
        "### plot WNEC\n",
        "Regardless of what you found above, plot the distribution of the _log base 10_ of the weather-normalized site energy consumption (WNEC) for all values larger than 0.1 (such that log10(min) is -1) for the _entire dataset_ and for the _reducted one_: do you think inference on this feature would be affected by this way of dealing with missing data affects the result?\n",
        "\n"
      ]
    },
    {
      "cell_type": "code",
      "metadata": {
        "ExecuteTime": {
          "end_time": "2019-09-25T02:33:55.288516Z",
          "start_time": "2019-09-25T02:33:55.263386Z"
        },
        "id": "hepCz2zGY5YG",
        "colab_type": "code",
        "colab": {
          "base_uri": "https://localhost:8080/",
          "height": 337
        },
        "outputId": "433a7754-e1e6-4a91-e4a6-688d4e534b4c"
      },
      "source": [
        "#delete\n",
        "np.log10(ll84pl[\"Weather Normalized Site EUI (kBtu/ft²)\"]\n",
        "        ).plot(kind=\"hist\", bins=30, density=1, range=[-1, 6])\n",
        "np.log10(ll84pl_reduct[\"Weather Normalized Site EUI (kBtu/ft²)\"]\n",
        "        ).plot(kind=\"hist\", bins=30, density=1, range=[-1, 6], alpha=0.6)\n",
        "pl.xlabel(\"Log10 Weather Normalized Site EUI (kBtu/ft²) \");\n",
        "pl.xlim(-1, 7);"
      ],
      "execution_count": 69,
      "outputs": [
        {
          "output_type": "stream",
          "text": [
            "/usr/local/lib/python3.6/dist-packages/ipykernel_launcher.py:1: RuntimeWarning: divide by zero encountered in log10\n",
            "  \"\"\"Entry point for launching an IPython kernel.\n"
          ],
          "name": "stderr"
        },
        {
          "output_type": "display_data",
          "data": {
            "image/png": "[encoded data removed]",
            "text/plain": [
              "<Figure size 432x288 with 1 Axes>"
            ]
          },
          "metadata": {
            "tags": []
          }
        }
      ]
    },
    {
      "cell_type": "markdown",
      "metadata": {
        "ExecuteTime": {
          "end_time": "2019-09-25T02:08:23.211182Z",
          "start_time": "2019-09-25T02:08:23.205135Z"
        },
        "id": "WIANEJHKY5YI",
        "colab_type": "text"
      },
      "source": [
        "# 667 and extyra credit\n",
        "plot a \"scatter matrix\" of the selected columns. Identify 4 promising \"scaling laws\" and plot them separately (a scatter plot of column1 vs column2). Does it make sense that there should be a scaling law between the 2 variables? \n",
        "\n",
        "which features should be strongly correlated or identical but are not? discuss\n",
        "\n",
        "([this](https://stackoverflow.com/questions/26975089/making-the-labels-of-the-scatterplot-vertical-and-horizontal-in-pandas) stackoverflow may come in handy)"
      ]
    },
    {
      "cell_type": "code",
      "metadata": {
        "ExecuteTime": {
          "end_time": "2019-09-24T21:15:35.182972Z",
          "start_time": "2019-09-24T21:15:35.076306Z"
        },
        "colab_type": "code",
        "id": "jFy53hX0WQEt",
        "colab": {
          "base_uri": "https://localhost:8080/",
          "height": 919
        },
        "outputId": "4a15d940-59a5-4c7a-91f9-d6eb2295f6d4"
      },
      "source": [
        "#delete\n",
        "axs = pd.plotting.scatter_matrix(ll84pl[goodcols], figsize=(10,10));\n",
        "for x in range(len(axs)):\n",
        "    for y in range(len(axs)):\n",
        "        if x == len(axs) - 1:\n",
        "            #to make x axis name vertical  \n",
        "            axs[x, y].xaxis.label.set_rotation(90)\n",
        "        if y == 0:    \n",
        "            axs[x, y].yaxis.label.set_rotation(0)\n",
        "        "
      ],
      "execution_count": 70,
      "outputs": [
        {
          "output_type": "display_data",
          "data": {
            "image/png": "[encoded data removed]",
            "text/plain": [
              "<Figure size 720x720 with 441 Axes>"
            ]
          },
          "metadata": {
            "tags": []
          }
        }
      ]
    },
    {
      "cell_type": "code",
      "metadata": {
        "id": "iksum7U6oCvR",
        "colab_type": "code",
        "colab": {
          "base_uri": "https://localhost:8080/",
          "height": 1000
        },
        "outputId": "55b03a7c-4856-4dc6-83e0-635463422c90"
      },
      "source": [
        "#delete\n",
        "ll84pl.plot(x='Site EUI (kBtu/ft²)', y='Weather Normalized Site EUI (kBtu/ft²)', \n",
        "            kind='scatter')\n",
        "ll84pl.plot(x='Site EUI (kBtu/ft²)', y='Source EUI (kBtu/ft²)', \n",
        "            kind='scatter')\n",
        "ll84pl.plot(x='Number of Buildings - Self-reported', y='numbldgs', \n",
        "            kind='scatter')\n",
        "ll84pl.plot(x='bldgarea', y='Property GFA - Self-Reported (ft²)', \n",
        "            kind='scatter')\n",
        "ll84pl.plot(x='unitsres', y='unitstotal', \n",
        "            kind='scatter')"
      ],
      "execution_count": 105,
      "outputs": [
        {
          "output_type": "execute_result",
          "data": {
            "text/plain": [
              "<matplotlib.axes._subplots.AxesSubplot at 0x7f7976e08f98>"
            ]
          },
          "metadata": {
            "tags": []
          },
          "execution_count": 105
        },
        {
          "output_type": "display_data",
          "data": {
            "image/png": "[encoded data removed]",
            "text/plain": [
              "<Figure size 432x288 with 1 Axes>"
            ]
          },
          "metadata": {
            "tags": []
          }
        },
        {
          "output_type": "display_data",
          "data": {
            "image/png": "[encoded data removed]",
            "text/plain": [
              "<Figure size 432x288 with 1 Axes>"
            ]
          },
          "metadata": {
            "tags": []
          }
        },
        {
          "output_type": "display_data",
          "data": {
            "image/png": "[encoded data removed]",
            "text/plain": [
              "<Figure size 432x288 with 1 Axes>"
            ]
          },
          "metadata": {
            "tags": []
          }
        },
        {
          "output_type": "display_data",
          "data": {
            "image/png": "[encoded data removed]",
            "text/plain": [
              "<Figure size 432x288 with 1 Axes>"
            ]
          },
          "metadata": {
            "tags": []
          }
        },
        {
          "output_type": "display_data",
          "data": {
            "image/png": "[encoded data removed]",
            "text/plain": [
              "<Figure size 432x288 with 1 Axes>"
            ]
          },
          "metadata": {
            "tags": []
          }
        }
      ]
    },
    {
      "cell_type": "code",
      "metadata": {
        "ExecuteTime": {
          "end_time": "2019-09-25T02:35:20.020876Z",
          "start_time": "2019-09-25T02:35:19.490874Z"
        },
        "id": "cvkwvp2XY5YK",
        "colab_type": "code",
        "colab": {
          "base_uri": "https://localhost:8080/",
          "height": 1000
        },
        "outputId": "7409d342-e832-4934-d364-aa4fe2267a47"
      },
      "source": [
        "#delete\n",
        "\n",
        "ll84pl.plot(x='bldgarea', y='Property GFA - Self-Reported (ft²)', \n",
        "            kind='scatter')\n",
        "ll84pl.plot(x='Number of Buildings - Self-reported', y='numbldgs', kind='scatter');\n",
        "\n",
        "ll84pl.plot(x='ENERGY STAR Score', y='Weather Normalized Site EUI (kBtu/ft²)', \n",
        "            kind='scatter');\n",
        "\n",
        "\n",
        "ll84pl.plot(x='ENERGY STAR Score', y='Weather Normalized Site EUI (kBtu/ft²)', \n",
        "            kind='scatter');\n",
        "pl.ylim(0, 200);"
      ],
      "execution_count": 106,
      "outputs": [
        {
          "output_type": "display_data",
          "data": {
            "image/png": "[encoded data removed]",
            "text/plain": [
              "<Figure size 432x288 with 1 Axes>"
            ]
          },
          "metadata": {
            "tags": []
          }
        },
        {
          "output_type": "display_data",
          "data": {
            "image/png": "[encoded data removed]",
            "text/plain": [
              "<Figure size 432x288 with 1 Axes>"
            ]
          },
          "metadata": {
            "tags": []
          }
        },
        {
          "output_type": "display_data",
          "data": {
            "image/png": "[encoded data removed]",
            "text/plain": [
              "<Figure size 432x288 with 1 Axes>"
            ]
          },
          "metadata": {
            "tags": []
          }
        },
        {
          "output_type": "display_data",
          "data": {
            "image/png": "[encoded data removed]",
            "text/plain": [
              "<Figure size 432x288 with 1 Axes>"
            ]
          },
          "metadata": {
            "tags": []
          }
        }
      ]
    },
    {
      "cell_type": "markdown",
      "metadata": {
        "id": "1fI3IMcNY5YM",
        "colab_type": "text"
      },
      "source": [
        "## all students\n",
        "At last, from the original dataset remove only the columns that are NaN in the column \"Weather Normalized Site EUI (kBtu/ft²)\"\n"
      ]
    },
    {
      "cell_type": "code",
      "metadata": {
        "ExecuteTime": {
          "end_time": "2019-09-25T02:40:28.827861Z",
          "start_time": "2019-09-25T02:38:20.245957Z"
        },
        "id": "LWaJVQG0Y5YN",
        "colab_type": "code",
        "colab": {
          "base_uri": "https://localhost:8080/",
          "height": 34
        },
        "outputId": "4feb7662-b886-47ba-cf26-9b3684c44b90"
      },
      "source": [
        "# -- drop buildings for which WN Site EUI is NaN\n",
        "wnec = \"Weather Normalized Site EUI (kBtu/ft²)\"\n",
        "ll84pl.dropna(subset=[wnec], inplace=True)\n",
        "ll84pl.shape"
      ],
      "execution_count": 131,
      "outputs": [
        {
          "output_type": "execute_result",
          "data": {
            "text/plain": [
              "(4619, 156)"
            ]
          },
          "metadata": {
            "tags": []
          },
          "execution_count": 131
        }
      ]
    },
    {
      "cell_type": "code",
      "metadata": {
        "id": "sQk2t3XWwW7j",
        "colab_type": "code",
        "colab": {
          "base_uri": "https://localhost:8080/",
          "height": 431
        },
        "outputId": "0ef0eaf8-6aab-408e-d0a0-9a17cee2f3ae"
      },
      "source": [
        "ll84pl.describe()"
      ],
      "execution_count": 132,
      "outputs": [
        {
          "output_type": "execute_result",
          "data": {
            "text/html": [
              "<div>\n",
              "<style scoped>\n",
              "    .dataframe tbody tr th:only-of-type {\n",
              "        vertical-align: middle;\n",
              "    }\n",
              "\n",
              "    .dataframe tbody tr th {\n",
              "        vertical-align: top;\n",
              "    }\n",
              "\n",
              "    .dataframe thead th {\n",
              "        text-align: right;\n",
              "    }\n",
              "</style>\n",
              "<table border=\"1\" class=\"dataframe\">\n",
              "  <thead>\n",
              "    <tr style=\"text-align: right;\">\n",
              "      <th></th>\n",
              "      <th>Order</th>\n",
              "      <th>Property Id</th>\n",
              "      <th>BBL - 10 digits</th>\n",
              "      <th>Street Number</th>\n",
              "      <th>DOF Gross Floor Area</th>\n",
              "      <th>Largest Property Use Type - Gross Floor Area (ft²)</th>\n",
              "      <th>Year Built</th>\n",
              "      <th>Number of Buildings - Self-reported</th>\n",
              "      <th>Occupancy</th>\n",
              "      <th>ENERGY STAR Score</th>\n",
              "      <th>Site EUI (kBtu/ft²)</th>\n",
              "      <th>Weather Normalized Site EUI (kBtu/ft²)</th>\n",
              "      <th>Weather Normalized Site Electricity Intensity (kWh/ft²)</th>\n",
              "      <th>Weather Normalized Site Natural Gas Intensity (therms/ft²)</th>\n",
              "      <th>Weather Normalized Source EUI (kBtu/ft²)</th>\n",
              "      <th>Electricity Use - Grid Purchase (kBtu)</th>\n",
              "      <th>Total GHG Emissions (Metric Tons CO2e)</th>\n",
              "      <th>Direct GHG Emissions (Metric Tons CO2e)</th>\n",
              "      <th>Indirect GHG Emissions (Metric Tons CO2e)</th>\n",
              "      <th>Property GFA - Self-Reported (ft²)</th>\n",
              "      <th>Water Use (All Water Sources) (kgal)</th>\n",
              "      <th>Water Intensity (All Water Sources) (gal/ft²)</th>\n",
              "      <th>Source EUI (kBtu/ft²)</th>\n",
              "      <th>Latitude</th>\n",
              "      <th>Longitude</th>\n",
              "      <th>Community Board</th>\n",
              "      <th>Council District</th>\n",
              "      <th>Census Tract</th>\n",
              "      <th>block</th>\n",
              "      <th>lot</th>\n",
              "      <th>cd</th>\n",
              "      <th>ct2010</th>\n",
              "      <th>cb2010</th>\n",
              "      <th>schooldist</th>\n",
              "      <th>council</th>\n",
              "      <th>zipcode</th>\n",
              "      <th>policeprct</th>\n",
              "      <th>healtharea</th>\n",
              "      <th>sanitboro</th>\n",
              "      <th>spdist3</th>\n",
              "      <th>...</th>\n",
              "      <th>factryarea</th>\n",
              "      <th>otherarea</th>\n",
              "      <th>areasource</th>\n",
              "      <th>numbldgs</th>\n",
              "      <th>numfloors</th>\n",
              "      <th>unitsres</th>\n",
              "      <th>unitstotal</th>\n",
              "      <th>lotfront</th>\n",
              "      <th>lotdepth</th>\n",
              "      <th>bldgfront</th>\n",
              "      <th>bldgdepth</th>\n",
              "      <th>proxcode</th>\n",
              "      <th>lottype</th>\n",
              "      <th>bsmtcode</th>\n",
              "      <th>assessland</th>\n",
              "      <th>assesstot</th>\n",
              "      <th>exemptland</th>\n",
              "      <th>exempttot</th>\n",
              "      <th>yearbuilt</th>\n",
              "      <th>yearalter1</th>\n",
              "      <th>yearalter2</th>\n",
              "      <th>builtfar</th>\n",
              "      <th>residfar</th>\n",
              "      <th>commfar</th>\n",
              "      <th>facilfar</th>\n",
              "      <th>borocode</th>\n",
              "      <th>bbl</th>\n",
              "      <th>condono</th>\n",
              "      <th>tract2010</th>\n",
              "      <th>xcoord</th>\n",
              "      <th>ycoord</th>\n",
              "      <th>appbbl</th>\n",
              "      <th>mappluto_f</th>\n",
              "      <th>plutomapid</th>\n",
              "      <th>sanitdistrict</th>\n",
              "      <th>healthcenterdistrict</th>\n",
              "      <th>firm07_flag</th>\n",
              "      <th>pfirm15_flag</th>\n",
              "      <th>masdate</th>\n",
              "      <th>polidate</th>\n",
              "    </tr>\n",
              "  </thead>\n",
              "  <tbody>\n",
              "    <tr>\n",
              "      <th>count</th>\n",
              "      <td>4619.000000</td>\n",
              "      <td>4.619000e+03</td>\n",
              "      <td>4.619000e+03</td>\n",
              "      <td>4606.000000</td>\n",
              "      <td>4.619000e+03</td>\n",
              "      <td>4.619000e+03</td>\n",
              "      <td>4619.000000</td>\n",
              "      <td>4619.000000</td>\n",
              "      <td>4619.000000</td>\n",
              "      <td>3652.000000</td>\n",
              "      <td>4619.000000</td>\n",
              "      <td>4619.000000</td>\n",
              "      <td>4607.000000</td>\n",
              "      <td>3805.000000</td>\n",
              "      <td>4619.000000</td>\n",
              "      <td>4.607000e+03</td>\n",
              "      <td>4.618000e+03</td>\n",
              "      <td>4619.000000</td>\n",
              "      <td>4.618000e+03</td>\n",
              "      <td>4.619000e+03</td>\n",
              "      <td>3.038000e+03</td>\n",
              "      <td>3038.000000</td>\n",
              "      <td>4619.000000</td>\n",
              "      <td>4585.000000</td>\n",
              "      <td>4585.000000</td>\n",
              "      <td>4585.000000</td>\n",
              "      <td>4585.000000</td>\n",
              "      <td>4585.000000</td>\n",
              "      <td>4603.000000</td>\n",
              "      <td>4603.000000</td>\n",
              "      <td>4602.000000</td>\n",
              "      <td>4602.000000</td>\n",
              "      <td>4602.000000</td>\n",
              "      <td>4602.000000</td>\n",
              "      <td>4602.000000</td>\n",
              "      <td>4602.000000</td>\n",
              "      <td>4602.000000</td>\n",
              "      <td>4602.000000</td>\n",
              "      <td>4602.000000</td>\n",
              "      <td>0.0</td>\n",
              "      <td>...</td>\n",
              "      <td>4503.000000</td>\n",
              "      <td>4.503000e+03</td>\n",
              "      <td>4603.000000</td>\n",
              "      <td>4603.000000</td>\n",
              "      <td>4603.000000</td>\n",
              "      <td>4603.000000</td>\n",
              "      <td>4603.000000</td>\n",
              "      <td>4603.000000</td>\n",
              "      <td>4514.000000</td>\n",
              "      <td>4603.000000</td>\n",
              "      <td>4603.00000</td>\n",
              "      <td>4603.000000</td>\n",
              "      <td>4603.000000</td>\n",
              "      <td>4603.000000</td>\n",
              "      <td>4.603000e+03</td>\n",
              "      <td>4.603000e+03</td>\n",
              "      <td>4.603000e+03</td>\n",
              "      <td>4.603000e+03</td>\n",
              "      <td>4603.000000</td>\n",
              "      <td>4603.000000</td>\n",
              "      <td>4603.000000</td>\n",
              "      <td>4602.000000</td>\n",
              "      <td>4603.000000</td>\n",
              "      <td>4603.000000</td>\n",
              "      <td>4603.000000</td>\n",
              "      <td>4603.0</td>\n",
              "      <td>4.603000e+03</td>\n",
              "      <td>4603.000000</td>\n",
              "      <td>4602.000000</td>\n",
              "      <td>4.595000e+03</td>\n",
              "      <td>4595.000000</td>\n",
              "      <td>4.603000e+03</td>\n",
              "      <td>0.0</td>\n",
              "      <td>4603.000000</td>\n",
              "      <td>4602.000000</td>\n",
              "      <td>4602.000000</td>\n",
              "      <td>214.0</td>\n",
              "      <td>264.0</td>\n",
              "      <td>0.0</td>\n",
              "      <td>0.0</td>\n",
              "    </tr>\n",
              "    <tr>\n",
              "      <th>mean</th>\n",
              "      <td>3336.994371</td>\n",
              "      <td>3.528814e+06</td>\n",
              "      <td>1.012011e+09</td>\n",
              "      <td>523.056014</td>\n",
              "      <td>2.123289e+05</td>\n",
              "      <td>1.993052e+05</td>\n",
              "      <td>1944.560727</td>\n",
              "      <td>1.056289</td>\n",
              "      <td>98.625244</td>\n",
              "      <td>58.097207</td>\n",
              "      <td>257.613120</td>\n",
              "      <td>266.941373</td>\n",
              "      <td>10.525374</td>\n",
              "      <td>0.419658</td>\n",
              "      <td>381.910067</td>\n",
              "      <td>8.767355e+06</td>\n",
              "      <td>4.980836e+03</td>\n",
              "      <td>467.747110</td>\n",
              "      <td>4.512986e+03</td>\n",
              "      <td>2.109565e+05</td>\n",
              "      <td>1.512617e+04</td>\n",
              "      <td>91.782021</td>\n",
              "      <td>372.284629</td>\n",
              "      <td>40.768898</td>\n",
              "      <td>-73.973970</td>\n",
              "      <td>6.315594</td>\n",
              "      <td>4.542857</td>\n",
              "      <td>1911.335224</td>\n",
              "      <td>1201.472083</td>\n",
              "      <td>1690.871388</td>\n",
              "      <td>106.546936</td>\n",
              "      <td>129.500795</td>\n",
              "      <td>2504.708822</td>\n",
              "      <td>2.665146</td>\n",
              "      <td>4.547371</td>\n",
              "      <td>10029.113429</td>\n",
              "      <td>17.807910</td>\n",
              "      <td>4411.508692</td>\n",
              "      <td>1.002173</td>\n",
              "      <td>NaN</td>\n",
              "      <td>...</td>\n",
              "      <td>625.908505</td>\n",
              "      <td>9.326382e+03</td>\n",
              "      <td>2.003259</td>\n",
              "      <td>1.215729</td>\n",
              "      <td>15.704649</td>\n",
              "      <td>90.109059</td>\n",
              "      <td>103.677167</td>\n",
              "      <td>127.919296</td>\n",
              "      <td>144.525891</td>\n",
              "      <td>109.563852</td>\n",
              "      <td>117.03038</td>\n",
              "      <td>1.598523</td>\n",
              "      <td>3.494026</td>\n",
              "      <td>2.398001</td>\n",
              "      <td>5.130460e+06</td>\n",
              "      <td>2.788207e+07</td>\n",
              "      <td>7.817279e+05</td>\n",
              "      <td>4.771762e+06</td>\n",
              "      <td>1940.806648</td>\n",
              "      <td>1079.467304</td>\n",
              "      <td>266.524441</td>\n",
              "      <td>10.781834</td>\n",
              "      <td>6.907665</td>\n",
              "      <td>4.363719</td>\n",
              "      <td>8.659913</td>\n",
              "      <td>1.0</td>\n",
              "      <td>1.012016e+09</td>\n",
              "      <td>271.296328</td>\n",
              "      <td>1908.266623</td>\n",
              "      <td>9.914680e+05</td>\n",
              "      <td>219435.923395</td>\n",
              "      <td>2.840675e+08</td>\n",
              "      <td>NaN</td>\n",
              "      <td>1.002172</td>\n",
              "      <td>6.317471</td>\n",
              "      <td>14.501956</td>\n",
              "      <td>1.0</td>\n",
              "      <td>1.0</td>\n",
              "      <td>NaN</td>\n",
              "      <td>NaN</td>\n",
              "    </tr>\n",
              "    <tr>\n",
              "      <th>std</th>\n",
              "      <td>1716.322156</td>\n",
              "      <td>1.070047e+06</td>\n",
              "      <td>5.525186e+06</td>\n",
              "      <td>1310.357892</td>\n",
              "      <td>3.158335e+05</td>\n",
              "      <td>2.937886e+05</td>\n",
              "      <td>33.381412</td>\n",
              "      <td>0.786053</td>\n",
              "      <td>7.611881</td>\n",
              "      <td>30.850327</td>\n",
              "      <td>3246.850236</td>\n",
              "      <td>3277.960226</td>\n",
              "      <td>60.563720</td>\n",
              "      <td>2.709043</td>\n",
              "      <td>3987.815401</td>\n",
              "      <td>2.562632e+07</td>\n",
              "      <td>9.410245e+04</td>\n",
              "      <td>2287.676551</td>\n",
              "      <td>9.409051e+04</td>\n",
              "      <td>3.119655e+05</td>\n",
              "      <td>1.540741e+05</td>\n",
              "      <td>1121.657099</td>\n",
              "      <td>3952.159305</td>\n",
              "      <td>0.036415</td>\n",
              "      <td>0.021297</td>\n",
              "      <td>2.893859</td>\n",
              "      <td>2.445114</td>\n",
              "      <td>5199.111354</td>\n",
              "      <td>552.900574</td>\n",
              "      <td>3099.755190</td>\n",
              "      <td>5.609443</td>\n",
              "      <td>69.826560</td>\n",
              "      <td>1728.067153</td>\n",
              "      <td>1.315399</td>\n",
              "      <td>2.444790</td>\n",
              "      <td>37.279552</td>\n",
              "      <td>9.438647</td>\n",
              "      <td>1990.080636</td>\n",
              "      <td>0.046569</td>\n",
              "      <td>NaN</td>\n",
              "      <td>...</td>\n",
              "      <td>17836.082246</td>\n",
              "      <td>9.560678e+04</td>\n",
              "      <td>0.127619</td>\n",
              "      <td>1.285325</td>\n",
              "      <td>10.201658</td>\n",
              "      <td>191.677822</td>\n",
              "      <td>193.578105</td>\n",
              "      <td>93.935365</td>\n",
              "      <td>87.767960</td>\n",
              "      <td>139.529200</td>\n",
              "      <td>156.98713</td>\n",
              "      <td>1.220040</td>\n",
              "      <td>1.498847</td>\n",
              "      <td>1.481221</td>\n",
              "      <td>1.151246e+07</td>\n",
              "      <td>5.340160e+07</td>\n",
              "      <td>5.825245e+06</td>\n",
              "      <td>2.589518e+07</td>\n",
              "      <td>71.493118</td>\n",
              "      <td>991.509913</td>\n",
              "      <td>680.704064</td>\n",
              "      <td>5.820096</td>\n",
              "      <td>3.415046</td>\n",
              "      <td>5.318017</td>\n",
              "      <td>3.183317</td>\n",
              "      <td>0.0</td>\n",
              "      <td>5.528503e+06</td>\n",
              "      <td>627.263992</td>\n",
              "      <td>5185.227543</td>\n",
              "      <td>5.912442e+03</td>\n",
              "      <td>13271.328532</td>\n",
              "      <td>4.543162e+08</td>\n",
              "      <td>NaN</td>\n",
              "      <td>0.046564</td>\n",
              "      <td>2.894027</td>\n",
              "      <td>1.489986</td>\n",
              "      <td>0.0</td>\n",
              "      <td>0.0</td>\n",
              "      <td>NaN</td>\n",
              "      <td>NaN</td>\n",
              "    </tr>\n",
              "    <tr>\n",
              "      <th>min</th>\n",
              "      <td>1.000000</td>\n",
              "      <td>7.365000e+03</td>\n",
              "      <td>1.000048e+09</td>\n",
              "      <td>1.000000</td>\n",
              "      <td>5.002800e+04</td>\n",
              "      <td>1.680300e+04</td>\n",
              "      <td>1600.000000</td>\n",
              "      <td>0.000000</td>\n",
              "      <td>0.000000</td>\n",
              "      <td>1.000000</td>\n",
              "      <td>0.000000</td>\n",
              "      <td>0.000000</td>\n",
              "      <td>0.000000</td>\n",
              "      <td>0.000000</td>\n",
              "      <td>0.000000</td>\n",
              "      <td>0.000000e+00</td>\n",
              "      <td>0.000000e+00</td>\n",
              "      <td>0.000000</td>\n",
              "      <td>-2.313430e+04</td>\n",
              "      <td>0.000000e+00</td>\n",
              "      <td>0.000000e+00</td>\n",
              "      <td>0.000000</td>\n",
              "      <td>0.000000</td>\n",
              "      <td>40.702112</td>\n",
              "      <td>-74.018002</td>\n",
              "      <td>1.000000</td>\n",
              "      <td>1.000000</td>\n",
              "      <td>6.000000</td>\n",
              "      <td>4.000000</td>\n",
              "      <td>1.000000</td>\n",
              "      <td>101.000000</td>\n",
              "      <td>2.020000</td>\n",
              "      <td>1000.000000</td>\n",
              "      <td>1.000000</td>\n",
              "      <td>1.000000</td>\n",
              "      <td>10001.000000</td>\n",
              "      <td>1.000000</td>\n",
              "      <td>110.000000</td>\n",
              "      <td>1.000000</td>\n",
              "      <td>NaN</td>\n",
              "      <td>...</td>\n",
              "      <td>0.000000</td>\n",
              "      <td>0.000000e+00</td>\n",
              "      <td>2.000000</td>\n",
              "      <td>0.000000</td>\n",
              "      <td>0.000000</td>\n",
              "      <td>0.000000</td>\n",
              "      <td>0.000000</td>\n",
              "      <td>0.000000</td>\n",
              "      <td>0.000000</td>\n",
              "      <td>0.000000</td>\n",
              "      <td>0.00000</td>\n",
              "      <td>0.000000</td>\n",
              "      <td>0.000000</td>\n",
              "      <td>0.000000</td>\n",
              "      <td>0.000000e+00</td>\n",
              "      <td>0.000000e+00</td>\n",
              "      <td>0.000000e+00</td>\n",
              "      <td>0.000000e+00</td>\n",
              "      <td>0.000000</td>\n",
              "      <td>0.000000</td>\n",
              "      <td>0.000000</td>\n",
              "      <td>0.000000</td>\n",
              "      <td>0.000000</td>\n",
              "      <td>0.000000</td>\n",
              "      <td>0.000000</td>\n",
              "      <td>1.0</td>\n",
              "      <td>1.000048e+09</td>\n",
              "      <td>0.000000</td>\n",
              "      <td>6.000000</td>\n",
              "      <td>9.792270e+05</td>\n",
              "      <td>195090.000000</td>\n",
              "      <td>0.000000e+00</td>\n",
              "      <td>NaN</td>\n",
              "      <td>1.000000</td>\n",
              "      <td>1.000000</td>\n",
              "      <td>11.000000</td>\n",
              "      <td>1.0</td>\n",
              "      <td>1.0</td>\n",
              "      <td>NaN</td>\n",
              "      <td>NaN</td>\n",
              "    </tr>\n",
              "    <tr>\n",
              "      <th>25%</th>\n",
              "      <td>1909.500000</td>\n",
              "      <td>2.683360e+06</td>\n",
              "      <td>1.008230e+09</td>\n",
              "      <td>111.000000</td>\n",
              "      <td>7.118250e+04</td>\n",
              "      <td>7.019300e+04</td>\n",
              "      <td>1920.000000</td>\n",
              "      <td>1.000000</td>\n",
              "      <td>100.000000</td>\n",
              "      <td>32.000000</td>\n",
              "      <td>62.000000</td>\n",
              "      <td>64.800000</td>\n",
              "      <td>4.800000</td>\n",
              "      <td>0.000000</td>\n",
              "      <td>110.750000</td>\n",
              "      <td>1.603112e+06</td>\n",
              "      <td>4.100000e+02</td>\n",
              "      <td>89.050000</td>\n",
              "      <td>1.521500e+02</td>\n",
              "      <td>7.292200e+04</td>\n",
              "      <td>2.384375e+03</td>\n",
              "      <td>22.617500</td>\n",
              "      <td>107.850000</td>\n",
              "      <td>40.745112</td>\n",
              "      <td>-73.989536</td>\n",
              "      <td>5.000000</td>\n",
              "      <td>3.000000</td>\n",
              "      <td>83.000000</td>\n",
              "      <td>823.000000</td>\n",
              "      <td>16.000000</td>\n",
              "      <td>105.000000</td>\n",
              "      <td>80.000000</td>\n",
              "      <td>1003.000000</td>\n",
              "      <td>2.000000</td>\n",
              "      <td>3.000000</td>\n",
              "      <td>10014.000000</td>\n",
              "      <td>13.000000</td>\n",
              "      <td>3400.000000</td>\n",
              "      <td>1.000000</td>\n",
              "      <td>NaN</td>\n",
              "      <td>...</td>\n",
              "      <td>0.000000</td>\n",
              "      <td>0.000000e+00</td>\n",
              "      <td>2.000000</td>\n",
              "      <td>1.000000</td>\n",
              "      <td>9.000000</td>\n",
              "      <td>0.000000</td>\n",
              "      <td>26.000000</td>\n",
              "      <td>78.460000</td>\n",
              "      <td>100.000000</td>\n",
              "      <td>70.000000</td>\n",
              "      <td>84.00000</td>\n",
              "      <td>0.000000</td>\n",
              "      <td>3.000000</td>\n",
              "      <td>2.000000</td>\n",
              "      <td>9.675000e+05</td>\n",
              "      <td>6.910875e+06</td>\n",
              "      <td>0.000000e+00</td>\n",
              "      <td>0.000000e+00</td>\n",
              "      <td>1920.000000</td>\n",
              "      <td>0.000000</td>\n",
              "      <td>0.000000</td>\n",
              "      <td>6.360000</td>\n",
              "      <td>4.000000</td>\n",
              "      <td>0.000000</td>\n",
              "      <td>6.500000</td>\n",
              "      <td>1.0</td>\n",
              "      <td>1.008234e+09</td>\n",
              "      <td>0.000000</td>\n",
              "      <td>83.000000</td>\n",
              "      <td>9.871435e+05</td>\n",
              "      <td>210776.500000</td>\n",
              "      <td>0.000000e+00</td>\n",
              "      <td>NaN</td>\n",
              "      <td>1.000000</td>\n",
              "      <td>5.000000</td>\n",
              "      <td>13.000000</td>\n",
              "      <td>1.0</td>\n",
              "      <td>1.0</td>\n",
              "      <td>NaN</td>\n",
              "      <td>NaN</td>\n",
              "    </tr>\n",
              "    <tr>\n",
              "      <th>50%</th>\n",
              "      <td>3367.000000</td>\n",
              "      <td>3.107671e+06</td>\n",
              "      <td>1.012330e+09</td>\n",
              "      <td>299.000000</td>\n",
              "      <td>1.158600e+05</td>\n",
              "      <td>1.115920e+05</td>\n",
              "      <td>1930.000000</td>\n",
              "      <td>1.000000</td>\n",
              "      <td>100.000000</td>\n",
              "      <td>65.000000</td>\n",
              "      <td>77.300000</td>\n",
              "      <td>80.800000</td>\n",
              "      <td>7.400000</td>\n",
              "      <td>0.300000</td>\n",
              "      <td>143.100000</td>\n",
              "      <td>3.259808e+06</td>\n",
              "      <td>6.720500e+02</td>\n",
              "      <td>259.700000</td>\n",
              "      <td>3.268500e+02</td>\n",
              "      <td>1.161890e+05</td>\n",
              "      <td>4.362250e+03</td>\n",
              "      <td>35.780000</td>\n",
              "      <td>140.100000</td>\n",
              "      <td>40.762885</td>\n",
              "      <td>-73.976728</td>\n",
              "      <td>6.000000</td>\n",
              "      <td>4.000000</td>\n",
              "      <td>131.000000</td>\n",
              "      <td>1233.000000</td>\n",
              "      <td>39.000000</td>\n",
              "      <td>106.000000</td>\n",
              "      <td>120.000000</td>\n",
              "      <td>2001.000000</td>\n",
              "      <td>2.000000</td>\n",
              "      <td>4.000000</td>\n",
              "      <td>10022.000000</td>\n",
              "      <td>18.000000</td>\n",
              "      <td>4800.000000</td>\n",
              "      <td>1.000000</td>\n",
              "      <td>NaN</td>\n",
              "      <td>...</td>\n",
              "      <td>0.000000</td>\n",
              "      <td>0.000000e+00</td>\n",
              "      <td>2.000000</td>\n",
              "      <td>1.000000</td>\n",
              "      <td>13.000000</td>\n",
              "      <td>54.000000</td>\n",
              "      <td>63.000000</td>\n",
              "      <td>102.000000</td>\n",
              "      <td>111.790000</td>\n",
              "      <td>100.000000</td>\n",
              "      <td>100.00000</td>\n",
              "      <td>2.000000</td>\n",
              "      <td>3.000000</td>\n",
              "      <td>2.000000</td>\n",
              "      <td>2.065500e+06</td>\n",
              "      <td>1.276875e+07</td>\n",
              "      <td>0.000000e+00</td>\n",
              "      <td>1.715000e+04</td>\n",
              "      <td>1929.000000</td>\n",
              "      <td>1979.000000</td>\n",
              "      <td>0.000000</td>\n",
              "      <td>10.305000</td>\n",
              "      <td>7.520000</td>\n",
              "      <td>2.000000</td>\n",
              "      <td>10.000000</td>\n",
              "      <td>1.0</td>\n",
              "      <td>1.012338e+09</td>\n",
              "      <td>0.000000</td>\n",
              "      <td>131.000000</td>\n",
              "      <td>9.907120e+05</td>\n",
              "      <td>217266.000000</td>\n",
              "      <td>0.000000e+00</td>\n",
              "      <td>NaN</td>\n",
              "      <td>1.000000</td>\n",
              "      <td>6.000000</td>\n",
              "      <td>15.000000</td>\n",
              "      <td>1.0</td>\n",
              "      <td>1.0</td>\n",
              "      <td>NaN</td>\n",
              "      <td>NaN</td>\n",
              "    </tr>\n",
              "    <tr>\n",
              "      <th>75%</th>\n",
              "      <td>4753.500000</td>\n",
              "      <td>4.403228e+06</td>\n",
              "      <td>1.015140e+09</td>\n",
              "      <td>602.000000</td>\n",
              "      <td>2.173010e+05</td>\n",
              "      <td>2.094305e+05</td>\n",
              "      <td>1969.000000</td>\n",
              "      <td>1.000000</td>\n",
              "      <td>100.000000</td>\n",
              "      <td>84.000000</td>\n",
              "      <td>98.500000</td>\n",
              "      <td>102.000000</td>\n",
              "      <td>12.500000</td>\n",
              "      <td>0.600000</td>\n",
              "      <td>188.100000</td>\n",
              "      <td>7.425709e+06</td>\n",
              "      <td>1.320800e+03</td>\n",
              "      <td>456.050000</td>\n",
              "      <td>8.170750e+02</td>\n",
              "      <td>2.186360e+05</td>\n",
              "      <td>8.365825e+03</td>\n",
              "      <td>53.810000</td>\n",
              "      <td>186.300000</td>\n",
              "      <td>40.786435</td>\n",
              "      <td>-73.959181</td>\n",
              "      <td>8.000000</td>\n",
              "      <td>6.000000</td>\n",
              "      <td>216.000000</td>\n",
              "      <td>1514.000000</td>\n",
              "      <td>147.000000</td>\n",
              "      <td>108.000000</td>\n",
              "      <td>169.000000</td>\n",
              "      <td>3005.000000</td>\n",
              "      <td>3.000000</td>\n",
              "      <td>6.000000</td>\n",
              "      <td>10031.000000</td>\n",
              "      <td>20.000000</td>\n",
              "      <td>5500.000000</td>\n",
              "      <td>1.000000</td>\n",
              "      <td>NaN</td>\n",
              "      <td>...</td>\n",
              "      <td>0.000000</td>\n",
              "      <td>0.000000e+00</td>\n",
              "      <td>2.000000</td>\n",
              "      <td>1.000000</td>\n",
              "      <td>19.000000</td>\n",
              "      <td>108.000000</td>\n",
              "      <td>119.000000</td>\n",
              "      <td>151.580000</td>\n",
              "      <td>172.420000</td>\n",
              "      <td>135.915000</td>\n",
              "      <td>144.83500</td>\n",
              "      <td>3.000000</td>\n",
              "      <td>5.000000</td>\n",
              "      <td>2.000000</td>\n",
              "      <td>4.635000e+06</td>\n",
              "      <td>2.645415e+07</td>\n",
              "      <td>1.641275e+05</td>\n",
              "      <td>4.642695e+05</td>\n",
              "      <td>1965.000000</td>\n",
              "      <td>1988.000000</td>\n",
              "      <td>0.000000</td>\n",
              "      <td>13.337500</td>\n",
              "      <td>10.000000</td>\n",
              "      <td>10.000000</td>\n",
              "      <td>10.000000</td>\n",
              "      <td>1.0</td>\n",
              "      <td>1.015144e+09</td>\n",
              "      <td>0.000000</td>\n",
              "      <td>216.000000</td>\n",
              "      <td>9.956145e+05</td>\n",
              "      <td>225822.500000</td>\n",
              "      <td>1.002270e+09</td>\n",
              "      <td>NaN</td>\n",
              "      <td>1.000000</td>\n",
              "      <td>8.000000</td>\n",
              "      <td>15.000000</td>\n",
              "      <td>1.0</td>\n",
              "      <td>1.0</td>\n",
              "      <td>NaN</td>\n",
              "      <td>NaN</td>\n",
              "    </tr>\n",
              "    <tr>\n",
              "      <th>max</th>\n",
              "      <td>6382.000000</td>\n",
              "      <td>5.990852e+06</td>\n",
              "      <td>1.022500e+09</td>\n",
              "      <td>76179.000000</td>\n",
              "      <td>8.942176e+06</td>\n",
              "      <td>8.942176e+06</td>\n",
              "      <td>2016.000000</td>\n",
              "      <td>35.000000</td>\n",
              "      <td>100.000000</td>\n",
              "      <td>100.000000</td>\n",
              "      <td>126307.400000</td>\n",
              "      <td>126307.400000</td>\n",
              "      <td>4074.900000</td>\n",
              "      <td>131.000000</td>\n",
              "      <td>152001.300000</td>\n",
              "      <td>1.037256e+09</td>\n",
              "      <td>4.764456e+06</td>\n",
              "      <td>83372.900000</td>\n",
              "      <td>4.764375e+06</td>\n",
              "      <td>8.942176e+06</td>\n",
              "      <td>6.376003e+06</td>\n",
              "      <td>57699.300000</td>\n",
              "      <td>152001.300000</td>\n",
              "      <td>40.877739</td>\n",
              "      <td>-73.907962</td>\n",
              "      <td>12.000000</td>\n",
              "      <td>10.000000</td>\n",
              "      <td>31704.000000</td>\n",
              "      <td>2250.000000</td>\n",
              "      <td>9024.000000</td>\n",
              "      <td>208.000000</td>\n",
              "      <td>317.040000</td>\n",
              "      <td>9000.000000</td>\n",
              "      <td>10.000000</td>\n",
              "      <td>10.000000</td>\n",
              "      <td>10463.000000</td>\n",
              "      <td>114.000000</td>\n",
              "      <td>9100.000000</td>\n",
              "      <td>2.000000</td>\n",
              "      <td>NaN</td>\n",
              "      <td>...</td>\n",
              "      <td>795335.000000</td>\n",
              "      <td>3.693539e+06</td>\n",
              "      <td>7.000000</td>\n",
              "      <td>38.000000</td>\n",
              "      <td>78.000000</td>\n",
              "      <td>8764.000000</td>\n",
              "      <td>8812.000000</td>\n",
              "      <td>1849.000000</td>\n",
              "      <td>2023.000000</td>\n",
              "      <td>7538.000000</td>\n",
              "      <td>9388.00000</td>\n",
              "      <td>3.000000</td>\n",
              "      <td>9.000000</td>\n",
              "      <td>5.000000</td>\n",
              "      <td>1.970424e+08</td>\n",
              "      <td>8.743648e+08</td>\n",
              "      <td>1.687136e+08</td>\n",
              "      <td>8.722462e+08</td>\n",
              "      <td>2014.000000</td>\n",
              "      <td>2017.000000</td>\n",
              "      <td>2018.000000</td>\n",
              "      <td>48.080000</td>\n",
              "      <td>10.000000</td>\n",
              "      <td>15.000000</td>\n",
              "      <td>15.000000</td>\n",
              "      <td>1.0</td>\n",
              "      <td>1.022500e+09</td>\n",
              "      <td>2681.000000</td>\n",
              "      <td>31704.000000</td>\n",
              "      <td>1.009547e+06</td>\n",
              "      <td>259272.000000</td>\n",
              "      <td>1.022260e+09</td>\n",
              "      <td>NaN</td>\n",
              "      <td>2.000000</td>\n",
              "      <td>12.000000</td>\n",
              "      <td>17.000000</td>\n",
              "      <td>1.0</td>\n",
              "      <td>1.0</td>\n",
              "      <td>NaN</td>\n",
              "      <td>NaN</td>\n",
              "    </tr>\n",
              "  </tbody>\n",
              "</table>\n",
              "<p>8 rows × 90 columns</p>\n",
              "</div>"
            ],
            "text/plain": [
              "             Order   Property Id  ...  masdate  polidate\n",
              "count  4619.000000  4.619000e+03  ...      0.0       0.0\n",
              "mean   3336.994371  3.528814e+06  ...      NaN       NaN\n",
              "std    1716.322156  1.070047e+06  ...      NaN       NaN\n",
              "min       1.000000  7.365000e+03  ...      NaN       NaN\n",
              "25%    1909.500000  2.683360e+06  ...      NaN       NaN\n",
              "50%    3367.000000  3.107671e+06  ...      NaN       NaN\n",
              "75%    4753.500000  4.403228e+06  ...      NaN       NaN\n",
              "max    6382.000000  5.990852e+06  ...      NaN       NaN\n",
              "\n",
              "[8 rows x 90 columns]"
            ]
          },
          "metadata": {
            "tags": []
          },
          "execution_count": 132
        }
      ]
    },
    {
      "cell_type": "markdown",
      "metadata": {
        "id": "vMDOfS6nY5YQ",
        "colab_type": "text"
      },
      "source": [
        "## Analysis: Owner investigation \n",
        "### Find owner of the single most energy consuming building\n",
        "\n",
        "**Find owner of the single most energy consuming building**, as measured by the \"Site Weather Normalized EUI per unit area \". \n",
        "\n",
        "**Find all the buildings that they own.**\n",
        "\n",
        "\n",
        "show the weather-normalized site energy consumption and the owner name for the top 30 consuming buildings in Manhattan"
      ]
    },
    {
      "cell_type": "code",
      "metadata": {
        "ExecuteTime": {
          "end_time": "2019-09-24T22:24:04.373223Z",
          "start_time": "2019-09-24T22:24:02.243879Z"
        },
        "id": "UIeUM0QLY5YS",
        "colab_type": "code",
        "colab": {
          "base_uri": "https://localhost:8080/",
          "height": 1000
        },
        "outputId": "80e66380-c5f1-41c2-b373-a27f79ff0536"
      },
      "source": [
        "#delete\n",
        "# -- sort by WN Site EUI and print owners of top 10 energy consumers\n",
        "ll84pl.sort_values(wnec, ascending=False)[[wnec, \"ownername\"]][:30]"
      ],
      "execution_count": 108,
      "outputs": [
        {
          "output_type": "execute_result",
          "data": {
            "text/html": [
              "<div>\n",
              "<style scoped>\n",
              "    .dataframe tbody tr th:only-of-type {\n",
              "        vertical-align: middle;\n",
              "    }\n",
              "\n",
              "    .dataframe tbody tr th {\n",
              "        vertical-align: top;\n",
              "    }\n",
              "\n",
              "    .dataframe thead th {\n",
              "        text-align: right;\n",
              "    }\n",
              "</style>\n",
              "<table border=\"1\" class=\"dataframe\">\n",
              "  <thead>\n",
              "    <tr style=\"text-align: right;\">\n",
              "      <th></th>\n",
              "      <th>Weather Normalized Site EUI (kBtu/ft²)</th>\n",
              "      <th>ownername</th>\n",
              "    </tr>\n",
              "  </thead>\n",
              "  <tbody>\n",
              "    <tr>\n",
              "      <th>3606</th>\n",
              "      <td>126307.4</td>\n",
              "      <td>ST MARYS HOME FOR GIR</td>\n",
              "    </tr>\n",
              "    <tr>\n",
              "      <th>2972</th>\n",
              "      <td>88701.1</td>\n",
              "      <td>ROLEX RLTY CO INC</td>\n",
              "    </tr>\n",
              "    <tr>\n",
              "      <th>3092</th>\n",
              "      <td>77493.8</td>\n",
              "      <td>950 THIRD AVENUE LLC</td>\n",
              "    </tr>\n",
              "    <tr>\n",
              "      <th>2882</th>\n",
              "      <td>57361.3</td>\n",
              "      <td>58 WEST 58TH UNITS,</td>\n",
              "    </tr>\n",
              "    <tr>\n",
              "      <th>1979</th>\n",
              "      <td>54748.3</td>\n",
              "      <td>ANTHONY PAUL GIORGIO</td>\n",
              "    </tr>\n",
              "    <tr>\n",
              "      <th>2879</th>\n",
              "      <td>51697.6</td>\n",
              "      <td>SOLOVIEFF REALTY CO.</td>\n",
              "    </tr>\n",
              "    <tr>\n",
              "      <th>2848</th>\n",
              "      <td>50621.4</td>\n",
              "      <td></td>\n",
              "    </tr>\n",
              "    <tr>\n",
              "      <th>3082</th>\n",
              "      <td>49620.8</td>\n",
              "      <td>136 E 56TH ST OWNERS</td>\n",
              "    </tr>\n",
              "    <tr>\n",
              "      <th>2974</th>\n",
              "      <td>32268.7</td>\n",
              "      <td>MIKEONE EK EAST 53, L</td>\n",
              "    </tr>\n",
              "    <tr>\n",
              "      <th>1872</th>\n",
              "      <td>31552.6</td>\n",
              "      <td>THE ABBEY CONDOMINIUM</td>\n",
              "    </tr>\n",
              "    <tr>\n",
              "      <th>1320</th>\n",
              "      <td>28679.2</td>\n",
              "      <td>GADOL 45 OWNER, LLC</td>\n",
              "    </tr>\n",
              "    <tr>\n",
              "      <th>1002</th>\n",
              "      <td>23462.9</td>\n",
              "      <td>OVERTIME PROPERTIES L</td>\n",
              "    </tr>\n",
              "    <tr>\n",
              "      <th>2872</th>\n",
              "      <td>22258.2</td>\n",
              "      <td>10 WEST 57TH STREET R</td>\n",
              "    </tr>\n",
              "    <tr>\n",
              "      <th>293</th>\n",
              "      <td>20504.8</td>\n",
              "      <td>75 MAIDEN LANE,LLC</td>\n",
              "    </tr>\n",
              "    <tr>\n",
              "      <th>1968</th>\n",
              "      <td>20376.6</td>\n",
              "      <td>DEVON CONDOMINIUM</td>\n",
              "    </tr>\n",
              "    <tr>\n",
              "      <th>275</th>\n",
              "      <td>19643.4</td>\n",
              "      <td>123 WASHINGTON LLC</td>\n",
              "    </tr>\n",
              "    <tr>\n",
              "      <th>981</th>\n",
              "      <td>19455.7</td>\n",
              "      <td>ONE CITY BLOCK LLC</td>\n",
              "    </tr>\n",
              "    <tr>\n",
              "      <th>2019</th>\n",
              "      <td>13979.2</td>\n",
              "      <td>157 WEST 47TH STREET</td>\n",
              "    </tr>\n",
              "    <tr>\n",
              "      <th>3373</th>\n",
              "      <td>13144.6</td>\n",
              "      <td>FIFTH AVE AND 66 ST C</td>\n",
              "    </tr>\n",
              "    <tr>\n",
              "      <th>81</th>\n",
              "      <td>9958.6</td>\n",
              "      <td>NEW YORK UNIVERSITY</td>\n",
              "    </tr>\n",
              "    <tr>\n",
              "      <th>3015</th>\n",
              "      <td>8311.8</td>\n",
              "      <td>PPF OFF 500 PARK AVEN</td>\n",
              "    </tr>\n",
              "    <tr>\n",
              "      <th>2082</th>\n",
              "      <td>5447.6</td>\n",
              "      <td>WESTIN HOTEL</td>\n",
              "    </tr>\n",
              "    <tr>\n",
              "      <th>29</th>\n",
              "      <td>4377.4</td>\n",
              "      <td>COLUMBIA UNIVERSITY</td>\n",
              "    </tr>\n",
              "    <tr>\n",
              "      <th>3754</th>\n",
              "      <td>981.0</td>\n",
              "      <td>SOCIETY FOR RUPTURED</td>\n",
              "    </tr>\n",
              "    <tr>\n",
              "      <th>1592</th>\n",
              "      <td>937.2</td>\n",
              "      <td>22 PARK SOUTH,</td>\n",
              "    </tr>\n",
              "    <tr>\n",
              "      <th>1786</th>\n",
              "      <td>927.4</td>\n",
              "      <td>373-381 PAS ASSOCIATE</td>\n",
              "    </tr>\n",
              "    <tr>\n",
              "      <th>1588</th>\n",
              "      <td>825.2</td>\n",
              "      <td></td>\n",
              "    </tr>\n",
              "    <tr>\n",
              "      <th>148</th>\n",
              "      <td>612.9</td>\n",
              "      <td>BETH ISRAEL HOSPITAL</td>\n",
              "    </tr>\n",
              "    <tr>\n",
              "      <th>3595</th>\n",
              "      <td>590.9</td>\n",
              "      <td>RCC 304 E. 72 OWNERSH</td>\n",
              "    </tr>\n",
              "    <tr>\n",
              "      <th>61</th>\n",
              "      <td>555.8</td>\n",
              "      <td>COLUMBIA UNVSY CTY NY</td>\n",
              "    </tr>\n",
              "  </tbody>\n",
              "</table>\n",
              "</div>"
            ],
            "text/plain": [
              "      Weather Normalized Site EUI (kBtu/ft²)              ownername\n",
              "3606                                126307.4  ST MARYS HOME FOR GIR\n",
              "2972                                 88701.1      ROLEX RLTY CO INC\n",
              "3092                                 77493.8   950 THIRD AVENUE LLC\n",
              "2882                                 57361.3    58 WEST 58TH UNITS,\n",
              "1979                                 54748.3   ANTHONY PAUL GIORGIO\n",
              "2879                                 51697.6   SOLOVIEFF REALTY CO.\n",
              "2848                                 50621.4                       \n",
              "3082                                 49620.8   136 E 56TH ST OWNERS\n",
              "2974                                 32268.7  MIKEONE EK EAST 53, L\n",
              "1872                                 31552.6  THE ABBEY CONDOMINIUM\n",
              "1320                                 28679.2    GADOL 45 OWNER, LLC\n",
              "1002                                 23462.9  OVERTIME PROPERTIES L\n",
              "2872                                 22258.2  10 WEST 57TH STREET R\n",
              "293                                  20504.8     75 MAIDEN LANE,LLC\n",
              "1968                                 20376.6      DEVON CONDOMINIUM\n",
              "275                                  19643.4     123 WASHINGTON LLC\n",
              "981                                  19455.7     ONE CITY BLOCK LLC\n",
              "2019                                 13979.2   157 WEST 47TH STREET\n",
              "3373                                 13144.6  FIFTH AVE AND 66 ST C\n",
              "81                                    9958.6    NEW YORK UNIVERSITY\n",
              "3015                                  8311.8  PPF OFF 500 PARK AVEN\n",
              "2082                                  5447.6           WESTIN HOTEL\n",
              "29                                    4377.4    COLUMBIA UNIVERSITY\n",
              "3754                                   981.0   SOCIETY FOR RUPTURED\n",
              "1592                                   937.2         22 PARK SOUTH,\n",
              "1786                                   927.4  373-381 PAS ASSOCIATE\n",
              "1588                                   825.2                       \n",
              "148                                    612.9   BETH ISRAEL HOSPITAL\n",
              "3595                                   590.9  RCC 304 E. 72 OWNERSH\n",
              "61                                     555.8  COLUMBIA UNVSY CTY NY"
            ]
          },
          "metadata": {
            "tags": []
          },
          "execution_count": 108
        }
      ]
    },
    {
      "cell_type": "code",
      "metadata": {
        "ExecuteTime": {
          "end_time": "2019-09-25T02:43:50.733235Z",
          "start_time": "2019-09-25T02:43:49.434029Z"
        },
        "id": "O2xJwpplY5YW",
        "colab_type": "code",
        "colab": {}
      },
      "source": [
        "#delete\n",
        "highest1build = ll84pl.sort_values(wnec, \n",
        "                ascending=False)[[wnec, \"ownername\"]].ownername.values[0]"
      ],
      "execution_count": 0,
      "outputs": []
    },
    {
      "cell_type": "code",
      "metadata": {
        "id": "l3dF3RQowmJ4",
        "colab_type": "code",
        "colab": {
          "base_uri": "https://localhost:8080/",
          "height": 34
        },
        "outputId": "b6695264-4ec1-46ce-864d-ed7602fe7915"
      },
      "source": [
        "print(\"Owner of the hisghest consuming building:...\", \n",
        "      \"They own ... buildings\")"
      ],
      "execution_count": 134,
      "outputs": [
        {
          "output_type": "stream",
          "text": [
            "Owner of the hisghest consuming building:... They own ... buildings\n"
          ],
          "name": "stdout"
        }
      ]
    },
    {
      "cell_type": "code",
      "metadata": {
        "ExecuteTime": {
          "end_time": "2019-09-25T02:44:35.783278Z",
          "start_time": "2019-09-25T02:44:35.769569Z"
        },
        "colab_type": "code",
        "id": "iVyQ2XIaVBft",
        "colab": {
          "base_uri": "https://localhost:8080/",
          "height": 54
        },
        "outputId": "47573bf0-65f6-428e-a974-c212fda08110"
      },
      "source": [
        "#delete\n",
        "print(\"Owner of the hisghest consuming building:\",\n",
        "      ll84pl[ll84pl.ownername == highest1build][\"Property Name\"].values[0])"
      ],
      "execution_count": 110,
      "outputs": [
        {
          "output_type": "stream",
          "text": [
            "Owner of the hisghest consuming building: St. Mary's Home for Working Girls\n"
          ],
          "name": "stdout"
        }
      ]
    },
    {
      "cell_type": "code",
      "metadata": {
        "ExecuteTime": {
          "end_time": "2019-09-25T02:44:43.883091Z",
          "start_time": "2019-09-25T02:44:43.297611Z"
        },
        "colab_type": "code",
        "id": "72nDBkmTXa2T",
        "outputId": "a28550f6-9ad5-403c-9408-f7dbec795bf2",
        "colab": {
          "base_uri": "https://localhost:8080/",
          "height": 34
        }
      },
      "source": [
        "#delete\n",
        "print(\"They own {} buildings\".format((\n",
        "    ll84pl.ownername == ll84pl[ll84pl.ownername == \n",
        "                        highest1build][\"ownername\"].values[0]).sum()))\n"
      ],
      "execution_count": 111,
      "outputs": [
        {
          "output_type": "stream",
          "text": [
            "They own 1 buildings\n"
          ],
          "name": "stdout"
        }
      ]
    },
    {
      "cell_type": "markdown",
      "metadata": {
        "ExecuteTime": {
          "end_time": "2019-09-24T18:40:17.239813Z",
          "start_time": "2019-09-24T18:40:17.235991Z"
        },
        "id": "0m4jRavdY5Yh",
        "colab_type": "text"
      },
      "source": [
        "### Find average building consumption by owner \n",
        "For all owners that own more than one building, find the average consumption for buildings owned by the same owner. Your dataframe should have 2 columns called _Weather Normalized Site EUI (kBtu/ft²)_\tand _counts_\n",
        "\n",
        "**Who owns the most energy consuming buildings on average?**\n",
        "\n",
        "**Who owns the most buildings**"
      ]
    },
    {
      "cell_type": "code",
      "metadata": {
        "ExecuteTime": {
          "end_time": "2019-09-25T02:54:29.408895Z",
          "start_time": "2019-09-25T02:54:29.274097Z"
        },
        "colab_type": "code",
        "id": "iA--U55dKuM6",
        "outputId": "ae4cfe2d-af37-484f-af16-88734f52debb",
        "colab": {
          "base_uri": "https://localhost:8080/",
          "height": 424
        }
      },
      "source": [
        "#delete\n",
        "ll84plgroup = ll84pl[[wnec, \"ownername\"]].groupby(\"ownername\")\n",
        "ll84plgroup.count() > 1\n",
        "ll84groupedByOwner = ll84plgroup.mean()[ll84plgroup.count() > 1].dropna(\n",
        "            ).sort_values(by=wnec, ascending=False).merge(\n",
        "                ll84plgroup.count()[ll84plgroup.count() > 1].dropna(\n",
        "            ), left_index=True, right_index=True).rename(\n",
        "columns = {wnec+\"_x\" : wnec, wnec+\"_y\" : \"counts\"})\n",
        "ll84groupedByOwner[:10]"
      ],
      "execution_count": 112,
      "outputs": [
        {
          "output_type": "execute_result",
          "data": {
            "text/html": [
              "<div>\n",
              "<style scoped>\n",
              "    .dataframe tbody tr th:only-of-type {\n",
              "        vertical-align: middle;\n",
              "    }\n",
              "\n",
              "    .dataframe tbody tr th {\n",
              "        vertical-align: top;\n",
              "    }\n",
              "\n",
              "    .dataframe thead th {\n",
              "        text-align: right;\n",
              "    }\n",
              "</style>\n",
              "<table border=\"1\" class=\"dataframe\">\n",
              "  <thead>\n",
              "    <tr style=\"text-align: right;\">\n",
              "      <th></th>\n",
              "      <th>Weather Normalized Site EUI (kBtu/ft²)</th>\n",
              "      <th>counts</th>\n",
              "    </tr>\n",
              "    <tr>\n",
              "      <th>ownername</th>\n",
              "      <th></th>\n",
              "      <th></th>\n",
              "    </tr>\n",
              "  </thead>\n",
              "  <tbody>\n",
              "    <tr>\n",
              "      <th>COLUMBIA UNIVERSITY</th>\n",
              "      <td>1459.233333</td>\n",
              "      <td>3.0</td>\n",
              "    </tr>\n",
              "    <tr>\n",
              "      <th>373-381 PAS ASSOCIATE</th>\n",
              "      <td>684.350000</td>\n",
              "      <td>2.0</td>\n",
              "    </tr>\n",
              "    <tr>\n",
              "      <th>MOUNT SINAI HOSPITAL</th>\n",
              "      <td>382.000000</td>\n",
              "      <td>2.0</td>\n",
              "    </tr>\n",
              "    <tr>\n",
              "      <th>PRESBYTERIAN HSP CITY</th>\n",
              "      <td>332.650000</td>\n",
              "      <td>2.0</td>\n",
              "    </tr>\n",
              "    <tr>\n",
              "      <th>BETH ISRAEL HOSPITAL</th>\n",
              "      <td>330.300000</td>\n",
              "      <td>2.0</td>\n",
              "    </tr>\n",
              "    <tr>\n",
              "      <th>NEW YORK UNIVERSITY</th>\n",
              "      <td>280.207143</td>\n",
              "      <td>42.0</td>\n",
              "    </tr>\n",
              "    <tr>\n",
              "      <th>78/79 YORK ASSOCIATES</th>\n",
              "      <td>256.900000</td>\n",
              "      <td>3.0</td>\n",
              "    </tr>\n",
              "    <tr>\n",
              "      <th>MEMORIAL SLOAN-KETTER</th>\n",
              "      <td>244.200000</td>\n",
              "      <td>2.0</td>\n",
              "    </tr>\n",
              "    <tr>\n",
              "      <th>THE ANIMAL MEDICAL CE</th>\n",
              "      <td>227.450000</td>\n",
              "      <td>2.0</td>\n",
              "    </tr>\n",
              "    <tr>\n",
              "      <th>MOUNT SINAI SCHOOL ET</th>\n",
              "      <td>202.200000</td>\n",
              "      <td>2.0</td>\n",
              "    </tr>\n",
              "  </tbody>\n",
              "</table>\n",
              "</div>"
            ],
            "text/plain": [
              "                       Weather Normalized Site EUI (kBtu/ft²)  counts\n",
              "ownername                                                            \n",
              "COLUMBIA UNIVERSITY                               1459.233333     3.0\n",
              "373-381 PAS ASSOCIATE                              684.350000     2.0\n",
              "MOUNT SINAI HOSPITAL                               382.000000     2.0\n",
              "PRESBYTERIAN HSP CITY                              332.650000     2.0\n",
              "BETH ISRAEL HOSPITAL                               330.300000     2.0\n",
              "NEW YORK UNIVERSITY                                280.207143    42.0\n",
              "78/79 YORK ASSOCIATES                              256.900000     3.0\n",
              "MEMORIAL SLOAN-KETTER                              244.200000     2.0\n",
              "THE ANIMAL MEDICAL CE                              227.450000     2.0\n",
              "MOUNT SINAI SCHOOL ET                              202.200000     2.0"
            ]
          },
          "metadata": {
            "tags": []
          },
          "execution_count": 112
        }
      ]
    },
    {
      "cell_type": "code",
      "metadata": {
        "ExecuteTime": {
          "end_time": "2019-09-25T02:54:59.103431Z",
          "start_time": "2019-09-25T02:54:59.084783Z"
        },
        "id": "UpU5VasNY5Yj",
        "colab_type": "code",
        "colab": {
          "base_uri": "https://localhost:8080/",
          "height": 458
        },
        "outputId": "705d3b0c-968b-49af-8e14-e1dfad4adf0a"
      },
      "source": [
        "#delete\n",
        "ll84groupedByOwner.sort_values(\"counts\", ascending=False)[:10]"
      ],
      "execution_count": 113,
      "outputs": [
        {
          "output_type": "execute_result",
          "data": {
            "text/html": [
              "<div>\n",
              "<style scoped>\n",
              "    .dataframe tbody tr th:only-of-type {\n",
              "        vertical-align: middle;\n",
              "    }\n",
              "\n",
              "    .dataframe tbody tr th {\n",
              "        vertical-align: top;\n",
              "    }\n",
              "\n",
              "    .dataframe thead th {\n",
              "        text-align: right;\n",
              "    }\n",
              "</style>\n",
              "<table border=\"1\" class=\"dataframe\">\n",
              "  <thead>\n",
              "    <tr style=\"text-align: right;\">\n",
              "      <th></th>\n",
              "      <th>Weather Normalized Site EUI (kBtu/ft²)</th>\n",
              "      <th>counts</th>\n",
              "    </tr>\n",
              "    <tr>\n",
              "      <th>ownername</th>\n",
              "      <th></th>\n",
              "      <th></th>\n",
              "    </tr>\n",
              "  </thead>\n",
              "  <tbody>\n",
              "    <tr>\n",
              "      <th></th>\n",
              "      <td>195.878099</td>\n",
              "      <td>484.0</td>\n",
              "    </tr>\n",
              "    <tr>\n",
              "      <th>TRUSTEES OF COLUMBIA</th>\n",
              "      <td>43.086667</td>\n",
              "      <td>45.0</td>\n",
              "    </tr>\n",
              "    <tr>\n",
              "      <th>OWNER / AGENT</th>\n",
              "      <td>85.558140</td>\n",
              "      <td>43.0</td>\n",
              "    </tr>\n",
              "    <tr>\n",
              "      <th>NEW YORK UNIVERSITY</th>\n",
              "      <td>280.207143</td>\n",
              "      <td>42.0</td>\n",
              "    </tr>\n",
              "    <tr>\n",
              "      <th>ROYAL CHARTER PROPERT</th>\n",
              "      <td>50.854545</td>\n",
              "      <td>11.0</td>\n",
              "    </tr>\n",
              "    <tr>\n",
              "      <th>DUNBAR OWNER LLC</th>\n",
              "      <td>121.285714</td>\n",
              "      <td>7.0</td>\n",
              "    </tr>\n",
              "    <tr>\n",
              "      <th>THE TRUSTEES OF COLUM</th>\n",
              "      <td>57.728571</td>\n",
              "      <td>7.0</td>\n",
              "    </tr>\n",
              "    <tr>\n",
              "      <th>AKAM ASSOCIATES</th>\n",
              "      <td>83.083333</td>\n",
              "      <td>6.0</td>\n",
              "    </tr>\n",
              "    <tr>\n",
              "      <th>YESHIVA UNIVERSITY</th>\n",
              "      <td>123.250000</td>\n",
              "      <td>6.0</td>\n",
              "    </tr>\n",
              "    <tr>\n",
              "      <th>MSMC RESIDENTIAL REAL</th>\n",
              "      <td>78.583333</td>\n",
              "      <td>6.0</td>\n",
              "    </tr>\n",
              "  </tbody>\n",
              "</table>\n",
              "</div>"
            ],
            "text/plain": [
              "                       Weather Normalized Site EUI (kBtu/ft²)  counts\n",
              "ownername                                                            \n",
              "                                                   195.878099   484.0\n",
              "TRUSTEES OF COLUMBIA                                43.086667    45.0\n",
              "OWNER / AGENT                                       85.558140    43.0\n",
              "NEW YORK UNIVERSITY                                280.207143    42.0\n",
              "ROYAL CHARTER PROPERT                               50.854545    11.0\n",
              "DUNBAR OWNER LLC                                   121.285714     7.0\n",
              "THE TRUSTEES OF COLUM                               57.728571     7.0\n",
              "AKAM ASSOCIATES                                     83.083333     6.0\n",
              "YESHIVA UNIVERSITY                                 123.250000     6.0\n",
              "MSMC RESIDENTIAL REAL                               78.583333     6.0"
            ]
          },
          "metadata": {
            "tags": []
          },
          "execution_count": 113
        }
      ]
    },
    {
      "cell_type": "code",
      "metadata": {
        "ExecuteTime": {
          "end_time": "2019-09-25T02:55:54.355929Z",
          "start_time": "2019-09-25T02:55:54.320583Z"
        },
        "id": "Vd3p3Wm0Y5Yk",
        "colab_type": "code",
        "colab": {
          "base_uri": "https://localhost:8080/",
          "height": 54
        },
        "outputId": "0ea97678-b002-46c5-bb3a-3353e8928c9f"
      },
      "source": [
        "#delete\n",
        "print(\"{} owns the buildings that on average consume the most\".format(ll84groupedByOwner.index[0]))"
      ],
      "execution_count": 114,
      "outputs": [
        {
          "output_type": "stream",
          "text": [
            "COLUMBIA UNIVERSITY owns the buildings that on average consume the most\n"
          ],
          "name": "stdout"
        }
      ]
    },
    {
      "cell_type": "code",
      "metadata": {
        "ExecuteTime": {
          "end_time": "2019-09-25T03:05:42.039430Z",
          "start_time": "2019-09-25T03:05:41.996127Z"
        },
        "id": "qTQ7_WJkY5Yn",
        "colab_type": "code",
        "colab": {
          "base_uri": "https://localhost:8080/",
          "height": 34
        },
        "outputId": "c4408ddf-bd7c-4724-8bad-8efdaa5e4166"
      },
      "source": [
        "#delete\n",
        "print(\"{} owns the most buildings ({})\".format(\n",
        "    ll84groupedByOwner.sort_values(\"counts\", ascending=False).index[1],\n",
        "     ll84groupedByOwner.sort_values(\"counts\", ascending=False).iloc[1][\"counts\"]))"
      ],
      "execution_count": 126,
      "outputs": [
        {
          "output_type": "stream",
          "text": [
            "COLUMBIA owns the most buildings (63.0)\n"
          ],
          "name": "stdout"
        }
      ]
    },
    {
      "cell_type": "markdown",
      "metadata": {
        "id": "Y9amLZSHxC26",
        "colab_type": "text"
      },
      "source": [
        "# 667 and EC\n",
        "\n",
        "Universities are big realtorn in NYC. The may own by different names. Find all builgings owned by NYU and COLUMBIA. replace the ownename with NYU and COLUMBIA respectively and re-aggregate the data based on these names and again find the owner of the buildings that pon average consume the most, of the highest number of buildings, and that owns the most sq footage "
      ]
    },
    {
      "cell_type": "code",
      "metadata": {
        "id": "dzZcBywJri7z",
        "colab_type": "code",
        "colab": {}
      },
      "source": [
        "#delete\n",
        "replacelist = [c for c in set(ll84pl.ownername.dropna().values) if \"COLUM\" in c \n",
        "               or \"Colum\" in c]\n",
        "ll84plr = ll84pl.replace(replacelist, \"COLUMBIA\")\n",
        "replacelist = [c for c in set(ll84pl.ownername.dropna().values) if \"NYU\" in c or \n",
        "               \"NEW YORK UNI\"]\n",
        "ll83plr = ll84plr.replace(replacelist, \"NYU\")\n",
        "\n"
      ],
      "execution_count": 0,
      "outputs": []
    },
    {
      "cell_type": "code",
      "metadata": {
        "id": "UXaIZmPUyhQ5",
        "colab_type": "code",
        "colab": {
          "base_uri": "https://localhost:8080/",
          "height": 88
        },
        "outputId": "47e3a17e-e5c8-4877-cfe9-d4d414ca71da"
      },
      "source": [
        "#delete\n",
        "ll84plgroup = ll84plr[\n",
        "    [wnec, \"ownername\"]].groupby(\"ownername\")\n",
        "ll84plgroup.count() > 1\n",
        "ll84groupedByOwner = ll84plgroup.mean()[ll84plgroup.count() > 1].dropna(\n",
        "            ).sort_values(by=wnec, ascending=False).merge(\n",
        "                ll84plgroup.count()[ll84plgroup.count() > 1].dropna(\n",
        "            ), left_index=True, right_index=True).rename(\n",
        "columns = {wnec+\"_x\" : wnec, wnec+\"_y\" : \"counts\"})\n",
        "print(\"{} owns the buildings that on average consume the most\".format(ll84groupedByOwner.index[0]))\n",
        "print(\"{} owns the most buildings\".format(ll84groupedByOwner.sort_values(\"counts\", ascending=False).index[1]))\n",
        "\n",
        "ll84plgroup = ll84plr[\n",
        "    [\"bldgarea\", \"ownername\"]].groupby(\"ownername\")\n",
        "ll84plgroup.count() > 1\n",
        "ll84groupedByOwner = ll84plgroup.mean().dropna(\n",
        "            ).sort_values(by=\"bldgarea\", ascending=False)\n",
        "print(\"{} owns the most area\".format(ll84groupedByOwner.sort_values(\"bldgarea\", \n",
        "                                                    ascending=False).index[1]))\n"
      ],
      "execution_count": 147,
      "outputs": [
        {
          "output_type": "stream",
          "text": [
            "373-381 PAS ASSOCIATE owns the buildings that on average consume the most\n",
            "COLUMBIA owns the most buildings\n",
            "PRESBYTERIAN HSP CITY owns the most area\n"
          ],
          "name": "stdout"
        }
      ]
    }
  ]
}