{
  "nbformat": 4,
  "nbformat_minor": 0,
  "metadata": {
    "colab": {
      "name": "lineFitLab.ipynb",
      "provenance": [],
      "include_colab_link": true
    },
    "kernelspec": {
      "name": "python3",
      "display_name": "Python 3"
    }
  },
  "cells": [
    {
      "cell_type": "markdown",
      "metadata": {
        "id": "view-in-github",
        "colab_type": "text"
      },
      "source": [
        "<a href=\"https://colab.research.google.com/github/fedhere/DSPS/blob/master/lab5/lineFitLab.ipynb\" target=\"_parent\"><img src=\"https://colab.research.google.com/assets/colab-badge.svg\" alt=\"Open In Colab\"/></a>"
      ]
    },
    {
      "cell_type": "code",
      "metadata": {
        "id": "QexfYVaq9y44",
        "colab_type": "code",
        "colab": {}
      },
      "source": [
        "import pandas as pd\n",
        "import scipy as sp\n",
        "from scipy import optimize\n",
        "import numpy as np\n",
        "from matplotlib import pylab as pl"
      ],
      "execution_count": 0,
      "outputs": []
    },
    {
      "cell_type": "markdown",
      "metadata": {
        "id": "_J99CsJIt1J4",
        "colab_type": "text"
      },
      "source": [
        "# create synthetic data for line fitting\n",
        "\n",
        "\n"
      ]
    },
    {
      "cell_type": "code",
      "metadata": {
        "id": "mQsMd2rSHcoE",
        "colab_type": "code",
        "colab": {}
      },
      "source": [
        "np.random.seed(555)"
      ],
      "execution_count": 0,
      "outputs": []
    },
    {
      "cell_type": "markdown",
      "metadata": {
        "id": "b-M6BNxMozEX",
        "colab_type": "text"
      },
      "source": [
        "Creating the exogenous variable"
      ]
    },
    {
      "cell_type": "code",
      "metadata": {
        "id": "GTgEZMNfGvBd",
        "colab_type": "code",
        "colab": {}
      },
      "source": [
        "x_vals = np.random.rand(100) * 10"
      ],
      "execution_count": 0,
      "outputs": []
    },
    {
      "cell_type": "code",
      "metadata": {
        "id": "6YtO3-maHFM-",
        "colab_type": "code",
        "outputId": "9d98ee73-1f76-48db-dba7-fbecc337eb79",
        "colab": {
          "base_uri": "https://localhost:8080/",
          "height": 306
        }
      },
      "source": [
        "print(x_vals)"
      ],
      "execution_count": 0,
      "outputs": [
        {
          "output_type": "stream",
          "text": [
            "[7.17834087 0.47855133 9.44471978 6.8638004  5.81207334 1.42678616\n",
            " 9.45919181 3.39990587 6.20435458 4.52959644 2.3976742  0.34504591\n",
            " 1.48593113 8.10866174 6.53105376 5.44468685 0.41194765 4.68166251\n",
            " 8.88746733 4.76258557 4.12488984 6.16106538 3.21416554 5.80869263\n",
            " 3.9661405  0.20091368 4.31395898 4.11244512 6.29061747 5.02521894\n",
            " 1.6212784  6.66897061 1.35272291 1.69937536 2.20830313 0.86670475\n",
            " 0.46840069 0.28908051 4.3867962  8.08565064 6.13362455 6.6097222\n",
            " 9.28622121 4.87345755 6.38178521 1.85093821 2.50653771 4.46628009\n",
            " 9.72624065 4.67703036 4.07470269 7.86091879 3.71535104 2.20143415\n",
            " 3.07846727 2.86184245 1.47343012 7.42969034 7.94321078 3.2902046\n",
            " 0.62102981 9.66696377 0.34688228 7.92288645 0.2252943  1.59693565\n",
            " 1.46141363 8.8278803  1.89545066 3.34775168 4.09820686 0.57803204\n",
            " 5.42383827 8.46712172 8.24706115 2.40896531 5.14537387 3.54767054\n",
            " 9.68326953 7.49548167 7.28264277 8.45389758 4.05044473 1.08512712\n",
            " 7.52632771 5.87102173 5.91753381 8.95891913 5.89576732 1.41637776\n",
            " 6.29725261 0.69392551 9.59370439 2.75142674 6.16366374 8.90869314\n",
            " 7.34897374 8.89940481 9.3192079  0.31458503]\n"
          ],
          "name": "stdout"
        }
      ]
    },
    {
      "cell_type": "code",
      "metadata": {
        "id": "ICG4YhQjHYoy",
        "colab_type": "code",
        "colab": {}
      },
      "source": [
        "np.random.rand?"
      ],
      "execution_count": 0,
      "outputs": []
    },
    {
      "cell_type": "markdown",
      "metadata": {
        "id": "ort4uWNdo-fj",
        "colab_type": "text"
      },
      "source": [
        "create the y values"
      ]
    },
    {
      "cell_type": "code",
      "metadata": {
        "id": "MiUMt_euHoqQ",
        "colab_type": "code",
        "colab": {}
      },
      "source": [
        "def line(x, a, b):\n",
        "  \"\"\"\n",
        "  Takes two parameters (a and b) along with an array of x values. Returns y array.\n",
        "  \"\"\"\n",
        "  \n",
        "  return a * x + b"
      ],
      "execution_count": 0,
      "outputs": []
    },
    {
      "cell_type": "code",
      "metadata": {
        "id": "PRmT3cFxIkdD",
        "colab_type": "code",
        "colab": {}
      },
      "source": [
        "line?"
      ],
      "execution_count": 0,
      "outputs": []
    },
    {
      "cell_type": "code",
      "metadata": {
        "id": "LL6Q2myEIlx0",
        "colab_type": "code",
        "colab": {}
      },
      "source": [
        "y_vals = line(x_vals, 4, 3)"
      ],
      "execution_count": 0,
      "outputs": []
    },
    {
      "cell_type": "code",
      "metadata": {
        "id": "SRmTjtMoIzB8",
        "colab_type": "code",
        "outputId": "337d81ff-2c2c-477f-8e46-8e3fd5dc10c6",
        "colab": {
          "base_uri": "https://localhost:8080/",
          "height": 283
        }
      },
      "source": [
        "pl.plot(x_vals, y_vals, \".\")\n",
        "pl.xlabel(\"X-values\")\n",
        "pl.ylabel(\"Y-values\");"
      ],
      "execution_count": 0,
      "outputs": [
        {
          "output_type": "display_data",
          "data": {
            "image/png": "[encoded data removed]",
            "text/plain": [
              "<Figure size 432x288 with 1 Axes>"
            ]
          },
          "metadata": {
            "tags": []
          }
        }
      ]
    },
    {
      "cell_type": "code",
      "metadata": {
        "id": "Ikkp-paFI5L_",
        "colab_type": "code",
        "colab": {}
      },
      "source": [
        "pl.plot?"
      ],
      "execution_count": 0,
      "outputs": []
    },
    {
      "cell_type": "markdown",
      "metadata": {
        "id": "HonqvjFzpDg-",
        "colab_type": "text"
      },
      "source": [
        "adding some scatter"
      ]
    },
    {
      "cell_type": "code",
      "metadata": {
        "id": "NNYtJkh_JKr3",
        "colab_type": "code",
        "colab": {}
      },
      "source": [
        "scattered_y = np.random.randn(100) * 5"
      ],
      "execution_count": 0,
      "outputs": []
    },
    {
      "cell_type": "code",
      "metadata": {
        "id": "1dsm8HGLKBBI",
        "colab_type": "code",
        "colab": {}
      },
      "source": [
        "y_vals += scattered_y"
      ],
      "execution_count": 0,
      "outputs": []
    },
    {
      "cell_type": "code",
      "metadata": {
        "id": "74X5r9zSKFk5",
        "colab_type": "code",
        "outputId": "fb52c643-285f-4ced-9c48-83e498fa22df",
        "colab": {
          "base_uri": "https://localhost:8080/",
          "height": 283
        }
      },
      "source": [
        "pl.plot(x_vals, y_vals, \".\")\n",
        "pl.xlabel(\"X-values\")\n",
        "pl.ylabel(\"Y-values\");"
      ],
      "execution_count": 0,
      "outputs": [
        {
          "output_type": "display_data",
          "data": {
            "image/png": "[encoded data removed]",
            "text/plain": [
              "<Figure size 432x288 with 1 Axes>"
            ]
          },
          "metadata": {
            "tags": []
          }
        }
      ]
    },
    {
      "cell_type": "markdown",
      "metadata": {
        "id": "8FPZHupepQ6E",
        "colab_type": "text"
      },
      "source": [
        "adding uncertainties as well"
      ]
    },
    {
      "cell_type": "code",
      "metadata": {
        "id": "LVE95Ua3KMtp",
        "colab_type": "code",
        "colab": {}
      },
      "source": [
        "uncertanties = np.random.randn(100) * 7"
      ],
      "execution_count": 0,
      "outputs": []
    },
    {
      "cell_type": "code",
      "metadata": {
        "id": "Gm1kHfFSKiMK",
        "colab_type": "code",
        "outputId": "bfe6eb35-b0c1-4f9a-d2cf-192a1d56cca7",
        "colab": {
          "base_uri": "https://localhost:8080/",
          "height": 283
        }
      },
      "source": [
        "pl.errorbar(x_vals, y_vals, yerr = uncertanties, fmt = \".\")\n",
        "pl.xlabel(\"X-values\")\n",
        "pl.ylabel(\"Y-values\");"
      ],
      "execution_count": 0,
      "outputs": [
        {
          "output_type": "display_data",
          "data": {
            "image/png": "[encoded data removed]",
            "text/plain": [
              "<Figure size 432x288 with 1 Axes>"
            ]
          },
          "metadata": {
            "tags": []
          }
        }
      ]
    },
    {
      "cell_type": "markdown",
      "metadata": {
        "id": "8p2HOKXIpVxX",
        "colab_type": "text"
      },
      "source": [
        "# fit a line to data with scipy"
      ]
    },
    {
      "cell_type": "code",
      "metadata": {
        "id": "r2wtmqePKzQ5",
        "colab_type": "code",
        "colab": {}
      },
      "source": [
        "popt, pcov = sp.optimize.curve_fit(line, x_vals, y_vals, p0=[5, 0])"
      ],
      "execution_count": 0,
      "outputs": []
    },
    {
      "cell_type": "code",
      "metadata": {
        "id": "yIifxFnZLEIk",
        "colab_type": "code",
        "outputId": "faef389d-31f2-4f95-b0f2-b8b19543ffa0",
        "colab": {
          "base_uri": "https://localhost:8080/",
          "height": 51
        }
      },
      "source": [
        "pcov"
      ],
      "execution_count": 0,
      "outputs": [
        {
          "output_type": "execute_result",
          "data": {
            "text/plain": [
              "array([[ 0.03279955, -0.15642658],\n",
              "       [-0.15642658,  1.02770122]])"
            ]
          },
          "metadata": {
            "tags": []
          },
          "execution_count": 17
        }
      ]
    },
    {
      "cell_type": "code",
      "metadata": {
        "id": "mgi--97NqaHL",
        "colab_type": "code",
        "colab": {}
      },
      "source": [
        "# this is the buggy code"
      ],
      "execution_count": 0,
      "outputs": []
    },
    {
      "cell_type": "code",
      "metadata": {
        "id": "SAwz02lOMOPS",
        "colab_type": "code",
        "outputId": "eddc9740-e93a-4c78-e4f8-92f55abf6de0",
        "colab": {
          "base_uri": "https://localhost:8080/",
          "height": 283
        }
      },
      "source": [
        "pl.errorbar(x_vals, y_vals, yerr = uncertanties, fmt = \".\")\n",
        "pl.plot(x_vals, line(x_vals, popt[0], popt[1]), \n",
        "        \"-\")\n",
        "#adding uncertainty band: the covariance contains:\n",
        "\n",
        "#|pcov[0][0] . pcov[0][1] | =  |sigma_slope^2                  slope-intercept covariance |\n",
        "#|pcov[1][0] . pcov[1][1] |    |slope-intercept covariance              sigma_intercept^2 |\n",
        "\n",
        "\n",
        "pl.fill_between(x_vals, \n",
        "                line(x_vals, popt[0] + pcov[0][0]**0.5, popt[1] + pcov[1][1]**0.5),\n",
        "                line(x_vals, popt[0] - pcov[0][0]**0.5, popt[1] - pcov[1][1]**0.5), alpha=0.5)\n",
        "\n",
        "pl.xlabel(\"X-values\")\n",
        "pl.ylabel(\"Y-values\");\n",
        "\n"
      ],
      "execution_count": 0,
      "outputs": [
        {
          "output_type": "display_data",
          "data": {
            "image/png": "[encoded data removed]",
            "text/plain": [
              "<Figure size 432x288 with 1 Axes>"
            ]
          },
          "metadata": {
            "tags": []
          }
        }
      ]
    },
    {
      "cell_type": "markdown",
      "metadata": {
        "id": "TRHjIKBbqw9u",
        "colab_type": "text"
      },
      "source": [
        "the bug was because the data  was not sorted along the x axis. The shaded region got plotted up to the last value given. To sort the data I create an array that gives me the sorted indices with np.argsort, and then I index the x array by that "
      ]
    },
    {
      "cell_type": "code",
      "metadata": {
        "id": "vQPy0uwrqd57",
        "colab_type": "code",
        "colab": {}
      },
      "source": [
        "sorter = np.argsort(x_vals)\n"
      ],
      "execution_count": 0,
      "outputs": []
    },
    {
      "cell_type": "code",
      "metadata": {
        "id": "s7aHnWFYqJ7E",
        "colab_type": "code",
        "outputId": "f9ec28e3-29fb-417f-c3f3-15889b7df25e",
        "colab": {
          "base_uri": "https://localhost:8080/",
          "height": 283
        }
      },
      "source": [
        "pl.errorbar(x_vals, y_vals, yerr = uncertanties, fmt = \".\")\n",
        "pl.plot(x_vals, line(x_vals, popt[0], popt[1]), \n",
        "        \"-\")\n",
        "\n",
        "pl.fill_between(x_vals[sorter], \n",
        "                line(x_vals[sorter], popt[0] + pcov[0][0]**0.5, popt[1] + pcov[1][1]**0.5),\n",
        "                line(x_vals[sorter], popt[0] - pcov[0][0]**0.5, popt[1] - pcov[1][1]**0.5), alpha=0.5)\n",
        "\n",
        "pl.xlabel(\"X-values\")\n",
        "pl.ylabel(\"Y-values\");\n",
        "\n"
      ],
      "execution_count": 0,
      "outputs": [
        {
          "output_type": "display_data",
          "data": {
            "image/png": "[encoded data removed]",
            "text/plain": [
              "<Figure size 432x288 with 1 Axes>"
            ]
          },
          "metadata": {
            "tags": []
          }
        }
      ]
    },
    {
      "cell_type": "markdown",
      "metadata": {
        "id": "DEzfwB2_rBwj",
        "colab_type": "text"
      },
      "source": [
        "# fit a line to data with sklearn \n",
        "(the standard library for machine learning)"
      ]
    },
    {
      "cell_type": "code",
      "metadata": {
        "id": "LPEbbVeIM9pT",
        "colab_type": "code",
        "colab": {}
      },
      "source": [
        "import sklearn as skl\n",
        "from sklearn import datasets, linear_model\n",
        "from sklearn.metrics import mean_squared_error, r2_score\n"
      ],
      "execution_count": 0,
      "outputs": []
    },
    {
      "cell_type": "markdown",
      "metadata": {
        "id": "6NG0kKh0rHiY",
        "colab_type": "text"
      },
      "source": [
        "sklearn is object oriented: I have to create a regressor object"
      ]
    },
    {
      "cell_type": "code",
      "metadata": {
        "id": "Bww-pwgOOF82",
        "colab_type": "code",
        "colab": {}
      },
      "source": [
        "regr = skl.linear_model.LinearRegression()\n"
      ],
      "execution_count": 0,
      "outputs": []
    },
    {
      "cell_type": "markdown",
      "metadata": {
        "id": "uLrLA78MrP9K",
        "colab_type": "text"
      },
      "source": [
        "then I can fit the object to the data"
      ]
    },
    {
      "cell_type": "code",
      "metadata": {
        "id": "sggA_frjrOqF",
        "colab_type": "code",
        "outputId": "2cc043d2-dbbf-4410-faa2-1e61d3f8a6b5",
        "colab": {
          "base_uri": "https://localhost:8080/",
          "height": 34
        }
      },
      "source": [
        "regr.fit(np.atleast_2d(x_vals).T, y_vals)"
      ],
      "execution_count": 0,
      "outputs": [
        {
          "output_type": "execute_result",
          "data": {
            "text/plain": [
              "LinearRegression(copy_X=True, fit_intercept=True, n_jobs=None, normalize=False)"
            ]
          },
          "metadata": {
            "tags": []
          },
          "execution_count": 24
        }
      ]
    },
    {
      "cell_type": "code",
      "metadata": {
        "id": "5cDjeCh7OST3",
        "colab_type": "code",
        "outputId": "47509624-8acc-4ab1-ecc4-ce03c46dfc43",
        "colab": {
          "base_uri": "https://localhost:8080/",
          "height": 283
        }
      },
      "source": [
        "pl.errorbar(x_vals, y_vals, yerr = uncertanties, fmt = \".\")\n",
        "pl.xlabel(\"X-values\")\n",
        "pl.ylabel(\"Y-values\");\n",
        "pl.plot(x_vals, regr.predict(np.atleast_2d(x_vals).T), '-', label=\"sklearn LinearRegression()\")\n",
        "pl.plot(x_vals, line(x_vals, popt[0], popt[1]), \n",
        "        \"-\", label=\"scipy curve_fit()\")\n",
        "\n",
        "pl.fill_between(x_vals[sorter], \n",
        "                line(x_vals[sorter], popt[0] + pcov[0][0]**0.5, popt[1] + pcov[1][1]**0.5),\n",
        "                line(x_vals[sorter], popt[0] - pcov[0][0]**0.5, popt[1] - pcov[1][1]**0.5), alpha=0.5)\n",
        "pl.legend()\n",
        "pl.xlabel(\"X-values\")\n",
        "pl.ylabel(\"Y-values\");\n",
        "\n"
      ],
      "execution_count": 0,
      "outputs": [
        {
          "output_type": "display_data",
          "data": {
            "image/png": "[encoded data removed]",
            "text/plain": [
              "<Figure size 432x288 with 1 Axes>"
            ]
          },
          "metadata": {
            "tags": []
          }
        }
      ]
    },
    {
      "cell_type": "markdown",
      "metadata": {
        "id": "H1qDCy2EuiYR",
        "colab_type": "text"
      },
      "source": [
        "are you surprised that they are different? remember we did not use the uncertainties with sklearn! can you include the uncertainties? investigate by looking at the signature of LinearRegression()"
      ]
    },
    {
      "cell_type": "code",
      "metadata": {
        "id": "wfCGDoj0OoEU",
        "colab_type": "code",
        "outputId": "336a0d9c-53f7-49dd-87cc-1230192b5a57",
        "colab": {
          "base_uri": "https://localhost:8080/",
          "height": 34
        }
      },
      "source": [
        "#this is the R^2 score https://en.wikipedia.org/wiki/Coefficient_of_determination\n",
        "np.round(regr.score(np.atleast_2d(x_vals).T, y_vals), 2)\n"
      ],
      "execution_count": 0,
      "outputs": [
        {
          "output_type": "execute_result",
          "data": {
            "text/plain": [
              "0.84"
            ]
          },
          "metadata": {
            "tags": []
          },
          "execution_count": 32
        }
      ]
    },
    {
      "cell_type": "markdown",
      "metadata": {
        "id": "cFR5bJQfrVfO",
        "colab_type": "text"
      },
      "source": [
        "# cross validation\n",
        "Let's do a \"cross validation\" on this model: set 75% of the data as training and the rest as test. (the way . am about to split the data into training/test is not ideal. Can you tell me why? the first to a nswer on slack gets +0.5 points on their next homework!)"
      ]
    },
    {
      "cell_type": "code",
      "metadata": {
        "id": "pFGcdwDVPGpq",
        "colab_type": "code",
        "outputId": "231dc28b-e544-401d-caef-0f5b9eac3279",
        "colab": {
          "base_uri": "https://localhost:8080/",
          "height": 34
        }
      },
      "source": [
        "regr.fit(np.atleast_2d(x_vals[:75]).T, y_vals[:75])"
      ],
      "execution_count": 0,
      "outputs": [
        {
          "output_type": "execute_result",
          "data": {
            "text/plain": [
              "LinearRegression(copy_X=True, fit_intercept=True, n_jobs=None, normalize=False)"
            ]
          },
          "metadata": {
            "tags": []
          },
          "execution_count": 27
        }
      ]
    },
    {
      "cell_type": "code",
      "metadata": {
        "id": "yax0mCYIPYAt",
        "colab_type": "code",
        "outputId": "b02ca8f7-2697-4059-d452-ec0e94282512",
        "colab": {
          "base_uri": "https://localhost:8080/",
          "height": 34
        }
      },
      "source": [
        "np.round(regr.score(np.atleast_2d(x_vals[:75]).T, y_vals[:75]), 2)\n"
      ],
      "execution_count": 0,
      "outputs": [
        {
          "output_type": "execute_result",
          "data": {
            "text/plain": [
              "0.84"
            ]
          },
          "metadata": {
            "tags": []
          },
          "execution_count": 29
        }
      ]
    },
    {
      "cell_type": "code",
      "metadata": {
        "id": "n9a2cp3xPbuD",
        "colab_type": "code",
        "outputId": "a1e36987-b229-4454-8e1a-8f32f8e3363d",
        "colab": {
          "base_uri": "https://localhost:8080/",
          "height": 34
        }
      },
      "source": [
        "np.round(regr.score(np.atleast_2d(x_vals[75:]).T, y_vals[75:]), 2)\n"
      ],
      "execution_count": 0,
      "outputs": [
        {
          "output_type": "execute_result",
          "data": {
            "text/plain": [
              "0.81"
            ]
          },
          "metadata": {
            "tags": []
          },
          "execution_count": 30
        }
      ]
    },
    {
      "cell_type": "markdown",
      "metadata": {
        "id": "CBp3RuatPrLJ",
        "colab_type": "text"
      },
      "source": [
        "the lower score in the test set is expected: the model is not trained on these data. But if the 2 scvores diverge significantly that is a symptom of overfitting"
      ]
    },
    {
      "cell_type": "code",
      "metadata": {
        "id": "fVwk5OgNc0oY",
        "colab_type": "code",
        "colab": {}
      },
      "source": [
        ""
      ],
      "execution_count": 0,
      "outputs": []
    }
  ]
}