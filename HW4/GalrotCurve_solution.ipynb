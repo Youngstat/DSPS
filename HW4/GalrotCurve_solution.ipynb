{
 "cells": [
  {
   "cell_type": "markdown",
   "metadata": {
    "colab_type": "text",
    "id": "rxa6Xa3jOdCI"
   },
   "source": [
    "prepared by federica b bianco @fedhere\n",
    "for UDel DSPS PHYS 467/667\n",
    "\n",
    "# testing the significance of Dark Matter"
   ]
  },
  {
   "cell_type": "code",
   "execution_count": 1,
   "metadata": {
    "ExecuteTime": {
     "end_time": "2019-09-30T18:42:49.009972Z",
     "start_time": "2019-09-30T18:42:47.977407Z"
    },
    "colab": {
     "base_uri": "https://localhost:8080/",
     "height": 34
    },
    "colab_type": "code",
    "id": "Ya2RaOGbOdCJ",
    "outputId": "6848cc77-0711-467b-a6c6-6b7edecf0a8b"
   },
   "outputs": [
    {
     "name": "stdout",
     "output_type": "stream",
     "text": [
      "Populating the interactive namespace from numpy and matplotlib\n"
     ]
    }
   ],
   "source": [
    "import pandas as pd\n",
    "import numpy as np\n",
    "import pylab as pl\n",
    "%pylab inline\n",
    "\n",
    "\n",
    "#package I will use for constants and units conversion \n",
    "import astropy\n",
    "from astropy.constants import G\n",
    "\n",
    "from IPython.display import Latex\n",
    "\n",
    "pl.style.use(\"https://raw.githubusercontent.com/fedhere/DSPS/master/fbb.mplstyle\")"
   ]
  },
  {
   "cell_type": "markdown",
   "metadata": {
    "colab_type": "text",
    "id": "4qp8A2TG1Gwb"
   },
   "source": [
    "In 1970 Vera Rubin published a seminal paper: she measured the rotational speed of HII regions in several galaxies and how it changed as a function of distance to the center of the galaxy. If we believe Newtonian gravity (or GR) we expect that _once all of the mass is included_, i.e. at a radius distance from the center of the galaxy larger than the radius of the galaxy itself, the rotational speed will be proportional to $v\\propto\\frac{1}/{r}$"
   ]
  },
  {
   "cell_type": "markdown",
   "metadata": {
    "colab_type": "text",
    "id": "j-BDrNseOdCR"
   },
   "source": [
    "## Propagation of  uncertainties rules\n",
    "\n",
    "below are the basic rules for propagation of uncertainties - use [this as reference](https://github.com/fedhere/DSPS/blob/master/resources/Managing%20Errors%20and%20Uncertainty.pdf)"
   ]
  },
  {
   "cell_type": "markdown",
   "metadata": {
    "colab_type": "text",
    "id": "iCrFipBzOzqp"
   },
   "source": [
    "\\begin{eqnarray}\n",
    "z = x  \\pm y  ~| & ~  &dz = \\sqrt{dx^2 + dy^2} \n",
    "\\\\\n",
    "z = x * y  ~| & ~& dz = |xy|  \\sqrt{\\left(\\frac{dx}{x}\\right)^2 + \n",
    "                                \\left(\\frac{dy}{y}\\right)^2} \\\\\n",
    "z = x / y  ~| & ~& dz = \\left|\\frac{x}{y}\\right| \\sqrt{\\left(\\frac{dx}{x}\\right)^2 + \n",
    "                                                   \\left(\\frac{dy}{y}\\right)^2} \\\\\n",
    "z = x^n ~| & ~& dz = |n| ~ x^{n-1}  dx \\\\\n",
    "z = \\mathrm{c}x ~| & ~& dz = |\\mathrm{c}| ~dx \\\\\n",
    "z = f(x, y) ~| & ~& dz = \\sqrt{\\left(\\frac{\\partial f}{\\partial x}\\right)^2 dx^2 +\\left(\\frac{\\partial f}{\\partial y}\\right)^2 dy^2} \\\\\n",
    "\\end{eqnarray}\n"
   ]
  },
  {
   "cell_type": "markdown",
   "metadata": {
    "colab_type": "text",
    "id": "WcF0zlWCOdCX"
   },
   "source": [
    "# let's assume a Newtonian framework: \n",
    "the velocity of a body in orbit depends only on the gravitational field of the mass that attracts it, and we can assume that mass is concentrated in the center of mass of (the center for simplicity) the system\n",
    "\n",
    "with G the gravitational constant, $r$ the radius, and $m(r)$ the mass contained within that radius we have the orbital velocity $v$:\n"
   ]
  },
  {
   "cell_type": "markdown",
   "metadata": {
    "colab_type": "text",
    "id": "ZON0DKl5Qm2S"
   },
   "source": [
    "\n",
    "$v^2 = \\frac{G \\cdot m(r)}{r}$\n"
   ]
  },
  {
   "cell_type": "markdown",
   "metadata": {
    "colab_type": "text",
    "id": "lVfy9lJ21xMT"
   },
   "source": [
    "Derive this $v\\propto\\frac{1}{r}$ from Newron's law $F~=~\\frac{GMm}{r^2}$. Write each formula and describe each step. You can use latex (you really just need to know ```\\frac{}``` and ```^```) and this reference\n",
    "https://www.physicsclassroom.com/calcpad/circgrav"
   ]
  },
  {
   "cell_type": "markdown",
   "metadata": {},
   "source": [
    "# DELIVERABLE 1"
   ]
  },
  {
   "cell_type": "markdown",
   "metadata": {
    "ExecuteTime": {
     "end_time": "2019-09-28T18:36:25.366302Z",
     "start_time": "2019-09-28T18:36:25.358850Z"
    }
   },
   "source": [
    "orbital speed\n",
    "\n",
    "$v = \\frac{2\\pi r}{t} $\n",
    "\n",
    "orbita acceleration\n",
    "\n",
    "$a = dv/dt = \\frac{v^2}{r}$\n",
    "\n",
    "Gravitational force\n",
    "\n",
    "$F~=~\\frac{GMm}{r^2}$\n",
    "\n",
    "$F~=~ma~=~m\\frac{v^2}{r}~=~\\frac{GMm}{r^2}$\n",
    "\n",
    "normally the central mass is identified with M, while the test particle put in the potential is identified with m. In this case I will switch notation to be consistent with the paper. m is then the mass of the galaxy which, when treated as concentrated at the center of the galaxy, is the mass generating the potential.\n",
    "$M\\frac{v^2}{r}~=~\\frac{GMm}{r^2}$\n",
    "\n",
    "cancel r and m\n",
    "\n",
    "\n",
    "$v^2~=~\\frac{Gm}{r}$\n",
    "\n",
    "m, the mass generating the potential, is a function of r since a galaxy has a mass distribution that varies with the radius\n"
   ]
  },
  {
   "cell_type": "markdown",
   "metadata": {
    "colab_type": "text",
    "id": "KQAEJtWuOdCb"
   },
   "source": [
    "## M31 rotational curve"
   ]
  },
  {
   "cell_type": "markdown",
   "metadata": {
    "ExecuteTime": {
     "end_time": "2019-08-02T01:34:15.029084Z",
     "start_time": "2019-08-02T01:34:15.026604Z"
    },
    "colab_type": "text",
    "id": "BTaXzFYeOdCc"
   },
   "source": [
    "### data ingestion\n",
    "( I store the original paper as a link on another computer now I have to find it again :-( - sorry I will updat the reference )\n",
    "\n",
    "Get the data from the github repository https://github.com/fedhere/DSPS/tree/master/HW4 : there are 2 files: mw.csv and m31.csv. Start with M31, the Andromeda galaxy, Vera Rubin's original target."
   ]
  },
  {
   "cell_type": "markdown",
   "metadata": {
    "colab_type": "text",
    "id": "_iFrkUYEV1SS"
   },
   "source": [
    "Note that the data contains 2 types of uncertainties: one significantly smaller than the other. The ```dv``` uncertainty is the propagation of the uncertainty in the location of the HII line. The uncertainty called ```err``` if the full error budget:  including _all_ sources of uncertainty and not just the uncertainty in measuring the location of the line. Retain both, you will test your hypothesis with each one to see if it matters which uncertainty you choose"
   ]
  },
  {
   "cell_type": "code",
   "execution_count": 2,
   "metadata": {
    "ExecuteTime": {
     "end_time": "2019-09-30T18:42:49.070671Z",
     "start_time": "2019-09-30T18:42:49.011254Z"
    },
    "colab": {},
    "colab_type": "code",
    "id": "eZ7nr5DROdCd"
   },
   "outputs": [],
   "source": [
    "# deleate \n",
    "m31 = pd.read_csv(\"https://raw.githubusercontent.com/fedhere/DSPS/master/HW4/m31.csv\", \n",
    "                  skiprows=2, names=[\"r\",'v','dv','err'])"
   ]
  },
  {
   "cell_type": "code",
   "execution_count": 3,
   "metadata": {
    "ExecuteTime": {
     "end_time": "2019-09-30T18:42:49.080300Z",
     "start_time": "2019-09-30T18:42:49.072115Z"
    },
    "colab": {
     "base_uri": "https://localhost:8080/",
     "height": 204
    },
    "colab_type": "code",
    "id": "luL5UrsNQ1M1",
    "outputId": "efa83253-53c5-45a2-aa9a-940388fb06d6"
   },
   "outputs": [
    {
     "data": {
      "text/html": [
       "<div>\n",
       "<style scoped>\n",
       "    .dataframe tbody tr th:only-of-type {\n",
       "        vertical-align: middle;\n",
       "    }\n",
       "\n",
       "    .dataframe tbody tr th {\n",
       "        vertical-align: top;\n",
       "    }\n",
       "\n",
       "    .dataframe thead th {\n",
       "        text-align: right;\n",
       "    }\n",
       "</style>\n",
       "<table border=\"1\" class=\"dataframe\">\n",
       "  <thead>\n",
       "    <tr style=\"text-align: right;\">\n",
       "      <th></th>\n",
       "      <th>r</th>\n",
       "      <th>v</th>\n",
       "      <th>dv</th>\n",
       "      <th>err</th>\n",
       "    </tr>\n",
       "  </thead>\n",
       "  <tbody>\n",
       "    <tr>\n",
       "      <th>0</th>\n",
       "      <td>0.100</td>\n",
       "      <td>183.939</td>\n",
       "      <td>0.000</td>\n",
       "      <td>0.000</td>\n",
       "    </tr>\n",
       "    <tr>\n",
       "      <th>1</th>\n",
       "      <td>0.120</td>\n",
       "      <td>190.710</td>\n",
       "      <td>10.265</td>\n",
       "      <td>12.191</td>\n",
       "    </tr>\n",
       "    <tr>\n",
       "      <th>2</th>\n",
       "      <td>0.144</td>\n",
       "      <td>204.141</td>\n",
       "      <td>22.634</td>\n",
       "      <td>21.808</td>\n",
       "    </tr>\n",
       "    <tr>\n",
       "      <th>3</th>\n",
       "      <td>0.173</td>\n",
       "      <td>207.601</td>\n",
       "      <td>4.573</td>\n",
       "      <td>4.200</td>\n",
       "    </tr>\n",
       "    <tr>\n",
       "      <th>4</th>\n",
       "      <td>0.207</td>\n",
       "      <td>210.188</td>\n",
       "      <td>3.943</td>\n",
       "      <td>3.258</td>\n",
       "    </tr>\n",
       "  </tbody>\n",
       "</table>\n",
       "</div>"
      ],
      "text/plain": [
       "       r        v      dv     err\n",
       "0  0.100  183.939   0.000   0.000\n",
       "1  0.120  190.710  10.265  12.191\n",
       "2  0.144  204.141  22.634  21.808\n",
       "3  0.173  207.601   4.573   4.200\n",
       "4  0.207  210.188   3.943   3.258"
      ]
     },
     "execution_count": 3,
     "metadata": {},
     "output_type": "execute_result"
    }
   ],
   "source": [
    "m31.head()"
   ]
  },
  {
   "cell_type": "code",
   "execution_count": 4,
   "metadata": {
    "ExecuteTime": {
     "end_time": "2019-09-30T18:42:49.096062Z",
     "start_time": "2019-09-30T18:42:49.081687Z"
    },
    "colab": {
     "base_uri": "https://localhost:8080/",
     "height": 297
    },
    "colab_type": "code",
    "id": "QsNRokb1OdCh",
    "outputId": "50980fc2-0865-4fec-f80f-dceec53d44a7"
   },
   "outputs": [
    {
     "data": {
      "text/html": [
       "<div>\n",
       "<style scoped>\n",
       "    .dataframe tbody tr th:only-of-type {\n",
       "        vertical-align: middle;\n",
       "    }\n",
       "\n",
       "    .dataframe tbody tr th {\n",
       "        vertical-align: top;\n",
       "    }\n",
       "\n",
       "    .dataframe thead th {\n",
       "        text-align: right;\n",
       "    }\n",
       "</style>\n",
       "<table border=\"1\" class=\"dataframe\">\n",
       "  <thead>\n",
       "    <tr style=\"text-align: right;\">\n",
       "      <th></th>\n",
       "      <th>r</th>\n",
       "      <th>v</th>\n",
       "      <th>dv</th>\n",
       "      <th>err</th>\n",
       "    </tr>\n",
       "  </thead>\n",
       "  <tbody>\n",
       "    <tr>\n",
       "      <th>count</th>\n",
       "      <td>55.000000</td>\n",
       "      <td>55.000000</td>\n",
       "      <td>55.000000</td>\n",
       "      <td>55.000000</td>\n",
       "    </tr>\n",
       "    <tr>\n",
       "      <th>mean</th>\n",
       "      <td>205.853182</td>\n",
       "      <td>226.079255</td>\n",
       "      <td>55.034818</td>\n",
       "      <td>16.165855</td>\n",
       "    </tr>\n",
       "    <tr>\n",
       "      <th>std</th>\n",
       "      <td>415.523904</td>\n",
       "      <td>42.799892</td>\n",
       "      <td>49.254792</td>\n",
       "      <td>14.876951</td>\n",
       "    </tr>\n",
       "    <tr>\n",
       "      <th>min</th>\n",
       "      <td>0.100000</td>\n",
       "      <td>121.974000</td>\n",
       "      <td>0.000000</td>\n",
       "      <td>0.000000</td>\n",
       "    </tr>\n",
       "    <tr>\n",
       "      <th>25%</th>\n",
       "      <td>1.177000</td>\n",
       "      <td>208.894500</td>\n",
       "      <td>11.945500</td>\n",
       "      <td>3.224000</td>\n",
       "    </tr>\n",
       "    <tr>\n",
       "      <th>50%</th>\n",
       "      <td>13.737000</td>\n",
       "      <td>229.124000</td>\n",
       "      <td>30.697000</td>\n",
       "      <td>12.065000</td>\n",
       "    </tr>\n",
       "    <tr>\n",
       "      <th>75%</th>\n",
       "      <td>161.675000</td>\n",
       "      <td>244.102500</td>\n",
       "      <td>99.980000</td>\n",
       "      <td>23.641000</td>\n",
       "    </tr>\n",
       "    <tr>\n",
       "      <th>max</th>\n",
       "      <td>1887.071000</td>\n",
       "      <td>414.942000</td>\n",
       "      <td>147.835000</td>\n",
       "      <td>54.110000</td>\n",
       "    </tr>\n",
       "  </tbody>\n",
       "</table>\n",
       "</div>"
      ],
      "text/plain": [
       "                 r           v          dv        err\n",
       "count    55.000000   55.000000   55.000000  55.000000\n",
       "mean    205.853182  226.079255   55.034818  16.165855\n",
       "std     415.523904   42.799892   49.254792  14.876951\n",
       "min       0.100000  121.974000    0.000000   0.000000\n",
       "25%       1.177000  208.894500   11.945500   3.224000\n",
       "50%      13.737000  229.124000   30.697000  12.065000\n",
       "75%     161.675000  244.102500   99.980000  23.641000\n",
       "max    1887.071000  414.942000  147.835000  54.110000"
      ]
     },
     "execution_count": 4,
     "metadata": {},
     "output_type": "execute_result"
    }
   ],
   "source": [
    "m31.describe()"
   ]
  },
  {
   "cell_type": "markdown",
   "metadata": {
    "colab_type": "text",
    "id": "Vv0Ut6vOOdCk"
   },
   "source": [
    "from https://en.wikipedia.org/wiki/Andromeda_Galaxy get the extent of the luminous component of M31 (Andromeda). The distance of the Galaxy multiplied by the angular size will give you this information from basic trigonometry (make sure you convert the units properly, using astropy). Make sure you include the uncertainties! uncertainties in the distance will give you the uncertainty in the size\n",
    "   \n",
    " "
   ]
  },
  {
   "cell_type": "markdown",
   "metadata": {},
   "source": [
    "# DELIVERABLE 2"
   ]
  },
  {
   "cell_type": "code",
   "execution_count": 5,
   "metadata": {
    "ExecuteTime": {
     "end_time": "2019-09-30T18:42:49.099202Z",
     "start_time": "2019-09-30T18:42:49.097199Z"
    },
    "colab": {},
    "colab_type": "code",
    "id": "kvIFr6D778ri"
   },
   "outputs": [],
   "source": [
    "#delete \n",
    "apparentSizeM31 = 3.167 / 2 #deg\n",
    "distanceM31 = (778, 33) # kpc \n"
   ]
  },
  {
   "cell_type": "markdown",
   "metadata": {
    "ExecuteTime": {
     "end_time": "2019-09-30T18:34:26.476199Z",
     "start_time": "2019-09-30T18:34:26.473478Z"
    }
   },
   "source": [
    "# DELIVERABLE 3"
   ]
  },
  {
   "cell_type": "code",
   "execution_count": 6,
   "metadata": {
    "ExecuteTime": {
     "end_time": "2019-09-30T18:42:49.102899Z",
     "start_time": "2019-09-30T18:42:49.100258Z"
    },
    "colab": {
     "base_uri": "https://localhost:8080/",
     "height": 34
    },
    "colab_type": "code",
    "id": "tzGNh98hOdCl",
    "outputId": "a497dbe1-d738-48c3-a109-b0d0cb20ab0d"
   },
   "outputs": [
    {
     "name": "stdout",
     "output_type": "stream",
     "text": [
      "Angular Radius of the visible component of Andromeda: 0.03 rad\n"
     ]
    }
   ],
   "source": [
    "# note : by PEP8 standards the import should be at the top, I leave it here for hyou to see that I am using astropy.units now\n",
    "from astropy import units as u\n",
    "m31angS = apparentSizeM31 * u.degree\n",
    "print(\"Angular Radius of the visible component of Andromeda: {:.2f}\".format(m31angS.to(u.rad)  ))"
   ]
  },
  {
   "cell_type": "markdown",
   "metadata": {
    "colab_type": "text",
    "id": "cOw0Y4KNWTOZ"
   },
   "source": [
    "Please make sure you print a sensible number of decimal digits! you have a  number of significant digits set by the number of digit in the info you get from wikipedia"
   ]
  },
  {
   "cell_type": "markdown",
   "metadata": {
    "colab_type": "text",
    "id": "hF2wXZ988QgS"
   },
   "source": [
    "The distance, from Wikipedia, will have an uncertainty. Convert both to kiloparsecs Kpc"
   ]
  },
  {
   "cell_type": "code",
   "execution_count": 7,
   "metadata": {
    "ExecuteTime": {
     "end_time": "2019-09-30T18:42:49.105891Z",
     "start_time": "2019-09-30T18:42:49.103824Z"
    },
    "colab": {},
    "colab_type": "code",
    "id": "7-nEP6KrOdCo"
   },
   "outputs": [],
   "source": [
    "#delete\n",
    "m31Dist = distanceM31[0] * u.kpc\n",
    "m31DistErr = distanceM31[1] * u.kpc"
   ]
  },
  {
   "cell_type": "markdown",
   "metadata": {},
   "source": [
    "# DELIVERABLE 4 "
   ]
  },
  {
   "cell_type": "code",
   "execution_count": 8,
   "metadata": {
    "ExecuteTime": {
     "end_time": "2019-09-30T18:42:49.110696Z",
     "start_time": "2019-09-30T18:42:49.107374Z"
    },
    "colab": {
     "base_uri": "https://localhost:8080/",
     "height": 34
    },
    "colab_type": "code",
    "id": "0y_V9AuFOdCv",
    "outputId": "f621e416-3d26-4f8a-f784-b939d2edcaa4"
   },
   "outputs": [
    {
     "name": "stdout",
     "output_type": "stream",
     "text": [
      "Size of the visible component of Andromeda: 22 kpc rad +/- 0.9 kpc rad\n"
     ]
    }
   ],
   "source": [
    "#delete\n",
    "m31Size = m31Dist * m31angS.to(u.rad)  \n",
    "m31SizeError = m31DistErr * m31angS.to(u.rad) \n",
    "print(\"Size of the visible component of Andromeda: \" + \n",
    "      r\"{:.0f} +/- {:2.1f}\".format(m31Size, m31SizeError  ))#, m31SizeError\n",
    "rerr = 0.9"
   ]
  },
  {
   "cell_type": "markdown",
   "metadata": {
    "colab_type": "text",
    "id": "_pTXgdTL8jv6"
   },
   "source": [
    "Print the distance like I printed the angular size. \n",
    "\n",
    "To get the physical size of the visible component of andtomeda you can use simple trigonometry: $y = r * sin(\\alpha) ~ \\sim ~ r \\alpha $ for small angles \n",
    "\n",
    "\n",
    "Print the physical size of the Andromeda galaxy (remember decimal digits, proper formatting etc etc). \n"
   ]
  },
  {
   "cell_type": "markdown",
   "metadata": {
    "colab_type": "text",
    "id": "97o52hRhOdCy"
   },
   "source": [
    "### find the first measurement  in your data table that includes all the luminous mass. \n",
    "\n",
    "What is the smallest radius in your data where the luminous mass is completely included and what is the veolcity at that radius?\n",
    "You can do it by broadcasting (see homework 3)"
   ]
  },
  {
   "cell_type": "markdown",
   "metadata": {},
   "source": [
    "# DELIVERABLE 5"
   ]
  },
  {
   "cell_type": "code",
   "execution_count": 9,
   "metadata": {
    "ExecuteTime": {
     "end_time": "2019-09-30T18:42:49.269331Z",
     "start_time": "2019-09-30T18:42:49.263108Z"
    },
    "colab": {
     "base_uri": "https://localhost:8080/",
     "height": 34
    },
    "colab_type": "code",
    "id": "JF31dWaBOdCz",
    "outputId": "4e20e55d-e350-499f-f4a6-949ae4f827e9"
   },
   "outputs": [
    {
     "name": "stdout",
     "output_type": "stream",
     "text": [
      "First measurement outside of the visible radius:\n"
     ]
    },
    {
     "data": {
      "text/latex": [
       "$23.74 \\; \\mathrm{kpc}$"
      ],
      "text/plain": [
       "<Quantity 23.74 kpc>"
      ]
     },
     "execution_count": 9,
     "metadata": {},
     "output_type": "execute_result"
    }
   ],
   "source": [
    "print(\"First measurement outside of the visible radius:\")\n",
    "round(m31[m31.r > m31Size].r.values[0], 2) * u.kpc"
   ]
  },
  {
   "cell_type": "markdown",
   "metadata": {
    "colab_type": "text",
    "id": "TVWiU84XOdDA"
   },
   "source": [
    "We expect the velocity to decrease as 1/r if all mass is included: the velocity at a radius twice as far as the radius that includes all the mass should be a factor 2 slower, three times as far a factor 3 slower. "
   ]
  },
  {
   "cell_type": "markdown",
   "metadata": {
    "colab_type": "text",
    "id": "b096Ax33SiXl"
   },
   "source": [
    "write a function that \n",
    "\n",
    "1. finds the smallest radius in the dataset that is at least N times the radius of the visible galaxy, \n",
    "\n",
    "2. takes as arguments:\n",
    "    - the data and \n",
    "    - N \n",
    "    - the size of the luminous component of the galaxy\n",
    " \n",
    "2. Returns the value of the radius and its uncertainty and the velocity and its uncertainty"
   ]
  },
  {
   "cell_type": "markdown",
   "metadata": {},
   "source": [
    "# DELIVERABLE 5"
   ]
  },
  {
   "cell_type": "code",
   "execution_count": 10,
   "metadata": {
    "ExecuteTime": {
     "end_time": "2019-09-30T18:42:49.519486Z",
     "start_time": "2019-09-30T18:42:49.508266Z"
    },
    "colab": {
     "base_uri": "https://localhost:8080/",
     "height": 85
    },
    "colab_type": "code",
    "id": "-_O34Bb7OdC2",
    "outputId": "df03d0df-3191-4383-ea5d-593fc690c1a3"
   },
   "outputs": [
    {
     "name": "stdout",
     "output_type": "stream",
     "text": [
      "         r        v      dv   err\n",
      "30  23.738  236.511  11.729  1.58\n",
      "         r        v       dv     err\n",
      "34  49.222  237.069  109.381  23.924\n",
      "        r        v       dv     err\n",
      "36  70.88  218.489  132.355  24.657\n"
     ]
    }
   ],
   "source": [
    "#delete\n",
    "# first measurement including all mass\n",
    "def getradii(gal, gsize, n):\n",
    "    ''' doc string...'''\n",
    "    \n",
    "    i = gal[gal.r > n * gsize].r.index[0]\n",
    "    # first measurement twice as far\n",
    "    r = gal.iloc[i:i+1]\n",
    "    return r\n",
    "  \n",
    "m31Rds = (getradii(m31, m31Size, 1),  \n",
    "          getradii(m31, m31Size, 2),  \n",
    "          getradii(m31, m31Size, 3))\n",
    "print(m31Rds[0]), print(m31Rds[1]), print(m31Rds[2]);"
   ]
  },
  {
   "cell_type": "markdown",
   "metadata": {
    "ExecuteTime": {
     "end_time": "2019-08-01T18:13:58.231637Z",
     "start_time": "2019-08-01T18:13:58.229447Z"
    },
    "colab_type": "text",
    "id": "ogu_iquzOdC5"
   },
   "source": [
    "### data visualization"
   ]
  },
  {
   "cell_type": "markdown",
   "metadata": {
    "colab_type": "text",
    "id": "kJ6MujVJUyel"
   },
   "source": [
    "make a plot that shows\n",
    "\n",
    "1. the rotational curve of the galaxy (as a line)\n",
    "\n",
    "2. each velocity as an errorbar with error equal to err in the same color as the line in 1\n",
    "\n",
    "3. each velocity as an errorbar with error equal to dv in  the same color but a different line thickness\n",
    "\n",
    "\n",
    "4. the datapoint corresponding to N=1, 2, 3 each in a different color. \n",
    "\n",
    "5. add a legend that indicates the meaning of each color (```pl.legend()```)\n",
    "\n",
    "6. add a text that indicates the velocity and its uncertainty (dv and err) just below the largest errorbar (```pl.text()```)\n",
    "\n",
    "7. limit the x axis to the \"relevant\" portion of the data"
   ]
  },
  {
   "cell_type": "markdown",
   "metadata": {},
   "source": [
    "# DELIVERABLE 7"
   ]
  },
  {
   "cell_type": "code",
   "execution_count": 11,
   "metadata": {
    "ExecuteTime": {
     "end_time": "2019-09-30T18:42:49.977719Z",
     "start_time": "2019-09-30T18:42:49.706261Z"
    },
    "colab": {
     "base_uri": "https://localhost:8080/",
     "height": 283
    },
    "colab_type": "code",
    "id": "7IMXYY8BOdC6",
    "outputId": "b4ed427b-6000-4f86-fc28-add25eb67fca"
   },
   "outputs": [
    {
     "name": "stderr",
     "output_type": "stream",
     "text": [
      "/Users/fbb/anaconda3/lib/python3.7/site-packages/matplotlib/font_manager.py:1241: UserWarning: findfont: Font family ['[\"sans-serif\"]'] not found. Falling back to DejaVu Sans.\n",
      "  (prop.get_family(), self.defaultFamily[fontext]))\n"
     ]
    },
    {
     "data": {
      "image/png": "[encoded data removed]",
      "text/plain": [
       "<Figure size 432x288 with 1 Axes>"
      ]
     },
     "metadata": {
      "needs_background": "light"
     },
     "output_type": "display_data"
    }
   ],
   "source": [
    "#delete leave plot\n",
    "def plotGal(gal, rds):\n",
    "    ax = gal.plot(x='r', y='v', yerr='dv')\n",
    "    ax = rds[0].plot(x='r', y='v', yerr='dv', ax=ax, \n",
    "                                 label=\"radius\")\n",
    "    ax = rds[1].plot(x='r', y='v', yerr='dv', ax=ax, \n",
    "                                  label=\"2xradius\")\n",
    "    ax = rds[2].plot(x='r', y='v', yerr='dv', ax=ax, \n",
    "                                  label=\"3xradius\")\n",
    "    ax = rds[0].plot(x='r', y='v', yerr='err', ax=ax, \n",
    "                                  lw=3, c=\"k\", legend=False)\n",
    "    ax = rds[1].plot(x='r', y='v', yerr='err', ax=ax, \n",
    "                                  lw=3, c=\"k\", legend=False)\n",
    "    ax = rds[2].plot(x='r', y='v', yerr='err', ax=ax, \n",
    "                                   lw=3, c=\"k\", legend=False)\n",
    "    ax.set_ylabel(\"Velocity (km/s)\")\n",
    "    ax.set_xlabel(\"radius (kpc)\")\n",
    "    ax.text(rds[0].r, rds[0].v - rds[0].dv, \n",
    "            \"{:.1f} \\n({:.1f}, {:.1f})\".format(\n",
    "                *rds[0][[\"v\", \"dv\", \"err\"]].values[0]), ha=\"center\", va=\"top\")\n",
    "    ax.text(rds[1].r, rds[1].v - rds[1].dv, \n",
    "            \"{:.1f} \\n({:.1f}, {:.1f})\".format(\n",
    "                *rds[1][[\"v\", \"dv\", \"err\"]].values[0]), ha=\"center\", va=\"top\")\n",
    "    ax.text(rds[2].r, rds[2].v - rds[2].dv, \n",
    "            \"{:.1f} \\n({:.1f}, {:.1f})\".format(\n",
    "                *rds[2][[\"v\", \"dv\", \"err\"]].values[0]), ha=\"center\", va=\"top\")\n",
    "    ax.set_xlim(0, rds[2].r.values[0] * 1.2);\n",
    "plotGal(m31, m31Rds)\n",
    "#m31, m31Rds"
   ]
  },
  {
   "cell_type": "markdown",
   "metadata": {},
   "source": [
    "##### Figure 1: the rotational speed of the Andromeda galaxy, as measured from H regions in [Sofue 2015](http://www.ioa.s.u-tokyo.ac.jp/~sofue/htdocs/2015m31/2015-pasj-M31MW-DH.pdf). The velocity, and the standard error (SD) as its uncertainty, is indicated at the location of each measurement from the center of the galaxy. The location where a measurement is avalable outside but as close as possible to the limit of the visible component of Anstromeda, the nominal Andromeda radius, is shown in orange.  Locations at least twice as far and 3 times as far are shown in green and red respectively. For those three location the standard error (SE), typically larger than the SD, is also shown (black) ."
   ]
  },
  {
   "cell_type": "markdown",
   "metadata": {
    "colab_type": "text",
    "id": "bIbv3YrhTo0X"
   },
   "source": [
    "Write a function that for a given dataset and a given luminous radius and a given N \n",
    "  \n",
    "  1) uses the function above to find the radius at least as large as needed and the velocity at that radius, \n",
    "  \n",
    "  2) states the expected drop in rotational velocities according to Newton's law $v\\propto 1/r$\n",
    "  \n",
    "  3) calculates the ratio of radii and the ratio of velocities at N radii from the center N=1 and N=N (input, e.g. 2, 3 etc) with uncertainties, \n",
    "  \n",
    "  4) and stated whether that ratio is consistent within the uncertainties with Newton's law $v \\propto 1/r$\n",
    "  \n",
    "Your function should print \n",
    "\n",
    "     - the expected ratio based on the radii, \n",
    "     - the calculated ratio using ```dv```, and its uncertainty, - \n",
    "     - the 2-$\\sigma$ upper and lower limits of the calculated ratio\n",
    "     - whether the expected ratio is within the $2-\\sigma$ of the calculated ratio, \n",
    "  5) and the same using ```err```  instead of ```dv```"
   ]
  },
  {
   "cell_type": "markdown",
   "metadata": {},
   "source": [
    "# DELIVERABLe 8"
   ]
  },
  {
   "cell_type": "code",
   "execution_count": 34,
   "metadata": {
    "ExecuteTime": {
     "end_time": "2019-09-30T18:58:21.633096Z",
     "start_time": "2019-09-30T18:58:21.618473Z"
    },
    "colab": {},
    "colab_type": "code",
    "id": "1hhTw8N4OdDB"
   },
   "outputs": [],
   "source": [
    "errdic = {'dv': \"SD\",\n",
    "    \"err\": \"SE\"}\n",
    "#delete\n",
    "def vratios(gal, rds, rd, err='dv'):\n",
    "    \"\"\" calculates the significance of the difference between the measured and expected velocity ratios:\n",
    "    Parameters:\n",
    "    gal: a dataframe containing the measuremets for a galax: should contain features: r\tv\tdv\terr as columns\n",
    "    rds: the visible radius of the galaxy in the same units as r in gal\n",
    "    rd: the number of radii away from the center of the galaxy where to compare the measurements \n",
    "            (measurements are always compared to radius=1)\n",
    "    err: whether to use SD or SW as error. Default: SD\n",
    "    \n",
    "    Output: \n",
    "    prints statements about significance and plots the measurements and their uncertainties for comparison\n",
    "    \"\"\"\n",
    "    print(\"\\n\\n using {} as uncertainty\".format(errdic[err]))\n",
    "    rin, rout = rds[0], rds[rd - 1] # the index of the radius array starts with 0: 0 = 1 radius, 1 = 2 radii etc\n",
    "    \n",
    "    offset = {\"dv\": 0, \"err\":0.05}\n",
    "    #ratio of v\n",
    "    vratio = rin[\"v\"].values[0] / rout[\"v\"].values[0]\n",
    "    \n",
    "    #uncertainty in reatio of v\n",
    "    dv =  vratio * np.sqrt(\n",
    "        (rin[err].values[0] /\n",
    "            rin[\"v\"].values[0])**2 + \n",
    "        (rin[err].values[0] /\n",
    "            rin[\"v\"].values[0])**2)\n",
    "\n",
    "    expratiosq = rout.r.values[0] / rin.r.values[0]\n",
    "    expratio = np.sqrt(expratiosq)\n",
    "    \n",
    "    expratiosq_error = expratiosq * np.sqrt(\n",
    "    (rout.r.values[0]/\n",
    "            rerr)**2 + \n",
    "        (rin.r.values[0]/\n",
    "            rerr)**2) \n",
    "    \n",
    "    expratio_error = 0.5 * (expratiosq_error)**(0.5-1) \n",
    "\n",
    "    print(\"expected ratio of velocities {:.2f} +/- {:.2f}\".format(expratio, expratio_error))\n",
    "    print(r\"ratio of velocities {:.2f} +/- {:.2f}\".format(\n",
    "          vratio, dv))\n",
    "    \n",
    "    for sigma in [2,3]:\n",
    "        print (\"confidence level {}-sigma\".format(sigma))\n",
    "    \n",
    "    \n",
    "        ubound = vratio + dv * sigma\n",
    "        lbound = vratio - dv * sigma\n",
    "        print (\"\\t expected range {}-{}\".format(round(expratio - expratio_error * sigma, 2), \n",
    "                                                round(expratio + expratio_error * sigma, 2)))\n",
    "        print(\"\\t measurement upper bound ({}-sigma) {:.2f}\".format(sigma,\n",
    "          ubound))\n",
    "        print(\"\\t measurement lower bound ({}-sigma) {:.2f}\".format(sigma,\n",
    "          max(0, lbound)))\n",
    "        print(\"\\t ratios are the same at {}-sigma significance: {}\".format(\n",
    "            sigma, (round(ubound, 2) >= round(expratio - expratio_error * sigma, 2)) and \n",
    "                   (round(lbound, 2) <= round(expratio + expratio_error * sigma, 2))))\n",
    "        pl.errorbar(sigma - offset['err'] / 2 + offset[err], expratio, \n",
    "                    yerr=expratio_error * sigma, color='r')\n",
    "        \n",
    "        pl.errorbar(sigma - offset['err'] / 2 + offset[err], vratio, \n",
    "                    yerr=dv * sigma, color='b', alpha=0.8)\n",
    "        pl.text(sigma - offset['err'] / 2 + offset[err],  0.5 * (pl.ylim()[0] + pl.ylim()[1]), \n",
    "                errdic[err], \n",
    "                color=\"k\", va=\"center\", ha=\"center\", rotation=90)\n",
    "    \n",
    "    pl.text(2.5, vratio, \"measured\", color=\"b\", va=\"center\", ha=\"center\")\n",
    "    pl.text(2.5, expratio, \"expected\", color=\"r\", va=\"center\", ha=\"center\")\n",
    "    pl.yticks([vratio, expratio]) \n",
    "    pl.ylabel(\"velocity ratio\")\n",
    "    pl.xticks([2, 3]) \n",
    "    pl.xlabel(\"significance threshold (sigmas)\")\n",
    "    #print(vratio + 3*dv, G / kpc2m / r1 / (G / kpc2m / r2))"
   ]
  },
  {
   "cell_type": "code",
   "execution_count": 35,
   "metadata": {
    "ExecuteTime": {
     "end_time": "2019-09-30T18:58:22.372175Z",
     "start_time": "2019-09-30T18:58:22.257984Z"
    },
    "colab": {
     "base_uri": "https://localhost:8080/",
     "height": 323
    },
    "colab_type": "code",
    "id": "8TPkTIthOdDI",
    "outputId": "aee658a8-67ab-4078-84cd-23fac3de58d1"
   },
   "outputs": [
    {
     "name": "stdout",
     "output_type": "stream",
     "text": [
      "Andromeda, comparing measurements at 1 and 2 radii from the center\n",
      "\n",
      "\n",
      " using SD as uncertainty\n",
      "expected ratio of velocities 1.44 +/- 0.04\n",
      "ratio of velocities 1.00 +/- 0.07\n",
      "confidence level 2-sigma\n",
      "\t expected range 1.35-1.53\n",
      "\t measurement upper bound (2-sigma) 1.14\n",
      "\t measurement lower bound (2-sigma) 0.86\n",
      "\t ratios are the same at 2-sigma significance: False\n",
      "confidence level 3-sigma\n",
      "\t expected range 1.31-1.57\n",
      "\t measurement upper bound (3-sigma) 1.21\n",
      "\t measurement lower bound (3-sigma) 0.79\n",
      "\t ratios are the same at 3-sigma significance: False\n",
      "\n",
      "\n",
      " using SE as uncertainty\n",
      "expected ratio of velocities 1.44 +/- 0.04\n",
      "ratio of velocities 1.00 +/- 0.01\n",
      "confidence level 2-sigma\n",
      "\t expected range 1.35-1.53\n",
      "\t measurement upper bound (2-sigma) 1.02\n",
      "\t measurement lower bound (2-sigma) 0.98\n",
      "\t ratios are the same at 2-sigma significance: False\n",
      "confidence level 3-sigma\n",
      "\t expected range 1.31-1.57\n",
      "\t measurement upper bound (3-sigma) 1.03\n",
      "\t measurement lower bound (3-sigma) 0.97\n",
      "\t ratios are the same at 3-sigma significance: False\n"
     ]
    },
    {
     "data": {
      "image/png": "[encoded data removed]",
      "text/plain": [
       "<Figure size 432x288 with 1 Axes>"
      ]
     },
     "metadata": {
      "needs_background": "light"
     },
     "output_type": "display_data"
    }
   ],
   "source": [
    "print(\"Andromeda, comparing measurements at 1 and 2 radii from the center\")\n",
    "vratios(m31, m31Rds, 2)\n",
    "vratios(m31, m31Rds, 2, err='err')"
   ]
  },
  {
   "cell_type": "markdown",
   "metadata": {},
   "source": [
    "# not mandatory plot"
   ]
  },
  {
   "cell_type": "markdown",
   "metadata": {},
   "source": [
    "##### Figure 2: diagnostic plot: the expected  and measured velocity ratios for Andromeda and their uncertainties when using SD and SE as uncertainties in the velocity measurements (and propagating the uncertainty in the distance to represent the minimum uncertainty in the location of the measurement) - if the expected and measured velocity ratios were consistent, the errorbars would overlap"
   ]
  },
  {
   "cell_type": "code",
   "execution_count": 36,
   "metadata": {
    "ExecuteTime": {
     "end_time": "2019-09-30T18:58:24.012554Z",
     "start_time": "2019-09-30T18:58:23.914268Z"
    },
    "colab": {
     "base_uri": "https://localhost:8080/",
     "height": 153
    },
    "colab_type": "code",
    "id": "XeQoBcM7OdDP",
    "outputId": "6251baac-097f-425b-cff5-2ecbd662c34c"
   },
   "outputs": [
    {
     "name": "stdout",
     "output_type": "stream",
     "text": [
      "Andromeda, comparing measurements at 1 and 3 radii from the center\n",
      "\n",
      "\n",
      " using SD as uncertainty\n",
      "expected ratio of velocities 1.73 +/- 0.03\n",
      "ratio of velocities 1.08 +/- 0.08\n",
      "confidence level 2-sigma\n",
      "\t expected range 1.66-1.79\n",
      "\t measurement upper bound (2-sigma) 1.23\n",
      "\t measurement lower bound (2-sigma) 0.93\n",
      "\t ratios are the same at 2-sigma significance: False\n",
      "confidence level 3-sigma\n",
      "\t expected range 1.63-1.82\n",
      "\t measurement upper bound (3-sigma) 1.31\n",
      "\t measurement lower bound (3-sigma) 0.85\n",
      "\t ratios are the same at 3-sigma significance: False\n",
      "\n",
      "\n",
      " using SE as uncertainty\n",
      "expected ratio of velocities 1.73 +/- 0.03\n",
      "ratio of velocities 1.08 +/- 0.01\n",
      "confidence level 2-sigma\n",
      "\t expected range 1.66-1.79\n",
      "\t measurement upper bound (2-sigma) 1.10\n",
      "\t measurement lower bound (2-sigma) 1.06\n",
      "\t ratios are the same at 2-sigma significance: False\n",
      "confidence level 3-sigma\n",
      "\t expected range 1.63-1.82\n",
      "\t measurement upper bound (3-sigma) 1.11\n",
      "\t measurement lower bound (3-sigma) 1.05\n",
      "\t ratios are the same at 3-sigma significance: False\n"
     ]
    },
    {
     "data": {
      "image/png": "[encoded data removed]",
      "text/plain": [
       "<Figure size 432x288 with 1 Axes>"
      ]
     },
     "metadata": {
      "needs_background": "light"
     },
     "output_type": "display_data"
    }
   ],
   "source": [
    "print(\"Andromeda, comparing measurements at 1 and 3 radii from the center\")\n",
    "vratios(m31, m31Rds, 3)\n",
    "vratios(m31, m31Rds, 3, err='err')"
   ]
  },
  {
   "cell_type": "markdown",
   "metadata": {
    "ExecuteTime": {
     "end_time": "2019-09-28T19:12:20.290104Z",
     "start_time": "2019-09-28T19:12:20.287799Z"
    }
   },
   "source": [
    "##### Figure 3: Same as figure 2 for measurements at 3 radii instead of 2."
   ]
  },
  {
   "cell_type": "markdown",
   "metadata": {
    "ExecuteTime": {
     "end_time": "2019-08-02T00:36:41.637045Z",
     "start_time": "2019-08-02T00:36:41.634825Z"
    },
    "colab_type": "text",
    "id": "6me5k4c1OdDY"
   },
   "source": [
    "### Discuss!\n",
    "# FEEDBACK Student's consideration should include the fact that for Andromeda the measured velocity ratios are inconsistent with the prediction from Newtonian gravity, even when including the uncertainties. However, the uncertainties reported in the paper have very different magnitude. "
   ]
  },
  {
   "cell_type": "markdown",
   "metadata": {
    "colab_type": "text",
    "id": "QIHRn8UlOdDZ"
   },
   "source": [
    "## do the same for the Milky Way. If your functions were create properly you should be able to reuse them seamlessly"
   ]
  },
  {
   "cell_type": "markdown",
   "metadata": {},
   "source": [
    "# SAME DELIVERABLES (grade this half 20% altogether)"
   ]
  },
  {
   "cell_type": "code",
   "execution_count": 37,
   "metadata": {
    "ExecuteTime": {
     "end_time": "2019-09-30T18:58:26.041603Z",
     "start_time": "2019-09-30T18:58:26.039882Z"
    },
    "colab": {},
    "colab_type": "code",
    "id": "NVp9cJzv-Dic"
   },
   "outputs": [],
   "source": [
    "#delete all below"
   ]
  },
  {
   "cell_type": "code",
   "execution_count": 38,
   "metadata": {
    "ExecuteTime": {
     "end_time": "2019-09-30T18:58:26.457634Z",
     "start_time": "2019-09-30T18:58:26.305791Z"
    },
    "colab": {
     "base_uri": "https://localhost:8080/",
     "height": 204
    },
    "colab_type": "code",
    "id": "7CbKUPL5OdDa",
    "outputId": "e12ee931-8bcc-4db9-9c47-127fe1a8ec3f"
   },
   "outputs": [
    {
     "data": {
      "text/html": [
       "<div>\n",
       "<style scoped>\n",
       "    .dataframe tbody tr th:only-of-type {\n",
       "        vertical-align: middle;\n",
       "    }\n",
       "\n",
       "    .dataframe tbody tr th {\n",
       "        vertical-align: top;\n",
       "    }\n",
       "\n",
       "    .dataframe thead th {\n",
       "        text-align: right;\n",
       "    }\n",
       "</style>\n",
       "<table border=\"1\" class=\"dataframe\">\n",
       "  <thead>\n",
       "    <tr style=\"text-align: right;\">\n",
       "      <th></th>\n",
       "      <th>r</th>\n",
       "      <th>v</th>\n",
       "      <th>dv</th>\n",
       "      <th>err</th>\n",
       "    </tr>\n",
       "  </thead>\n",
       "  <tbody>\n",
       "    <tr>\n",
       "      <th>0</th>\n",
       "      <td>0.010</td>\n",
       "      <td>119.061</td>\n",
       "      <td>41.832</td>\n",
       "      <td>32.714</td>\n",
       "    </tr>\n",
       "    <tr>\n",
       "      <th>1</th>\n",
       "      <td>0.012</td>\n",
       "      <td>115.268</td>\n",
       "      <td>35.199</td>\n",
       "      <td>17.100</td>\n",
       "    </tr>\n",
       "    <tr>\n",
       "      <th>2</th>\n",
       "      <td>0.014</td>\n",
       "      <td>117.392</td>\n",
       "      <td>35.152</td>\n",
       "      <td>14.429</td>\n",
       "    </tr>\n",
       "    <tr>\n",
       "      <th>3</th>\n",
       "      <td>0.017</td>\n",
       "      <td>118.475</td>\n",
       "      <td>35.252</td>\n",
       "      <td>14.870</td>\n",
       "    </tr>\n",
       "    <tr>\n",
       "      <th>4</th>\n",
       "      <td>0.021</td>\n",
       "      <td>110.386</td>\n",
       "      <td>33.817</td>\n",
       "      <td>14.427</td>\n",
       "    </tr>\n",
       "  </tbody>\n",
       "</table>\n",
       "</div>"
      ],
      "text/plain": [
       "       r        v      dv     err\n",
       "0  0.010  119.061  41.832  32.714\n",
       "1  0.012  115.268  35.199  17.100\n",
       "2  0.014  117.392  35.152  14.429\n",
       "3  0.017  118.475  35.252  14.870\n",
       "4  0.021  110.386  33.817  14.427"
      ]
     },
     "execution_count": 38,
     "metadata": {},
     "output_type": "execute_result"
    }
   ],
   "source": [
    "mw = pd.read_csv(\"https://raw.githubusercontent.com/fedhere/DSPS/master/HW4/mw.csv\", \n",
    "                 skiprows=2, names=[\"r\",'v','dv','err'])\n",
    "mw.head()"
   ]
  },
  {
   "cell_type": "code",
   "execution_count": 39,
   "metadata": {
    "ExecuteTime": {
     "end_time": "2019-09-30T18:58:26.693019Z",
     "start_time": "2019-09-30T18:58:26.677182Z"
    },
    "colab": {
     "base_uri": "https://localhost:8080/",
     "height": 297
    },
    "colab_type": "code",
    "id": "A6YeUFhROdDd",
    "outputId": "fcf6e04d-db58-43cd-fb0d-0e633b29d7d6"
   },
   "outputs": [
    {
     "data": {
      "text/html": [
       "<div>\n",
       "<style scoped>\n",
       "    .dataframe tbody tr th:only-of-type {\n",
       "        vertical-align: middle;\n",
       "    }\n",
       "\n",
       "    .dataframe tbody tr th {\n",
       "        vertical-align: top;\n",
       "    }\n",
       "\n",
       "    .dataframe thead th {\n",
       "        text-align: right;\n",
       "    }\n",
       "</style>\n",
       "<table border=\"1\" class=\"dataframe\">\n",
       "  <thead>\n",
       "    <tr style=\"text-align: right;\">\n",
       "      <th></th>\n",
       "      <th>r</th>\n",
       "      <th>v</th>\n",
       "      <th>dv</th>\n",
       "      <th>err</th>\n",
       "    </tr>\n",
       "  </thead>\n",
       "  <tbody>\n",
       "    <tr>\n",
       "      <th>count</th>\n",
       "      <td>64.000000</td>\n",
       "      <td>64.000000</td>\n",
       "      <td>64.000000</td>\n",
       "      <td>64.000000</td>\n",
       "    </tr>\n",
       "    <tr>\n",
       "      <th>mean</th>\n",
       "      <td>142.281500</td>\n",
       "      <td>187.101219</td>\n",
       "      <td>48.249062</td>\n",
       "      <td>19.003297</td>\n",
       "    </tr>\n",
       "    <tr>\n",
       "      <th>std</th>\n",
       "      <td>348.144773</td>\n",
       "      <td>52.161901</td>\n",
       "      <td>41.255286</td>\n",
       "      <td>23.513466</td>\n",
       "    </tr>\n",
       "    <tr>\n",
       "      <th>min</th>\n",
       "      <td>0.010000</td>\n",
       "      <td>93.042000</td>\n",
       "      <td>3.370000</td>\n",
       "      <td>0.868000</td>\n",
       "    </tr>\n",
       "    <tr>\n",
       "      <th>25%</th>\n",
       "      <td>0.177250</td>\n",
       "      <td>138.676250</td>\n",
       "      <td>12.585500</td>\n",
       "      <td>2.709750</td>\n",
       "    </tr>\n",
       "    <tr>\n",
       "      <th>50%</th>\n",
       "      <td>3.133500</td>\n",
       "      <td>204.576000</td>\n",
       "      <td>35.288500</td>\n",
       "      <td>13.923000</td>\n",
       "    </tr>\n",
       "    <tr>\n",
       "      <th>75%</th>\n",
       "      <td>55.298250</td>\n",
       "      <td>235.920500</td>\n",
       "      <td>68.412750</td>\n",
       "      <td>24.791250</td>\n",
       "    </tr>\n",
       "    <tr>\n",
       "      <th>max</th>\n",
       "      <td>1682.532000</td>\n",
       "      <td>255.300000</td>\n",
       "      <td>165.096000</td>\n",
       "      <td>110.484000</td>\n",
       "    </tr>\n",
       "  </tbody>\n",
       "</table>\n",
       "</div>"
      ],
      "text/plain": [
       "                 r           v          dv         err\n",
       "count    64.000000   64.000000   64.000000   64.000000\n",
       "mean    142.281500  187.101219   48.249062   19.003297\n",
       "std     348.144773   52.161901   41.255286   23.513466\n",
       "min       0.010000   93.042000    3.370000    0.868000\n",
       "25%       0.177250  138.676250   12.585500    2.709750\n",
       "50%       3.133500  204.576000   35.288500   13.923000\n",
       "75%      55.298250  235.920500   68.412750   24.791250\n",
       "max    1682.532000  255.300000  165.096000  110.484000"
      ]
     },
     "execution_count": 39,
     "metadata": {},
     "output_type": "execute_result"
    }
   ],
   "source": [
    "mw.describe()"
   ]
  },
  {
   "cell_type": "markdown",
   "metadata": {
    "colab_type": "text",
    "id": "oxQofaCKOdDg"
   },
   "source": [
    "https://en.wikipedia.org/wiki/Milky_Way\n",
    "    "
   ]
  },
  {
   "cell_type": "code",
   "execution_count": 40,
   "metadata": {
    "ExecuteTime": {
     "end_time": "2019-09-30T18:58:27.290635Z",
     "start_time": "2019-09-30T18:58:27.287881Z"
    },
    "colab": {
     "base_uri": "https://localhost:8080/",
     "height": 34
    },
    "colab_type": "code",
    "id": "h1RYjLJYOdDi",
    "outputId": "311b3b4c-f6d6-4b02-aef0-0af874f3b1d0"
   },
   "outputs": [
    {
     "name": "stdout",
     "output_type": "stream",
     "text": [
      "26.825 kpc +/- 7.65 kpc\n"
     ]
    }
   ],
   "source": [
    "mwSize =  53.65 / 2 * u.kpc # visible component 150,000-200,000 ly = 46.0-61.3 kpc, mid opint 53.65, \n",
    "mwSizeError = 7.65 * u.kpc #uncertainty : (61.3-46.0)/2 kpc = 7.65 kpc\n",
    "print(mwSize, \"+/-\", mwSizeError)#, m31SizeError"
   ]
  },
  {
   "cell_type": "code",
   "execution_count": 41,
   "metadata": {
    "ExecuteTime": {
     "end_time": "2019-09-30T18:58:27.636225Z",
     "start_time": "2019-09-30T18:58:27.621044Z"
    },
    "colab": {
     "base_uri": "https://localhost:8080/",
     "height": 85
    },
    "colab_type": "code",
    "id": "S-HOLrMqOdDl",
    "outputId": "fca3a74f-b14d-4e30-e9b1-097b35b48a90"
   },
   "outputs": [
    {
     "name": "stdout",
     "output_type": "stream",
     "text": [
      "         r        v      dv     err\n",
      "44  30.477  240.165  74.879  20.538\n",
      "         r        v      dv     err\n",
      "48  63.198  177.979  47.004  16.345\n",
      "         r        v      dv     err\n",
      "50  91.005  179.697  62.587  20.907\n"
     ]
    }
   ],
   "source": [
    "mwRds = (getradii(mw, mwSize, 1), getradii(mw, mwSize, 2), getradii(mw, mwSize, 3))\n",
    "print(mwRds[0]), print(mwRds[1]), print(mwRds[2]);"
   ]
  },
  {
   "cell_type": "code",
   "execution_count": 42,
   "metadata": {
    "ExecuteTime": {
     "end_time": "2019-09-30T18:58:28.282590Z",
     "start_time": "2019-09-30T18:58:28.069721Z"
    },
    "colab": {
     "base_uri": "https://localhost:8080/",
     "height": 283
    },
    "colab_type": "code",
    "id": "6VRsYLpBOdDs",
    "outputId": "4548e81f-22e9-4ee9-8c9b-8cef9263b790"
   },
   "outputs": [
    {
     "data": {
      "image/png": "[encoded data removed]",
      "text/plain": [
       "<Figure size 432x288 with 1 Axes>"
      ]
     },
     "metadata": {
      "needs_background": "light"
     },
     "output_type": "display_data"
    }
   ],
   "source": [
    "plotGal(mw, mwRds)"
   ]
  },
  {
   "cell_type": "markdown",
   "metadata": {},
   "source": [
    "##### Figure 4: Same as figure 1 but for the Milky Way. The Milky Way radius is estimated from estimated of its visible component (Wikipedia reports 150,000-200,000 light years)."
   ]
  },
  {
   "cell_type": "code",
   "execution_count": 44,
   "metadata": {
    "ExecuteTime": {
     "end_time": "2019-09-30T18:58:44.304825Z",
     "start_time": "2019-09-30T18:58:44.115764Z"
    },
    "colab": {
     "base_uri": "https://localhost:8080/",
     "height": 612
    },
    "colab_type": "code",
    "id": "MRN83TO_OdDx",
    "outputId": "0c2f520e-8a59-4d8b-c67e-c6ffc4ca6968"
   },
   "outputs": [
    {
     "name": "stdout",
     "output_type": "stream",
     "text": [
      "MW, comparing measurements at 1 and 2 radii from the center\n",
      "\n",
      "\n",
      " using SD as uncertainty\n",
      "expected ratio of velocities 1.44 +/- 0.04\n",
      "ratio of velocities 1.35 +/- 0.59\n",
      "confidence level 2-sigma\n",
      "\t expected range 1.36-1.52\n",
      "\t measurement upper bound (2-sigma) 2.54\n",
      "\t measurement lower bound (2-sigma) 0.16\n",
      "\t ratios are the same at 2-sigma significance: True\n",
      "confidence level 3-sigma\n",
      "\t expected range 1.32-1.56\n",
      "\t measurement upper bound (3-sigma) 3.13\n",
      "\t measurement lower bound (3-sigma) 0.00\n",
      "\t ratios are the same at 3-sigma significance: True\n",
      "\n",
      "\n",
      "\n",
      " using SE as uncertainty\n",
      "expected ratio of velocities 1.44 +/- 0.04\n",
      "ratio of velocities 1.35 +/- 0.16\n",
      "confidence level 2-sigma\n",
      "\t expected range 1.36-1.52\n",
      "\t measurement upper bound (2-sigma) 1.68\n",
      "\t measurement lower bound (2-sigma) 1.02\n",
      "\t ratios are the same at 2-sigma significance: True\n",
      "confidence level 3-sigma\n",
      "\t expected range 1.32-1.56\n",
      "\t measurement upper bound (3-sigma) 1.84\n",
      "\t measurement lower bound (3-sigma) 0.86\n",
      "\t ratios are the same at 3-sigma significance: True\n",
      "\n"
     ]
    },
    {
     "data": {
      "image/png": "[encoded data removed]",
      "text/plain": [
       "<Figure size 432x288 with 1 Axes>"
      ]
     },
     "metadata": {
      "needs_background": "light"
     },
     "output_type": "display_data"
    },
    {
     "name": "stdout",
     "output_type": "stream",
     "text": [
      "MW, comparing measurements at 1 and 3 radii from the center\n",
      "\n",
      "\n",
      " using SD as uncertainty\n",
      "expected ratio of velocities 1.73 +/- 0.03\n",
      "ratio of velocities 1.34 +/- 0.59\n",
      "confidence level 2-sigma\n",
      "\t expected range 1.67-1.78\n",
      "\t measurement upper bound (2-sigma) 2.52\n",
      "\t measurement lower bound (2-sigma) 0.16\n",
      "\t ratios are the same at 2-sigma significance: True\n",
      "confidence level 3-sigma\n",
      "\t expected range 1.64-1.81\n",
      "\t measurement upper bound (3-sigma) 3.10\n",
      "\t measurement lower bound (3-sigma) 0.00\n",
      "\t ratios are the same at 3-sigma significance: True\n",
      "\n",
      "\n",
      "\n",
      " using SE as uncertainty\n",
      "expected ratio of velocities 1.73 +/- 0.03\n",
      "ratio of velocities 1.34 +/- 0.16\n",
      "confidence level 2-sigma\n",
      "\t expected range 1.67-1.78\n",
      "\t measurement upper bound (2-sigma) 1.66\n",
      "\t measurement lower bound (2-sigma) 1.01\n",
      "\t ratios are the same at 2-sigma significance: False\n",
      "confidence level 3-sigma\n",
      "\t expected range 1.64-1.81\n",
      "\t measurement upper bound (3-sigma) 1.82\n",
      "\t measurement lower bound (3-sigma) 0.85\n",
      "\t ratios are the same at 3-sigma significance: True\n"
     ]
    },
    {
     "data": {
      "image/png": "[encoded data removed]",
      "text/plain": [
       "<Figure size 432x288 with 1 Axes>"
      ]
     },
     "metadata": {
      "needs_background": "light"
     },
     "output_type": "display_data"
    }
   ],
   "source": [
    "print(\"MW, comparing measurements at 1 and 2 radii from the center\")\n",
    "vratios(mw, mwRds, 2)\n",
    "print ()\n",
    "vratios(mw, mwRds, 2, \"err\")\n",
    "print ()\n",
    "pl.show()\n",
    "print(\"MW, comparing measurements at 1 and 3 radii from the center\")\n",
    "vratios(mw, mwRds, 3)\n",
    "print()\n",
    "vratios(mw, mwRds, 3, \"err\")"
   ]
  },
  {
   "cell_type": "markdown",
   "metadata": {
    "colab_type": "text",
    "id": "KO4yYN8XOdFA"
   },
   "source": [
    "# FEEDBACK Students should notice that for the MW the uncertainties overlat! this is true for all cases when comparing the measurements at 2 radii, and true when compating the measurements at 3 adii with the confidence level is 2 sigma and standard deviation is used. If they used 2-sigma then it is true in all cases"
   ]
  },
  {
   "cell_type": "code",
   "execution_count": null,
   "metadata": {
    "colab": {},
    "colab_type": "code",
    "id": "ABmeX1EyOdFN"
   },
   "outputs": [],
   "source": []
  },
  {
   "cell_type": "code",
   "execution_count": null,
   "metadata": {
    "colab": {},
    "colab_type": "code",
    "id": "zCgeNE99-CAV"
   },
   "outputs": [],
   "source": []
  },
  {
   "cell_type": "code",
   "execution_count": null,
   "metadata": {},
   "outputs": [],
   "source": []
  },
  {
   "cell_type": "code",
   "execution_count": null,
   "metadata": {},
   "outputs": [],
   "source": []
  },
  {
   "cell_type": "code",
   "execution_count": null,
   "metadata": {},
   "outputs": [],
   "source": []
  }
 ],
 "metadata": {
  "colab": {
   "collapsed_sections": [
    "6me5k4c1OdDY"
   ],
   "name": "MWrotCurve.ipynb",
   "provenance": []
  },
  "kernelspec": {
   "display_name": "Python 3",
   "language": "python",
   "name": "python3"
  },
  "language_info": {
   "codemirror_mode": {
    "name": "ipython",
    "version": 3
   },
   "file_extension": ".py",
   "mimetype": "text/x-python",
   "name": "python",
   "nbconvert_exporter": "python",
   "pygments_lexer": "ipython3",
   "version": "3.7.3"
  },
  "latex_envs": {
   "LaTeX_envs_menu_present": true,
   "autoclose": false,
   "autocomplete": true,
   "bibliofile": "biblio.bib",
   "cite_by": "apalike",
   "current_citInitial": 1,
   "eqLabelWithNumbers": true,
   "eqNumInitial": 1,
   "hotkeys": {
    "equation": "Ctrl-E",
    "itemize": "Ctrl-I"
   },
   "labels_anchors": false,
   "latex_user_defs": false,
   "report_style_numbering": false,
   "user_envs_cfg": false
  },
  "nbTranslate": {
   "displayLangs": [
    "*"
   ],
   "hotkey": "alt-t",
   "langInMainMenu": true,
   "sourceLang": "en",
   "targetLang": "fr",
   "useGoogleTranslate": true
  },
  "toc": {
   "base_numbering": 1,
   "nav_menu": {},
   "number_sections": true,
   "sideBar": true,
   "skip_h1_title": false,
   "title_cell": "Table of Contents",
   "title_sidebar": "Contents",
   "toc_cell": false,
   "toc_position": {
    "height": "calc(100% - 180px)",
    "left": "10px",
    "top": "150px",
    "width": "165px"
   },
   "toc_section_display": true,
   "toc_window_display": true
  }
 },
 "nbformat": 4,
 "nbformat_minor": 1
}
