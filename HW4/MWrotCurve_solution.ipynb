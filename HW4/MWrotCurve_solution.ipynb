{
  "nbformat": 4,
  "nbformat_minor": 0,
  "metadata": {
    "kernelspec": {
      "display_name": "Python 3",
      "language": "python",
      "name": "python3"
    },
    "language_info": {
      "codemirror_mode": {
        "name": "ipython",
        "version": 3
      },
      "file_extension": ".py",
      "mimetype": "text/x-python",
      "name": "python",
      "nbconvert_exporter": "python",
      "pygments_lexer": "ipython3",
      "version": "3.6.7"
    },
    "nbTranslate": {
      "displayLangs": [
        "*"
      ],
      "hotkey": "alt-t",
      "langInMainMenu": true,
      "sourceLang": "en",
      "targetLang": "fr",
      "useGoogleTranslate": true
    },
    "toc": {
      "base_numbering": 1,
      "colors": {
        "hover_highlight": "#DAA520",
        "running_highlight": "#FF0000",
        "selected_highlight": "#FFD700"
      },
      "moveMenuLeft": true,
      "nav_menu": {},
      "navigate_menu": true,
      "number_sections": true,
      "sideBar": true,
      "skip_h1_title": false,
      "threshold": 4,
      "title_cell": "Table of Contents",
      "title_sidebar": "Contents",
      "toc_cell": false,
      "toc_position": {
        "height": "calc(100% - 180px)",
        "left": "10px",
        "top": "150px",
        "width": "165px"
      },
      "toc_section_display": true,
      "toc_window_display": true
    },
    "colab": {
      "name": "MWrotCurve.ipynb",
      "provenance": [],
      "include_colab_link": true
    }
  },
  "cells": [
    {
      "cell_type": "markdown",
      "metadata": {
        "id": "view-in-github",
        "colab_type": "text"
      },
      "source": [
        "<a href=\"https://colab.research.google.com/github/fedhere/DSPSsolutions/blob/master/MWrotCurve.ipynb\" target=\"_parent\"><img src=\"https://colab.research.google.com/assets/colab-badge.svg\" alt=\"Open In Colab\"/></a>"
      ]
    },
    {
      "cell_type": "markdown",
      "metadata": {
        "run_control": {
          "frozen": false,
          "read_only": false
        },
        "id": "rxa6Xa3jOdCI",
        "colab_type": "text"
      },
      "source": [
        "prepared by federica b bianco @fedhere\n",
        "for UDel DSPS PHYS 467/667\n",
        "\n",
        "# testing the significance of Dark Matter"
      ]
    },
    {
      "cell_type": "code",
      "metadata": {
        "ExecuteTime": {
          "end_time": "2019-09-16T17:54:57.244596Z",
          "start_time": "2019-09-16T17:54:57.231090Z"
        },
        "run_control": {
          "frozen": false,
          "read_only": false
        },
        "id": "Ya2RaOGbOdCJ",
        "colab_type": "code",
        "outputId": "788507b1-3204-47ed-edae-1155b1662bb4",
        "colab": {
          "base_uri": "https://localhost:8080/",
          "height": 34
        }
      },
      "source": [
        "import pandas as pd\n",
        "import numpy as np\n",
        "import pylab as pl\n",
        "%pylab inline\n",
        "\n",
        "\n",
        "#package I will use for constants and units conversion \n",
        "import astropy\n",
        "from astropy.constants import G\n",
        "\n",
        "from IPython.display import Latex\n",
        "\n"
      ],
      "execution_count": 0,
      "outputs": [
        {
          "output_type": "stream",
          "text": [
            "Populating the interactive namespace from numpy and matplotlib\n"
          ],
          "name": "stdout"
        }
      ]
    },
    {
      "cell_type": "markdown",
      "metadata": {
        "id": "4qp8A2TG1Gwb",
        "colab_type": "text"
      },
      "source": [
        "In 1970 Vera Rubin published a seminal paper: she measeured the rotational speed of HII regions in several galaxies and how it changed as a function of distance to the center of the galaxy. If we believe Newtonian gravity (or GR) we expext that _once all of the mass is included_, i.e. at a radius distance from the center of the galaxy larger than the radius of the galaxy itself, the rotational speed will be proportional to $v\\propto\\frac{1}/{r}$"
      ]
    },
    {
      "cell_type": "markdown",
      "metadata": {
        "run_control": {
          "frozen": false,
          "read_only": false
        },
        "id": "j-BDrNseOdCR",
        "colab_type": "text"
      },
      "source": [
        "## Propagation of  uncertainties rules\n",
        "\n",
        "below are the basic ruled for propagation of uncertainties - use [this as reference](https://github.com/fedhere/DSPS/blob/master/resources/Managing%20Errors%20and%20Uncertainty.pdf)"
      ]
    },
    {
      "cell_type": "markdown",
      "metadata": {
        "id": "4LnLCwYpPYSv",
        "colab_type": "text"
      },
      "source": [
        ""
      ]
    },
    {
      "cell_type": "markdown",
      "metadata": {
        "id": "iCrFipBzOzqp",
        "colab_type": "text"
      },
      "source": [
        "\n",
        "\n",
        "\n",
        "$$\n",
        "\\begin{eqnarray}\n",
        "z = x  \\pm y  ~| & ~  &dz = \\sqrt{dx^2 + dy^2} \n",
        "\\\\\n",
        "z = x * y  ~| & ~& dz = |xy|  \\sqrt{\\left(\\frac{dx}{x}\\right)^2 + \n",
        "                                \\left(\\frac{dy}{y}\\right)^2} \\\\\n",
        "z = x / y  ~| & ~& dz = \\left|\\frac{x}{y}\\right| \\sqrt{\\left(\\frac{dx}{x}\\right)^2 + \n",
        "                                                   \\left(\\frac{dy}{y}\\right)^2} \\\\\n",
        "z = x^n ~| & ~& dz = |n| ~ x^{n-1}  dx \\\\\n",
        "z = \\mathrm{c}x ~| & ~& dz = |\\mathrm{c}| ~dx \\\\\n",
        "z = f(x, y) ~| & ~& dz = \\sqrt{\\left(\\frac{\\partial f}{\\partial x}\\right)^2 dx^2 +\\left(\\frac{\\partial f}{\\partial y}\\right)^2 dy^2} \\\\\n",
        "\\end{eqnarray}\n",
        "$$\n"
      ]
    },
    {
      "cell_type": "markdown",
      "metadata": {
        "run_control": {
          "frozen": false,
          "read_only": false
        },
        "id": "WcF0zlWCOdCX",
        "colab_type": "text"
      },
      "source": [
        "# let's assume a Newtonian framework: \n",
        "the velocity of a body in orbit depends only on the gravitational field of the mass that attracts it, and we can assume that mass is concentrated in the center of mass of (the center for simplicity) the system\n",
        "\n",
        "with G the gravitational constant, $r$ the radius, and $m(r)$ the mass contained within that radius we have the orbital velocity $v$:\n"
      ]
    },
    {
      "cell_type": "markdown",
      "metadata": {
        "id": "ZON0DKl5Qm2S",
        "colab_type": "text"
      },
      "source": [
        "\n",
        "$v = \\frac{G \\cdot m(r)}{r}$\n"
      ]
    },
    {
      "cell_type": "markdown",
      "metadata": {
        "id": "lVfy9lJ21xMT",
        "colab_type": "text"
      },
      "source": [
        "Derive this $v\\propto\\frac{1}{r}$ from Newron's law $F~=~\\frac{GMm}{r^2}$. Write each formula and describe each step. You can use latex (you really just need to know ```\\frac{}``` and ```^```) and this reference\n",
        "https://www.physicsclassroom.com/calcpad/circgrav"
      ]
    },
    {
      "cell_type": "markdown",
      "metadata": {
        "run_control": {
          "frozen": false,
          "read_only": false
        },
        "id": "KQAEJtWuOdCb",
        "colab_type": "text"
      },
      "source": [
        "## M31 rotational curve"
      ]
    },
    {
      "cell_type": "markdown",
      "metadata": {
        "ExecuteTime": {
          "end_time": "2019-08-02T01:34:15.029084Z",
          "start_time": "2019-08-02T01:34:15.026604Z"
        },
        "run_control": {
          "frozen": false,
          "read_only": false
        },
        "id": "BTaXzFYeOdCc",
        "colab_type": "text"
      },
      "source": [
        "### data ingestion\n",
        "( I store the original paper as a link on another computer now I have to find it again :-( - sorry I will updat the reference )\n",
        "\n",
        "Get the data from the github repository https://github.com/fedhere/DSPS/tree/master/HW4 : there are 2 files: mw.csv and m31.csv. Start with M31, the Andromeda galaxy, Vera Rubin's original targer."
      ]
    },
    {
      "cell_type": "markdown",
      "metadata": {
        "id": "_iFrkUYEV1SS",
        "colab_type": "text"
      },
      "source": [
        "Note that the data contains 2 types of uncertainties: one significantly smaller than the other. The ```dv``` uncertainty is the propagation of the uncertainty in the location of the HII line. The uncertainty called ```err``` if the full error budget:  including _all_ sources of uncertainty and not just the uncertainty in measuring the location of the line. Retain both, you will test your hypothesis with each one to see if it matters which uncertainty you choose"
      ]
    },
    {
      "cell_type": "code",
      "metadata": {
        "ExecuteTime": {
          "end_time": "2019-08-02T01:34:33.446619Z",
          "start_time": "2019-08-02T01:34:33.435793Z"
        },
        "run_control": {
          "frozen": false,
          "read_only": false
        },
        "id": "eZ7nr5DROdCd",
        "colab_type": "code",
        "colab": {}
      },
      "source": [
        "# deleate \n",
        "m31 = pd.read_csv(\"https://raw.githubusercontent.com/fedhere/DSPS/master/HW4/m31.csv\", skiprows=2, names=[\"r\",'v','dv','err'])\n"
      ],
      "execution_count": 0,
      "outputs": []
    },
    {
      "cell_type": "code",
      "metadata": {
        "id": "luL5UrsNQ1M1",
        "colab_type": "code",
        "outputId": "430fe696-a4aa-49a3-8c57-8d08dfc3fa5b",
        "colab": {
          "base_uri": "https://localhost:8080/",
          "height": 204
        }
      },
      "source": [
        "\n",
        "m31.head()"
      ],
      "execution_count": 0,
      "outputs": [
        {
          "output_type": "execute_result",
          "data": {
            "text/html": [
              "<div>\n",
              "<style scoped>\n",
              "    .dataframe tbody tr th:only-of-type {\n",
              "        vertical-align: middle;\n",
              "    }\n",
              "\n",
              "    .dataframe tbody tr th {\n",
              "        vertical-align: top;\n",
              "    }\n",
              "\n",
              "    .dataframe thead th {\n",
              "        text-align: right;\n",
              "    }\n",
              "</style>\n",
              "<table border=\"1\" class=\"dataframe\">\n",
              "  <thead>\n",
              "    <tr style=\"text-align: right;\">\n",
              "      <th></th>\n",
              "      <th>r</th>\n",
              "      <th>v</th>\n",
              "      <th>dv</th>\n",
              "      <th>err</th>\n",
              "    </tr>\n",
              "  </thead>\n",
              "  <tbody>\n",
              "    <tr>\n",
              "      <th>0</th>\n",
              "      <td>0.100</td>\n",
              "      <td>183.939</td>\n",
              "      <td>0.000</td>\n",
              "      <td>0.000</td>\n",
              "    </tr>\n",
              "    <tr>\n",
              "      <th>1</th>\n",
              "      <td>0.120</td>\n",
              "      <td>190.710</td>\n",
              "      <td>10.265</td>\n",
              "      <td>12.191</td>\n",
              "    </tr>\n",
              "    <tr>\n",
              "      <th>2</th>\n",
              "      <td>0.144</td>\n",
              "      <td>204.141</td>\n",
              "      <td>22.634</td>\n",
              "      <td>21.808</td>\n",
              "    </tr>\n",
              "    <tr>\n",
              "      <th>3</th>\n",
              "      <td>0.173</td>\n",
              "      <td>207.601</td>\n",
              "      <td>4.573</td>\n",
              "      <td>4.200</td>\n",
              "    </tr>\n",
              "    <tr>\n",
              "      <th>4</th>\n",
              "      <td>0.207</td>\n",
              "      <td>210.188</td>\n",
              "      <td>3.943</td>\n",
              "      <td>3.258</td>\n",
              "    </tr>\n",
              "  </tbody>\n",
              "</table>\n",
              "</div>"
            ],
            "text/plain": [
              "       r        v      dv     err\n",
              "0  0.100  183.939   0.000   0.000\n",
              "1  0.120  190.710  10.265  12.191\n",
              "2  0.144  204.141  22.634  21.808\n",
              "3  0.173  207.601   4.573   4.200\n",
              "4  0.207  210.188   3.943   3.258"
            ]
          },
          "metadata": {
            "tags": []
          },
          "execution_count": 10
        }
      ]
    },
    {
      "cell_type": "code",
      "metadata": {
        "ExecuteTime": {
          "end_time": "2019-08-02T01:35:26.395158Z",
          "start_time": "2019-08-02T01:35:26.373338Z"
        },
        "run_control": {
          "frozen": false,
          "read_only": false
        },
        "id": "QsNRokb1OdCh",
        "colab_type": "code",
        "outputId": "98cb8422-700e-4d77-d2b8-cf6f3d4021aa",
        "colab": {
          "base_uri": "https://localhost:8080/",
          "height": 297
        }
      },
      "source": [
        "m31.describe()"
      ],
      "execution_count": 0,
      "outputs": [
        {
          "output_type": "execute_result",
          "data": {
            "text/html": [
              "<div>\n",
              "<style scoped>\n",
              "    .dataframe tbody tr th:only-of-type {\n",
              "        vertical-align: middle;\n",
              "    }\n",
              "\n",
              "    .dataframe tbody tr th {\n",
              "        vertical-align: top;\n",
              "    }\n",
              "\n",
              "    .dataframe thead th {\n",
              "        text-align: right;\n",
              "    }\n",
              "</style>\n",
              "<table border=\"1\" class=\"dataframe\">\n",
              "  <thead>\n",
              "    <tr style=\"text-align: right;\">\n",
              "      <th></th>\n",
              "      <th>r</th>\n",
              "      <th>v</th>\n",
              "      <th>dv</th>\n",
              "      <th>err</th>\n",
              "    </tr>\n",
              "  </thead>\n",
              "  <tbody>\n",
              "    <tr>\n",
              "      <th>count</th>\n",
              "      <td>55.000000</td>\n",
              "      <td>55.000000</td>\n",
              "      <td>55.000000</td>\n",
              "      <td>55.000000</td>\n",
              "    </tr>\n",
              "    <tr>\n",
              "      <th>mean</th>\n",
              "      <td>205.853182</td>\n",
              "      <td>226.079255</td>\n",
              "      <td>55.034818</td>\n",
              "      <td>16.165855</td>\n",
              "    </tr>\n",
              "    <tr>\n",
              "      <th>std</th>\n",
              "      <td>415.523904</td>\n",
              "      <td>42.799892</td>\n",
              "      <td>49.254792</td>\n",
              "      <td>14.876951</td>\n",
              "    </tr>\n",
              "    <tr>\n",
              "      <th>min</th>\n",
              "      <td>0.100000</td>\n",
              "      <td>121.974000</td>\n",
              "      <td>0.000000</td>\n",
              "      <td>0.000000</td>\n",
              "    </tr>\n",
              "    <tr>\n",
              "      <th>25%</th>\n",
              "      <td>1.177000</td>\n",
              "      <td>208.894500</td>\n",
              "      <td>11.945500</td>\n",
              "      <td>3.224000</td>\n",
              "    </tr>\n",
              "    <tr>\n",
              "      <th>50%</th>\n",
              "      <td>13.737000</td>\n",
              "      <td>229.124000</td>\n",
              "      <td>30.697000</td>\n",
              "      <td>12.065000</td>\n",
              "    </tr>\n",
              "    <tr>\n",
              "      <th>75%</th>\n",
              "      <td>161.675000</td>\n",
              "      <td>244.102500</td>\n",
              "      <td>99.980000</td>\n",
              "      <td>23.641000</td>\n",
              "    </tr>\n",
              "    <tr>\n",
              "      <th>max</th>\n",
              "      <td>1887.071000</td>\n",
              "      <td>414.942000</td>\n",
              "      <td>147.835000</td>\n",
              "      <td>54.110000</td>\n",
              "    </tr>\n",
              "  </tbody>\n",
              "</table>\n",
              "</div>"
            ],
            "text/plain": [
              "                 r           v          dv        err\n",
              "count    55.000000   55.000000   55.000000  55.000000\n",
              "mean    205.853182  226.079255   55.034818  16.165855\n",
              "std     415.523904   42.799892   49.254792  14.876951\n",
              "min       0.100000  121.974000    0.000000   0.000000\n",
              "25%       1.177000  208.894500   11.945500   3.224000\n",
              "50%      13.737000  229.124000   30.697000  12.065000\n",
              "75%     161.675000  244.102500   99.980000  23.641000\n",
              "max    1887.071000  414.942000  147.835000  54.110000"
            ]
          },
          "metadata": {
            "tags": []
          },
          "execution_count": 11
        }
      ]
    },
    {
      "cell_type": "markdown",
      "metadata": {
        "run_control": {
          "frozen": false,
          "read_only": false
        },
        "id": "Vv0Ut6vOOdCk",
        "colab_type": "text"
      },
      "source": [
        "from https://en.wikipedia.org/wiki/Andromeda_Galaxy get the extent of the luminous component of M31 (Andromeda). The distance of the Galaxy multiplied by the angular size will give you this information from basic trigonometry (make sure you convert the units properly, using astropy). Make sure you include the uncertainties! uncertainties in the distnce will give you the uncertainty in the size\n",
        "   \n",
        " "
      ]
    },
    {
      "cell_type": "code",
      "metadata": {
        "id": "kvIFr6D778ri",
        "colab_type": "code",
        "colab": {}
      },
      "source": [
        "#delete \n",
        "apparentSizeM31 = 3.167 #deg\n",
        "distanceM31 = (778, 33) # kpc \n"
      ],
      "execution_count": 0,
      "outputs": []
    },
    {
      "cell_type": "code",
      "metadata": {
        "ExecuteTime": {
          "end_time": "2019-08-02T01:35:41.413407Z",
          "start_time": "2019-08-02T01:35:41.408764Z"
        },
        "run_control": {
          "frozen": false,
          "read_only": false
        },
        "id": "tzGNh98hOdCl",
        "colab_type": "code",
        "outputId": "f4f75931-8975-474f-c096-709c08f03185",
        "colab": {
          "base_uri": "https://localhost:8080/",
          "height": 34
        }
      },
      "source": [
        "# note : by PEP8 standards the import should be at the top, I leave it here for hyou to see that I am using astropy.units now\n",
        "from astropy import units as u\n",
        "m31angS = apparentSizeM31 * u.degree\n",
        "print(\"Angular Size of the visible component of Andromeda: {:.2f}\".format(m31angS.to(u.rad)  ))"
      ],
      "execution_count": 0,
      "outputs": [
        {
          "output_type": "stream",
          "text": [
            "Angular Size of the visible component of Andromeda: 0.06 rad\n"
          ],
          "name": "stdout"
        }
      ]
    },
    {
      "cell_type": "markdown",
      "metadata": {
        "id": "cOw0Y4KNWTOZ",
        "colab_type": "text"
      },
      "source": [
        "Please make sure you print a sensible number of decimal digits! you have a  number of significant digits set set by the number of digit in the info you get from wikipedia"
      ]
    },
    {
      "cell_type": "markdown",
      "metadata": {
        "id": "hF2wXZ988QgS",
        "colab_type": "text"
      },
      "source": [
        "The distance, from Wikipedia, will have an uncertainty. Convert both to kiloparsecs Kpc"
      ]
    },
    {
      "cell_type": "code",
      "metadata": {
        "ExecuteTime": {
          "end_time": "2019-08-02T01:35:42.257553Z",
          "start_time": "2019-08-02T01:35:42.254539Z"
        },
        "run_control": {
          "frozen": false,
          "read_only": false
        },
        "id": "7-nEP6KrOdCo",
        "colab_type": "code",
        "colab": {}
      },
      "source": [
        "#delete\n",
        "m31Dist = distanceM31[0] * u.kpc\n",
        "m31DistErr = distanceM31[1] * u.kpc"
      ],
      "execution_count": 0,
      "outputs": []
    },
    {
      "cell_type": "code",
      "metadata": {
        "ExecuteTime": {
          "end_time": "2019-08-02T01:35:42.815232Z",
          "start_time": "2019-08-02T01:35:42.810316Z"
        },
        "run_control": {
          "frozen": false,
          "read_only": false
        },
        "id": "0y_V9AuFOdCv",
        "colab_type": "code",
        "outputId": "acf50c2b-dd86-45c4-c720-416d65d924ee",
        "colab": {
          "base_uri": "https://localhost:8080/",
          "height": 34
        }
      },
      "source": [
        "#delete\n",
        "m31Size = m31Dist * m31angS.to(u.rad)  \n",
        "m31SizeError = m31DistErr * m31angS.to(u.rad) \n",
        "print(\"Size of the visible component of Andromeda: \" + \n",
        "      r\"{:.0f} +/- {:2.1f}\".format(m31Size, m31SizeError  ))#, m31SizeError"
      ],
      "execution_count": 0,
      "outputs": [
        {
          "output_type": "stream",
          "text": [
            "Size of the visible component of Andromeda: 43 kpc rad +/- 1.8 kpc rad\n"
          ],
          "name": "stdout"
        }
      ]
    },
    {
      "cell_type": "markdown",
      "metadata": {
        "id": "_pTXgdTL8jv6",
        "colab_type": "text"
      },
      "source": [
        "Print the distance like I printed the angular size. \n",
        "\n",
        "To get the physical size of the visible component of andtomeda you can use simple trigonometri: $y = r * sin(\\alpha) ~ \\sim ~ r \\alpha $ for small angles \n",
        "\n",
        "\n",
        "Print the physical size of the Andromeda galaxy (remember decimal digits, proper formatting etc etc). \n"
      ]
    },
    {
      "cell_type": "markdown",
      "metadata": {
        "run_control": {
          "frozen": false,
          "read_only": false
        },
        "id": "97o52hRhOdCy",
        "colab_type": "text"
      },
      "source": [
        "### find the first measurement  in your data table that includes all the luminous mass. \n",
        "\n",
        "What is the smallest radius in your data where the luminous mass is completely included and what is the veolcity at that radius?\n",
        "You can do it by broadcasting (see homework 3)"
      ]
    },
    {
      "cell_type": "code",
      "metadata": {
        "ExecuteTime": {
          "end_time": "2019-08-02T02:10:47.943179Z",
          "start_time": "2019-08-02T02:10:47.937541Z"
        },
        "run_control": {
          "frozen": false,
          "read_only": false
        },
        "id": "JF31dWaBOdCz",
        "colab_type": "code",
        "outputId": "e1a34863-7b02-4b9f-d20b-5eb6f2cefcaf",
        "colab": {
          "base_uri": "https://localhost:8080/",
          "height": 34
        }
      },
      "source": [
        "m31[m31.r > m31Size].r.values[0]"
      ],
      "execution_count": 0,
      "outputs": [
        {
          "output_type": "execute_result",
          "data": {
            "text/plain": [
              "49.222"
            ]
          },
          "metadata": {
            "tags": []
          },
          "execution_count": 21
        }
      ]
    },
    {
      "cell_type": "markdown",
      "metadata": {
        "run_control": {
          "frozen": false,
          "read_only": false
        },
        "id": "TVWiU84XOdDA",
        "colab_type": "text"
      },
      "source": [
        "We expect the velocity to decrese as 1/r if all mass is included: the velocity at a radius twice as far as the radius that includes all the mass should be a factor 2 slower, three times as far a factor 3 slower. "
      ]
    },
    {
      "cell_type": "markdown",
      "metadata": {
        "id": "b096Ax33SiXl",
        "colab_type": "text"
      },
      "source": [
        "write a function that \n",
        "\n",
        "1. finds the smallest radius in the dataset that is at least N times the radius of the visible galaxy, \n",
        "\n",
        "2. taks as arguments:\n",
        "    - the data and \n",
        "    - N \n",
        "    - the size of the luminous component of the galaxy\n",
        " \n",
        "2. Returns the vaulue of the radius and its uncertainty and the velocity and its uncertainty"
      ]
    },
    {
      "cell_type": "code",
      "metadata": {
        "ExecuteTime": {
          "end_time": "2019-08-02T02:07:26.053511Z",
          "start_time": "2019-08-02T02:07:26.046677Z"
        },
        "run_control": {
          "frozen": false,
          "read_only": false
        },
        "id": "-_O34Bb7OdC2",
        "colab_type": "code",
        "outputId": "b50b8193-e0a6-42c3-bf53-4201e1fe35f6",
        "colab": {
          "base_uri": "https://localhost:8080/",
          "height": 85
        }
      },
      "source": [
        "#delete\n",
        "# first measurement including all mass\n",
        "def getradii(gal, gsize, n):\n",
        "    i = gal[gal.r > n * gsize].r.index[0]\n",
        "    # first measurement twice as far\n",
        "    r = gal.iloc[i:i+1]\n",
        "    return r\n",
        "  \n",
        "m31Rds = (getradii(m31, m31Size, 1),  \n",
        "          getradii(m31, m31Size, 2),  \n",
        "          getradii(m31, m31Size, 3))\n",
        "m31Rds"
      ],
      "execution_count": 0,
      "outputs": [
        {
          "output_type": "execute_result",
          "data": {
            "text/plain": [
              "(         r        v       dv     err\n",
              " 34  49.222  237.069  109.381  23.924,           r        v       dv     err\n",
              " 38  102.068  213.002  132.456  29.321,           r        v      dv     err\n",
              " 40  146.977  177.521  81.762  16.662)"
            ]
          },
          "metadata": {
            "tags": []
          },
          "execution_count": 22
        }
      ]
    },
    {
      "cell_type": "markdown",
      "metadata": {
        "ExecuteTime": {
          "end_time": "2019-08-01T18:13:58.231637Z",
          "start_time": "2019-08-01T18:13:58.229447Z"
        },
        "run_control": {
          "frozen": false,
          "read_only": false
        },
        "id": "ogu_iquzOdC5",
        "colab_type": "text"
      },
      "source": [
        "### data visualization"
      ]
    },
    {
      "cell_type": "markdown",
      "metadata": {
        "id": "kJ6MujVJUyel",
        "colab_type": "text"
      },
      "source": [
        "make a plot that shows\n",
        "\n",
        "1. the rotational curve of the galaxy (as a line)\n",
        "\n",
        "2. each velocity as an errorbar with error equal to err in the same color as the line in 1\n",
        "\n",
        "3. each velocity as an errorbar with error equal to dv in  the same color but a different line thickness\n",
        "\n",
        "\n",
        "4. the datapoint corresponding to N=1, 2, 3 each in a different color. \n",
        "\n",
        "5. add a legend that indivates the meaning of each color (```pl.legend()```)\n",
        "\n",
        "6. add a text that indicates the velocity and its uncertainty (dv and err) just below the largest errorbar (```pl.text()```)\n",
        "\n",
        "7. limit the x axis to the \"relevant\" portion of the data"
      ]
    },
    {
      "cell_type": "code",
      "metadata": {
        "ExecuteTime": {
          "end_time": "2019-08-02T03:01:27.556063Z",
          "start_time": "2019-08-02T03:01:27.302184Z"
        },
        "run_control": {
          "frozen": false,
          "read_only": false
        },
        "id": "7IMXYY8BOdC6",
        "colab_type": "code",
        "outputId": "2946ab11-0e34-447f-968f-1043a6622ec7",
        "colab": {
          "base_uri": "https://localhost:8080/",
          "height": 283
        }
      },
      "source": [
        "#delete leave plot\n",
        "def plotGal(gal, rds):\n",
        "    ax = gal.plot(x='r', y='v', yerr='dv')\n",
        "    ax = rds[0].plot(x='r', y='v', yerr='dv', ax=ax, \n",
        "                                 label=\"radius\")\n",
        "    ax = rds[1].plot(x='r', y='v', yerr='dv', ax=ax, \n",
        "                                  label=\"2xradius\")\n",
        "    ax = rds[2].plot(x='r', y='v', yerr='dv', ax=ax, \n",
        "                                  label=\"3xradius\")\n",
        "    ax = rds[0].plot(x='r', y='v', yerr='err', ax=ax, \n",
        "                                  lw=3, c=\"k\", legend=False)\n",
        "    ax = rds[1].plot(x='r', y='v', yerr='err', ax=ax, \n",
        "                                  lw=3, c=\"k\", legend=False)\n",
        "    ax = rds[2].plot(x='r', y='v', yerr='err', ax=ax, \n",
        "                                   lw=3, c=\"k\", legend=False)\n",
        "    ax.set_ylabel(\"Velocity (km/s)\")\n",
        "    ax.set_xlabel(\"radius (kpc)\")\n",
        "    ax.text(rds[0].r, rds[0].v - rds[0].dv, \n",
        "            \"{:.1f} \\n({:.1f}, {:.1f})\".format(\n",
        "                *rds[0][[\"v\", \"dv\", \"err\"]].values[0]), ha=\"center\", va=\"top\")\n",
        "    ax.text(rds[1].r, rds[1].v - rds[1].dv, \n",
        "            \"{:.1f} \\n({:.1f}, {:.1f})\".format(\n",
        "                *rds[1][[\"v\", \"dv\", \"err\"]].values[0]), ha=\"center\", va=\"top\")\n",
        "    ax.text(rds[2].r, rds[2].v - rds[2].dv, \n",
        "            \"{:.1f} \\n({:.1f}, {:.1f})\".format(\n",
        "                *rds[2][[\"v\", \"dv\", \"err\"]].values[0]), ha=\"center\", va=\"top\")\n",
        "    ax.set_xlim(0, rds[2].r.values[0] * 1.2);\n",
        "plotGal(m31, m31Rds)"
      ],
      "execution_count": 0,
      "outputs": [
        {
          "output_type": "display_data",
          "data": {
            "image/png": "[encoded data removed]",
            "text/plain": [
              "<Figure size 432x288 with 1 Axes>"
            ]
          },
          "metadata": {
            "tags": []
          }
        }
      ]
    },
    {
      "cell_type": "markdown",
      "metadata": {
        "id": "bIbv3YrhTo0X",
        "colab_type": "text"
      },
      "source": [
        "Write a functions that for a given dataset and a given luminous radius and a given N \n",
        "  \n",
        "  1) uses the function above to find the radius at least as large as needed and the velocity at that radius, \n",
        "  \n",
        "  2) states the expected drop in rotational velocities according to Newton's law $v\\propto 1/r$\n",
        "  \n",
        "  3) calculates the ratio of radii and the ratio of velocities velocities at N=1 and N=N (input) with uncertainties, \n",
        "  \n",
        "  4) and stated whether that ratio is consistent within the uncertainties with Newton's law $v \\propto 1/r$\n",
        "  \n",
        "Your function should print \n",
        "\n",
        "     - the expected ratio based on the radii, \n",
        "     - the calculated ratio using ```dv```, and its uncertainty, - \n",
        "     - the 3-$\\sigma$ upper and lower limits of the calculated ratio\n",
        "     - wheather the expected ratio is within the $3-\\sigma$ of the calculated ratio, \n",
        "  5) and the same using ```err```  insteada of ```dv```"
      ]
    },
    {
      "cell_type": "code",
      "metadata": {
        "ExecuteTime": {
          "end_time": "2019-08-02T02:22:18.485172Z",
          "start_time": "2019-08-02T02:22:18.477807Z"
        },
        "run_control": {
          "frozen": false,
          "read_only": false
        },
        "id": "1hhTw8N4OdDB",
        "colab_type": "code",
        "colab": {}
      },
      "source": [
        "#delete\n",
        "def vratios(gal, rds, rd, err='dv'):\n",
        "    print(\"\\n\\n using {} as uncertainty\".format(err))\n",
        "    rin, rout = rds[0], rds[rd]\n",
        "    vratio = rin[\"v\"].values[0] / rout[\"v\"].values[0]\n",
        "    dv =  vratio * np.sqrt(\n",
        "        (rin[err].values[0] /\n",
        "            rin[\"v\"].values[0])**2 + \n",
        "        (rin[err].values[0] /\n",
        "            rin[\"v\"].values[0])**2)\n",
        "    print(\"expected ratio of velocities {:.2f}\".format(rout.r.values[0] / rin.r.values[0]))\n",
        "    print(r\"ratio of velocities {:.2f} +/- {:.2f}\".format(\n",
        "          vratio, dv))\n",
        "    print(r\"measurement upper bound (3-sigma) {:.2f}\".format(\n",
        "          vratio + dv * 3))\n",
        "    print(r\"measurement lower bound (3-sigma) {:.2f}\".format(\n",
        "          max(0, vratio - dv * 3)))\n",
        "    print(\"rations are the same at 3-sigma significance: {}\".format((round(vratio + dv * 3, 2) >= \n",
        "                                           round(rout.r.values[0] / rin.r.values[0])) and (round(vratio - dv * 3, 2) <= \n",
        "                                           round(rout.r.values[0] / rin.r.values[0]))))\n",
        "    #print(vratio + 3*dv, G / kpc2m / r1 / (G / kpc2m / r2))"
      ],
      "execution_count": 0,
      "outputs": []
    },
    {
      "cell_type": "code",
      "metadata": {
        "ExecuteTime": {
          "end_time": "2019-08-02T02:22:20.233692Z",
          "start_time": "2019-08-02T02:22:20.225631Z"
        },
        "run_control": {
          "frozen": false,
          "read_only": false
        },
        "id": "8TPkTIthOdDI",
        "colab_type": "code",
        "outputId": "24b34ff0-1af9-4ecf-e133-a9cac8f6c09e",
        "colab": {
          "base_uri": "https://localhost:8080/",
          "height": 289
        }
      },
      "source": [
        "vratios(m31, m31Rds, 1)\n",
        "\n",
        "vratios(m31, m31Rds, 1, err='err')"
      ],
      "execution_count": 0,
      "outputs": [
        {
          "output_type": "stream",
          "text": [
            "\n",
            "\n",
            " using dv as uncertainty\n",
            "expected ratio of velocities 2.07\n",
            "ratio of velocities 1.11 +/- 0.73\n",
            "measurement upper bound (3-sigma) 3.29\n",
            "measurement lower bound (3-sigma) 0.00\n",
            "rations are the same at 3-sigma significance: True\n",
            "\n",
            "\n",
            " using err as uncertainty\n",
            "expected ratio of velocities 2.07\n",
            "ratio of velocities 1.11 +/- 0.16\n",
            "measurement upper bound (3-sigma) 1.59\n",
            "measurement lower bound (3-sigma) 0.64\n",
            "rations are the same at 3-sigma significance: False\n"
          ],
          "name": "stdout"
        }
      ]
    },
    {
      "cell_type": "code",
      "metadata": {
        "ExecuteTime": {
          "end_time": "2019-08-02T02:22:26.272266Z",
          "start_time": "2019-08-02T02:22:26.263760Z"
        },
        "run_control": {
          "frozen": false,
          "read_only": false
        },
        "id": "XeQoBcM7OdDP",
        "colab_type": "code",
        "outputId": "2b7fa14c-4db1-4a3b-8026-7db6c7c8c496",
        "colab": {
          "base_uri": "https://localhost:8080/",
          "height": 153
        }
      },
      "source": [
        "vratios(m31, m31Rds, 2)"
      ],
      "execution_count": 0,
      "outputs": [
        {
          "output_type": "stream",
          "text": [
            "\n",
            "\n",
            " using dv as uncertainty\n",
            "expected ratio of velocities 2.99\n",
            "ratio of velocities 1.34 +/- 0.87\n",
            "measurement upper bound (3-sigma) 3.95\n",
            "measurement lower bound (3-sigma) 0.00\n",
            "rations are the same at 3-sigma significance: True\n"
          ],
          "name": "stdout"
        }
      ]
    },
    {
      "cell_type": "code",
      "metadata": {
        "ExecuteTime": {
          "end_time": "2019-08-02T02:24:18.604569Z",
          "start_time": "2019-08-02T02:24:18.596278Z"
        },
        "run_control": {
          "frozen": false,
          "read_only": false
        },
        "id": "Stigi9P_OdDW",
        "colab_type": "code",
        "outputId": "7b573372-f037-4090-e2cb-6a34b1ebfaff",
        "colab": {
          "base_uri": "https://localhost:8080/",
          "height": 153
        }
      },
      "source": [
        "vratios(m31, m31Rds, 2, err='err')"
      ],
      "execution_count": 0,
      "outputs": [
        {
          "output_type": "stream",
          "text": [
            "\n",
            "\n",
            " using err as uncertainty\n",
            "expected ratio of velocities 2.99\n",
            "ratio of velocities 1.34 +/- 0.19\n",
            "measurement upper bound (3-sigma) 1.91\n",
            "measurement lower bound (3-sigma) 0.76\n",
            "rations are the same at 3-sigma significance: False\n"
          ],
          "name": "stdout"
        }
      ]
    },
    {
      "cell_type": "markdown",
      "metadata": {
        "ExecuteTime": {
          "end_time": "2019-08-02T00:36:41.637045Z",
          "start_time": "2019-08-02T00:36:41.634825Z"
        },
        "run_control": {
          "frozen": false,
          "read_only": false
        },
        "id": "6me5k4c1OdDY",
        "colab_type": "text"
      },
      "source": [
        "### Discuss!"
      ]
    },
    {
      "cell_type": "markdown",
      "metadata": {
        "run_control": {
          "frozen": false,
          "read_only": false
        },
        "id": "QIHRn8UlOdDZ",
        "colab_type": "text"
      },
      "source": [
        "## do the same for the Milky Way. If your functions were create properly you should be able to reuse them seamlessly"
      ]
    },
    {
      "cell_type": "code",
      "metadata": {
        "id": "NVp9cJzv-Dic",
        "colab_type": "code",
        "colab": {}
      },
      "source": [
        "#delete all below"
      ],
      "execution_count": 0,
      "outputs": []
    },
    {
      "cell_type": "code",
      "metadata": {
        "ExecuteTime": {
          "end_time": "2019-08-02T02:24:22.156418Z",
          "start_time": "2019-08-02T02:24:22.145550Z"
        },
        "run_control": {
          "frozen": false,
          "read_only": false
        },
        "id": "7CbKUPL5OdDa",
        "colab_type": "code",
        "outputId": "69458aae-4b2d-4594-e6df-39271c9f10c1",
        "colab": {
          "base_uri": "https://localhost:8080/",
          "height": 204
        }
      },
      "source": [
        "mw = pd.read_csv(\"https://raw.githubusercontent.com/fedhere/DSPS/master/uncertainties/HW4/m31.csv\", \n",
        "                 skiprows=2, names=[\"r\",'v','dv','err'])\n",
        "mw.head()"
      ],
      "execution_count": 0,
      "outputs": [
        {
          "output_type": "execute_result",
          "data": {
            "text/html": [
              "<div>\n",
              "<style scoped>\n",
              "    .dataframe tbody tr th:only-of-type {\n",
              "        vertical-align: middle;\n",
              "    }\n",
              "\n",
              "    .dataframe tbody tr th {\n",
              "        vertical-align: top;\n",
              "    }\n",
              "\n",
              "    .dataframe thead th {\n",
              "        text-align: right;\n",
              "    }\n",
              "</style>\n",
              "<table border=\"1\" class=\"dataframe\">\n",
              "  <thead>\n",
              "    <tr style=\"text-align: right;\">\n",
              "      <th></th>\n",
              "      <th>r</th>\n",
              "      <th>v</th>\n",
              "      <th>dv</th>\n",
              "      <th>err</th>\n",
              "    </tr>\n",
              "  </thead>\n",
              "  <tbody>\n",
              "    <tr>\n",
              "      <th>0</th>\n",
              "      <td>0.100</td>\n",
              "      <td>183.939</td>\n",
              "      <td>0.000</td>\n",
              "      <td>0.000</td>\n",
              "    </tr>\n",
              "    <tr>\n",
              "      <th>1</th>\n",
              "      <td>0.120</td>\n",
              "      <td>190.710</td>\n",
              "      <td>10.265</td>\n",
              "      <td>12.191</td>\n",
              "    </tr>\n",
              "    <tr>\n",
              "      <th>2</th>\n",
              "      <td>0.144</td>\n",
              "      <td>204.141</td>\n",
              "      <td>22.634</td>\n",
              "      <td>21.808</td>\n",
              "    </tr>\n",
              "    <tr>\n",
              "      <th>3</th>\n",
              "      <td>0.173</td>\n",
              "      <td>207.601</td>\n",
              "      <td>4.573</td>\n",
              "      <td>4.200</td>\n",
              "    </tr>\n",
              "    <tr>\n",
              "      <th>4</th>\n",
              "      <td>0.207</td>\n",
              "      <td>210.188</td>\n",
              "      <td>3.943</td>\n",
              "      <td>3.258</td>\n",
              "    </tr>\n",
              "  </tbody>\n",
              "</table>\n",
              "</div>"
            ],
            "text/plain": [
              "       r        v      dv     err\n",
              "0  0.100  183.939   0.000   0.000\n",
              "1  0.120  190.710  10.265  12.191\n",
              "2  0.144  204.141  22.634  21.808\n",
              "3  0.173  207.601   4.573   4.200\n",
              "4  0.207  210.188   3.943   3.258"
            ]
          },
          "metadata": {
            "tags": []
          },
          "execution_count": 89
        }
      ]
    },
    {
      "cell_type": "code",
      "metadata": {
        "ExecuteTime": {
          "end_time": "2019-08-02T02:24:23.707348Z",
          "start_time": "2019-08-02T02:24:23.687445Z"
        },
        "run_control": {
          "frozen": false,
          "read_only": false
        },
        "id": "A6YeUFhROdDd",
        "colab_type": "code",
        "outputId": "24232fca-aec5-442f-fe5e-c2292ae02dec",
        "colab": {
          "base_uri": "https://localhost:8080/",
          "height": 297
        }
      },
      "source": [
        "mw.describe()"
      ],
      "execution_count": 0,
      "outputs": [
        {
          "output_type": "execute_result",
          "data": {
            "text/html": [
              "<div>\n",
              "<style scoped>\n",
              "    .dataframe tbody tr th:only-of-type {\n",
              "        vertical-align: middle;\n",
              "    }\n",
              "\n",
              "    .dataframe tbody tr th {\n",
              "        vertical-align: top;\n",
              "    }\n",
              "\n",
              "    .dataframe thead th {\n",
              "        text-align: right;\n",
              "    }\n",
              "</style>\n",
              "<table border=\"1\" class=\"dataframe\">\n",
              "  <thead>\n",
              "    <tr style=\"text-align: right;\">\n",
              "      <th></th>\n",
              "      <th>r</th>\n",
              "      <th>v</th>\n",
              "      <th>dv</th>\n",
              "      <th>err</th>\n",
              "    </tr>\n",
              "  </thead>\n",
              "  <tbody>\n",
              "    <tr>\n",
              "      <th>count</th>\n",
              "      <td>55.000000</td>\n",
              "      <td>55.000000</td>\n",
              "      <td>55.000000</td>\n",
              "      <td>55.000000</td>\n",
              "    </tr>\n",
              "    <tr>\n",
              "      <th>mean</th>\n",
              "      <td>205.853182</td>\n",
              "      <td>226.079255</td>\n",
              "      <td>55.034818</td>\n",
              "      <td>16.165855</td>\n",
              "    </tr>\n",
              "    <tr>\n",
              "      <th>std</th>\n",
              "      <td>415.523904</td>\n",
              "      <td>42.799892</td>\n",
              "      <td>49.254792</td>\n",
              "      <td>14.876951</td>\n",
              "    </tr>\n",
              "    <tr>\n",
              "      <th>min</th>\n",
              "      <td>0.100000</td>\n",
              "      <td>121.974000</td>\n",
              "      <td>0.000000</td>\n",
              "      <td>0.000000</td>\n",
              "    </tr>\n",
              "    <tr>\n",
              "      <th>25%</th>\n",
              "      <td>1.177000</td>\n",
              "      <td>208.894500</td>\n",
              "      <td>11.945500</td>\n",
              "      <td>3.224000</td>\n",
              "    </tr>\n",
              "    <tr>\n",
              "      <th>50%</th>\n",
              "      <td>13.737000</td>\n",
              "      <td>229.124000</td>\n",
              "      <td>30.697000</td>\n",
              "      <td>12.065000</td>\n",
              "    </tr>\n",
              "    <tr>\n",
              "      <th>75%</th>\n",
              "      <td>161.675000</td>\n",
              "      <td>244.102500</td>\n",
              "      <td>99.980000</td>\n",
              "      <td>23.641000</td>\n",
              "    </tr>\n",
              "    <tr>\n",
              "      <th>max</th>\n",
              "      <td>1887.071000</td>\n",
              "      <td>414.942000</td>\n",
              "      <td>147.835000</td>\n",
              "      <td>54.110000</td>\n",
              "    </tr>\n",
              "  </tbody>\n",
              "</table>\n",
              "</div>"
            ],
            "text/plain": [
              "                 r           v          dv        err\n",
              "count    55.000000   55.000000   55.000000  55.000000\n",
              "mean    205.853182  226.079255   55.034818  16.165855\n",
              "std     415.523904   42.799892   49.254792  14.876951\n",
              "min       0.100000  121.974000    0.000000   0.000000\n",
              "25%       1.177000  208.894500   11.945500   3.224000\n",
              "50%      13.737000  229.124000   30.697000  12.065000\n",
              "75%     161.675000  244.102500   99.980000  23.641000\n",
              "max    1887.071000  414.942000  147.835000  54.110000"
            ]
          },
          "metadata": {
            "tags": []
          },
          "execution_count": 90
        }
      ]
    },
    {
      "cell_type": "markdown",
      "metadata": {
        "run_control": {
          "frozen": false,
          "read_only": false
        },
        "id": "oxQofaCKOdDg",
        "colab_type": "text"
      },
      "source": [
        "https://en.wikipedia.org/wiki/Milky_Way\n",
        "    "
      ]
    },
    {
      "cell_type": "code",
      "metadata": {
        "ExecuteTime": {
          "end_time": "2019-08-02T02:24:32.250702Z",
          "start_time": "2019-08-02T02:24:32.245670Z"
        },
        "run_control": {
          "frozen": false,
          "read_only": false
        },
        "id": "h1RYjLJYOdDi",
        "colab_type": "code",
        "outputId": "96bd4105-0444-4eb9-ca7d-448dc82b430c",
        "colab": {
          "base_uri": "https://localhost:8080/",
          "height": 34
        }
      },
      "source": [
        "mwSize =  53.5 * u.kpc\n",
        "mwSizeError = 2.5 * u.kpc\n",
        "print(mwSize)#, m31SizeError"
      ],
      "execution_count": 0,
      "outputs": [
        {
          "output_type": "stream",
          "text": [
            "53.5 kpc\n"
          ],
          "name": "stdout"
        }
      ]
    },
    {
      "cell_type": "code",
      "metadata": {
        "ExecuteTime": {
          "end_time": "2019-08-02T02:24:32.695826Z",
          "start_time": "2019-08-02T02:24:32.689678Z"
        },
        "run_control": {
          "frozen": false,
          "read_only": false
        },
        "id": "S-HOLrMqOdDl",
        "colab_type": "code",
        "outputId": "7c7f8913-b047-41d8-8ffc-0cdc28b5f343",
        "colab": {
          "base_uri": "https://localhost:8080/",
          "height": 85
        }
      },
      "source": [
        "mwRds = (getradii(mw, mwSize, 1), getradii(mw, mwSize, 2), getradii(mw, mwSize, 3))\n",
        "mwRds"
      ],
      "execution_count": 0,
      "outputs": [
        {
          "output_type": "execute_result",
          "data": {
            "text/plain": [
              "(         r        v       dv     err\n",
              " 35  59.067  249.443  134.552  26.447,           r        v       dv     err\n",
              " 39  122.481  197.383  105.727  23.358,           r        v      dv     err\n",
              " 41  176.373  165.325  74.652  15.706)"
            ]
          },
          "metadata": {
            "tags": []
          },
          "execution_count": 98
        }
      ]
    },
    {
      "cell_type": "code",
      "metadata": {
        "ExecuteTime": {
          "end_time": "2019-08-02T03:00:08.127443Z",
          "start_time": "2019-08-02T03:00:07.878238Z"
        },
        "run_control": {
          "frozen": false,
          "read_only": false
        },
        "id": "6VRsYLpBOdDs",
        "colab_type": "code",
        "outputId": "16a96398-730a-4534-d316-6a182578f99e",
        "colab": {
          "base_uri": "https://localhost:8080/",
          "height": 283
        }
      },
      "source": [
        "plotGal(mw, mwRds)"
      ],
      "execution_count": 0,
      "outputs": [
        {
          "output_type": "display_data",
          "data": {
            "image/png": "[encoded data removed]",
            "text/plain": [
              "<Figure size 432x288 with 1 Axes>"
            ]
          },
          "metadata": {
            "tags": []
          }
        }
      ]
    },
    {
      "cell_type": "code",
      "metadata": {
        "ExecuteTime": {
          "end_time": "2019-08-02T02:24:35.638951Z",
          "start_time": "2019-08-02T02:24:35.617066Z"
        },
        "run_control": {
          "frozen": false,
          "read_only": false
        },
        "id": "MRN83TO_OdDx",
        "colab_type": "code",
        "outputId": "3de4b01d-25cb-44e4-e9ab-9efb17d32be0",
        "colab": {
          "base_uri": "https://localhost:8080/",
          "height": 612
        }
      },
      "source": [
        "vratios(mw, mwRds, 1)\n",
        "print ()\n",
        "vratios(mw, mwRds, 2)\n",
        "print()\n",
        "vratios(mw, mwRds, 1, \"err\")\n",
        "print ()\n",
        "vratios(mw, mwRds, 2, \"err\")"
      ],
      "execution_count": 0,
      "outputs": [
        {
          "output_type": "stream",
          "text": [
            "\n",
            "\n",
            " using dv as uncertainty\n",
            "expected ratio of velocities 2.07\n",
            "ratio of velocities 1.26 +/- 0.96\n",
            "measurement upper bound (3-sigma) 4.16\n",
            "measurement lower bound (3-sigma) 0.00\n",
            "rations are the same at 3-sigma significance: True\n",
            "\n",
            "\n",
            "\n",
            " using dv as uncertainty\n",
            "expected ratio of velocities 2.99\n",
            "ratio of velocities 1.51 +/- 1.15\n",
            "measurement upper bound (3-sigma) 4.96\n",
            "measurement lower bound (3-sigma) 0.00\n",
            "rations are the same at 3-sigma significance: True\n",
            "\n",
            "\n",
            "\n",
            " using err as uncertainty\n",
            "expected ratio of velocities 2.07\n",
            "ratio of velocities 1.26 +/- 0.19\n",
            "measurement upper bound (3-sigma) 1.83\n",
            "measurement lower bound (3-sigma) 0.70\n",
            "rations are the same at 3-sigma significance: False\n",
            "\n",
            "\n",
            "\n",
            " using err as uncertainty\n",
            "expected ratio of velocities 2.99\n",
            "ratio of velocities 1.51 +/- 0.23\n",
            "measurement upper bound (3-sigma) 2.19\n",
            "measurement lower bound (3-sigma) 0.83\n",
            "rations are the same at 3-sigma significance: False\n"
          ],
          "name": "stdout"
        }
      ]
    },
    {
      "cell_type": "markdown",
      "metadata": {
        "run_control": {
          "frozen": false,
          "read_only": false
        },
        "id": "EJRuKpHvOdD0",
        "colab_type": "text"
      },
      "source": [
        "# Monte Carlo"
      ]
    },
    {
      "cell_type": "markdown",
      "metadata": {
        "run_control": {
          "frozen": false,
          "read_only": false
        },
        "id": "2rtfLFUqOdD2",
        "colab_type": "text"
      },
      "source": [
        "## M31"
      ]
    },
    {
      "cell_type": "code",
      "metadata": {
        "ExecuteTime": {
          "end_time": "2019-08-02T03:18:57.992617Z",
          "start_time": "2019-08-02T03:18:57.982549Z"
        },
        "run_control": {
          "frozen": false,
          "read_only": false
        },
        "id": "MBuD2B2nOdD3",
        "colab_type": "code",
        "outputId": "0b07cf70-9409-4f2d-d07e-ca3db056a097",
        "colab": {}
      },
      "source": [
        "## M31\n",
        "N = int(1e3)\n",
        "ind1 = m31[m31.r > m31Size].index[0] \n",
        "ind2 = m31[m31.r > 2 * m31Size].index[0] \n",
        "\n",
        "r1, r2 = m31.loc[ind1].v, m31.loc[ind2].v\n",
        "dv1, dv2 = m31.loc[ind1].dv, m31.loc[ind2].dv\n",
        "err1, err2 = m31.loc[ind1].err, m31.loc[ind2].err\n",
        "mcratios = np.zeros(N)\n",
        "rins = np.zeros(N)\n",
        "routs = np.zeros(N)\n",
        "r1, r2 "
      ],
      "execution_count": 0,
      "outputs": [
        {
          "output_type": "execute_result",
          "data": {
            "text/plain": [
              "(237.06900000000002, 213.002)"
            ]
          },
          "metadata": {
            "tags": []
          },
          "execution_count": 566
        }
      ]
    },
    {
      "cell_type": "code",
      "metadata": {
        "ExecuteTime": {
          "end_time": "2019-08-02T03:18:58.490914Z",
          "start_time": "2019-08-02T03:18:58.475131Z"
        },
        "run_control": {
          "frozen": false,
          "read_only": false
        },
        "id": "x3QDFmwJOdD6",
        "colab_type": "code",
        "colab": {}
      },
      "source": [
        "#set the seed for reproducibility! \n",
        "np.random.seed(622)\n",
        "for i in range(N):\n",
        "    rins[i], routs[i] = np.random.randn(2) * (dv1, dv2) + (r1, r2)\n",
        "    #print(rin, rout, r1, err1, r2, err2, rin / rout)\n",
        "    mcratios[i] = routs[i] / rins[i]"
      ],
      "execution_count": 0,
      "outputs": []
    },
    {
      "cell_type": "code",
      "metadata": {
        "ExecuteTime": {
          "end_time": "2019-08-02T03:19:19.176276Z",
          "start_time": "2019-08-02T03:19:19.006523Z"
        },
        "run_control": {
          "frozen": false,
          "read_only": false
        },
        "id": "CdncqhTWOdD-",
        "colab_type": "code",
        "outputId": "0e803016-82e9-4303-a869-f80b8dafa57d",
        "colab": {}
      },
      "source": [
        "pl.hist(routs, alpha=0.5)\n",
        "pl.hist(rins, alpha=0.5)"
      ],
      "execution_count": 0,
      "outputs": [
        {
          "output_type": "execute_result",
          "data": {
            "text/plain": [
              "(array([  1.,   6.,  35., 112., 241., 293., 194.,  95.,  19.,   4.]),\n",
              " array([-210.8186347 , -127.69403359,  -44.56943248,   38.55516863,\n",
              "         121.67976973,  204.80437084,  287.92897195,  371.05357306,\n",
              "         454.17817416,  537.30277527,  620.42737638]),\n",
              " <a list of 10 Patch objects>)"
            ]
          },
          "metadata": {
            "tags": []
          },
          "execution_count": 572
        },
        {
          "output_type": "display_data",
          "data": {
            "image/png": "[encoded data removed]",
            "text/plain": [
              "<Figure size 432x288 with 1 Axes>"
            ]
          },
          "metadata": {
            "tags": [],
            "needs_background": "light"
          }
        }
      ]
    },
    {
      "cell_type": "code",
      "metadata": {
        "ExecuteTime": {
          "end_time": "2019-08-02T03:20:55.972780Z",
          "start_time": "2019-08-02T03:20:55.968998Z"
        },
        "run_control": {
          "frozen": false,
          "read_only": false
        },
        "id": "HirMtdLROdED",
        "colab_type": "code",
        "colab": {}
      },
      "source": [
        "ys, bins = pl.histogram(mcratios, bins=10000)\n",
        "xs = bins[:-1] + np.diff(bins)\n",
        "#ys, bins"
      ],
      "execution_count": 0,
      "outputs": []
    },
    {
      "cell_type": "code",
      "metadata": {
        "ExecuteTime": {
          "end_time": "2019-08-02T03:21:04.430334Z",
          "start_time": "2019-08-02T03:21:04.426278Z"
        },
        "run_control": {
          "frozen": false,
          "read_only": false
        },
        "id": "3_pzbmdcOdEK",
        "colab_type": "code",
        "outputId": "3f34a0ac-6e1c-45d0-89b0-12bcf135bf08",
        "colab": {}
      },
      "source": [
        "#check the input distributions\n",
        "rins.mean(), rins.std(), routs.mean(), routs.std()"
      ],
      "execution_count": 0,
      "outputs": [
        {
          "output_type": "execute_result",
          "data": {
            "text/plain": [
              "(234.9594777334219, 112.33729864998188, 216.65169934258506, 134.91285938968073)"
            ]
          },
          "metadata": {
            "tags": []
          },
          "execution_count": 578
        }
      ]
    },
    {
      "cell_type": "code",
      "metadata": {
        "ExecuteTime": {
          "end_time": "2019-08-02T03:21:00.629367Z",
          "start_time": "2019-08-02T03:21:00.624921Z"
        },
        "run_control": {
          "frozen": false,
          "read_only": false
        },
        "id": "LxD26XwJOdEP",
        "colab_type": "code",
        "outputId": "c182652a-6a5b-4769-bb29-b4b5e15ae8c2",
        "colab": {}
      },
      "source": [
        "#check the resulting distribution\n",
        "mcratios.mean(), np.median(mcratios), mcratios.std()"
      ],
      "execution_count": 0,
      "outputs": [
        {
          "output_type": "execute_result",
          "data": {
            "text/plain": [
              "(-2.732507475351509, 0.8906683909513293, 115.86136946732162)"
            ]
          },
          "metadata": {
            "tags": []
          },
          "execution_count": 577
        }
      ]
    },
    {
      "cell_type": "code",
      "metadata": {
        "ExecuteTime": {
          "end_time": "2019-08-02T03:21:46.559181Z",
          "start_time": "2019-08-02T03:21:46.552639Z"
        },
        "run_control": {
          "frozen": false,
          "read_only": false
        },
        "id": "HQ2DN_3AOdEU",
        "colab_type": "code",
        "outputId": "b33498ea-8923-443d-cc57-96ec972f34f4",
        "colab": {}
      },
      "source": [
        "#remember what the original distributions were\n",
        "vratios(m31, m31Rds, 1)"
      ],
      "execution_count": 0,
      "outputs": [
        {
          "output_type": "stream",
          "text": [
            "ratio of velocities 1.11 +/- 0.86\n",
            "expected ratio 2.07\n",
            "measurement upper bound (3-sigma) 3.70\n",
            "2-sigma significance True\n"
          ],
          "name": "stdout"
        }
      ]
    },
    {
      "cell_type": "markdown",
      "metadata": {
        "run_control": {
          "frozen": false,
          "read_only": false
        },
        "id": "N-POdepeOdEb",
        "colab_type": "text"
      },
      "source": [
        "## Discuss\n",
        "Obviously the shape is not gaussian, so taking the standard deviation won't give us the right answer. Thus dustrubtuuin has long tails, but what would be the standard deviaion of the gaussian that fits it?"
      ]
    },
    {
      "cell_type": "code",
      "metadata": {
        "ExecuteTime": {
          "end_time": "2019-08-02T03:24:05.277033Z",
          "start_time": "2019-08-02T03:24:05.274568Z"
        },
        "run_control": {
          "frozen": false,
          "read_only": false
        },
        "id": "j-4MBMWmOdEc",
        "colab_type": "code",
        "colab": {}
      },
      "source": [
        "import scipy as sp\n",
        "from scipy.optimize import curve_fit\n",
        "#uncomment below if you want to find out how to fit a gaussian\n",
        "#curve_fit?"
      ],
      "execution_count": 0,
      "outputs": []
    },
    {
      "cell_type": "code",
      "metadata": {
        "ExecuteTime": {
          "end_time": "2019-08-02T03:24:06.857951Z",
          "start_time": "2019-08-02T03:24:06.855022Z"
        },
        "run_control": {
          "frozen": false,
          "read_only": false
        },
        "id": "RpWCT1dFOdEi",
        "colab_type": "code",
        "colab": {}
      },
      "source": [
        "def gauss(x, m, s, A):\n",
        "    return A * np.exp(-(x-m)**2 / 2 / s**2)"
      ],
      "execution_count": 0,
      "outputs": []
    },
    {
      "cell_type": "code",
      "metadata": {
        "ExecuteTime": {
          "end_time": "2019-08-02T03:25:06.039275Z",
          "start_time": "2019-08-02T03:25:05.971542Z"
        },
        "run_control": {
          "frozen": false,
          "read_only": false
        },
        "id": "a70z8yUhOdEr",
        "colab_type": "code",
        "colab": {}
      },
      "source": [
        "p0 = (1.1, 0.8, N/10)\n",
        "popt, pcurve = curve_fit(gauss, xs, ys, p0)"
      ],
      "execution_count": 0,
      "outputs": []
    },
    {
      "cell_type": "code",
      "metadata": {
        "ExecuteTime": {
          "end_time": "2019-08-02T03:25:10.113008Z",
          "start_time": "2019-08-02T03:25:09.990763Z"
        },
        "run_control": {
          "frozen": false,
          "read_only": false
        },
        "id": "h5LDfSPlOdEv",
        "colab_type": "code",
        "outputId": "e0b4e3ba-256b-4a6f-9e1c-665a558583bc",
        "colab": {}
      },
      "source": [
        "pl.plot(xs, gauss(xs, *popt))"
      ],
      "execution_count": 0,
      "outputs": [
        {
          "output_type": "execute_result",
          "data": {
            "text/plain": [
              "[<matplotlib.lines.Line2D at 0x102026d8d0>]"
            ]
          },
          "metadata": {
            "tags": []
          },
          "execution_count": 585
        },
        {
          "output_type": "display_data",
          "data": {
            "image/png": "[encoded data removed]",
            "text/plain": [
              "<Figure size 432x288 with 1 Axes>"
            ]
          },
          "metadata": {
            "tags": [],
            "needs_background": "light"
          }
        }
      ]
    },
    {
      "cell_type": "code",
      "metadata": {
        "ExecuteTime": {
          "end_time": "2019-08-02T03:25:56.956914Z",
          "start_time": "2019-08-02T03:25:56.953927Z"
        },
        "run_control": {
          "frozen": false,
          "read_only": false
        },
        "id": "k0lhaNfSOdE4",
        "colab_type": "code",
        "outputId": "7f22269c-83ce-4c8e-c152-c927c6efb2a9",
        "colab": {}
      },
      "source": [
        "print(\"mean {:.2f} and standard deviaion {:.2f}\".format(popt[0], popt[1]))"
      ],
      "execution_count": 0,
      "outputs": [
        {
          "output_type": "stream",
          "text": [
            "mean 1.00 and standard deviaion 0.58\n"
          ],
          "name": "stdout"
        }
      ]
    },
    {
      "cell_type": "code",
      "metadata": {
        "run_control": {
          "frozen": false,
          "read_only": false
        },
        "id": "KO4yYN8XOdFA",
        "colab_type": "code",
        "colab": {}
      },
      "source": [
        ""
      ],
      "execution_count": 0,
      "outputs": []
    },
    {
      "cell_type": "code",
      "metadata": {
        "run_control": {
          "frozen": false,
          "read_only": false
        },
        "id": "ABmeX1EyOdFN",
        "colab_type": "code",
        "colab": {}
      },
      "source": [
        ""
      ],
      "execution_count": 0,
      "outputs": []
    },
    {
      "cell_type": "code",
      "metadata": {
        "id": "zCgeNE99-CAV",
        "colab_type": "code",
        "colab": {}
      },
      "source": [
        ""
      ],
      "execution_count": 0,
      "outputs": []
    }
  ]
}
