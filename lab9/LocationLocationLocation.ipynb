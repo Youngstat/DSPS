{
 "cells": [
  {
   "cell_type": "code",
   "execution_count": 78,
   "metadata": {
    "ExecuteTime": {
     "end_time": "2019-10-30T04:32:41.102321Z",
     "start_time": "2019-10-30T04:32:38.238428Z"
    },
    "run_control": {
     "marked": false
    }
   },
   "outputs": [
    {
     "name": "stdout",
     "output_type": "stream",
     "text": [
      "\u001b[33mWarning:\u001b[0m graphviz 2.42.2 is already installed and up-to-date\n",
      "To reinstall 2.42.2, run `brew reinstall graphviz`\n",
      "Populating the interactive namespace from numpy and matplotlib\n"
     ]
    }
   ],
   "source": [
    "import geopandas as gpd\n",
    "import pandas as pd\n",
    "import numpy  as np\n",
    "from sklearn import linear_model\n",
    "from sklearn.linear_model import LogisticRegression, RidgeClassifierCV\n",
    "from sklearn.ensemble import RandomForestClassifier, GradientBoostingClassifier\n",
    "from sklearn import preprocessing\n",
    "from sklearn.model_selection import train_test_split, cross_val_score\n",
    "from sklearn import ensemble\n",
    "from sklearn import metrics\n",
    "from sklearn import tree\n",
    "!  brew install graphviz\n",
    "import graphviz\n",
    "import pylab as pl\n",
    "pl.rcParams[\"font.size\"] = 18\n",
    "pl.rcParams[\"figure.figsize\"] = (10,10)\n",
    "%pylab inline"
   ]
  },
  {
   "cell_type": "markdown",
   "metadata": {},
   "source": [
    "## reading in data"
   ]
  },
  {
   "cell_type": "markdown",
   "metadata": {},
   "source": [
    "I used [this code](https://github.com/ChrisMuir/Zillow) but Chris Muir to download Zillow details for properties in zipcodes starting with 10 and 11 (it was a lot of fun, it uses Selene to open a chrome window and runs it under your eyes. You can interact with it, so you can show you are not a robot, although the code running the window is. Notice that scraping Zillow is against Zillow's policy"
   ]
  },
  {
   "cell_type": "markdown",
   "metadata": {},
   "source": [
    "read in zillow data"
   ]
  },
  {
   "cell_type": "code",
   "execution_count": 5,
   "metadata": {
    "ExecuteTime": {
     "end_time": "2019-10-30T04:14:31.914056Z",
     "start_time": "2019-10-30T04:14:31.872620Z"
    }
   },
   "outputs": [],
   "source": [
    "nychouses = pd.read_csv(\"allzips.csv\")"
   ]
  },
  {
   "cell_type": "code",
   "execution_count": 6,
   "metadata": {
    "ExecuteTime": {
     "end_time": "2019-10-30T04:14:33.068299Z",
     "start_time": "2019-10-30T04:14:32.988644Z"
    }
   },
   "outputs": [
    {
     "data": {
      "text/html": [
       "<div>\n",
       "<style scoped>\n",
       "    .dataframe tbody tr th:only-of-type {\n",
       "        vertical-align: middle;\n",
       "    }\n",
       "\n",
       "    .dataframe tbody tr th {\n",
       "        vertical-align: top;\n",
       "    }\n",
       "\n",
       "    .dataframe thead th {\n",
       "        text-align: right;\n",
       "    }\n",
       "</style>\n",
       "<table border=\"1\" class=\"dataframe\">\n",
       "  <thead>\n",
       "    <tr style=\"text-align: right;\">\n",
       "      <th></th>\n",
       "      <th>address</th>\n",
       "      <th>city</th>\n",
       "      <th>state</th>\n",
       "      <th>zip</th>\n",
       "      <th>price</th>\n",
       "      <th>sqft</th>\n",
       "      <th>bedrooms</th>\n",
       "      <th>bathrooms</th>\n",
       "      <th>days_on_zillow</th>\n",
       "      <th>sale_type</th>\n",
       "      <th>url</th>\n",
       "    </tr>\n",
       "  </thead>\n",
       "  <tbody>\n",
       "    <tr>\n",
       "      <th>0</th>\n",
       "      <td>263 9th Ave APT 6B</td>\n",
       "      <td>New York</td>\n",
       "      <td>NY</td>\n",
       "      <td>10001</td>\n",
       "      <td>2599988</td>\n",
       "      <td>1536.0</td>\n",
       "      <td>2.0</td>\n",
       "      <td>2.0</td>\n",
       "      <td>NaN</td>\n",
       "      <td>Condo For Sale</td>\n",
       "      <td>http://www.zillow.com/homes/for_sale//homedeta...</td>\n",
       "    </tr>\n",
       "    <tr>\n",
       "      <th>1</th>\n",
       "      <td>15 Hudson Yards # 67E</td>\n",
       "      <td>New York</td>\n",
       "      <td>NY</td>\n",
       "      <td>10001</td>\n",
       "      <td>7575000</td>\n",
       "      <td>2497.0</td>\n",
       "      <td>2.0</td>\n",
       "      <td>3.0</td>\n",
       "      <td>NaN</td>\n",
       "      <td>Condo For Sale</td>\n",
       "      <td>http://www.zillow.com/homes/for_sale//homedeta...</td>\n",
       "    </tr>\n",
       "    <tr>\n",
       "      <th>2</th>\n",
       "      <td>15 Hudson Yards # PH86D</td>\n",
       "      <td>New York</td>\n",
       "      <td>NY</td>\n",
       "      <td>10001</td>\n",
       "      <td>8475000</td>\n",
       "      <td>2515.0</td>\n",
       "      <td>3.0</td>\n",
       "      <td>4.0</td>\n",
       "      <td>NaN</td>\n",
       "      <td>Condo For Sale</td>\n",
       "      <td>http://www.zillow.com/homes/for_sale//homedeta...</td>\n",
       "    </tr>\n",
       "    <tr>\n",
       "      <th>3</th>\n",
       "      <td>540 W 28th St PH A</td>\n",
       "      <td>New York</td>\n",
       "      <td>NY</td>\n",
       "      <td>10001</td>\n",
       "      <td>3550000</td>\n",
       "      <td>1755.0</td>\n",
       "      <td>2.0</td>\n",
       "      <td>2.0</td>\n",
       "      <td>NaN</td>\n",
       "      <td>Condo For Sale</td>\n",
       "      <td>http://www.zillow.com/homes/for_sale//homedeta...</td>\n",
       "    </tr>\n",
       "    <tr>\n",
       "      <th>4</th>\n",
       "      <td>15 Hudson Yards # 34G</td>\n",
       "      <td>New York</td>\n",
       "      <td>NY</td>\n",
       "      <td>10001</td>\n",
       "      <td>4420000</td>\n",
       "      <td>1460.0</td>\n",
       "      <td>2.0</td>\n",
       "      <td>3.0</td>\n",
       "      <td>NaN</td>\n",
       "      <td>Condo For Sale</td>\n",
       "      <td>http://www.zillow.com/homes/for_sale//homedeta...</td>\n",
       "    </tr>\n",
       "  </tbody>\n",
       "</table>\n",
       "</div>"
      ],
      "text/plain": [
       "                   address      city state    zip    price    sqft bedrooms  \\\n",
       "0       263 9th Ave APT 6B  New York    NY  10001  2599988  1536.0      2.0   \n",
       "1    15 Hudson Yards # 67E  New York    NY  10001  7575000  2497.0      2.0   \n",
       "2  15 Hudson Yards # PH86D  New York    NY  10001  8475000  2515.0      3.0   \n",
       "3       540 W 28th St PH A  New York    NY  10001  3550000  1755.0      2.0   \n",
       "4    15 Hudson Yards # 34G  New York    NY  10001  4420000  1460.0      2.0   \n",
       "\n",
       "  bathrooms days_on_zillow       sale_type  \\\n",
       "0       2.0            NaN  Condo For Sale   \n",
       "1       3.0            NaN  Condo For Sale   \n",
       "2       4.0            NaN  Condo For Sale   \n",
       "3       2.0            NaN  Condo For Sale   \n",
       "4       3.0            NaN  Condo For Sale   \n",
       "\n",
       "                                                 url  \n",
       "0  http://www.zillow.com/homes/for_sale//homedeta...  \n",
       "1  http://www.zillow.com/homes/for_sale//homedeta...  \n",
       "2  http://www.zillow.com/homes/for_sale//homedeta...  \n",
       "3  http://www.zillow.com/homes/for_sale//homedeta...  \n",
       "4  http://www.zillow.com/homes/for_sale//homedeta...  "
      ]
     },
     "execution_count": 6,
     "metadata": {},
     "output_type": "execute_result"
    }
   ],
   "source": [
    "nychouses.head()"
   ]
  },
  {
   "cell_type": "markdown",
   "metadata": {},
   "source": [
    "read in zipcode shapefile to select only NYC zipcodes from Zillow file"
   ]
  },
  {
   "cell_type": "code",
   "execution_count": 8,
   "metadata": {
    "ExecuteTime": {
     "end_time": "2019-10-30T04:15:35.302148Z",
     "start_time": "2019-10-30T04:15:34.342263Z"
    }
   },
   "outputs": [
    {
     "data": {
      "text/html": [
       "<div>\n",
       "<style scoped>\n",
       "    .dataframe tbody tr th:only-of-type {\n",
       "        vertical-align: middle;\n",
       "    }\n",
       "\n",
       "    .dataframe tbody tr th {\n",
       "        vertical-align: top;\n",
       "    }\n",
       "\n",
       "    .dataframe thead th {\n",
       "        text-align: right;\n",
       "    }\n",
       "</style>\n",
       "<table border=\"1\" class=\"dataframe\">\n",
       "  <thead>\n",
       "    <tr style=\"text-align: right;\">\n",
       "      <th></th>\n",
       "      <th>ZIPCODE</th>\n",
       "      <th>BLDGZIP</th>\n",
       "      <th>PO_NAME</th>\n",
       "      <th>POPULATION</th>\n",
       "      <th>AREA</th>\n",
       "      <th>STATE</th>\n",
       "      <th>COUNTY</th>\n",
       "      <th>ST_FIPS</th>\n",
       "      <th>CTY_FIPS</th>\n",
       "      <th>URL</th>\n",
       "      <th>SHAPE_AREA</th>\n",
       "      <th>SHAPE_LEN</th>\n",
       "      <th>geometry</th>\n",
       "    </tr>\n",
       "  </thead>\n",
       "  <tbody>\n",
       "    <tr>\n",
       "      <th>0</th>\n",
       "      <td>11436</td>\n",
       "      <td>0</td>\n",
       "      <td>Jamaica</td>\n",
       "      <td>18681.0</td>\n",
       "      <td>2.269930e+07</td>\n",
       "      <td>NY</td>\n",
       "      <td>Queens</td>\n",
       "      <td>36</td>\n",
       "      <td>081</td>\n",
       "      <td>http://www.usps.com/</td>\n",
       "      <td>0.0</td>\n",
       "      <td>0.0</td>\n",
       "      <td>POLYGON ((1038098.251871482 188138.3800067157,...</td>\n",
       "    </tr>\n",
       "    <tr>\n",
       "      <th>1</th>\n",
       "      <td>11213</td>\n",
       "      <td>0</td>\n",
       "      <td>Brooklyn</td>\n",
       "      <td>62426.0</td>\n",
       "      <td>2.963100e+07</td>\n",
       "      <td>NY</td>\n",
       "      <td>Kings</td>\n",
       "      <td>36</td>\n",
       "      <td>047</td>\n",
       "      <td>http://www.usps.com/</td>\n",
       "      <td>0.0</td>\n",
       "      <td>0.0</td>\n",
       "      <td>POLYGON ((1001613.712964058 186926.4395172149,...</td>\n",
       "    </tr>\n",
       "    <tr>\n",
       "      <th>2</th>\n",
       "      <td>11212</td>\n",
       "      <td>0</td>\n",
       "      <td>Brooklyn</td>\n",
       "      <td>83866.0</td>\n",
       "      <td>4.197210e+07</td>\n",
       "      <td>NY</td>\n",
       "      <td>Kings</td>\n",
       "      <td>36</td>\n",
       "      <td>047</td>\n",
       "      <td>http://www.usps.com/</td>\n",
       "      <td>0.0</td>\n",
       "      <td>0.0</td>\n",
       "      <td>POLYGON ((1011174.275535807 183696.33770971, 1...</td>\n",
       "    </tr>\n",
       "    <tr>\n",
       "      <th>3</th>\n",
       "      <td>11225</td>\n",
       "      <td>0</td>\n",
       "      <td>Brooklyn</td>\n",
       "      <td>56527.0</td>\n",
       "      <td>2.369863e+07</td>\n",
       "      <td>NY</td>\n",
       "      <td>Kings</td>\n",
       "      <td>36</td>\n",
       "      <td>047</td>\n",
       "      <td>http://www.usps.com/</td>\n",
       "      <td>0.0</td>\n",
       "      <td>0.0</td>\n",
       "      <td>POLYGON ((995908.3654508889 183617.6128015518,...</td>\n",
       "    </tr>\n",
       "    <tr>\n",
       "      <th>4</th>\n",
       "      <td>11218</td>\n",
       "      <td>0</td>\n",
       "      <td>Brooklyn</td>\n",
       "      <td>72280.0</td>\n",
       "      <td>3.686880e+07</td>\n",
       "      <td>NY</td>\n",
       "      <td>Kings</td>\n",
       "      <td>36</td>\n",
       "      <td>047</td>\n",
       "      <td>http://www.usps.com/</td>\n",
       "      <td>0.0</td>\n",
       "      <td>0.0</td>\n",
       "      <td>POLYGON ((991997.1134308875 176307.4958601296,...</td>\n",
       "    </tr>\n",
       "  </tbody>\n",
       "</table>\n",
       "</div>"
      ],
      "text/plain": [
       "  ZIPCODE BLDGZIP   PO_NAME  POPULATION          AREA STATE  COUNTY ST_FIPS  \\\n",
       "0   11436       0   Jamaica     18681.0  2.269930e+07    NY  Queens      36   \n",
       "1   11213       0  Brooklyn     62426.0  2.963100e+07    NY   Kings      36   \n",
       "2   11212       0  Brooklyn     83866.0  4.197210e+07    NY   Kings      36   \n",
       "3   11225       0  Brooklyn     56527.0  2.369863e+07    NY   Kings      36   \n",
       "4   11218       0  Brooklyn     72280.0  3.686880e+07    NY   Kings      36   \n",
       "\n",
       "  CTY_FIPS                   URL  SHAPE_AREA  SHAPE_LEN  \\\n",
       "0      081  http://www.usps.com/         0.0        0.0   \n",
       "1      047  http://www.usps.com/         0.0        0.0   \n",
       "2      047  http://www.usps.com/         0.0        0.0   \n",
       "3      047  http://www.usps.com/         0.0        0.0   \n",
       "4      047  http://www.usps.com/         0.0        0.0   \n",
       "\n",
       "                                            geometry  \n",
       "0  POLYGON ((1038098.251871482 188138.3800067157,...  \n",
       "1  POLYGON ((1001613.712964058 186926.4395172149,...  \n",
       "2  POLYGON ((1011174.275535807 183696.33770971, 1...  \n",
       "3  POLYGON ((995908.3654508889 183617.6128015518,...  \n",
       "4  POLYGON ((991997.1134308875 176307.4958601296,...  "
      ]
     },
     "execution_count": 8,
     "metadata": {},
     "output_type": "execute_result"
    }
   ],
   "source": [
    "zips = gpd.read_file(\"ZIP_CODE_040114.shp\")\n",
    "zips.head()"
   ]
  },
  {
   "cell_type": "markdown",
   "metadata": {},
   "source": [
    "## data preprocessing"
   ]
  },
  {
   "cell_type": "markdown",
   "metadata": {},
   "source": [
    "### merge zillow w NYC zips shapefile to get only NYC listings"
   ]
  },
  {
   "cell_type": "code",
   "execution_count": 9,
   "metadata": {
    "ExecuteTime": {
     "end_time": "2019-10-30T04:15:55.130951Z",
     "start_time": "2019-10-30T04:15:55.116167Z"
    }
   },
   "outputs": [],
   "source": [
    "nychouses = nychouses.merge(zips[[\"ZIPCODE\"]], left_on=\"zip\", right_on=\"ZIPCODE\")"
   ]
  },
  {
   "cell_type": "markdown",
   "metadata": {},
   "source": [
    "### clean up data"
   ]
  },
  {
   "cell_type": "code",
   "execution_count": 10,
   "metadata": {
    "ExecuteTime": {
     "end_time": "2019-10-30T04:16:14.173019Z",
     "start_time": "2019-10-30T04:16:14.166469Z"
    }
   },
   "outputs": [],
   "source": [
    "nychouses.drop([\"ZIPCODE\", 'city', 'state', 'url', 'address'], axis=1, inplace=True)"
   ]
  },
  {
   "cell_type": "code",
   "execution_count": 11,
   "metadata": {
    "ExecuteTime": {
     "end_time": "2019-10-30T04:16:14.820785Z",
     "start_time": "2019-10-30T04:16:14.816663Z"
    }
   },
   "outputs": [
    {
     "data": {
      "text/plain": [
       "Index(['zip', 'price', 'sqft', 'bedrooms', 'bathrooms', 'days_on_zillow',\n",
       "       'sale_type'],\n",
       "      dtype='object')"
      ]
     },
     "execution_count": 11,
     "metadata": {},
     "output_type": "execute_result"
    }
   ],
   "source": [
    "nychouses.columns\n"
   ]
  },
  {
   "cell_type": "code",
   "execution_count": 12,
   "metadata": {
    "ExecuteTime": {
     "end_time": "2019-10-30T04:16:18.257715Z",
     "start_time": "2019-10-30T04:16:18.254099Z"
    }
   },
   "outputs": [],
   "source": [
    "#days on zillow would be interesting, but it came up as nan\n",
    "nychouses.drop([\"days_on_zillow\"], axis=1, inplace=True)"
   ]
  },
  {
   "cell_type": "code",
   "execution_count": 13,
   "metadata": {
    "ExecuteTime": {
     "end_time": "2019-10-30T04:16:19.890841Z",
     "start_time": "2019-10-30T04:16:19.877016Z"
    }
   },
   "outputs": [],
   "source": [
    "# removing nans cause sklearn random forest cant deal with them\n",
    "nychouses.dropna(inplace=True)"
   ]
  },
  {
   "cell_type": "code",
   "execution_count": 14,
   "metadata": {
    "ExecuteTime": {
     "end_time": "2019-10-30T04:16:20.544132Z",
     "start_time": "2019-10-30T04:16:20.537902Z"
    }
   },
   "outputs": [],
   "source": [
    "for f in [u'price',           u'sqft',\n",
    "             u'bedrooms',      u'bathrooms']:  \n",
    "    nychouses[f] = nychouses[f].map(float)"
   ]
  },
  {
   "cell_type": "code",
   "execution_count": 15,
   "metadata": {
    "ExecuteTime": {
     "end_time": "2019-10-30T04:16:24.793986Z",
     "start_time": "2019-10-30T04:16:24.785723Z"
    }
   },
   "outputs": [
    {
     "data": {
      "text/html": [
       "<div>\n",
       "<style scoped>\n",
       "    .dataframe tbody tr th:only-of-type {\n",
       "        vertical-align: middle;\n",
       "    }\n",
       "\n",
       "    .dataframe tbody tr th {\n",
       "        vertical-align: top;\n",
       "    }\n",
       "\n",
       "    .dataframe thead th {\n",
       "        text-align: right;\n",
       "    }\n",
       "</style>\n",
       "<table border=\"1\" class=\"dataframe\">\n",
       "  <thead>\n",
       "    <tr style=\"text-align: right;\">\n",
       "      <th></th>\n",
       "      <th>zip</th>\n",
       "      <th>price</th>\n",
       "      <th>sqft</th>\n",
       "      <th>bedrooms</th>\n",
       "      <th>bathrooms</th>\n",
       "      <th>sale_type</th>\n",
       "    </tr>\n",
       "  </thead>\n",
       "  <tbody>\n",
       "    <tr>\n",
       "      <th>0</th>\n",
       "      <td>10001</td>\n",
       "      <td>2599988.0</td>\n",
       "      <td>1536.0</td>\n",
       "      <td>2.0</td>\n",
       "      <td>2.0</td>\n",
       "      <td>Condo For Sale</td>\n",
       "    </tr>\n",
       "    <tr>\n",
       "      <th>1</th>\n",
       "      <td>10001</td>\n",
       "      <td>7575000.0</td>\n",
       "      <td>2497.0</td>\n",
       "      <td>2.0</td>\n",
       "      <td>3.0</td>\n",
       "      <td>Condo For Sale</td>\n",
       "    </tr>\n",
       "    <tr>\n",
       "      <th>2</th>\n",
       "      <td>10001</td>\n",
       "      <td>8475000.0</td>\n",
       "      <td>2515.0</td>\n",
       "      <td>3.0</td>\n",
       "      <td>4.0</td>\n",
       "      <td>Condo For Sale</td>\n",
       "    </tr>\n",
       "    <tr>\n",
       "      <th>3</th>\n",
       "      <td>10001</td>\n",
       "      <td>3550000.0</td>\n",
       "      <td>1755.0</td>\n",
       "      <td>2.0</td>\n",
       "      <td>2.0</td>\n",
       "      <td>Condo For Sale</td>\n",
       "    </tr>\n",
       "    <tr>\n",
       "      <th>4</th>\n",
       "      <td>10001</td>\n",
       "      <td>4420000.0</td>\n",
       "      <td>1460.0</td>\n",
       "      <td>2.0</td>\n",
       "      <td>3.0</td>\n",
       "      <td>Condo For Sale</td>\n",
       "    </tr>\n",
       "  </tbody>\n",
       "</table>\n",
       "</div>"
      ],
      "text/plain": [
       "     zip      price    sqft  bedrooms  bathrooms       sale_type\n",
       "0  10001  2599988.0  1536.0       2.0        2.0  Condo For Sale\n",
       "1  10001  7575000.0  2497.0       2.0        3.0  Condo For Sale\n",
       "2  10001  8475000.0  2515.0       3.0        4.0  Condo For Sale\n",
       "3  10001  3550000.0  1755.0       2.0        2.0  Condo For Sale\n",
       "4  10001  4420000.0  1460.0       2.0        3.0  Condo For Sale"
      ]
     },
     "execution_count": 15,
     "metadata": {},
     "output_type": "execute_result"
    }
   ],
   "source": [
    "nychouses.head()"
   ]
  },
  {
   "cell_type": "markdown",
   "metadata": {},
   "source": [
    "### creating a categorical target variable from the price  to demonstrate classification trees:\n",
    "is price >1M -> 1\n",
    "\n",
    "else -> 0"
   ]
  },
  {
   "cell_type": "code",
   "execution_count": 16,
   "metadata": {
    "ExecuteTime": {
     "end_time": "2019-10-30T04:16:28.572448Z",
     "start_time": "2019-10-30T04:16:28.566743Z"
    }
   },
   "outputs": [
    {
     "data": {
      "text/plain": [
       "array([1, 1, 1, ..., 1, 0, 0])"
      ]
     },
     "execution_count": 16,
     "metadata": {},
     "output_type": "execute_result"
    }
   ],
   "source": [
    "yc = np.array([1 if c > 1e6 else 0 for c in nychouses.price])\n",
    "yc"
   ]
  },
  {
   "cell_type": "markdown",
   "metadata": {},
   "source": [
    "### Option 1 to deal with categorical data"
   ]
  },
  {
   "cell_type": "code",
   "execution_count": 17,
   "metadata": {
    "ExecuteTime": {
     "end_time": "2019-10-30T04:16:36.437022Z",
     "start_time": "2019-10-30T04:16:36.432627Z"
    }
   },
   "outputs": [
    {
     "data": {
      "text/plain": [
       "array(['Condo For Sale', 'Townhouse For Sale', 'For Sale by Owner',\n",
       "       'Co-op For Sale', 'Apartment For Sale', 'House For Sale',\n",
       "       'New Construction', 'Foreclosure', 'Foreclosed', 'Auction'],\n",
       "      dtype=object)"
      ]
     },
     "execution_count": 17,
     "metadata": {},
     "output_type": "execute_result"
    }
   ],
   "source": [
    "nychouses.sale_type.unique()"
   ]
  },
  {
   "cell_type": "markdown",
   "metadata": {},
   "source": [
    "technically each feature should be a binary - one-hot encoding this feature would generate 10 binary features (is it a Condo For Sale y/2, is it a Foreclosure Y/N) but of there are few choices it is also ok to encode them as numerical features."
   ]
  },
  {
   "cell_type": "code",
   "execution_count": 20,
   "metadata": {
    "ExecuteTime": {
     "end_time": "2019-10-30T04:17:31.460284Z",
     "start_time": "2019-10-30T04:17:31.453571Z"
    }
   },
   "outputs": [],
   "source": [
    "nychouses[\"sale_type_num\"] = pd.Categorical(nychouses.sale_type).codes"
   ]
  },
  {
   "cell_type": "code",
   "execution_count": 21,
   "metadata": {
    "ExecuteTime": {
     "end_time": "2019-10-30T04:17:34.659922Z",
     "start_time": "2019-10-30T04:17:34.648494Z"
    }
   },
   "outputs": [
    {
     "data": {
      "text/html": [
       "<div>\n",
       "<style scoped>\n",
       "    .dataframe tbody tr th:only-of-type {\n",
       "        vertical-align: middle;\n",
       "    }\n",
       "\n",
       "    .dataframe tbody tr th {\n",
       "        vertical-align: top;\n",
       "    }\n",
       "\n",
       "    .dataframe thead th {\n",
       "        text-align: right;\n",
       "    }\n",
       "</style>\n",
       "<table border=\"1\" class=\"dataframe\">\n",
       "  <thead>\n",
       "    <tr style=\"text-align: right;\">\n",
       "      <th></th>\n",
       "      <th>zip</th>\n",
       "      <th>price</th>\n",
       "      <th>sqft</th>\n",
       "      <th>bedrooms</th>\n",
       "      <th>bathrooms</th>\n",
       "      <th>sale_type</th>\n",
       "      <th>sale_type_num</th>\n",
       "    </tr>\n",
       "  </thead>\n",
       "  <tbody>\n",
       "    <tr>\n",
       "      <th>0</th>\n",
       "      <td>10001</td>\n",
       "      <td>2599988.0</td>\n",
       "      <td>1536.0</td>\n",
       "      <td>2.0</td>\n",
       "      <td>2.0</td>\n",
       "      <td>Condo For Sale</td>\n",
       "      <td>3</td>\n",
       "    </tr>\n",
       "    <tr>\n",
       "      <th>1</th>\n",
       "      <td>10001</td>\n",
       "      <td>7575000.0</td>\n",
       "      <td>2497.0</td>\n",
       "      <td>2.0</td>\n",
       "      <td>3.0</td>\n",
       "      <td>Condo For Sale</td>\n",
       "      <td>3</td>\n",
       "    </tr>\n",
       "    <tr>\n",
       "      <th>2</th>\n",
       "      <td>10001</td>\n",
       "      <td>8475000.0</td>\n",
       "      <td>2515.0</td>\n",
       "      <td>3.0</td>\n",
       "      <td>4.0</td>\n",
       "      <td>Condo For Sale</td>\n",
       "      <td>3</td>\n",
       "    </tr>\n",
       "    <tr>\n",
       "      <th>3</th>\n",
       "      <td>10001</td>\n",
       "      <td>3550000.0</td>\n",
       "      <td>1755.0</td>\n",
       "      <td>2.0</td>\n",
       "      <td>2.0</td>\n",
       "      <td>Condo For Sale</td>\n",
       "      <td>3</td>\n",
       "    </tr>\n",
       "    <tr>\n",
       "      <th>4</th>\n",
       "      <td>10001</td>\n",
       "      <td>4420000.0</td>\n",
       "      <td>1460.0</td>\n",
       "      <td>2.0</td>\n",
       "      <td>3.0</td>\n",
       "      <td>Condo For Sale</td>\n",
       "      <td>3</td>\n",
       "    </tr>\n",
       "  </tbody>\n",
       "</table>\n",
       "</div>"
      ],
      "text/plain": [
       "     zip      price    sqft  bedrooms  bathrooms       sale_type  \\\n",
       "0  10001  2599988.0  1536.0       2.0        2.0  Condo For Sale   \n",
       "1  10001  7575000.0  2497.0       2.0        3.0  Condo For Sale   \n",
       "2  10001  8475000.0  2515.0       3.0        4.0  Condo For Sale   \n",
       "3  10001  3550000.0  1755.0       2.0        2.0  Condo For Sale   \n",
       "4  10001  4420000.0  1460.0       2.0        3.0  Condo For Sale   \n",
       "\n",
       "   sale_type_num  \n",
       "0              3  \n",
       "1              3  \n",
       "2              3  \n",
       "3              3  \n",
       "4              3  "
      ]
     },
     "execution_count": 21,
     "metadata": {},
     "output_type": "execute_result"
    }
   ],
   "source": [
    "nychouses.head()"
   ]
  },
  {
   "cell_type": "markdown",
   "metadata": {},
   "source": [
    "#### whitening"
   ]
  },
  {
   "cell_type": "code",
   "execution_count": 22,
   "metadata": {
    "ExecuteTime": {
     "end_time": "2019-10-30T04:17:38.343133Z",
     "start_time": "2019-10-30T04:17:38.332679Z"
    },
    "run_control": {
     "marked": false
    }
   },
   "outputs": [
    {
     "name": "stderr",
     "output_type": "stream",
     "text": [
      "/Users/fbb/anaconda3/lib/python3.7/site-packages/ipykernel_launcher.py:1: DataConversionWarning: Data with input dtype int8, float64, object were all converted to float64 by the scale function.\n",
      "  \"\"\"Entry point for launching an IPython kernel.\n"
     ]
    }
   ],
   "source": [
    "Xnum = preprocessing.scale(nychouses.drop([\"price\",\"sale_type\"], axis=1))\n",
    "yy = preprocessing.scale(nychouses.price)"
   ]
  },
  {
   "cell_type": "markdown",
   "metadata": {},
   "source": [
    "### Option 2 to deal w categorical data: one-hot encoding\n",
    "1hot encoding all categorical data: sale_type and zipcode as well"
   ]
  },
  {
   "cell_type": "code",
   "execution_count": 23,
   "metadata": {
    "ExecuteTime": {
     "end_time": "2019-10-30T04:17:42.793376Z",
     "start_time": "2019-10-30T04:17:42.768870Z"
    },
    "run_control": {
     "marked": false
    }
   },
   "outputs": [
    {
     "data": {
      "text/html": [
       "<div>\n",
       "<style scoped>\n",
       "    .dataframe tbody tr th:only-of-type {\n",
       "        vertical-align: middle;\n",
       "    }\n",
       "\n",
       "    .dataframe tbody tr th {\n",
       "        vertical-align: top;\n",
       "    }\n",
       "\n",
       "    .dataframe thead th {\n",
       "        text-align: right;\n",
       "    }\n",
       "</style>\n",
       "<table border=\"1\" class=\"dataframe\">\n",
       "  <thead>\n",
       "    <tr style=\"text-align: right;\">\n",
       "      <th></th>\n",
       "      <th>price</th>\n",
       "      <th>sqft</th>\n",
       "      <th>bedrooms</th>\n",
       "      <th>bathrooms</th>\n",
       "      <th>10001</th>\n",
       "      <th>10002</th>\n",
       "      <th>10004</th>\n",
       "      <th>10006</th>\n",
       "      <th>10007</th>\n",
       "      <th>10010</th>\n",
       "      <th>...</th>\n",
       "      <th>Apartment For Sale</th>\n",
       "      <th>Auction</th>\n",
       "      <th>Co-op For Sale</th>\n",
       "      <th>Condo For Sale</th>\n",
       "      <th>For Sale by Owner</th>\n",
       "      <th>Foreclosed</th>\n",
       "      <th>Foreclosure</th>\n",
       "      <th>House For Sale</th>\n",
       "      <th>New Construction</th>\n",
       "      <th>Townhouse For Sale</th>\n",
       "    </tr>\n",
       "  </thead>\n",
       "  <tbody>\n",
       "    <tr>\n",
       "      <th>0</th>\n",
       "      <td>2599988.0</td>\n",
       "      <td>1536.0</td>\n",
       "      <td>2.0</td>\n",
       "      <td>2.0</td>\n",
       "      <td>1</td>\n",
       "      <td>0</td>\n",
       "      <td>0</td>\n",
       "      <td>0</td>\n",
       "      <td>0</td>\n",
       "      <td>0</td>\n",
       "      <td>...</td>\n",
       "      <td>0</td>\n",
       "      <td>0</td>\n",
       "      <td>0</td>\n",
       "      <td>1</td>\n",
       "      <td>0</td>\n",
       "      <td>0</td>\n",
       "      <td>0</td>\n",
       "      <td>0</td>\n",
       "      <td>0</td>\n",
       "      <td>0</td>\n",
       "    </tr>\n",
       "    <tr>\n",
       "      <th>1</th>\n",
       "      <td>7575000.0</td>\n",
       "      <td>2497.0</td>\n",
       "      <td>2.0</td>\n",
       "      <td>3.0</td>\n",
       "      <td>1</td>\n",
       "      <td>0</td>\n",
       "      <td>0</td>\n",
       "      <td>0</td>\n",
       "      <td>0</td>\n",
       "      <td>0</td>\n",
       "      <td>...</td>\n",
       "      <td>0</td>\n",
       "      <td>0</td>\n",
       "      <td>0</td>\n",
       "      <td>1</td>\n",
       "      <td>0</td>\n",
       "      <td>0</td>\n",
       "      <td>0</td>\n",
       "      <td>0</td>\n",
       "      <td>0</td>\n",
       "      <td>0</td>\n",
       "    </tr>\n",
       "    <tr>\n",
       "      <th>2</th>\n",
       "      <td>8475000.0</td>\n",
       "      <td>2515.0</td>\n",
       "      <td>3.0</td>\n",
       "      <td>4.0</td>\n",
       "      <td>1</td>\n",
       "      <td>0</td>\n",
       "      <td>0</td>\n",
       "      <td>0</td>\n",
       "      <td>0</td>\n",
       "      <td>0</td>\n",
       "      <td>...</td>\n",
       "      <td>0</td>\n",
       "      <td>0</td>\n",
       "      <td>0</td>\n",
       "      <td>1</td>\n",
       "      <td>0</td>\n",
       "      <td>0</td>\n",
       "      <td>0</td>\n",
       "      <td>0</td>\n",
       "      <td>0</td>\n",
       "      <td>0</td>\n",
       "    </tr>\n",
       "    <tr>\n",
       "      <th>3</th>\n",
       "      <td>3550000.0</td>\n",
       "      <td>1755.0</td>\n",
       "      <td>2.0</td>\n",
       "      <td>2.0</td>\n",
       "      <td>1</td>\n",
       "      <td>0</td>\n",
       "      <td>0</td>\n",
       "      <td>0</td>\n",
       "      <td>0</td>\n",
       "      <td>0</td>\n",
       "      <td>...</td>\n",
       "      <td>0</td>\n",
       "      <td>0</td>\n",
       "      <td>0</td>\n",
       "      <td>1</td>\n",
       "      <td>0</td>\n",
       "      <td>0</td>\n",
       "      <td>0</td>\n",
       "      <td>0</td>\n",
       "      <td>0</td>\n",
       "      <td>0</td>\n",
       "    </tr>\n",
       "    <tr>\n",
       "      <th>4</th>\n",
       "      <td>4420000.0</td>\n",
       "      <td>1460.0</td>\n",
       "      <td>2.0</td>\n",
       "      <td>3.0</td>\n",
       "      <td>1</td>\n",
       "      <td>0</td>\n",
       "      <td>0</td>\n",
       "      <td>0</td>\n",
       "      <td>0</td>\n",
       "      <td>0</td>\n",
       "      <td>...</td>\n",
       "      <td>0</td>\n",
       "      <td>0</td>\n",
       "      <td>0</td>\n",
       "      <td>1</td>\n",
       "      <td>0</td>\n",
       "      <td>0</td>\n",
       "      <td>0</td>\n",
       "      <td>0</td>\n",
       "      <td>0</td>\n",
       "      <td>0</td>\n",
       "    </tr>\n",
       "  </tbody>\n",
       "</table>\n",
       "<p>5 rows × 73 columns</p>\n",
       "</div>"
      ],
      "text/plain": [
       "       price    sqft  bedrooms  bathrooms  10001  10002  10004  10006  10007  \\\n",
       "0  2599988.0  1536.0       2.0        2.0      1      0      0      0      0   \n",
       "1  7575000.0  2497.0       2.0        3.0      1      0      0      0      0   \n",
       "2  8475000.0  2515.0       3.0        4.0      1      0      0      0      0   \n",
       "3  3550000.0  1755.0       2.0        2.0      1      0      0      0      0   \n",
       "4  4420000.0  1460.0       2.0        3.0      1      0      0      0      0   \n",
       "\n",
       "   10010  ...  Apartment For Sale  Auction  Co-op For Sale  Condo For Sale  \\\n",
       "0      0  ...                   0        0               0               1   \n",
       "1      0  ...                   0        0               0               1   \n",
       "2      0  ...                   0        0               0               1   \n",
       "3      0  ...                   0        0               0               1   \n",
       "4      0  ...                   0        0               0               1   \n",
       "\n",
       "   For Sale by Owner  Foreclosed  Foreclosure  House For Sale  \\\n",
       "0                  0           0            0               0   \n",
       "1                  0           0            0               0   \n",
       "2                  0           0            0               0   \n",
       "3                  0           0            0               0   \n",
       "4                  0           0            0               0   \n",
       "\n",
       "   New Construction  Townhouse For Sale  \n",
       "0                 0                   0  \n",
       "1                 0                   0  \n",
       "2                 0                   0  \n",
       "3                 0                   0  \n",
       "4                 0                   0  \n",
       "\n",
       "[5 rows x 73 columns]"
      ]
     },
     "execution_count": 23,
     "metadata": {},
     "output_type": "execute_result"
    }
   ],
   "source": [
    "nyc1hot = pd.merge(nychouses, pd.get_dummies(nychouses[u'zip']), \n",
    "         left_index=True, right_index=True).merge(pd.get_dummies(nychouses[\"sale_type\"]), \n",
    "                                                  left_index=True, \n",
    "                                                  right_index=True).drop([\"zip\", \"sale_type\", \n",
    "                                                                          \"sale_type_num\"], \n",
    "                                                                    axis=1)\n",
    "nyc1hot.head()"
   ]
  },
  {
   "cell_type": "code",
   "execution_count": 24,
   "metadata": {
    "ExecuteTime": {
     "end_time": "2019-10-30T04:17:52.709742Z",
     "start_time": "2019-10-30T04:17:52.702827Z"
    }
   },
   "outputs": [
    {
     "data": {
      "text/plain": [
       "Index(['price', 'sqft', 'bedrooms', 'bathrooms', '10001', '10002', '10004',\n",
       "       '10006', '10007', '10010', '10011', '10012', '10013', '10014', '10016',\n",
       "       '10017', '10018', '10019', '10021', '10022', '10023', '10024', '10025',\n",
       "       '10026', '10027', '10028', '10029', '10030', '10031', '10032', '10033',\n",
       "       '10034', '10035', '10036', '10037', '10038', '10039', '10040', '10044',\n",
       "       '10065', '10069', '10075', '10128', '11001', '11004', '11005', '11040',\n",
       "       '11096', '11101', '11102', '11103', '11104', '11105', '11106', '11109',\n",
       "       '11201', '11229', '11235', '11355', '11361', '11364', '11365', '11436',\n",
       "       'Apartment For Sale', 'Auction', 'Co-op For Sale', 'Condo For Sale',\n",
       "       'For Sale by Owner', 'Foreclosed', 'Foreclosure', 'House For Sale',\n",
       "       'New Construction', 'Townhouse For Sale'],\n",
       "      dtype='object')"
      ]
     },
     "execution_count": 24,
     "metadata": {},
     "output_type": "execute_result"
    }
   ],
   "source": [
    "nyc1hot.columns"
   ]
  },
  {
   "cell_type": "markdown",
   "metadata": {},
   "source": [
    "#### whitening"
   ]
  },
  {
   "cell_type": "code",
   "execution_count": 25,
   "metadata": {
    "ExecuteTime": {
     "end_time": "2019-10-30T04:17:54.719196Z",
     "start_time": "2019-10-30T04:17:54.690186Z"
    }
   },
   "outputs": [
    {
     "name": "stderr",
     "output_type": "stream",
     "text": [
      "/Users/fbb/anaconda3/lib/python3.7/site-packages/ipykernel_launcher.py:1: DataConversionWarning: Data with input dtype uint8, float64 were all converted to float64 by the scale function.\n",
      "  \"\"\"Entry point for launching an IPython kernel.\n"
     ]
    }
   ],
   "source": [
    "X1hot = preprocessing.scale(nyc1hot.drop(\"price\", axis=1))"
   ]
  },
  {
   "cell_type": "code",
   "execution_count": 26,
   "metadata": {
    "ExecuteTime": {
     "end_time": "2019-10-30T04:17:55.569158Z",
     "start_time": "2019-10-30T04:17:55.562796Z"
    }
   },
   "outputs": [
    {
     "data": {
      "text/plain": [
       "array([-0.1529786 ,  0.2247512 ,  0.29308406, ...,  1.61988051,\n",
       "       -0.28668233, -0.31629324])"
      ]
     },
     "execution_count": 26,
     "metadata": {},
     "output_type": "execute_result"
    }
   ],
   "source": [
    "y = preprocessing.scale(nyc1hot.price)\n",
    "y"
   ]
  },
  {
   "cell_type": "code",
   "execution_count": 28,
   "metadata": {
    "ExecuteTime": {
     "end_time": "2019-10-30T04:18:03.968666Z",
     "start_time": "2019-10-30T04:18:02.528369Z"
    }
   },
   "outputs": [
    {
     "data": {
      "image/png": "[encoded data removed]",
      "text/plain": [
       "<Figure size 720x720 with 25 Axes>"
      ]
     },
     "metadata": {
      "needs_background": "light"
     },
     "output_type": "display_data"
    }
   ],
   "source": [
    "#takse too long\n",
    "pd.plotting.scatter_matrix(nychouses, figsize=(10,10));"
   ]
  },
  {
   "cell_type": "markdown",
   "metadata": {},
   "source": [
    "# Single Tree Classifier"
   ]
  },
  {
   "cell_type": "markdown",
   "metadata": {},
   "source": [
    "categorical 1-hot encoded "
   ]
  },
  {
   "cell_type": "code",
   "execution_count": 29,
   "metadata": {
    "ExecuteTime": {
     "end_time": "2019-10-30T04:18:08.192622Z",
     "start_time": "2019-10-30T04:18:08.188984Z"
    }
   },
   "outputs": [
    {
     "data": {
      "text/plain": [
       "(1100, 72)"
      ]
     },
     "execution_count": 29,
     "metadata": {},
     "output_type": "execute_result"
    }
   ],
   "source": [
    "X1hot.shape"
   ]
  },
  {
   "cell_type": "code",
   "execution_count": 30,
   "metadata": {
    "ExecuteTime": {
     "end_time": "2019-10-30T04:18:08.839922Z",
     "start_time": "2019-10-30T04:18:08.817004Z"
    }
   },
   "outputs": [],
   "source": [
    "tree.DecisionTreeClassifier?"
   ]
  },
  {
   "cell_type": "code",
   "execution_count": 31,
   "metadata": {
    "ExecuteTime": {
     "end_time": "2019-10-30T04:18:14.091409Z",
     "start_time": "2019-10-30T04:18:14.076953Z"
    }
   },
   "outputs": [
    {
     "name": "stdout",
     "output_type": "stream",
     "text": [
      "in-sample score of tree classifier 0.998182\n"
     ]
    }
   ],
   "source": [
    "onetree_1hotencoded =  tree.DecisionTreeClassifier(random_state=112).fit(X1hot, yc)\n",
    "print (\"in-sample score of tree classifier %.6f\"%onetree_1hotencoded.score(X1hot, yc))"
   ]
  },
  {
   "cell_type": "markdown",
   "metadata": {},
   "source": [
    "categorical encoded as numerical"
   ]
  },
  {
   "cell_type": "code",
   "execution_count": 32,
   "metadata": {
    "ExecuteTime": {
     "end_time": "2019-10-30T04:18:17.408436Z",
     "start_time": "2019-10-30T04:18:17.405186Z"
    }
   },
   "outputs": [
    {
     "data": {
      "text/plain": [
       "(1100, 5)"
      ]
     },
     "execution_count": 32,
     "metadata": {},
     "output_type": "execute_result"
    }
   ],
   "source": [
    "Xnum.shape"
   ]
  },
  {
   "cell_type": "code",
   "execution_count": 33,
   "metadata": {
    "ExecuteTime": {
     "end_time": "2019-10-30T04:18:25.459382Z",
     "start_time": "2019-10-30T04:18:25.453832Z"
    }
   },
   "outputs": [
    {
     "name": "stdout",
     "output_type": "stream",
     "text": [
      "in-sample score of 1-hot encoded tree classifier 0.998182\n"
     ]
    }
   ],
   "source": [
    "onetree_numencoded =  tree.DecisionTreeClassifier(random_state=112).fit(Xnum, yc)\n",
    "print (\"in-sample score of 1-hot encoded tree classifier %.6f\"%onetree_numencoded.score(Xnum, yc))"
   ]
  },
  {
   "cell_type": "markdown",
   "metadata": {},
   "source": [
    " plot trees"
   ]
  },
  {
   "cell_type": "code",
   "execution_count": 39,
   "metadata": {
    "ExecuteTime": {
     "end_time": "2019-10-30T04:24:52.250421Z",
     "start_time": "2019-10-30T04:24:52.206765Z"
    }
   },
   "outputs": [
    {
     "ename": "ExecutableNotFound",
     "evalue": "failed to execute ['dot', '-Tsvg'], make sure the Graphviz executables are on your systems' PATH",
     "output_type": "error",
     "traceback": [
      "\u001b[0;31m---------------------------------------------------------------------------\u001b[0m",
      "\u001b[0;31mFileNotFoundError\u001b[0m                         Traceback (most recent call last)",
      "\u001b[0;32m~/anaconda3/lib/python3.7/site-packages/graphviz/backend.py\u001b[0m in \u001b[0;36mrun\u001b[0;34m(cmd, input, capture_output, check, quiet, **kwargs)\u001b[0m\n\u001b[1;32m    157\u001b[0m     \u001b[0;32mtry\u001b[0m\u001b[0;34m:\u001b[0m\u001b[0;34m\u001b[0m\u001b[0;34m\u001b[0m\u001b[0m\n\u001b[0;32m--> 158\u001b[0;31m         \u001b[0mproc\u001b[0m \u001b[0;34m=\u001b[0m \u001b[0msubprocess\u001b[0m\u001b[0;34m.\u001b[0m\u001b[0mPopen\u001b[0m\u001b[0;34m(\u001b[0m\u001b[0mcmd\u001b[0m\u001b[0;34m,\u001b[0m \u001b[0mstartupinfo\u001b[0m\u001b[0;34m=\u001b[0m\u001b[0mget_startupinfo\u001b[0m\u001b[0;34m(\u001b[0m\u001b[0;34m)\u001b[0m\u001b[0;34m,\u001b[0m \u001b[0;34m**\u001b[0m\u001b[0mkwargs\u001b[0m\u001b[0;34m)\u001b[0m\u001b[0;34m\u001b[0m\u001b[0;34m\u001b[0m\u001b[0m\n\u001b[0m\u001b[1;32m    159\u001b[0m     \u001b[0;32mexcept\u001b[0m \u001b[0mOSError\u001b[0m \u001b[0;32mas\u001b[0m \u001b[0me\u001b[0m\u001b[0;34m:\u001b[0m\u001b[0;34m\u001b[0m\u001b[0;34m\u001b[0m\u001b[0m\n",
      "\u001b[0;32m~/anaconda3/lib/python3.7/subprocess.py\u001b[0m in \u001b[0;36m__init__\u001b[0;34m(self, args, bufsize, executable, stdin, stdout, stderr, preexec_fn, close_fds, shell, cwd, env, universal_newlines, startupinfo, creationflags, restore_signals, start_new_session, pass_fds, encoding, errors, text)\u001b[0m\n\u001b[1;32m    774\u001b[0m                                 \u001b[0merrread\u001b[0m\u001b[0;34m,\u001b[0m \u001b[0merrwrite\u001b[0m\u001b[0;34m,\u001b[0m\u001b[0;34m\u001b[0m\u001b[0;34m\u001b[0m\u001b[0m\n\u001b[0;32m--> 775\u001b[0;31m                                 restore_signals, start_new_session)\n\u001b[0m\u001b[1;32m    776\u001b[0m         \u001b[0;32mexcept\u001b[0m\u001b[0;34m:\u001b[0m\u001b[0;34m\u001b[0m\u001b[0;34m\u001b[0m\u001b[0m\n",
      "\u001b[0;32m~/anaconda3/lib/python3.7/subprocess.py\u001b[0m in \u001b[0;36m_execute_child\u001b[0;34m(self, args, executable, preexec_fn, close_fds, pass_fds, cwd, env, startupinfo, creationflags, shell, p2cread, p2cwrite, c2pread, c2pwrite, errread, errwrite, restore_signals, start_new_session)\u001b[0m\n\u001b[1;32m   1521\u001b[0m                             \u001b[0merr_msg\u001b[0m \u001b[0;34m+=\u001b[0m \u001b[0;34m': '\u001b[0m \u001b[0;34m+\u001b[0m \u001b[0mrepr\u001b[0m\u001b[0;34m(\u001b[0m\u001b[0merr_filename\u001b[0m\u001b[0;34m)\u001b[0m\u001b[0;34m\u001b[0m\u001b[0;34m\u001b[0m\u001b[0m\n\u001b[0;32m-> 1522\u001b[0;31m                     \u001b[0;32mraise\u001b[0m \u001b[0mchild_exception_type\u001b[0m\u001b[0;34m(\u001b[0m\u001b[0merrno_num\u001b[0m\u001b[0;34m,\u001b[0m \u001b[0merr_msg\u001b[0m\u001b[0;34m,\u001b[0m \u001b[0merr_filename\u001b[0m\u001b[0;34m)\u001b[0m\u001b[0;34m\u001b[0m\u001b[0;34m\u001b[0m\u001b[0m\n\u001b[0m\u001b[1;32m   1523\u001b[0m                 \u001b[0;32mraise\u001b[0m \u001b[0mchild_exception_type\u001b[0m\u001b[0;34m(\u001b[0m\u001b[0merr_msg\u001b[0m\u001b[0;34m)\u001b[0m\u001b[0;34m\u001b[0m\u001b[0;34m\u001b[0m\u001b[0m\n",
      "\u001b[0;31mFileNotFoundError\u001b[0m: [Errno 2] No such file or directory: 'dot': 'dot'",
      "\nDuring handling of the above exception, another exception occurred:\n",
      "\u001b[0;31mExecutableNotFound\u001b[0m                        Traceback (most recent call last)",
      "\u001b[0;32m~/anaconda3/lib/python3.7/site-packages/IPython/core/formatters.py\u001b[0m in \u001b[0;36m__call__\u001b[0;34m(self, obj)\u001b[0m\n\u001b[1;32m    343\u001b[0m             \u001b[0mmethod\u001b[0m \u001b[0;34m=\u001b[0m \u001b[0mget_real_method\u001b[0m\u001b[0;34m(\u001b[0m\u001b[0mobj\u001b[0m\u001b[0;34m,\u001b[0m \u001b[0mself\u001b[0m\u001b[0;34m.\u001b[0m\u001b[0mprint_method\u001b[0m\u001b[0;34m)\u001b[0m\u001b[0;34m\u001b[0m\u001b[0;34m\u001b[0m\u001b[0m\n\u001b[1;32m    344\u001b[0m             \u001b[0;32mif\u001b[0m \u001b[0mmethod\u001b[0m \u001b[0;32mis\u001b[0m \u001b[0;32mnot\u001b[0m \u001b[0;32mNone\u001b[0m\u001b[0;34m:\u001b[0m\u001b[0;34m\u001b[0m\u001b[0;34m\u001b[0m\u001b[0m\n\u001b[0;32m--> 345\u001b[0;31m                 \u001b[0;32mreturn\u001b[0m \u001b[0mmethod\u001b[0m\u001b[0;34m(\u001b[0m\u001b[0;34m)\u001b[0m\u001b[0;34m\u001b[0m\u001b[0;34m\u001b[0m\u001b[0m\n\u001b[0m\u001b[1;32m    346\u001b[0m             \u001b[0;32mreturn\u001b[0m \u001b[0;32mNone\u001b[0m\u001b[0;34m\u001b[0m\u001b[0;34m\u001b[0m\u001b[0m\n\u001b[1;32m    347\u001b[0m         \u001b[0;32melse\u001b[0m\u001b[0;34m:\u001b[0m\u001b[0;34m\u001b[0m\u001b[0;34m\u001b[0m\u001b[0m\n",
      "\u001b[0;32m~/anaconda3/lib/python3.7/site-packages/graphviz/files.py\u001b[0m in \u001b[0;36m_repr_svg_\u001b[0;34m(self)\u001b[0m\n\u001b[1;32m    111\u001b[0m \u001b[0;34m\u001b[0m\u001b[0m\n\u001b[1;32m    112\u001b[0m     \u001b[0;32mdef\u001b[0m \u001b[0m_repr_svg_\u001b[0m\u001b[0;34m(\u001b[0m\u001b[0mself\u001b[0m\u001b[0;34m)\u001b[0m\u001b[0;34m:\u001b[0m\u001b[0;34m\u001b[0m\u001b[0;34m\u001b[0m\u001b[0m\n\u001b[0;32m--> 113\u001b[0;31m         \u001b[0;32mreturn\u001b[0m \u001b[0mself\u001b[0m\u001b[0;34m.\u001b[0m\u001b[0mpipe\u001b[0m\u001b[0;34m(\u001b[0m\u001b[0mformat\u001b[0m\u001b[0;34m=\u001b[0m\u001b[0;34m'svg'\u001b[0m\u001b[0;34m)\u001b[0m\u001b[0;34m.\u001b[0m\u001b[0mdecode\u001b[0m\u001b[0;34m(\u001b[0m\u001b[0mself\u001b[0m\u001b[0;34m.\u001b[0m\u001b[0m_encoding\u001b[0m\u001b[0;34m)\u001b[0m\u001b[0;34m\u001b[0m\u001b[0;34m\u001b[0m\u001b[0m\n\u001b[0m\u001b[1;32m    114\u001b[0m \u001b[0;34m\u001b[0m\u001b[0m\n\u001b[1;32m    115\u001b[0m     \u001b[0;32mdef\u001b[0m \u001b[0mpipe\u001b[0m\u001b[0;34m(\u001b[0m\u001b[0mself\u001b[0m\u001b[0;34m,\u001b[0m \u001b[0mformat\u001b[0m\u001b[0;34m=\u001b[0m\u001b[0;32mNone\u001b[0m\u001b[0;34m,\u001b[0m \u001b[0mrenderer\u001b[0m\u001b[0;34m=\u001b[0m\u001b[0;32mNone\u001b[0m\u001b[0;34m,\u001b[0m \u001b[0mformatter\u001b[0m\u001b[0;34m=\u001b[0m\u001b[0;32mNone\u001b[0m\u001b[0;34m,\u001b[0m \u001b[0mquiet\u001b[0m\u001b[0;34m=\u001b[0m\u001b[0;32mFalse\u001b[0m\u001b[0;34m)\u001b[0m\u001b[0;34m:\u001b[0m\u001b[0;34m\u001b[0m\u001b[0;34m\u001b[0m\u001b[0m\n",
      "\u001b[0;32m~/anaconda3/lib/python3.7/site-packages/graphviz/files.py\u001b[0m in \u001b[0;36mpipe\u001b[0;34m(self, format, renderer, formatter, quiet)\u001b[0m\n\u001b[1;32m    136\u001b[0m         out = backend.pipe(self._engine, format, data,\n\u001b[1;32m    137\u001b[0m                            \u001b[0mrenderer\u001b[0m\u001b[0;34m=\u001b[0m\u001b[0mrenderer\u001b[0m\u001b[0;34m,\u001b[0m \u001b[0mformatter\u001b[0m\u001b[0;34m=\u001b[0m\u001b[0mformatter\u001b[0m\u001b[0;34m,\u001b[0m\u001b[0;34m\u001b[0m\u001b[0;34m\u001b[0m\u001b[0m\n\u001b[0;32m--> 138\u001b[0;31m                            quiet=quiet)\n\u001b[0m\u001b[1;32m    139\u001b[0m \u001b[0;34m\u001b[0m\u001b[0m\n\u001b[1;32m    140\u001b[0m         \u001b[0;32mreturn\u001b[0m \u001b[0mout\u001b[0m\u001b[0;34m\u001b[0m\u001b[0;34m\u001b[0m\u001b[0m\n",
      "\u001b[0;32m~/anaconda3/lib/python3.7/site-packages/graphviz/backend.py\u001b[0m in \u001b[0;36mpipe\u001b[0;34m(engine, format, data, renderer, formatter, quiet)\u001b[0m\n\u001b[1;32m    226\u001b[0m     \"\"\"\n\u001b[1;32m    227\u001b[0m     \u001b[0mcmd\u001b[0m\u001b[0;34m,\u001b[0m \u001b[0m_\u001b[0m \u001b[0;34m=\u001b[0m \u001b[0mcommand\u001b[0m\u001b[0;34m(\u001b[0m\u001b[0mengine\u001b[0m\u001b[0;34m,\u001b[0m \u001b[0mformat\u001b[0m\u001b[0;34m,\u001b[0m \u001b[0;32mNone\u001b[0m\u001b[0;34m,\u001b[0m \u001b[0mrenderer\u001b[0m\u001b[0;34m,\u001b[0m \u001b[0mformatter\u001b[0m\u001b[0;34m)\u001b[0m\u001b[0;34m\u001b[0m\u001b[0;34m\u001b[0m\u001b[0m\n\u001b[0;32m--> 228\u001b[0;31m     \u001b[0mout\u001b[0m\u001b[0;34m,\u001b[0m \u001b[0m_\u001b[0m \u001b[0;34m=\u001b[0m \u001b[0mrun\u001b[0m\u001b[0;34m(\u001b[0m\u001b[0mcmd\u001b[0m\u001b[0;34m,\u001b[0m \u001b[0minput\u001b[0m\u001b[0;34m=\u001b[0m\u001b[0mdata\u001b[0m\u001b[0;34m,\u001b[0m \u001b[0mcapture_output\u001b[0m\u001b[0;34m=\u001b[0m\u001b[0;32mTrue\u001b[0m\u001b[0;34m,\u001b[0m \u001b[0mcheck\u001b[0m\u001b[0;34m=\u001b[0m\u001b[0;32mTrue\u001b[0m\u001b[0;34m,\u001b[0m \u001b[0mquiet\u001b[0m\u001b[0;34m=\u001b[0m\u001b[0mquiet\u001b[0m\u001b[0;34m)\u001b[0m\u001b[0;34m\u001b[0m\u001b[0;34m\u001b[0m\u001b[0m\n\u001b[0m\u001b[1;32m    229\u001b[0m     \u001b[0;32mreturn\u001b[0m \u001b[0mout\u001b[0m\u001b[0;34m\u001b[0m\u001b[0;34m\u001b[0m\u001b[0m\n\u001b[1;32m    230\u001b[0m \u001b[0;34m\u001b[0m\u001b[0m\n",
      "\u001b[0;32m~/anaconda3/lib/python3.7/site-packages/graphviz/backend.py\u001b[0m in \u001b[0;36mrun\u001b[0;34m(cmd, input, capture_output, check, quiet, **kwargs)\u001b[0m\n\u001b[1;32m    159\u001b[0m     \u001b[0;32mexcept\u001b[0m \u001b[0mOSError\u001b[0m \u001b[0;32mas\u001b[0m \u001b[0me\u001b[0m\u001b[0;34m:\u001b[0m\u001b[0;34m\u001b[0m\u001b[0;34m\u001b[0m\u001b[0m\n\u001b[1;32m    160\u001b[0m         \u001b[0;32mif\u001b[0m \u001b[0me\u001b[0m\u001b[0;34m.\u001b[0m\u001b[0merrno\u001b[0m \u001b[0;34m==\u001b[0m \u001b[0merrno\u001b[0m\u001b[0;34m.\u001b[0m\u001b[0mENOENT\u001b[0m\u001b[0;34m:\u001b[0m\u001b[0;34m\u001b[0m\u001b[0;34m\u001b[0m\u001b[0m\n\u001b[0;32m--> 161\u001b[0;31m             \u001b[0;32mraise\u001b[0m \u001b[0mExecutableNotFound\u001b[0m\u001b[0;34m(\u001b[0m\u001b[0mcmd\u001b[0m\u001b[0;34m)\u001b[0m\u001b[0;34m\u001b[0m\u001b[0;34m\u001b[0m\u001b[0m\n\u001b[0m\u001b[1;32m    162\u001b[0m         \u001b[0;32melse\u001b[0m\u001b[0;34m:\u001b[0m\u001b[0;34m\u001b[0m\u001b[0;34m\u001b[0m\u001b[0m\n\u001b[1;32m    163\u001b[0m             \u001b[0;32mraise\u001b[0m\u001b[0;34m\u001b[0m\u001b[0;34m\u001b[0m\u001b[0m\n",
      "\u001b[0;31mExecutableNotFound\u001b[0m: failed to execute ['dot', '-Tsvg'], make sure the Graphviz executables are on your systems' PATH"
     ]
    },
    {
     "data": {
      "text/plain": [
       "<graphviz.files.Source at 0x1a1d32c6d8>"
      ]
     },
     "execution_count": 39,
     "metadata": {},
     "output_type": "execute_result"
    }
   ],
   "source": [
    "dot_data = tree.export_graphviz(onetree_1hotencoded, \n",
    "                                feature_names=nyc1hot.drop(\"price\", axis=1).columns, \n",
    "                                out_file=None) \n",
    "graph = graphviz.Source(dot_data)\n",
    "graph"
   ]
  },
  {
   "cell_type": "code",
   "execution_count": 40,
   "metadata": {
    "ExecuteTime": {
     "end_time": "2019-10-30T04:24:52.289376Z",
     "start_time": "2019-10-30T04:24:52.252412Z"
    }
   },
   "outputs": [
    {
     "ename": "ExecutableNotFound",
     "evalue": "failed to execute ['dot', '-Tsvg'], make sure the Graphviz executables are on your systems' PATH",
     "output_type": "error",
     "traceback": [
      "\u001b[0;31m---------------------------------------------------------------------------\u001b[0m",
      "\u001b[0;31mFileNotFoundError\u001b[0m                         Traceback (most recent call last)",
      "\u001b[0;32m~/anaconda3/lib/python3.7/site-packages/graphviz/backend.py\u001b[0m in \u001b[0;36mrun\u001b[0;34m(cmd, input, capture_output, check, quiet, **kwargs)\u001b[0m\n\u001b[1;32m    157\u001b[0m     \u001b[0;32mtry\u001b[0m\u001b[0;34m:\u001b[0m\u001b[0;34m\u001b[0m\u001b[0;34m\u001b[0m\u001b[0m\n\u001b[0;32m--> 158\u001b[0;31m         \u001b[0mproc\u001b[0m \u001b[0;34m=\u001b[0m \u001b[0msubprocess\u001b[0m\u001b[0;34m.\u001b[0m\u001b[0mPopen\u001b[0m\u001b[0;34m(\u001b[0m\u001b[0mcmd\u001b[0m\u001b[0;34m,\u001b[0m \u001b[0mstartupinfo\u001b[0m\u001b[0;34m=\u001b[0m\u001b[0mget_startupinfo\u001b[0m\u001b[0;34m(\u001b[0m\u001b[0;34m)\u001b[0m\u001b[0;34m,\u001b[0m \u001b[0;34m**\u001b[0m\u001b[0mkwargs\u001b[0m\u001b[0;34m)\u001b[0m\u001b[0;34m\u001b[0m\u001b[0;34m\u001b[0m\u001b[0m\n\u001b[0m\u001b[1;32m    159\u001b[0m     \u001b[0;32mexcept\u001b[0m \u001b[0mOSError\u001b[0m \u001b[0;32mas\u001b[0m \u001b[0me\u001b[0m\u001b[0;34m:\u001b[0m\u001b[0;34m\u001b[0m\u001b[0;34m\u001b[0m\u001b[0m\n",
      "\u001b[0;32m~/anaconda3/lib/python3.7/subprocess.py\u001b[0m in \u001b[0;36m__init__\u001b[0;34m(self, args, bufsize, executable, stdin, stdout, stderr, preexec_fn, close_fds, shell, cwd, env, universal_newlines, startupinfo, creationflags, restore_signals, start_new_session, pass_fds, encoding, errors, text)\u001b[0m\n\u001b[1;32m    774\u001b[0m                                 \u001b[0merrread\u001b[0m\u001b[0;34m,\u001b[0m \u001b[0merrwrite\u001b[0m\u001b[0;34m,\u001b[0m\u001b[0;34m\u001b[0m\u001b[0;34m\u001b[0m\u001b[0m\n\u001b[0;32m--> 775\u001b[0;31m                                 restore_signals, start_new_session)\n\u001b[0m\u001b[1;32m    776\u001b[0m         \u001b[0;32mexcept\u001b[0m\u001b[0;34m:\u001b[0m\u001b[0;34m\u001b[0m\u001b[0;34m\u001b[0m\u001b[0m\n",
      "\u001b[0;32m~/anaconda3/lib/python3.7/subprocess.py\u001b[0m in \u001b[0;36m_execute_child\u001b[0;34m(self, args, executable, preexec_fn, close_fds, pass_fds, cwd, env, startupinfo, creationflags, shell, p2cread, p2cwrite, c2pread, c2pwrite, errread, errwrite, restore_signals, start_new_session)\u001b[0m\n\u001b[1;32m   1521\u001b[0m                             \u001b[0merr_msg\u001b[0m \u001b[0;34m+=\u001b[0m \u001b[0;34m': '\u001b[0m \u001b[0;34m+\u001b[0m \u001b[0mrepr\u001b[0m\u001b[0;34m(\u001b[0m\u001b[0merr_filename\u001b[0m\u001b[0;34m)\u001b[0m\u001b[0;34m\u001b[0m\u001b[0;34m\u001b[0m\u001b[0m\n\u001b[0;32m-> 1522\u001b[0;31m                     \u001b[0;32mraise\u001b[0m \u001b[0mchild_exception_type\u001b[0m\u001b[0;34m(\u001b[0m\u001b[0merrno_num\u001b[0m\u001b[0;34m,\u001b[0m \u001b[0merr_msg\u001b[0m\u001b[0;34m,\u001b[0m \u001b[0merr_filename\u001b[0m\u001b[0;34m)\u001b[0m\u001b[0;34m\u001b[0m\u001b[0;34m\u001b[0m\u001b[0m\n\u001b[0m\u001b[1;32m   1523\u001b[0m                 \u001b[0;32mraise\u001b[0m \u001b[0mchild_exception_type\u001b[0m\u001b[0;34m(\u001b[0m\u001b[0merr_msg\u001b[0m\u001b[0;34m)\u001b[0m\u001b[0;34m\u001b[0m\u001b[0;34m\u001b[0m\u001b[0m\n",
      "\u001b[0;31mFileNotFoundError\u001b[0m: [Errno 2] No such file or directory: 'dot': 'dot'",
      "\nDuring handling of the above exception, another exception occurred:\n",
      "\u001b[0;31mExecutableNotFound\u001b[0m                        Traceback (most recent call last)",
      "\u001b[0;32m~/anaconda3/lib/python3.7/site-packages/IPython/core/formatters.py\u001b[0m in \u001b[0;36m__call__\u001b[0;34m(self, obj)\u001b[0m\n\u001b[1;32m    343\u001b[0m             \u001b[0mmethod\u001b[0m \u001b[0;34m=\u001b[0m \u001b[0mget_real_method\u001b[0m\u001b[0;34m(\u001b[0m\u001b[0mobj\u001b[0m\u001b[0;34m,\u001b[0m \u001b[0mself\u001b[0m\u001b[0;34m.\u001b[0m\u001b[0mprint_method\u001b[0m\u001b[0;34m)\u001b[0m\u001b[0;34m\u001b[0m\u001b[0;34m\u001b[0m\u001b[0m\n\u001b[1;32m    344\u001b[0m             \u001b[0;32mif\u001b[0m \u001b[0mmethod\u001b[0m \u001b[0;32mis\u001b[0m \u001b[0;32mnot\u001b[0m \u001b[0;32mNone\u001b[0m\u001b[0;34m:\u001b[0m\u001b[0;34m\u001b[0m\u001b[0;34m\u001b[0m\u001b[0m\n\u001b[0;32m--> 345\u001b[0;31m                 \u001b[0;32mreturn\u001b[0m \u001b[0mmethod\u001b[0m\u001b[0;34m(\u001b[0m\u001b[0;34m)\u001b[0m\u001b[0;34m\u001b[0m\u001b[0;34m\u001b[0m\u001b[0m\n\u001b[0m\u001b[1;32m    346\u001b[0m             \u001b[0;32mreturn\u001b[0m \u001b[0;32mNone\u001b[0m\u001b[0;34m\u001b[0m\u001b[0;34m\u001b[0m\u001b[0m\n\u001b[1;32m    347\u001b[0m         \u001b[0;32melse\u001b[0m\u001b[0;34m:\u001b[0m\u001b[0;34m\u001b[0m\u001b[0;34m\u001b[0m\u001b[0m\n",
      "\u001b[0;32m~/anaconda3/lib/python3.7/site-packages/graphviz/files.py\u001b[0m in \u001b[0;36m_repr_svg_\u001b[0;34m(self)\u001b[0m\n\u001b[1;32m    111\u001b[0m \u001b[0;34m\u001b[0m\u001b[0m\n\u001b[1;32m    112\u001b[0m     \u001b[0;32mdef\u001b[0m \u001b[0m_repr_svg_\u001b[0m\u001b[0;34m(\u001b[0m\u001b[0mself\u001b[0m\u001b[0;34m)\u001b[0m\u001b[0;34m:\u001b[0m\u001b[0;34m\u001b[0m\u001b[0;34m\u001b[0m\u001b[0m\n\u001b[0;32m--> 113\u001b[0;31m         \u001b[0;32mreturn\u001b[0m \u001b[0mself\u001b[0m\u001b[0;34m.\u001b[0m\u001b[0mpipe\u001b[0m\u001b[0;34m(\u001b[0m\u001b[0mformat\u001b[0m\u001b[0;34m=\u001b[0m\u001b[0;34m'svg'\u001b[0m\u001b[0;34m)\u001b[0m\u001b[0;34m.\u001b[0m\u001b[0mdecode\u001b[0m\u001b[0;34m(\u001b[0m\u001b[0mself\u001b[0m\u001b[0;34m.\u001b[0m\u001b[0m_encoding\u001b[0m\u001b[0;34m)\u001b[0m\u001b[0;34m\u001b[0m\u001b[0;34m\u001b[0m\u001b[0m\n\u001b[0m\u001b[1;32m    114\u001b[0m \u001b[0;34m\u001b[0m\u001b[0m\n\u001b[1;32m    115\u001b[0m     \u001b[0;32mdef\u001b[0m \u001b[0mpipe\u001b[0m\u001b[0;34m(\u001b[0m\u001b[0mself\u001b[0m\u001b[0;34m,\u001b[0m \u001b[0mformat\u001b[0m\u001b[0;34m=\u001b[0m\u001b[0;32mNone\u001b[0m\u001b[0;34m,\u001b[0m \u001b[0mrenderer\u001b[0m\u001b[0;34m=\u001b[0m\u001b[0;32mNone\u001b[0m\u001b[0;34m,\u001b[0m \u001b[0mformatter\u001b[0m\u001b[0;34m=\u001b[0m\u001b[0;32mNone\u001b[0m\u001b[0;34m,\u001b[0m \u001b[0mquiet\u001b[0m\u001b[0;34m=\u001b[0m\u001b[0;32mFalse\u001b[0m\u001b[0;34m)\u001b[0m\u001b[0;34m:\u001b[0m\u001b[0;34m\u001b[0m\u001b[0;34m\u001b[0m\u001b[0m\n",
      "\u001b[0;32m~/anaconda3/lib/python3.7/site-packages/graphviz/files.py\u001b[0m in \u001b[0;36mpipe\u001b[0;34m(self, format, renderer, formatter, quiet)\u001b[0m\n\u001b[1;32m    136\u001b[0m         out = backend.pipe(self._engine, format, data,\n\u001b[1;32m    137\u001b[0m                            \u001b[0mrenderer\u001b[0m\u001b[0;34m=\u001b[0m\u001b[0mrenderer\u001b[0m\u001b[0;34m,\u001b[0m \u001b[0mformatter\u001b[0m\u001b[0;34m=\u001b[0m\u001b[0mformatter\u001b[0m\u001b[0;34m,\u001b[0m\u001b[0;34m\u001b[0m\u001b[0;34m\u001b[0m\u001b[0m\n\u001b[0;32m--> 138\u001b[0;31m                            quiet=quiet)\n\u001b[0m\u001b[1;32m    139\u001b[0m \u001b[0;34m\u001b[0m\u001b[0m\n\u001b[1;32m    140\u001b[0m         \u001b[0;32mreturn\u001b[0m \u001b[0mout\u001b[0m\u001b[0;34m\u001b[0m\u001b[0;34m\u001b[0m\u001b[0m\n",
      "\u001b[0;32m~/anaconda3/lib/python3.7/site-packages/graphviz/backend.py\u001b[0m in \u001b[0;36mpipe\u001b[0;34m(engine, format, data, renderer, formatter, quiet)\u001b[0m\n\u001b[1;32m    226\u001b[0m     \"\"\"\n\u001b[1;32m    227\u001b[0m     \u001b[0mcmd\u001b[0m\u001b[0;34m,\u001b[0m \u001b[0m_\u001b[0m \u001b[0;34m=\u001b[0m \u001b[0mcommand\u001b[0m\u001b[0;34m(\u001b[0m\u001b[0mengine\u001b[0m\u001b[0;34m,\u001b[0m \u001b[0mformat\u001b[0m\u001b[0;34m,\u001b[0m \u001b[0;32mNone\u001b[0m\u001b[0;34m,\u001b[0m \u001b[0mrenderer\u001b[0m\u001b[0;34m,\u001b[0m \u001b[0mformatter\u001b[0m\u001b[0;34m)\u001b[0m\u001b[0;34m\u001b[0m\u001b[0;34m\u001b[0m\u001b[0m\n\u001b[0;32m--> 228\u001b[0;31m     \u001b[0mout\u001b[0m\u001b[0;34m,\u001b[0m \u001b[0m_\u001b[0m \u001b[0;34m=\u001b[0m \u001b[0mrun\u001b[0m\u001b[0;34m(\u001b[0m\u001b[0mcmd\u001b[0m\u001b[0;34m,\u001b[0m \u001b[0minput\u001b[0m\u001b[0;34m=\u001b[0m\u001b[0mdata\u001b[0m\u001b[0;34m,\u001b[0m \u001b[0mcapture_output\u001b[0m\u001b[0;34m=\u001b[0m\u001b[0;32mTrue\u001b[0m\u001b[0;34m,\u001b[0m \u001b[0mcheck\u001b[0m\u001b[0;34m=\u001b[0m\u001b[0;32mTrue\u001b[0m\u001b[0;34m,\u001b[0m \u001b[0mquiet\u001b[0m\u001b[0;34m=\u001b[0m\u001b[0mquiet\u001b[0m\u001b[0;34m)\u001b[0m\u001b[0;34m\u001b[0m\u001b[0;34m\u001b[0m\u001b[0m\n\u001b[0m\u001b[1;32m    229\u001b[0m     \u001b[0;32mreturn\u001b[0m \u001b[0mout\u001b[0m\u001b[0;34m\u001b[0m\u001b[0;34m\u001b[0m\u001b[0m\n\u001b[1;32m    230\u001b[0m \u001b[0;34m\u001b[0m\u001b[0m\n",
      "\u001b[0;32m~/anaconda3/lib/python3.7/site-packages/graphviz/backend.py\u001b[0m in \u001b[0;36mrun\u001b[0;34m(cmd, input, capture_output, check, quiet, **kwargs)\u001b[0m\n\u001b[1;32m    159\u001b[0m     \u001b[0;32mexcept\u001b[0m \u001b[0mOSError\u001b[0m \u001b[0;32mas\u001b[0m \u001b[0me\u001b[0m\u001b[0;34m:\u001b[0m\u001b[0;34m\u001b[0m\u001b[0;34m\u001b[0m\u001b[0m\n\u001b[1;32m    160\u001b[0m         \u001b[0;32mif\u001b[0m \u001b[0me\u001b[0m\u001b[0;34m.\u001b[0m\u001b[0merrno\u001b[0m \u001b[0;34m==\u001b[0m \u001b[0merrno\u001b[0m\u001b[0;34m.\u001b[0m\u001b[0mENOENT\u001b[0m\u001b[0;34m:\u001b[0m\u001b[0;34m\u001b[0m\u001b[0;34m\u001b[0m\u001b[0m\n\u001b[0;32m--> 161\u001b[0;31m             \u001b[0;32mraise\u001b[0m \u001b[0mExecutableNotFound\u001b[0m\u001b[0;34m(\u001b[0m\u001b[0mcmd\u001b[0m\u001b[0;34m)\u001b[0m\u001b[0;34m\u001b[0m\u001b[0;34m\u001b[0m\u001b[0m\n\u001b[0m\u001b[1;32m    162\u001b[0m         \u001b[0;32melse\u001b[0m\u001b[0;34m:\u001b[0m\u001b[0;34m\u001b[0m\u001b[0;34m\u001b[0m\u001b[0m\n\u001b[1;32m    163\u001b[0m             \u001b[0;32mraise\u001b[0m\u001b[0;34m\u001b[0m\u001b[0;34m\u001b[0m\u001b[0m\n",
      "\u001b[0;31mExecutableNotFound\u001b[0m: failed to execute ['dot', '-Tsvg'], make sure the Graphviz executables are on your systems' PATH"
     ]
    },
    {
     "data": {
      "text/plain": [
       "<graphviz.files.Source at 0x1a1d4faeb8>"
      ]
     },
     "execution_count": 40,
     "metadata": {},
     "output_type": "execute_result"
    }
   ],
   "source": [
    "dot_data = tree.export_graphviz(onetree_numencoded, \n",
    "                                feature_names=nychouses.drop([\"price\",\"sale_type\"], axis=1).columns, \n",
    "                                out_file=None) \n",
    "graph = graphviz.Source(dot_data) \n",
    "graph"
   ]
  },
  {
   "cell_type": "markdown",
   "metadata": {},
   "source": [
    "# comparison with regression models - in sample comparison"
   ]
  },
  {
   "cell_type": "markdown",
   "metadata": {},
   "source": [
    "## Regression"
   ]
  },
  {
   "cell_type": "markdown",
   "metadata": {},
   "source": [
    "### Linear regression"
   ]
  },
  {
   "cell_type": "code",
   "execution_count": 41,
   "metadata": {
    "ExecuteTime": {
     "end_time": "2019-10-30T04:24:57.735348Z",
     "start_time": "2019-10-30T04:24:57.691913Z"
    }
   },
   "outputs": [
    {
     "name": "stdout",
     "output_type": "stream",
     "text": [
      "in-sample score of linear regression 0.81\n"
     ]
    }
   ],
   "source": [
    "linearReg = linear_model.LinearRegression()\n",
    "linearReg = linearReg.fit(Xnum, y)\n",
    "print (\"in-sample score of linear regression %.2f\"%linearReg.score(Xnum, y))"
   ]
  },
  {
   "cell_type": "markdown",
   "metadata": {},
   "source": [
    "### Ridge regression: regression with penalization for high coefficients"
   ]
  },
  {
   "cell_type": "code",
   "execution_count": 42,
   "metadata": {
    "ExecuteTime": {
     "end_time": "2019-10-30T04:24:59.417074Z",
     "start_time": "2019-10-30T04:24:59.405913Z"
    }
   },
   "outputs": [
    {
     "name": "stdout",
     "output_type": "stream",
     "text": [
      "in-sample score of ridge regression 0.81\n"
     ]
    }
   ],
   "source": [
    "ridge = linear_model.RidgeCV()\n",
    "ridge = ridge.fit(Xnum, y)\n",
    "print (\"in-sample score of ridge regression %.2f\"%ridge.score(Xnum, y))"
   ]
  },
  {
   "cell_type": "markdown",
   "metadata": {},
   "source": [
    "## Categorical"
   ]
  },
  {
   "cell_type": "markdown",
   "metadata": {},
   "source": [
    "### Ridge classification (Categorical version of Ridge regression)"
   ]
  },
  {
   "cell_type": "code",
   "execution_count": 43,
   "metadata": {
    "ExecuteTime": {
     "end_time": "2019-10-30T04:25:01.434137Z",
     "start_time": "2019-10-30T04:25:01.396916Z"
    }
   },
   "outputs": [
    {
     "name": "stdout",
     "output_type": "stream",
     "text": [
      "in-sample score of ridge classification 0.91\n"
     ]
    }
   ],
   "source": [
    "ridgec = linear_model.RidgeClassifierCV()\n",
    "ridgec = ridgec.fit(X1hot, yc)\n",
    "print (\"in-sample score of ridge classification %.2f\"%ridgec.score(X1hot, yc))"
   ]
  },
  {
   "cell_type": "markdown",
   "metadata": {},
   "source": [
    "### Logistic regression (NB: its always categorical)"
   ]
  },
  {
   "cell_type": "code",
   "execution_count": 44,
   "metadata": {
    "ExecuteTime": {
     "end_time": "2019-10-30T04:25:10.293063Z",
     "start_time": "2019-10-30T04:25:09.949970Z"
    },
    "run_control": {
     "marked": false
    }
   },
   "outputs": [
    {
     "name": "stderr",
     "output_type": "stream",
     "text": [
      "/Users/fbb/anaconda3/lib/python3.7/site-packages/sklearn/model_selection/_split.py:2053: FutureWarning: You should specify a value for 'cv' instead of relying on the default value. The default value will change from 3 to 5 in version 0.22.\n",
      "  warnings.warn(CV_WARNING, FutureWarning)\n",
      "/Users/fbb/anaconda3/lib/python3.7/site-packages/sklearn/linear_model/logistic.py:758: ConvergenceWarning: lbfgs failed to converge. Increase the number of iterations.\n",
      "  \"of iterations.\", ConvergenceWarning)\n",
      "/Users/fbb/anaconda3/lib/python3.7/site-packages/sklearn/linear_model/logistic.py:758: ConvergenceWarning: lbfgs failed to converge. Increase the number of iterations.\n",
      "  \"of iterations.\", ConvergenceWarning)\n",
      "/Users/fbb/anaconda3/lib/python3.7/site-packages/sklearn/linear_model/logistic.py:758: ConvergenceWarning: lbfgs failed to converge. Increase the number of iterations.\n",
      "  \"of iterations.\", ConvergenceWarning)\n",
      "/Users/fbb/anaconda3/lib/python3.7/site-packages/sklearn/linear_model/logistic.py:758: ConvergenceWarning: lbfgs failed to converge. Increase the number of iterations.\n",
      "  \"of iterations.\", ConvergenceWarning)\n",
      "/Users/fbb/anaconda3/lib/python3.7/site-packages/sklearn/linear_model/logistic.py:758: ConvergenceWarning: lbfgs failed to converge. Increase the number of iterations.\n",
      "  \"of iterations.\", ConvergenceWarning)\n",
      "/Users/fbb/anaconda3/lib/python3.7/site-packages/sklearn/linear_model/logistic.py:758: ConvergenceWarning: lbfgs failed to converge. Increase the number of iterations.\n",
      "  \"of iterations.\", ConvergenceWarning)\n",
      "/Users/fbb/anaconda3/lib/python3.7/site-packages/sklearn/linear_model/logistic.py:758: ConvergenceWarning: lbfgs failed to converge. Increase the number of iterations.\n",
      "  \"of iterations.\", ConvergenceWarning)\n"
     ]
    },
    {
     "name": "stdout",
     "output_type": "stream",
     "text": [
      "in-sample score of logistic regression (classification) 0.95\n"
     ]
    },
    {
     "name": "stderr",
     "output_type": "stream",
     "text": [
      "/Users/fbb/anaconda3/lib/python3.7/site-packages/sklearn/linear_model/logistic.py:758: ConvergenceWarning: lbfgs failed to converge. Increase the number of iterations.\n",
      "  \"of iterations.\", ConvergenceWarning)\n",
      "/Users/fbb/anaconda3/lib/python3.7/site-packages/sklearn/linear_model/logistic.py:758: ConvergenceWarning: lbfgs failed to converge. Increase the number of iterations.\n",
      "  \"of iterations.\", ConvergenceWarning)\n",
      "/Users/fbb/anaconda3/lib/python3.7/site-packages/sklearn/linear_model/logistic.py:758: ConvergenceWarning: lbfgs failed to converge. Increase the number of iterations.\n",
      "  \"of iterations.\", ConvergenceWarning)\n",
      "/Users/fbb/anaconda3/lib/python3.7/site-packages/sklearn/linear_model/logistic.py:758: ConvergenceWarning: lbfgs failed to converge. Increase the number of iterations.\n",
      "  \"of iterations.\", ConvergenceWarning)\n",
      "/Users/fbb/anaconda3/lib/python3.7/site-packages/sklearn/linear_model/logistic.py:758: ConvergenceWarning: lbfgs failed to converge. Increase the number of iterations.\n",
      "  \"of iterations.\", ConvergenceWarning)\n"
     ]
    }
   ],
   "source": [
    "logisticc = linear_model.LogisticRegressionCV()\n",
    "logisticc = logisticc.fit(X1hot, yc)\n",
    "print (\"in-sample score of logistic regression (classification) %.2f\"%logisticc.score(X1hot, yc))"
   ]
  },
  {
   "cell_type": "markdown",
   "metadata": {},
   "source": [
    "## CART: Classification and Regression Tree Methods"
   ]
  },
  {
   "cell_type": "markdown",
   "metadata": {},
   "source": [
    "## Tree Classification models"
   ]
  },
  {
   "cell_type": "markdown",
   "metadata": {},
   "source": [
    "### Random Forest"
   ]
  },
  {
   "cell_type": "code",
   "execution_count": 45,
   "metadata": {
    "ExecuteTime": {
     "end_time": "2019-10-30T04:25:18.039112Z",
     "start_time": "2019-10-30T04:25:18.016999Z"
    }
   },
   "outputs": [
    {
     "name": "stdout",
     "output_type": "stream",
     "text": [
      "in-sample score of random forest classifier (one-hot) 0.99\n"
     ]
    },
    {
     "name": "stderr",
     "output_type": "stream",
     "text": [
      "/Users/fbb/anaconda3/lib/python3.7/site-packages/sklearn/ensemble/forest.py:246: FutureWarning: The default value of n_estimators will change from 10 in version 0.20 to 100 in 0.22.\n",
      "  \"10 in version 0.20 to 100 in 0.22.\", FutureWarning)\n"
     ]
    }
   ],
   "source": [
    "rfc = ensemble.RandomForestClassifier()\n",
    "rfcat = rfc.fit(X1hot, yc)\n",
    "print (\"in-sample score of random forest classifier (one-hot) %.2f\"%rfcat.score(X1hot,yc))"
   ]
  },
  {
   "cell_type": "code",
   "execution_count": 46,
   "metadata": {
    "ExecuteTime": {
     "end_time": "2019-10-30T04:25:21.636588Z",
     "start_time": "2019-10-30T04:25:21.619474Z"
    }
   },
   "outputs": [
    {
     "name": "stdout",
     "output_type": "stream",
     "text": [
      "in-sample score of random forest classifier (numerical) 1.00\n"
     ]
    },
    {
     "name": "stderr",
     "output_type": "stream",
     "text": [
      "/Users/fbb/anaconda3/lib/python3.7/site-packages/sklearn/ensemble/forest.py:246: FutureWarning: The default value of n_estimators will change from 10 in version 0.20 to 100 in 0.22.\n",
      "  \"10 in version 0.20 to 100 in 0.22.\", FutureWarning)\n"
     ]
    }
   ],
   "source": [
    "rfn = ensemble.RandomForestClassifier()\n",
    "rfnum = rfn.fit(Xnum, yc)\n",
    "print (\"in-sample score of random forest classifier (numerical) %.2f\"%rfnum.score(Xnum,yc))"
   ]
  },
  {
   "cell_type": "markdown",
   "metadata": {},
   "source": [
    "### Gradient boosted trees"
   ]
  },
  {
   "cell_type": "code",
   "execution_count": 47,
   "metadata": {
    "ExecuteTime": {
     "end_time": "2019-10-30T04:25:26.376240Z",
     "start_time": "2019-10-30T04:25:26.232594Z"
    }
   },
   "outputs": [
    {
     "name": "stdout",
     "output_type": "stream",
     "text": [
      "in-sample score of gradient boosted tree classifier (one-hot) 0.96\n"
     ]
    }
   ],
   "source": [
    "gbc = ensemble.GradientBoostingClassifier()\n",
    "gbcat = gbc.fit(X1hot, yc)\n",
    "print (\"in-sample score of gradient boosted tree classifier (one-hot) %.2f\"%gbcat.score(X1hot,yc))"
   ]
  },
  {
   "cell_type": "code",
   "execution_count": 48,
   "metadata": {
    "ExecuteTime": {
     "end_time": "2019-10-30T04:25:27.080102Z",
     "start_time": "2019-10-30T04:25:27.011647Z"
    }
   },
   "outputs": [
    {
     "name": "stdout",
     "output_type": "stream",
     "text": [
      "in-sample score of gradient boosted tree classifier (one-hot) 0.97\n"
     ]
    }
   ],
   "source": [
    "gbn = ensemble.GradientBoostingClassifier()\n",
    "gbnum = gbn.fit(Xnum, yc)\n",
    "print (\"in-sample score of gradient boosted tree classifier (one-hot) %.2f\"%gbnum.score(Xnum,yc))"
   ]
  },
  {
   "cell_type": "markdown",
   "metadata": {},
   "source": [
    "## Tree regression models"
   ]
  },
  {
   "cell_type": "markdown",
   "metadata": {},
   "source": [
    "### Random Forest"
   ]
  },
  {
   "cell_type": "code",
   "execution_count": 49,
   "metadata": {
    "ExecuteTime": {
     "end_time": "2019-10-30T04:25:28.596420Z",
     "start_time": "2019-10-30T04:25:28.554714Z"
    },
    "run_control": {
     "marked": false
    }
   },
   "outputs": [
    {
     "name": "stdout",
     "output_type": "stream",
     "text": [
      "in-sample score of random forest regression 0.99\n"
     ]
    },
    {
     "name": "stderr",
     "output_type": "stream",
     "text": [
      "/Users/fbb/anaconda3/lib/python3.7/site-packages/sklearn/ensemble/forest.py:246: FutureWarning: The default value of n_estimators will change from 10 in version 0.20 to 100 in 0.22.\n",
      "  \"10 in version 0.20 to 100 in 0.22.\", FutureWarning)\n"
     ]
    }
   ],
   "source": [
    "rfr = ensemble.RandomForestRegressor()\n",
    "rfreg1hot = rfr.fit(X1hot, y)\n",
    "print (\"in-sample score of random forest regression %.2f\"%rfreg1hot.score(X1hot,y))"
   ]
  },
  {
   "cell_type": "code",
   "execution_count": 50,
   "metadata": {
    "ExecuteTime": {
     "end_time": "2019-10-30T04:25:29.517345Z",
     "start_time": "2019-10-30T04:25:29.492829Z"
    }
   },
   "outputs": [
    {
     "name": "stdout",
     "output_type": "stream",
     "text": [
      "in-sample score of random forest regression 0.99\n"
     ]
    }
   ],
   "source": [
    "rfreg = rfr.fit(Xnum, y)\n",
    "print (\"in-sample score of random forest regression %.2f\"%rfreg.score(Xnum,y))"
   ]
  },
  {
   "cell_type": "markdown",
   "metadata": {},
   "source": [
    "### Gradient boosted trees"
   ]
  },
  {
   "cell_type": "code",
   "execution_count": 51,
   "metadata": {
    "ExecuteTime": {
     "end_time": "2019-10-30T04:25:31.500369Z",
     "start_time": "2019-10-30T04:25:31.406002Z"
    }
   },
   "outputs": [
    {
     "name": "stdout",
     "output_type": "stream",
     "text": [
      "in-sample score of gradient boosted regression 1.00\n"
     ]
    }
   ],
   "source": [
    "gbr = ensemble.GradientBoostingRegressor()\n",
    "gbreg1hot = gbr.fit(X1hot, y)\n",
    "print (\"in-sample score of gradient boosted regression %.2f\"%gbreg1hot.score(X1hot,y))"
   ]
  },
  {
   "cell_type": "code",
   "execution_count": 52,
   "metadata": {
    "ExecuteTime": {
     "end_time": "2019-10-30T04:25:32.346601Z",
     "start_time": "2019-10-30T04:25:32.310503Z"
    }
   },
   "outputs": [
    {
     "name": "stdout",
     "output_type": "stream",
     "text": [
      "in-sample score of gradient boosted regression 1.00\n"
     ]
    }
   ],
   "source": [
    "gbreg = gbr.fit(Xnum, y)\n",
    "print (\"in-sample score of gradient boosted regression %.2f\"%gbreg.score(Xnum,y))"
   ]
  },
  {
   "cell_type": "markdown",
   "metadata": {},
   "source": [
    "### NOTE: these models are certainly overfitting and need to be pruned!"
   ]
  },
  {
   "cell_type": "markdown",
   "metadata": {},
   "source": [
    "# out of sample comparisons"
   ]
  },
  {
   "cell_type": "markdown",
   "metadata": {
    "ExecuteTime": {
     "end_time": "2017-12-12T11:25:26.521120",
     "start_time": "2017-12-12T11:25:26.516397"
    }
   },
   "source": [
    "### split sampoe into training and testting set (60-30 split)"
   ]
  },
  {
   "cell_type": "code",
   "execution_count": 58,
   "metadata": {
    "ExecuteTime": {
     "end_time": "2019-10-30T04:28:18.219381Z",
     "start_time": "2019-10-30T04:28:18.204901Z"
    }
   },
   "outputs": [],
   "source": [
    "#regression sample\n",
    "X_train, X_test, y_train, y_test = train_test_split(Xnum, y, test_size=0.3, random_state=0)\n",
    "\n",
    "# classification sample\n",
    "Xc_train, Xc_test, yc_train, yc_test = train_test_split(Xnum, yc, test_size=0.3, random_state=0)\n",
    "\n",
    "# classsification sample one-hot encoded\n",
    "X1hot_train, X1hot_test, y1hot_train, y1hot_test = train_test_split(X1hot, yc, test_size=0.3, random_state=0)\n"
   ]
  },
  {
   "cell_type": "markdown",
   "metadata": {},
   "source": [
    "## Categorical"
   ]
  },
  {
   "cell_type": "markdown",
   "metadata": {},
   "source": [
    "### logistic"
   ]
  },
  {
   "cell_type": "code",
   "execution_count": 59,
   "metadata": {
    "ExecuteTime": {
     "end_time": "2019-10-30T04:28:19.660133Z",
     "start_time": "2019-10-30T04:28:19.356093Z"
    }
   },
   "outputs": [
    {
     "name": "stderr",
     "output_type": "stream",
     "text": [
      "/Users/fbb/anaconda3/lib/python3.7/site-packages/sklearn/model_selection/_split.py:2053: FutureWarning: You should specify a value for 'cv' instead of relying on the default value. The default value will change from 3 to 5 in version 0.22.\n",
      "  warnings.warn(CV_WARNING, FutureWarning)\n",
      "/Users/fbb/anaconda3/lib/python3.7/site-packages/sklearn/linear_model/logistic.py:758: ConvergenceWarning: lbfgs failed to converge. Increase the number of iterations.\n",
      "  \"of iterations.\", ConvergenceWarning)\n",
      "/Users/fbb/anaconda3/lib/python3.7/site-packages/sklearn/linear_model/logistic.py:758: ConvergenceWarning: lbfgs failed to converge. Increase the number of iterations.\n",
      "  \"of iterations.\", ConvergenceWarning)\n",
      "/Users/fbb/anaconda3/lib/python3.7/site-packages/sklearn/linear_model/logistic.py:758: ConvergenceWarning: lbfgs failed to converge. Increase the number of iterations.\n",
      "  \"of iterations.\", ConvergenceWarning)\n",
      "/Users/fbb/anaconda3/lib/python3.7/site-packages/sklearn/linear_model/logistic.py:758: ConvergenceWarning: lbfgs failed to converge. Increase the number of iterations.\n",
      "  \"of iterations.\", ConvergenceWarning)\n",
      "/Users/fbb/anaconda3/lib/python3.7/site-packages/sklearn/linear_model/logistic.py:758: ConvergenceWarning: lbfgs failed to converge. Increase the number of iterations.\n",
      "  \"of iterations.\", ConvergenceWarning)\n",
      "/Users/fbb/anaconda3/lib/python3.7/site-packages/sklearn/linear_model/logistic.py:758: ConvergenceWarning: lbfgs failed to converge. Increase the number of iterations.\n",
      "  \"of iterations.\", ConvergenceWarning)\n",
      "/Users/fbb/anaconda3/lib/python3.7/site-packages/sklearn/linear_model/logistic.py:758: ConvergenceWarning: lbfgs failed to converge. Increase the number of iterations.\n",
      "  \"of iterations.\", ConvergenceWarning)\n",
      "/Users/fbb/anaconda3/lib/python3.7/site-packages/sklearn/linear_model/logistic.py:758: ConvergenceWarning: lbfgs failed to converge. Increase the number of iterations.\n",
      "  \"of iterations.\", ConvergenceWarning)\n"
     ]
    },
    {
     "name": "stdout",
     "output_type": "stream",
     "text": [
      "score of logistic regression in-sample 0.95, out-sample 0.91\n"
     ]
    },
    {
     "name": "stderr",
     "output_type": "stream",
     "text": [
      "/Users/fbb/anaconda3/lib/python3.7/site-packages/sklearn/linear_model/logistic.py:758: ConvergenceWarning: lbfgs failed to converge. Increase the number of iterations.\n",
      "  \"of iterations.\", ConvergenceWarning)\n",
      "/Users/fbb/anaconda3/lib/python3.7/site-packages/sklearn/linear_model/logistic.py:758: ConvergenceWarning: lbfgs failed to converge. Increase the number of iterations.\n",
      "  \"of iterations.\", ConvergenceWarning)\n",
      "/Users/fbb/anaconda3/lib/python3.7/site-packages/sklearn/linear_model/logistic.py:758: ConvergenceWarning: lbfgs failed to converge. Increase the number of iterations.\n",
      "  \"of iterations.\", ConvergenceWarning)\n",
      "/Users/fbb/anaconda3/lib/python3.7/site-packages/sklearn/linear_model/logistic.py:758: ConvergenceWarning: lbfgs failed to converge. Increase the number of iterations.\n",
      "  \"of iterations.\", ConvergenceWarning)\n"
     ]
    }
   ],
   "source": [
    "logisticc = linear_model.LogisticRegressionCV().fit(X1hot_train, y1hot_train)\n",
    "print (\"score of logistic regression in-sample %.2f, out-sample %.2f\"%(\n",
    "        logisticc.score(X1hot_train, y1hot_train), logisticc.score(X1hot_test, y1hot_test)))"
   ]
  },
  {
   "cell_type": "markdown",
   "metadata": {},
   "source": [
    "### ridge "
   ]
  },
  {
   "cell_type": "code",
   "execution_count": 60,
   "metadata": {
    "ExecuteTime": {
     "end_time": "2019-10-30T04:28:25.869258Z",
     "start_time": "2019-10-30T04:28:25.856266Z"
    }
   },
   "outputs": [
    {
     "name": "stdout",
     "output_type": "stream",
     "text": [
      "sample score of ridge classifier (one-hot) in-sample 0.93, out-sample 0.90\n"
     ]
    }
   ],
   "source": [
    "ridgec = ridgec.fit(X1hot_train, y1hot_train)\n",
    "print (\"sample score of ridge classifier (one-hot) in-sample %.2f, out-sample %.2f\"%(\n",
    "        ridgec.score(X1hot_train, y1hot_train), ridgec.score(X1hot_test, y1hot_test)))"
   ]
  },
  {
   "cell_type": "code",
   "execution_count": 61,
   "metadata": {
    "ExecuteTime": {
     "end_time": "2019-10-30T04:28:28.437635Z",
     "start_time": "2019-10-30T04:28:28.426734Z"
    }
   },
   "outputs": [
    {
     "name": "stdout",
     "output_type": "stream",
     "text": [
      "sample score of ridge classifier numerical encoding in-sample 0.82, out-sample 0.80\n"
     ]
    }
   ],
   "source": [
    "ridgec = ridgec.fit(Xc_train, yc_train)\n",
    "print (\"sample score of ridge classifier numerical encoding in-sample %.2f, out-sample %.2f\"%(\n",
    "        ridgec.score(Xc_train, yc_train), ridgec.score(Xc_test, yc_test)))"
   ]
  },
  {
   "cell_type": "markdown",
   "metadata": {},
   "source": [
    "### single tree"
   ]
  },
  {
   "cell_type": "code",
   "execution_count": 62,
   "metadata": {
    "ExecuteTime": {
     "end_time": "2019-10-30T04:28:30.366681Z",
     "start_time": "2019-10-30T04:28:30.358562Z"
    }
   },
   "outputs": [
    {
     "name": "stdout",
     "output_type": "stream",
     "text": [
      "out of sample score of single tree (one-hot) in-sample 1.00, out-sample 0.87\n"
     ]
    }
   ],
   "source": [
    "onetree =  tree.DecisionTreeClassifier().fit(X1hot_train, y1hot_train)\n",
    "print (\"out of sample score of single tree (one-hot) in-sample %.2f, out-sample %.2f\"%(\n",
    "        onetree.score(X1hot_train, y1hot_train), onetree.score(X1hot_test, y1hot_test)))"
   ]
  },
  {
   "cell_type": "markdown",
   "metadata": {},
   "source": [
    "### random forest"
   ]
  },
  {
   "cell_type": "code",
   "execution_count": 63,
   "metadata": {
    "ExecuteTime": {
     "end_time": "2019-10-30T04:28:33.021628Z",
     "start_time": "2019-10-30T04:28:33.003003Z"
    }
   },
   "outputs": [
    {
     "name": "stdout",
     "output_type": "stream",
     "text": [
      "out of sample score of random forest (one-hot) 0.91\n"
     ]
    }
   ],
   "source": [
    "rfcat = rfc.fit(X1hot_train, y1hot_train)\n",
    "print (\"out of sample score of random forest (one-hot) %.2f\"%rfcat.score(X1hot_test, y1hot_test))"
   ]
  },
  {
   "cell_type": "markdown",
   "metadata": {},
   "source": [
    "### gradient boosted"
   ]
  },
  {
   "cell_type": "code",
   "execution_count": 64,
   "metadata": {
    "ExecuteTime": {
     "end_time": "2019-10-30T04:28:34.787064Z",
     "start_time": "2019-10-30T04:28:34.657802Z"
    }
   },
   "outputs": [
    {
     "name": "stdout",
     "output_type": "stream",
     "text": [
      "out of sample score of gradient boosted (one-hot) 0.91\n"
     ]
    }
   ],
   "source": [
    "gbcat = gbc.fit(X1hot_train, y1hot_train)\n",
    "print (\"out of sample score of gradient boosted (one-hot) %.2f\"%gbcat.score(X1hot_test, y1hot_test))"
   ]
  },
  {
   "cell_type": "markdown",
   "metadata": {},
   "source": [
    "## Regression"
   ]
  },
  {
   "cell_type": "markdown",
   "metadata": {},
   "source": [
    "### linear"
   ]
  },
  {
   "cell_type": "code",
   "execution_count": 65,
   "metadata": {
    "ExecuteTime": {
     "end_time": "2019-10-30T04:28:36.157315Z",
     "start_time": "2019-10-30T04:28:36.151458Z"
    }
   },
   "outputs": [
    {
     "name": "stdout",
     "output_type": "stream",
     "text": [
      "regression score of linear regression in-sample 0.81, out-sample 0.81\n"
     ]
    }
   ],
   "source": [
    "linear = linear_model.LinearRegression().fit(X_train, y_train)\n",
    "print (\"regression score of linear regression in-sample %.2f, out-sample %.2f\"%(\n",
    "        linear.score(X_train, y_train), linear.score(X_test, y_test)))"
   ]
  },
  {
   "cell_type": "markdown",
   "metadata": {},
   "source": [
    "### ridge"
   ]
  },
  {
   "cell_type": "code",
   "execution_count": 66,
   "metadata": {
    "ExecuteTime": {
     "end_time": "2019-10-30T04:28:37.228046Z",
     "start_time": "2019-10-30T04:28:37.221406Z"
    }
   },
   "outputs": [
    {
     "name": "stdout",
     "output_type": "stream",
     "text": [
      "out of sample score of ridge regression in-sample 0.81, out-sample 0.81\n"
     ]
    }
   ],
   "source": [
    "ridge = ridge.fit(X_train, y_train)\n",
    "print (\"out of sample score of ridge regression in-sample %.2f, out-sample %.2f\"%(\n",
    "        ridge.score(X_train, y_train), ridge.score(X_test, y_test)))"
   ]
  },
  {
   "cell_type": "markdown",
   "metadata": {},
   "source": [
    "### one tree"
   ]
  },
  {
   "cell_type": "code",
   "execution_count": 67,
   "metadata": {
    "ExecuteTime": {
     "end_time": "2019-10-30T04:28:38.435161Z",
     "start_time": "2019-10-30T04:28:38.428718Z"
    }
   },
   "outputs": [
    {
     "name": "stdout",
     "output_type": "stream",
     "text": [
      "regression: score of single tree numerical encoding  in-sample 1.00, out-sample 0.85\n"
     ]
    }
   ],
   "source": [
    "onetree =  tree.DecisionTreeRegressor().fit(X_train, y_train)\n",
    "print (\"regression: score of single tree numerical encoding  in-sample %.2f, out-sample %.2f\"%(\n",
    "        onetree.score(X_train, y_train), onetree.score(X_test, y_test)))"
   ]
  },
  {
   "cell_type": "code",
   "execution_count": 68,
   "metadata": {
    "ExecuteTime": {
     "end_time": "2019-10-30T04:28:39.787343Z",
     "start_time": "2019-10-30T04:28:39.781210Z"
    }
   },
   "outputs": [
    {
     "name": "stdout",
     "output_type": "stream",
     "text": [
      "classification: sample score of single tree numerical encoding  in-sample 1.00, out-sample 0.91\n"
     ]
    }
   ],
   "source": [
    "onetree =  tree.DecisionTreeClassifier().fit(X_train, yc_train)\n",
    "print (\"classification: sample score of single tree numerical encoding  in-sample %.2f, out-sample %.2f\"%(\n",
    "        onetree.score(X_train, yc_train), onetree.score(X_test, yc_test)))"
   ]
  },
  {
   "cell_type": "code",
   "execution_count": 69,
   "metadata": {
    "ExecuteTime": {
     "end_time": "2019-10-30T04:28:40.137542Z",
     "start_time": "2019-10-30T04:28:40.129644Z"
    }
   },
   "outputs": [
    {
     "name": "stdout",
     "output_type": "stream",
     "text": [
      "classification: score of single tree one-hot encoding  in-sample 1.00, out-sample 0.91\n"
     ]
    }
   ],
   "source": [
    "onetree =  tree.DecisionTreeClassifier().fit(X1hot_train, y1hot_train)\n",
    "print (\"classification: score of single tree one-hot encoding  in-sample %.2f, out-sample %.2f\"%(\n",
    "        onetree.score(X1hot_train, y1hot_train), onetree.score(X1hot_test, y1hot_test)))"
   ]
  },
  {
   "cell_type": "markdown",
   "metadata": {},
   "source": [
    "### random forest"
   ]
  },
  {
   "cell_type": "code",
   "execution_count": 70,
   "metadata": {
    "ExecuteTime": {
     "end_time": "2019-10-30T04:28:41.398957Z",
     "start_time": "2019-10-30T04:28:41.377694Z"
    }
   },
   "outputs": [
    {
     "name": "stdout",
     "output_type": "stream",
     "text": [
      "regression: out of sample score of random forest numerical encoding in-sample 0.98, out-sample 0.91\n"
     ]
    }
   ],
   "source": [
    "rf = rfr.fit(X_train, y_train)\n",
    "print (\"regression: out of sample score of random forest numerical encoding in-sample %.2f, out-sample %.2f\"%(\n",
    "        rf.score(X_train, y_train), rf.score(X_test, y_test)))"
   ]
  },
  {
   "cell_type": "code",
   "execution_count": 71,
   "metadata": {
    "ExecuteTime": {
     "end_time": "2019-10-30T04:28:42.009582Z",
     "start_time": "2019-10-30T04:28:41.993173Z"
    }
   },
   "outputs": [
    {
     "name": "stdout",
     "output_type": "stream",
     "text": [
      "out of sample score of random forest numerical encoding in-sample 0.99, out-sample 0.90\n"
     ]
    }
   ],
   "source": [
    "rfnum = rfn.fit(X_train, yc_train)\n",
    "print (\"out of sample score of random forest numerical encoding in-sample %.2f, out-sample %.2f\"%(\n",
    "        rfnum.score(X_train, yc_train), rfnum.score(X_test, yc_test)))"
   ]
  },
  {
   "cell_type": "code",
   "execution_count": 72,
   "metadata": {
    "ExecuteTime": {
     "end_time": "2019-10-30T04:28:42.253015Z",
     "start_time": "2019-10-30T04:28:42.234422Z"
    }
   },
   "outputs": [
    {
     "name": "stdout",
     "output_type": "stream",
     "text": [
      "out of sample score of random forest one-hot in-sample 1.00, out-sample 0.91\n"
     ]
    }
   ],
   "source": [
    "rfcat = rfc.fit(X1hot_train, y1hot_train)\n",
    "print (\"out of sample score of random forest one-hot in-sample %.2f, out-sample %.2f\"%(\n",
    "        rfcat.score(X1hot_train, y1hot_train), rfcat.score(X1hot_test, y1hot_test)))"
   ]
  },
  {
   "cell_type": "markdown",
   "metadata": {
    "ExecuteTime": {
     "end_time": "2017-12-12T14:47:49.110166",
     "start_time": "2017-12-12T14:47:49.106875"
    }
   },
   "source": [
    "### gradient boosted trees"
   ]
  },
  {
   "cell_type": "code",
   "execution_count": 73,
   "metadata": {
    "ExecuteTime": {
     "end_time": "2019-10-30T04:28:42.857942Z",
     "start_time": "2019-10-30T04:28:42.826220Z"
    }
   },
   "outputs": [
    {
     "name": "stdout",
     "output_type": "stream",
     "text": [
      "regression: out of sample score of gradient boosted numerical encoding in-sample 1.00, out-sample 0.93\n"
     ]
    }
   ],
   "source": [
    "gb = gbr.fit(X_train, y_train)\n",
    "print (\"regression: out of sample score of gradient boosted numerical encoding in-sample %.2f, out-sample %.2f\"%(\n",
    "        gb.score(X_train, y_train), gb.score(X_test, y_test)))"
   ]
  },
  {
   "cell_type": "code",
   "execution_count": 74,
   "metadata": {
    "ExecuteTime": {
     "end_time": "2019-10-30T04:28:43.134244Z",
     "start_time": "2019-10-30T04:28:43.063162Z"
    }
   },
   "outputs": [
    {
     "name": "stdout",
     "output_type": "stream",
     "text": [
      "classification: out of sample score of gradient boosted numerical encoding in-sample 0.98, out-sample 0.92\n"
     ]
    }
   ],
   "source": [
    "gbnum = gbn.fit(X_train, yc_train)\n",
    "print (\"classification: out of sample score of gradient boosted numerical encoding in-sample %.2f, out-sample %.2f\"%(\n",
    "        gbnum.score(X_train, yc_train), gbnum.score(X_test, yc_test)))"
   ]
  },
  {
   "cell_type": "code",
   "execution_count": 75,
   "metadata": {
    "ExecuteTime": {
     "end_time": "2019-10-30T04:28:43.425988Z",
     "start_time": "2019-10-30T04:28:43.297596Z"
    }
   },
   "outputs": [
    {
     "name": "stdout",
     "output_type": "stream",
     "text": [
      "classification: out of sample score of gradient boosted one-hot in-sample 0.96, out-sample 0.91\n"
     ]
    }
   ],
   "source": [
    "gbcat = gbc.fit(X1hot_train, y1hot_train)\n",
    "print (\"classification: out of sample score of gradient boosted one-hot in-sample %.2f, out-sample %.2f\"%(\n",
    "        gbcat.score(X1hot_train, y1hot_train), gbcat.score(X1hot_test, y1hot_test)))"
   ]
  },
  {
   "cell_type": "markdown",
   "metadata": {},
   "source": [
    "| |    ||      |      regression|        ||       |CART |           |\n",
    "|---|----||----|-----|----------||---------|----------|---------|\n",
    "|**purpose**| **encoding** || linear reg | logistic | ridge|| one tree | RF |GBT |\n",
    "|regression|numerical||0.81/0.81| 0.81/0.81||1.00/0.91|0.99/0.94|1.0/0.93|\n",
    "|classification|numerical|| |0.82/0.80|1.00/0.91||1.00/0.91|0.88/079| |\n",
    "|classification|one-hot|| |0.93/0.91|0.95/0.91||0.99/0.91|0.99/0.91|0.96/0.91|\n",
    "\n",
    "\n"
   ]
  },
  {
   "cell_type": "markdown",
   "metadata": {},
   "source": [
    "## ROC curves provide a better metric for comparison: \n",
    "plot false positive rate vs false negative rate (completeness vs accuracy)"
   ]
  },
  {
   "cell_type": "code",
   "execution_count": 77,
   "metadata": {
    "ExecuteTime": {
     "end_time": "2019-10-30T04:32:04.540776Z",
     "start_time": "2019-10-30T04:32:04.528899Z"
    }
   },
   "outputs": [
    {
     "name": "stdout",
     "output_type": "stream",
     "text": [
      "one-hot encoding\n"
     ]
    },
    {
     "ename": "AttributeError",
     "evalue": "'function' object has no attribute 'cross_val_score'",
     "output_type": "error",
     "traceback": [
      "\u001b[0;31m---------------------------------------------------------------------------\u001b[0m",
      "\u001b[0;31mAttributeError\u001b[0m                            Traceback (most recent call last)",
      "\u001b[0;32m<ipython-input-77-31582112a6c4>\u001b[0m in \u001b[0;36m<module>\u001b[0;34m\u001b[0m\n\u001b[1;32m      2\u001b[0m \u001b[0mprint\u001b[0m \u001b[0;34m(\u001b[0m\u001b[0;34m\"one-hot encoding\"\u001b[0m\u001b[0;34m)\u001b[0m\u001b[0;34m\u001b[0m\u001b[0;34m\u001b[0m\u001b[0m\n\u001b[1;32m      3\u001b[0m \u001b[0;34m\u001b[0m\u001b[0m\n\u001b[0;32m----> 4\u001b[0;31m scores = cross_validate.cross_val_score(ensemble.RandomForestClassifier(), \n\u001b[0m\u001b[1;32m      5\u001b[0m                          X1hot, yc, scoring='roc_auc', cv=10)\n\u001b[1;32m      6\u001b[0m \u001b[0mprint\u001b[0m\u001b[0;34m(\u001b[0m\u001b[0;34m\"Ridge {:.2f}\"\u001b[0m\u001b[0;34m.\u001b[0m\u001b[0mformat\u001b[0m\u001b[0;34m(\u001b[0m\u001b[0mscores\u001b[0m\u001b[0;34m.\u001b[0m\u001b[0mmean\u001b[0m\u001b[0;34m(\u001b[0m\u001b[0;34m)\u001b[0m\u001b[0;34m)\u001b[0m\u001b[0;34m)\u001b[0m\u001b[0;34m\u001b[0m\u001b[0;34m\u001b[0m\u001b[0m\n",
      "\u001b[0;31mAttributeError\u001b[0m: 'function' object has no attribute 'cross_val_score'"
     ]
    }
   ],
   "source": [
    "# evaluate the model using 10-fold cross-validation\n",
    "print (\"one-hot encoding\")\n",
    "\n",
    "scores = cross_validate.cross_val_score(ensemble.RandomForestClassifier(), \n",
    "                         X1hot, yc, scoring='roc_auc', cv=10)\n",
    "print(\"Ridge {:.2f}\".format(scores.mean()))\n",
    "\n",
    "scores = cross_validation.cross_val_score(ensemble.RandomForestClassifier(), \n",
    "                         X1hot, yc, scoring='roc_auc', cv=10)\n",
    "print(\"RF {:.2f}\".format(scores.mean()))\n",
    "\n",
    "scores = cross_validation.cross_val_score(ensemble.RandomForestClassifier(), \n",
    "                         X1hot, yc, scoring='roc_auc', cv=10)\n",
    "print(\"GBT {:.2f}\".format(scores.mean()))"
   ]
  },
  {
   "cell_type": "code",
   "execution_count": 79,
   "metadata": {
    "ExecuteTime": {
     "end_time": "2019-10-30T04:33:02.007769Z",
     "start_time": "2019-10-30T04:33:01.658857Z"
    }
   },
   "outputs": [
    {
     "name": "stdout",
     "output_type": "stream",
     "text": [
      "numerical encoding\n",
      "Ridge 0.91\n"
     ]
    },
    {
     "name": "stderr",
     "output_type": "stream",
     "text": [
      "/Users/fbb/anaconda3/lib/python3.7/site-packages/sklearn/ensemble/forest.py:246: FutureWarning: The default value of n_estimators will change from 10 in version 0.20 to 100 in 0.22.\n",
      "  \"10 in version 0.20 to 100 in 0.22.\", FutureWarning)\n",
      "/Users/fbb/anaconda3/lib/python3.7/site-packages/sklearn/ensemble/forest.py:246: FutureWarning: The default value of n_estimators will change from 10 in version 0.20 to 100 in 0.22.\n",
      "  \"10 in version 0.20 to 100 in 0.22.\", FutureWarning)\n",
      "/Users/fbb/anaconda3/lib/python3.7/site-packages/sklearn/ensemble/forest.py:246: FutureWarning: The default value of n_estimators will change from 10 in version 0.20 to 100 in 0.22.\n",
      "  \"10 in version 0.20 to 100 in 0.22.\", FutureWarning)\n",
      "/Users/fbb/anaconda3/lib/python3.7/site-packages/sklearn/ensemble/forest.py:246: FutureWarning: The default value of n_estimators will change from 10 in version 0.20 to 100 in 0.22.\n",
      "  \"10 in version 0.20 to 100 in 0.22.\", FutureWarning)\n",
      "/Users/fbb/anaconda3/lib/python3.7/site-packages/sklearn/ensemble/forest.py:246: FutureWarning: The default value of n_estimators will change from 10 in version 0.20 to 100 in 0.22.\n",
      "  \"10 in version 0.20 to 100 in 0.22.\", FutureWarning)\n",
      "/Users/fbb/anaconda3/lib/python3.7/site-packages/sklearn/ensemble/forest.py:246: FutureWarning: The default value of n_estimators will change from 10 in version 0.20 to 100 in 0.22.\n",
      "  \"10 in version 0.20 to 100 in 0.22.\", FutureWarning)\n",
      "/Users/fbb/anaconda3/lib/python3.7/site-packages/sklearn/ensemble/forest.py:246: FutureWarning: The default value of n_estimators will change from 10 in version 0.20 to 100 in 0.22.\n",
      "  \"10 in version 0.20 to 100 in 0.22.\", FutureWarning)\n",
      "/Users/fbb/anaconda3/lib/python3.7/site-packages/sklearn/ensemble/forest.py:246: FutureWarning: The default value of n_estimators will change from 10 in version 0.20 to 100 in 0.22.\n",
      "  \"10 in version 0.20 to 100 in 0.22.\", FutureWarning)\n",
      "/Users/fbb/anaconda3/lib/python3.7/site-packages/sklearn/ensemble/forest.py:246: FutureWarning: The default value of n_estimators will change from 10 in version 0.20 to 100 in 0.22.\n",
      "  \"10 in version 0.20 to 100 in 0.22.\", FutureWarning)\n",
      "/Users/fbb/anaconda3/lib/python3.7/site-packages/sklearn/ensemble/forest.py:246: FutureWarning: The default value of n_estimators will change from 10 in version 0.20 to 100 in 0.22.\n",
      "  \"10 in version 0.20 to 100 in 0.22.\", FutureWarning)\n",
      "/Users/fbb/anaconda3/lib/python3.7/site-packages/sklearn/ensemble/forest.py:246: FutureWarning: The default value of n_estimators will change from 10 in version 0.20 to 100 in 0.22.\n",
      "  \"10 in version 0.20 to 100 in 0.22.\", FutureWarning)\n",
      "/Users/fbb/anaconda3/lib/python3.7/site-packages/sklearn/ensemble/forest.py:246: FutureWarning: The default value of n_estimators will change from 10 in version 0.20 to 100 in 0.22.\n",
      "  \"10 in version 0.20 to 100 in 0.22.\", FutureWarning)\n",
      "/Users/fbb/anaconda3/lib/python3.7/site-packages/sklearn/ensemble/forest.py:246: FutureWarning: The default value of n_estimators will change from 10 in version 0.20 to 100 in 0.22.\n",
      "  \"10 in version 0.20 to 100 in 0.22.\", FutureWarning)\n",
      "/Users/fbb/anaconda3/lib/python3.7/site-packages/sklearn/ensemble/forest.py:246: FutureWarning: The default value of n_estimators will change from 10 in version 0.20 to 100 in 0.22.\n",
      "  \"10 in version 0.20 to 100 in 0.22.\", FutureWarning)\n",
      "/Users/fbb/anaconda3/lib/python3.7/site-packages/sklearn/ensemble/forest.py:246: FutureWarning: The default value of n_estimators will change from 10 in version 0.20 to 100 in 0.22.\n",
      "  \"10 in version 0.20 to 100 in 0.22.\", FutureWarning)\n",
      "/Users/fbb/anaconda3/lib/python3.7/site-packages/sklearn/ensemble/forest.py:246: FutureWarning: The default value of n_estimators will change from 10 in version 0.20 to 100 in 0.22.\n",
      "  \"10 in version 0.20 to 100 in 0.22.\", FutureWarning)\n",
      "/Users/fbb/anaconda3/lib/python3.7/site-packages/sklearn/ensemble/forest.py:246: FutureWarning: The default value of n_estimators will change from 10 in version 0.20 to 100 in 0.22.\n",
      "  \"10 in version 0.20 to 100 in 0.22.\", FutureWarning)\n",
      "/Users/fbb/anaconda3/lib/python3.7/site-packages/sklearn/ensemble/forest.py:246: FutureWarning: The default value of n_estimators will change from 10 in version 0.20 to 100 in 0.22.\n",
      "  \"10 in version 0.20 to 100 in 0.22.\", FutureWarning)\n"
     ]
    },
    {
     "name": "stdout",
     "output_type": "stream",
     "text": [
      "RF 0.90\n",
      "GBT 0.90\n"
     ]
    },
    {
     "name": "stderr",
     "output_type": "stream",
     "text": [
      "/Users/fbb/anaconda3/lib/python3.7/site-packages/sklearn/ensemble/forest.py:246: FutureWarning: The default value of n_estimators will change from 10 in version 0.20 to 100 in 0.22.\n",
      "  \"10 in version 0.20 to 100 in 0.22.\", FutureWarning)\n",
      "/Users/fbb/anaconda3/lib/python3.7/site-packages/sklearn/ensemble/forest.py:246: FutureWarning: The default value of n_estimators will change from 10 in version 0.20 to 100 in 0.22.\n",
      "  \"10 in version 0.20 to 100 in 0.22.\", FutureWarning)\n",
      "/Users/fbb/anaconda3/lib/python3.7/site-packages/sklearn/ensemble/forest.py:246: FutureWarning: The default value of n_estimators will change from 10 in version 0.20 to 100 in 0.22.\n",
      "  \"10 in version 0.20 to 100 in 0.22.\", FutureWarning)\n",
      "/Users/fbb/anaconda3/lib/python3.7/site-packages/sklearn/ensemble/forest.py:246: FutureWarning: The default value of n_estimators will change from 10 in version 0.20 to 100 in 0.22.\n",
      "  \"10 in version 0.20 to 100 in 0.22.\", FutureWarning)\n",
      "/Users/fbb/anaconda3/lib/python3.7/site-packages/sklearn/ensemble/forest.py:246: FutureWarning: The default value of n_estimators will change from 10 in version 0.20 to 100 in 0.22.\n",
      "  \"10 in version 0.20 to 100 in 0.22.\", FutureWarning)\n",
      "/Users/fbb/anaconda3/lib/python3.7/site-packages/sklearn/ensemble/forest.py:246: FutureWarning: The default value of n_estimators will change from 10 in version 0.20 to 100 in 0.22.\n",
      "  \"10 in version 0.20 to 100 in 0.22.\", FutureWarning)\n",
      "/Users/fbb/anaconda3/lib/python3.7/site-packages/sklearn/ensemble/forest.py:246: FutureWarning: The default value of n_estimators will change from 10 in version 0.20 to 100 in 0.22.\n",
      "  \"10 in version 0.20 to 100 in 0.22.\", FutureWarning)\n",
      "/Users/fbb/anaconda3/lib/python3.7/site-packages/sklearn/ensemble/forest.py:246: FutureWarning: The default value of n_estimators will change from 10 in version 0.20 to 100 in 0.22.\n",
      "  \"10 in version 0.20 to 100 in 0.22.\", FutureWarning)\n",
      "/Users/fbb/anaconda3/lib/python3.7/site-packages/sklearn/ensemble/forest.py:246: FutureWarning: The default value of n_estimators will change from 10 in version 0.20 to 100 in 0.22.\n",
      "  \"10 in version 0.20 to 100 in 0.22.\", FutureWarning)\n",
      "/Users/fbb/anaconda3/lib/python3.7/site-packages/sklearn/ensemble/forest.py:246: FutureWarning: The default value of n_estimators will change from 10 in version 0.20 to 100 in 0.22.\n",
      "  \"10 in version 0.20 to 100 in 0.22.\", FutureWarning)\n",
      "/Users/fbb/anaconda3/lib/python3.7/site-packages/sklearn/ensemble/forest.py:246: FutureWarning: The default value of n_estimators will change from 10 in version 0.20 to 100 in 0.22.\n",
      "  \"10 in version 0.20 to 100 in 0.22.\", FutureWarning)\n",
      "/Users/fbb/anaconda3/lib/python3.7/site-packages/sklearn/ensemble/forest.py:246: FutureWarning: The default value of n_estimators will change from 10 in version 0.20 to 100 in 0.22.\n",
      "  \"10 in version 0.20 to 100 in 0.22.\", FutureWarning)\n"
     ]
    }
   ],
   "source": [
    "print (\"numerical encoding\")\n",
    "\n",
    "scores = cross_val_score(ensemble.RandomForestClassifier(), \n",
    "                         Xnum, yc, scoring='roc_auc', cv=10)\n",
    "print(\"Ridge {:.2f}\".format(scores.mean()))\n",
    "\n",
    "scores = cross_val_score(ensemble.RandomForestClassifier(), \n",
    "                         Xnum, yc, scoring='roc_auc', cv=10)\n",
    "      \n",
    "print(\"RF {:.2f}\".format(scores.mean()))\n",
    "\n",
    "scores = cross_val_score(ensemble.RandomForestClassifier(), \n",
    "                         Xnum, yc, scoring='roc_auc', cv=10)\n",
    "print(\"GBT {:.2f}\".format(scores.mean()))"
   ]
  },
  {
   "cell_type": "code",
   "execution_count": 80,
   "metadata": {
    "ExecuteTime": {
     "end_time": "2019-10-30T04:33:07.719819Z",
     "start_time": "2019-10-30T04:33:07.696121Z"
    }
   },
   "outputs": [],
   "source": [
    "y_pred_grd_logit = logisticc.predict(X1hot_test)\n",
    "fpr_grd_logit, tpr_grd_logit, _ = metrics.roc_curve(y1hot_test, y_pred_grd_logit)\n",
    "\n",
    "y_pred_grd_ridge = ridgec.predict(Xc_test)\n",
    "fpr_grd_ridge, tpr_grd_ridge, _ = metrics.roc_curve(yc_test, y_pred_grd_ridge)\n",
    "\n",
    "y_pred_grd_rfnum = rfnum.predict_proba(X_test)[:, 1]\n",
    "fpr_grd_rf, tpr_grd_rf, _ = metrics.roc_curve(yc_test, y_pred_grd_rfnum)\n",
    "\n",
    "y_pred_grd_rfcat = rfcat.predict_proba(X1hot_test)[:, 1]\n",
    "fpr_grd_rfcat, tpr_grd_rfcat, _ = metrics.roc_curve(y1hot_test, y_pred_grd_rfcat)\n",
    "\n",
    "y_pred_grd_gbnum = gbnum.predict_proba(X_test)[:, 1]\n",
    "fpr_grd_gb, tpr_grd_gb, _ = metrics.roc_curve(yc_test, y_pred_grd_gbnum)\n",
    "\n",
    "y_pred_grd_gbcat = gbcat.predict_proba(X1hot_test)[:, 1]\n",
    "fpr_grd_gbcat, tpr_grd_gbcatt, _ = metrics.roc_curve(y1hot_test, y_pred_grd_gbcat)"
   ]
  },
  {
   "cell_type": "code",
   "execution_count": 81,
   "metadata": {
    "ExecuteTime": {
     "end_time": "2019-10-30T04:33:09.564887Z",
     "start_time": "2019-10-30T04:33:09.352578Z"
    }
   },
   "outputs": [
    {
     "data": {
      "image/png": "[encoded data removed]",
      "text/plain": [
       "<Figure size 720x720 with 1 Axes>"
      ]
     },
     "metadata": {
      "needs_background": "light"
     },
     "output_type": "display_data"
    }
   ],
   "source": [
    "pl.figure(figsize=(10,10))\n",
    "pl.plot(fpr_grd_logit, tpr_grd_logit, '--', label='logistic')\n",
    "pl.plot(fpr_grd_ridge, tpr_grd_ridge, '--', label='ridge')\n",
    "pl.plot(fpr_grd_rf, tpr_grd_rf, label='RF')\n",
    "pl.plot(fpr_grd_rfcat, tpr_grd_rfcat, label='RF 1-hot')\n",
    "pl.plot(fpr_grd_gb, tpr_grd_gb, label='GBT')\n",
    "pl.plot(fpr_grd_gbcat, tpr_grd_gbcatt, label='GBT 1-hot')\n",
    "pl.legend(fontsize=20)\n",
    "pl.xlabel('False positive rate', fontsize=20)\n",
    "pl.ylabel('True positive rate', fontsize=20)\n",
    "pl.title('ROC curves', fontsize=20);"
   ]
  },
  {
   "cell_type": "markdown",
   "metadata": {},
   "source": [
    "# the best part is feature importance"
   ]
  },
  {
   "cell_type": "code",
   "execution_count": 82,
   "metadata": {
    "ExecuteTime": {
     "end_time": "2019-10-30T04:33:14.421056Z",
     "start_time": "2019-10-30T04:33:14.413283Z"
    }
   },
   "outputs": [
    {
     "data": {
      "text/plain": [
       "array([0.21468649, 0.40273428, 0.07220455, 0.14386129, 0.16651339])"
      ]
     },
     "execution_count": 82,
     "metadata": {},
     "output_type": "execute_result"
    }
   ],
   "source": [
    "#the feature importance is a measure of how soon and how often a feature was used and is encded as a 0-1 number per feature\n",
    "rfnum.feature_importances_"
   ]
  },
  {
   "cell_type": "code",
   "execution_count": 83,
   "metadata": {
    "ExecuteTime": {
     "end_time": "2019-10-30T04:33:16.136507Z",
     "start_time": "2019-10-30T04:33:16.125223Z"
    }
   },
   "outputs": [
    {
     "name": "stdout",
     "output_type": "stream",
     "text": [
      "Feature ranking:\n",
      "1. feature 1 sqft (0.402734)\n",
      "2. feature 0 zip (0.214686)\n",
      "3. feature 4 sale_type_num (0.166513)\n",
      "4. feature 3 bathrooms (0.143861)\n",
      "5. feature 2 bedrooms (0.072205)\n"
     ]
    }
   ],
   "source": [
    "importancesrf = rfnum.feature_importances_\n",
    "importancesrf\n",
    "std = np.std([onetree.feature_importances_ for onetree in rf.estimators_],\n",
    "             axis=0)\n",
    "indicesrf = np.argsort(importancesrf)[::-1]\n",
    "\n",
    "\n",
    "\n",
    "\n",
    "# Print the feature ranking\n",
    "print(\"Feature ranking:\")\n",
    "\n",
    "for f in range(Xnum.shape[1]):\n",
    "    print(\"%d. feature %d %s (%f)\" % (f + 1, indicesrf[f], \n",
    "                                   nychouses.drop([\"price\",\"sale_type\"], axis=1).columns[\n",
    "                indicesrf[f]],\n",
    "                                   importancesrf[indicesrf[f]]))\n"
   ]
  },
  {
   "cell_type": "code",
   "execution_count": 84,
   "metadata": {
    "ExecuteTime": {
     "end_time": "2019-10-30T04:33:16.867082Z",
     "start_time": "2019-10-30T04:33:16.815415Z"
    }
   },
   "outputs": [
    {
     "name": "stdout",
     "output_type": "stream",
     "text": [
      "Feature ranking:\n",
      "1. feature 0 sqft (0.218297)\n",
      "2. feature 2 bathrooms (0.151022)\n",
      "3. feature 1 bedrooms (0.132011)\n",
      "4. feature 64 Co-op For Sale (0.067800)\n",
      "5. feature 65 Condo For Sale (0.051347)\n",
      "6. feature 16 10019 (0.022184)\n",
      "7. feature 46 11096 (0.018348)\n",
      "8. feature 69 House For Sale (0.017428)\n",
      "9. feature 42 11001 (0.017073)\n",
      "10. feature 32 10036 (0.016024)\n",
      "11. feature 70 New Construction (0.013550)\n",
      "12. feature 31 10035 (0.013040)\n",
      "13. feature 13 10016 (0.010700)\n",
      "14. feature 33 10037 (0.010497)\n",
      "15. feature 38 10065 (0.010047)\n",
      "16. feature 11 10013 (0.009832)\n",
      "17. feature 28 10032 (0.009790)\n",
      "18. feature 5 10004 (0.009025)\n",
      "19. feature 66 For Sale by Owner (0.008513)\n",
      "20. feature 9 10011 (0.008329)\n",
      "21. feature 3 10001 (0.007855)\n",
      "22. feature 35 10039 (0.007709)\n",
      "23. feature 29 10033 (0.007571)\n",
      "24. feature 34 10038 (0.007200)\n",
      "25. feature 52 11106 (0.007139)\n",
      "26. feature 62 Apartment For Sale (0.007092)\n",
      "27. feature 49 11103 (0.006989)\n",
      "28. feature 20 10024 (0.006560)\n",
      "29. feature 4 10002 (0.006302)\n",
      "30. feature 47 11101 (0.006292)\n",
      "31. feature 39 10069 (0.005606)\n",
      "32. feature 17 10021 (0.005584)\n",
      "33. feature 36 10040 (0.005468)\n",
      "34. feature 22 10026 (0.005375)\n",
      "35. feature 37 10044 (0.005232)\n",
      "36. feature 8 10010 (0.004833)\n",
      "37. feature 43 11004 (0.004726)\n",
      "38. feature 51 11105 (0.004705)\n",
      "39. feature 19 10023 (0.004631)\n",
      "40. feature 21 10025 (0.004377)\n",
      "41. feature 10 10012 (0.004139)\n",
      "42. feature 45 11040 (0.004097)\n",
      "43. feature 53 11109 (0.003960)\n",
      "44. feature 15 10018 (0.003588)\n",
      "45. feature 48 11102 (0.003401)\n",
      "46. feature 6 10006 (0.003286)\n",
      "47. feature 44 11005 (0.003219)\n",
      "48. feature 55 11229 (0.003126)\n",
      "49. feature 23 10027 (0.003064)\n",
      "50. feature 50 11104 (0.002875)\n",
      "51. feature 40 10075 (0.002767)\n",
      "52. feature 68 Foreclosure (0.002757)\n",
      "53. feature 67 Foreclosed (0.002692)\n",
      "54. feature 71 Townhouse For Sale (0.002527)\n",
      "55. feature 12 10014 (0.002298)\n",
      "56. feature 30 10034 (0.002131)\n",
      "57. feature 18 10022 (0.002007)\n",
      "58. feature 41 10128 (0.002006)\n",
      "59. feature 24 10028 (0.001601)\n",
      "60. feature 61 11436 (0.001514)\n",
      "61. feature 63 Auction (0.001445)\n",
      "62. feature 26 10030 (0.001318)\n",
      "63. feature 25 10029 (0.001189)\n",
      "64. feature 14 10017 (0.001127)\n",
      "65. feature 59 11364 (0.000841)\n",
      "66. feature 27 10031 (0.000563)\n",
      "67. feature 60 11365 (0.000349)\n",
      "68. feature 7 10007 (0.000008)\n",
      "69. feature 58 11361 (0.000001)\n",
      "70. feature 57 11355 (0.000000)\n",
      "71. feature 56 11235 (0.000000)\n",
      "72. feature 54 11201 (0.000000)\n"
     ]
    }
   ],
   "source": [
    "importancesrfcat = rfcat.feature_importances_\n",
    "indicesrfcat = np.argsort(importancesrfcat)[::-1]\n",
    "\n",
    "# Print the feature ranking\n",
    "print(\"Feature ranking:\")\n",
    "\n",
    "for f in range(X1hot.shape[1]):\n",
    "    print(\"%d. feature %d %s (%f)\" % (f + 1, indicesrfcat[f], \n",
    "                                   nyc1hot.drop(\"price\", axis=1).columns[\n",
    "                indicesrfcat[f]],\n",
    "                                   importancesrfcat[indicesrfcat[f]]))\n"
   ]
  },
  {
   "cell_type": "code",
   "execution_count": 85,
   "metadata": {
    "ExecuteTime": {
     "end_time": "2019-10-30T04:33:17.536879Z",
     "start_time": "2019-10-30T04:33:17.531209Z"
    }
   },
   "outputs": [
    {
     "data": {
      "text/plain": [
       "array([0.2963473 , 0.41793264, 0.02858187, 0.17722355, 0.07991465])"
      ]
     },
     "execution_count": 85,
     "metadata": {},
     "output_type": "execute_result"
    }
   ],
   "source": [
    "gbnum.feature_importances_"
   ]
  },
  {
   "cell_type": "code",
   "execution_count": 86,
   "metadata": {
    "ExecuteTime": {
     "end_time": "2019-10-30T04:33:18.373896Z",
     "start_time": "2019-10-30T04:33:18.362277Z"
    }
   },
   "outputs": [
    {
     "name": "stdout",
     "output_type": "stream",
     "text": [
      "Feature ranking:\n",
      "1. feature 1 sqft (0.417933)\n",
      "2. feature 0 zip (0.296347)\n",
      "3. feature 3 bathrooms (0.177224)\n",
      "4. feature 4 sale_type_num (0.079915)\n",
      "5. feature 2 bedrooms (0.028582)\n"
     ]
    }
   ],
   "source": [
    "importancesgbc = gbnum.feature_importances_\n",
    "indicesgbc = np.argsort(importancesgbc)[::-1]\n",
    "\n",
    "# Print the feature ranking\n",
    "print(\"Feature ranking:\")\n",
    "\n",
    "for f in range(Xnum.shape[1]):\n",
    "    print(\"%d. feature %d %s (%f)\" % (f + 1, indicesgbc[f], \n",
    "                                   nychouses.drop([\"price\",\"sale_type\"], axis=1).columns[\n",
    "                indicesgbc[f]],\n",
    "                                   importancesgbc[indicesgbc[f]]))\n"
   ]
  },
  {
   "cell_type": "code",
   "execution_count": 87,
   "metadata": {
    "ExecuteTime": {
     "end_time": "2019-10-30T04:33:19.067181Z",
     "start_time": "2019-10-30T04:33:19.011221Z"
    }
   },
   "outputs": [
    {
     "name": "stdout",
     "output_type": "stream",
     "text": [
      "Feature ranking:\n",
      "1. feature 0 sqft (0.448132)\n",
      "2. feature 2 bathrooms (0.134201)\n",
      "3. feature 64 Co-op For Sale (0.102676)\n",
      "4. feature 46 11096 (0.060380)\n",
      "5. feature 42 11001 (0.039960)\n",
      "6. feature 69 House For Sale (0.029590)\n",
      "7. feature 1 bedrooms (0.020731)\n",
      "8. feature 65 Condo For Sale (0.017727)\n",
      "9. feature 70 New Construction (0.013472)\n",
      "10. feature 11 10013 (0.011190)\n",
      "11. feature 16 10019 (0.010320)\n",
      "12. feature 33 10037 (0.009336)\n",
      "13. feature 32 10036 (0.009219)\n",
      "14. feature 9 10011 (0.008125)\n",
      "15. feature 45 11040 (0.007664)\n",
      "16. feature 44 11005 (0.007110)\n",
      "17. feature 17 10021 (0.006644)\n",
      "18. feature 13 10016 (0.006613)\n",
      "19. feature 39 10069 (0.006075)\n",
      "20. feature 34 10038 (0.005418)\n",
      "21. feature 15 10018 (0.004647)\n",
      "22. feature 6 10006 (0.004215)\n",
      "23. feature 22 10026 (0.003921)\n",
      "24. feature 55 11229 (0.003764)\n",
      "25. feature 43 11004 (0.003358)\n",
      "26. feature 31 10035 (0.003121)\n",
      "27. feature 53 11109 (0.003074)\n",
      "28. feature 10 10012 (0.003027)\n",
      "29. feature 29 10033 (0.002623)\n",
      "30. feature 36 10040 (0.002117)\n",
      "31. feature 62 Apartment For Sale (0.001525)\n",
      "32. feature 61 11436 (0.001450)\n",
      "33. feature 3 10001 (0.001427)\n",
      "34. feature 28 10032 (0.001389)\n",
      "35. feature 35 10039 (0.001058)\n",
      "36. feature 30 10034 (0.001033)\n",
      "37. feature 20 10024 (0.000986)\n",
      "38. feature 50 11104 (0.000982)\n",
      "39. feature 66 For Sale by Owner (0.000574)\n",
      "40. feature 12 10014 (0.000430)\n",
      "41. feature 71 Townhouse For Sale (0.000316)\n",
      "42. feature 37 10044 (0.000196)\n",
      "43. feature 19 10023 (0.000174)\n",
      "44. feature 63 Auction (0.000006)\n",
      "45. feature 68 Foreclosure (0.000001)\n",
      "46. feature 49 11103 (0.000000)\n",
      "47. feature 57 11355 (0.000000)\n",
      "48. feature 67 Foreclosed (0.000000)\n",
      "49. feature 40 10075 (0.000000)\n",
      "50. feature 4 10002 (0.000000)\n",
      "51. feature 5 10004 (0.000000)\n",
      "52. feature 7 10007 (0.000000)\n",
      "53. feature 8 10010 (0.000000)\n",
      "54. feature 60 11365 (0.000000)\n",
      "55. feature 59 11364 (0.000000)\n",
      "56. feature 58 11361 (0.000000)\n",
      "57. feature 41 10128 (0.000000)\n",
      "58. feature 14 10017 (0.000000)\n",
      "59. feature 48 11102 (0.000000)\n",
      "60. feature 56 11235 (0.000000)\n",
      "61. feature 54 11201 (0.000000)\n",
      "62. feature 52 11106 (0.000000)\n",
      "63. feature 38 10065 (0.000000)\n",
      "64. feature 47 11101 (0.000000)\n",
      "65. feature 21 10025 (0.000000)\n",
      "66. feature 51 11105 (0.000000)\n",
      "67. feature 23 10027 (0.000000)\n",
      "68. feature 24 10028 (0.000000)\n",
      "69. feature 25 10029 (0.000000)\n",
      "70. feature 26 10030 (0.000000)\n",
      "71. feature 27 10031 (0.000000)\n",
      "72. feature 18 10022 (0.000000)\n"
     ]
    }
   ],
   "source": [
    "importancesgbcat = gbcat.feature_importances_\n",
    "indicesgbcat = np.argsort(importancesgbcat)[::-1]\n",
    "\n",
    "# Print the feature ranking\n",
    "print(\"Feature ranking:\")\n",
    "\n",
    "for f in range(X1hot.shape[1]):\n",
    "    print(\"%d. feature %d %s (%f)\" % (f + 1, indicesgbcat[f], \n",
    "                                   nyc1hot.drop([\"price\"], axis=1).columns[\n",
    "                indicesgbcat[f]],\n",
    "                                   importancesgbcat[indicesgbcat[f]]))\n"
   ]
  },
  {
   "cell_type": "code",
   "execution_count": 88,
   "metadata": {
    "ExecuteTime": {
     "end_time": "2019-10-30T04:33:19.682229Z",
     "start_time": "2019-10-30T04:33:19.677323Z"
    }
   },
   "outputs": [
    {
     "name": "stdout",
     "output_type": "stream",
     "text": [
      "different sorting by feature importance for RF and GBT\n"
     ]
    },
    {
     "data": {
      "text/plain": [
       "(array([ 0,  0,  1, -1,  0]),\n",
       " array([  0,   0, -63,  18,  23, -53,  45,   4, -28,  21,  54,  -2, -19,\n",
       "         24,  -7, -33,  11,  -8,  27, -25, -12,  29,   7, -21,   9,  31,\n",
       "         -4,  10, -25,  11, -23, -44,  33,  -6,   2, -22,  23,   1, -47,\n",
       "          9, -61,   8,  34, -48, -20, -43, -13, -12, -17,  46,  35,  61,\n",
       "         59,  11, -47, -28, -23,  27, -24,   5,   9, -26, -13, -33,  38,\n",
       "        -24,  37, -17,  33,  31,  29,  36]))"
      ]
     },
     "execution_count": 88,
     "metadata": {},
     "output_type": "execute_result"
    }
   ],
   "source": [
    "print (\"different sorting by feature importance for RF and GBT\")\n",
    "indicesrf - indicesgbc, indicesrfcat - indicesgbcat"
   ]
  },
  {
   "cell_type": "markdown",
   "metadata": {},
   "source": [
    "# Feature importance - numerical encoding"
   ]
  },
  {
   "cell_type": "code",
   "execution_count": 89,
   "metadata": {
    "ExecuteTime": {
     "end_time": "2019-10-30T04:33:21.384364Z",
     "start_time": "2019-10-30T04:33:21.203558Z"
    }
   },
   "outputs": [
    {
     "data": {
      "image/png": "[encoded data removed]",
      "text/plain": [
       "<Figure size 720x360 with 2 Axes>"
      ]
     },
     "metadata": {
      "needs_background": "light"
     },
     "output_type": "display_data"
    }
   ],
   "source": [
    "import pylab as pl\n",
    "fig = pl.figure(figsize=(10,5))\n",
    "\n",
    "ax = fig.add_subplot(121)\n",
    "importances = rfnum.feature_importances_\n",
    "importances\n",
    "std = np.std([onetree.feature_importances_ for onetree in rfnum.estimators_],\n",
    "             axis=0)\n",
    "indices = np.argsort(importances)[::-1]\n",
    "\n",
    "\n",
    "\n",
    "# Plot the feature importances of the forest\n",
    "Nf = 3\n",
    "pl.title(\"Feature importances RF numerically encoded\")\n",
    "pl.bar(range(Nf), importances[indices[:Nf]],\n",
    "       yerr=std[indices[:Nf]], align=\"center\")\n",
    "pl.xticks(range(Nf), nychouses.drop([\"price\",\"sale_type\"], axis=1).columns[indices[:Nf]])\n",
    "ax.set_xticklabels(ax.get_xticklabels(), rotation = 45)\n",
    "pl.xlim([-1, Nf + 0.1])\n",
    "\n",
    "importances = gbnum.feature_importances_\n",
    "importances\n",
    "indices = np.argsort(importances)[::-1]\n",
    "\n",
    "\n",
    "ax = fig.add_subplot(122)\n",
    "\n",
    "# Plot the feature importances of the forest\n",
    "\n",
    "pl.title(\"Feature importances GBT numerically encoded\")\n",
    "pl.bar(range(Nf), importances[indices[:Nf]], align=\"center\")\n",
    "pl.xticks(range(Nf), nychouses.drop([\"price\",\"sale_type\"], axis=1).columns[indices[:Nf]])\n",
    "pl.xlim([-1, Nf + 0.1])\n",
    "ax.set_xticklabels(ax.get_xticklabels(), rotation = 45)\n",
    "pl.show()\n"
   ]
  },
  {
   "cell_type": "markdown",
   "metadata": {},
   "source": [
    "# Feature importance: one-hot encoding"
   ]
  },
  {
   "cell_type": "code",
   "execution_count": 90,
   "metadata": {
    "ExecuteTime": {
     "end_time": "2019-10-30T04:33:22.594508Z",
     "start_time": "2019-10-30T04:33:22.412120Z"
    }
   },
   "outputs": [
    {
     "data": {
      "image/png": "[encoded data removed]",
      "text/plain": [
       "<Figure size 720x360 with 2 Axes>"
      ]
     },
     "metadata": {
      "needs_background": "light"
     },
     "output_type": "display_data"
    }
   ],
   "source": [
    "fig = pl.figure(figsize=(10,5))\n",
    "\n",
    "ax = fig.add_subplot(121)\n",
    "importances = rfcat.feature_importances_\n",
    "importances\n",
    "std = np.std([onetree.feature_importances_ for onetree in rfcat.estimators_],\n",
    "             axis=0)\n",
    "indices = np.argsort(importances)[::-1]\n",
    "\n",
    "\n",
    "\n",
    "# Plot the feature importances of the forest\n",
    "\n",
    "pl.title(\"Feature importances RF numerical encoded\")\n",
    "pl.bar(range(Nf), importances[indices[:Nf]],\n",
    "       yerr=std[indices[:Nf]], align=\"center\")\n",
    "pl.xticks(range(Nf), nyc1hot.drop([\"price\"], axis=1).columns[indices[:Nf]])\n",
    "ax.set_xticklabels(ax.get_xticklabels(), rotation = 45)\n",
    "pl.xlim([-1, Nf + 0.1])\n",
    "\n",
    "importances = gbcat.feature_importances_\n",
    "importances\n",
    "indices = np.argsort(importances)[::-1]\n",
    "\n",
    "\n",
    "ax = fig.add_subplot(122)\n",
    "\n",
    "# Plot the feature importances of the forest\n",
    "Nf = 3\n",
    "pl.title(\"Feature importances GBT numerical encoded\")\n",
    "pl.bar(range(Nf), importances[indices[:Nf]], align=\"center\")\n",
    "pl.xticks(range(Nf), nyc1hot.drop([\"price\"], axis=1).columns[indices[:Nf]])\n",
    "pl.xlim([-1, Nf + 0.1])\n",
    "ax.set_xticklabels(ax.get_xticklabels(), rotation = 45)\n",
    "\n",
    "pl.show()"
   ]
  },
  {
   "cell_type": "markdown",
   "metadata": {},
   "source": [
    "# The moral of the story is: beware of hot encoding and feature importance!"
   ]
  },
  {
   "cell_type": "code",
   "execution_count": null,
   "metadata": {
    "collapsed": true
   },
   "outputs": [],
   "source": []
  }
 ],
 "metadata": {
  "anaconda-cloud": {},
  "kernelspec": {
   "display_name": "Python 3",
   "language": "python",
   "name": "python3"
  },
  "language_info": {
   "codemirror_mode": {
    "name": "ipython",
    "version": 3
   },
   "file_extension": ".py",
   "mimetype": "text/x-python",
   "name": "python",
   "nbconvert_exporter": "python",
   "pygments_lexer": "ipython3",
   "version": "3.7.3"
  },
  "latex_envs": {
   "LaTeX_envs_menu_present": true,
   "autoclose": false,
   "autocomplete": true,
   "bibliofile": "biblio.bib",
   "cite_by": "apalike",
   "current_citInitial": 1,
   "eqLabelWithNumbers": true,
   "eqNumInitial": 1,
   "hotkeys": {
    "equation": "Ctrl-E",
    "itemize": "Ctrl-I"
   },
   "labels_anchors": false,
   "latex_user_defs": false,
   "report_style_numbering": false,
   "user_envs_cfg": false
  },
  "nbTranslate": {
   "displayLangs": [
    "*"
   ],
   "hotkey": "alt-t",
   "langInMainMenu": true,
   "sourceLang": "en",
   "targetLang": "fr",
   "useGoogleTranslate": true
  },
  "toc": {
   "base_numbering": 1,
   "nav_menu": {
    "height": "12px",
    "width": "252px"
   },
   "number_sections": false,
   "sideBar": true,
   "skip_h1_title": false,
   "title_cell": "Table of Contents",
   "title_sidebar": "Contents",
   "toc_cell": false,
   "toc_position": {},
   "toc_section_display": "block",
   "toc_window_display": false
  }
 },
 "nbformat": 4,
 "nbformat_minor": 1
}
