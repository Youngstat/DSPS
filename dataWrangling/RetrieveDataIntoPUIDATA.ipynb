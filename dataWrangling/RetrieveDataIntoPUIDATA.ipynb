{
 "cells": [
  {
   "cell_type": "markdown",
   "metadata": {},
   "source": [
    "# Retrieve data and move it to PUIdata"
   ]
  },
  {
   "cell_type": "markdown",
   "metadata": {},
   "source": [
    "The PUIDATA environmental variable is set to the path of PUIdata. First, make sure you create a PUIdata directory. _If you use jupyterhub_ the directory has to be in your home directory (on compute), since the path is set for everyone to $HOME/PUIdata. \n",
    "\n",
    "You can retrieve the variable with os.getenv()"
   ]
  },
  {
   "cell_type": "code",
   "execution_count": 2,
   "metadata": {
    "collapsed": false
   },
   "outputs": [
    {
     "name": "stdout",
     "output_type": "stream",
     "text": [
      "/Users/fbianco/science/Dropbox/UI/PUIdata\n"
     ]
    }
   ],
   "source": [
    "from __future__ import print_function\n",
    "import os\n",
    "print (os.getenv(\"PUIDATA\"))"
   ]
  },
  {
   "cell_type": "markdown",
   "metadata": {},
   "source": [
    "# Downloading a single file and moving it to PUIdata. \n",
    "\n",
    "Note that if the file is on GitHub I need to download the __raw__ file, not the simple link, which is a formatted html page"
   ]
  },
  {
   "cell_type": "code",
   "execution_count": 4,
   "metadata": {
    "collapsed": false
   },
   "outputs": [
    {
     "name": "stdout",
     "output_type": "stream",
     "text": [
      "  % Total    % Received % Xferd  Average Speed   Time    Time     Time  Current\n",
      "                                 Dload  Upload   Total   Spent    Left  Speed\n",
      "100 63114  100 63114    0     0   395k      0 --:--:-- --:--:-- --:--:--  477k\n"
     ]
    }
   ],
   "source": [
    "#downloading data\n",
    "!curl -O https://raw.githubusercontent.com/fedhere/UInotebooks/master/dataWrangling/311_Service_Requests_from_2010_to_Present_head.csv\n",
    "#unpacking into $PUIDATA\n",
    "!mv 311_Service_Requests_from_2010_to_Present_head.csv $PUIDATA"
   ]
  },
  {
   "cell_type": "markdown",
   "metadata": {},
   "source": [
    "## Downloading zipped data and uppacking it into PUIdata\n",
    "\n",
    "Downloading the data (available on [Pronto's Website](http://www.prontocycleshare.com/datachallenge)) \n",
    "The total download is about 70MB, and the unzipped files are around 900MB. This is taken from Jake VanderPlas Pythonic Preambulations blog https://github.com/jakevdp/PythonicPerambulations/blob/master/content/downloads/notebooks/ProntoData.ipynb"
   ]
  },
  {
   "cell_type": "code",
   "execution_count": 5,
   "metadata": {
    "collapsed": false
   },
   "outputs": [
    {
     "name": "stdout",
     "output_type": "stream",
     "text": [
      "  % Total    % Received % Xferd  Average Speed   Time    Time     Time  Current\n",
      "                                 Dload  Upload   Total   Spent    Left  Speed\n",
      "100 70.8M  100 70.8M    0     0  9502k      0  0:00:07  0:00:07 --:--:-- 10.3M\n",
      "Archive:  open_data_year_one.zip\n",
      "  inflating: /Users/fbianco/science/Dropbox/UI/PUIdata/2015_station_data.csv  \n",
      "  inflating: /Users/fbianco/science/Dropbox/UI/PUIdata/2015_status_data.csv  \n",
      "  inflating: /Users/fbianco/science/Dropbox/UI/PUIdata/2015_trip_data.csv  \n",
      "  inflating: /Users/fbianco/science/Dropbox/UI/PUIdata/2015_weather_data.csv  \n",
      "  inflating: /Users/fbianco/science/Dropbox/UI/PUIdata/README.txt  \n"
     ]
    }
   ],
   "source": [
    "# downloading a zipped file\n",
    "!curl -O https://s3.amazonaws.com/pronto-data/open_data_year_one.zip\n",
    "# unpacking into $PUIDATA\n",
    "!unzip open_data_year_one.zip -d $PUIDATA"
   ]
  },
  {
   "cell_type": "code",
   "execution_count": 3,
   "metadata": {
    "collapsed": false,
    "scrolled": true
   },
   "outputs": [
    {
     "name": "stdout",
     "output_type": "stream",
     "text": [
      "2015_station_data.csv\r\n",
      "2015_status_data.csv\r\n",
      "2015_trip_data.csv\r\n",
      "2015_weather_data.csv\r\n",
      "311_Service_Requests_from_2010_to_Present_head.csv\r\n",
      "\u001b[34mACS_10_SF4_DP03\u001b[m\u001b[m\r\n",
      "\u001b[34mACS_15_5YR_DP02\u001b[m\u001b[m\r\n",
      "\u001b[34mManhattan\u001b[m\u001b[m\r\n",
      "\u001b[34mMidterm_Data\u001b[m\u001b[m\r\n",
      "README.txt\r\n",
      "Untitled.ipynb\r\n",
      "Untitled1.ipynb\r\n",
      "apikey.json\r\n",
      "application%2Fzip\r\n",
      "discharge.csv\r\n",
      "fbb_matplotlibrc.json\r\n",
      "highzip.csv\r\n",
      "\u001b[34mnybb_16d\u001b[m\u001b[m\r\n",
      "nybb_16d.zip\r\n",
      "\u001b[34mnycb2010_16d\u001b[m\u001b[m\r\n",
      "rows.csv\r\n",
      "t_sf1_dp_cd.xlsx\r\n",
      "t_sf1_dp_nyc.xlsx\r\n",
      "tr36_d00.dbf\r\n",
      "tr36_d00.shp\r\n",
      "tr36_d00.shx\r\n",
      "tr36_d00_shp.zip\r\n",
      "zbp00totals.txt\r\n",
      "zbp00totals.zip\r\n",
      "zbp01totals.zip\r\n",
      "zbp02totals.zip\r\n",
      "zbp03totals.zip\r\n",
      "zbp04totals.zip\r\n",
      "zbp05totals.zip\r\n",
      "zbp06totals.zip\r\n",
      "zbp07totals.zip\r\n",
      "zbp08totals.zip\r\n",
      "zbp09totals.zip\r\n",
      "zbp10totals.txt\r\n",
      "zbp10totals.zip\r\n",
      "zbp11totals.zip\r\n",
      "zbp12totals.zip\r\n",
      "zbp13totals.zip\r\n",
      "zbp14totals.zip\r\n",
      "zbp94totals.zip\r\n",
      "zbp95totals.zip\r\n",
      "zbp96totals.zip\r\n",
      "zbp97totals.zip\r\n",
      "zbp98totals.zip\r\n",
      "zbp99totals.zip\r\n"
     ]
    }
   ],
   "source": [
    "!ls $PUIDATA"
   ]
  },
  {
   "cell_type": "markdown",
   "metadata": {},
   "source": [
    "Note that if I try again to unzip the zip command will ask if I want to overwrite (just stop the command with control+c and remove the files. To run your notebook again, leave the lines of code in the notebook, and comment them."
   ]
  },
  {
   "cell_type": "code",
   "execution_count": 8,
   "metadata": {
    "collapsed": false
   },
   "outputs": [
    {
     "name": "stdout",
     "output_type": "stream",
     "text": [
      "  % Total    % Received % Xferd  Average Speed   Time    Time     Time  Current\n",
      "                                 Dload  Upload   Total   Spent    Left  Speed\n",
      "100 70.8M  100 70.8M    0     0  11.1M      0  0:00:06  0:00:06 --:--:-- 12.6M\n",
      "Archive:  open_data_year_one.zip\n",
      "replace /Users/fbianco/science/Dropbox/UI/PUIdata/2015_station_data.csv? [y]es, [n]o, [A]ll, [N]one, [r]ename: ^C\n"
     ]
    }
   ],
   "source": [
    "# downloading a zipped file\n",
    "!curl -O https://s3.amazonaws.com/pronto-data/open_data_year_one.zip\n",
    "# unpacking into $PUIDATA\n",
    "!unzip open_data_year_one.zip -d $PUIDATA"
   ]
  },
  {
   "cell_type": "markdown",
   "metadata": {},
   "source": [
    "# Downloading data from the CUSP DF"
   ]
  },
  {
   "cell_type": "code",
   "execution_count": null,
   "metadata": {
    "collapsed": true
   },
   "outputs": [],
   "source": [
    "DFDATA = os.getenv(\"DFDATA\")\n",
    "\n",
    "# on the CUSP data facility (compute, jupiterhub) the DFDATA should point to /gws/open/NYCOpenData/nycopendata/data/\n",
    "# set it up on compute as export DFDATA=\"/gws/open/NYCOpenData/nycopendata/data/\"\n",
    "df_gas = pd.read_csv(DFDATA + \"/uedp-fegm/1414245967/uedp-fegm\")"
   ]
  },
  {
   "cell_type": "code",
   "execution_count": null,
   "metadata": {
    "collapsed": true
   },
   "outputs": [],
   "source": [
    "df_gas"
   ]
  }
 ],
 "metadata": {
  "anaconda-cloud": {},
  "kernelspec": {
   "display_name": "Python [default]",
   "language": "python",
   "name": "python2"
  },
  "language_info": {
   "codemirror_mode": {
    "name": "ipython",
    "version": 2
   },
   "file_extension": ".py",
   "mimetype": "text/x-python",
   "name": "python",
   "nbconvert_exporter": "python",
   "pygments_lexer": "ipython2",
   "version": "2.7.3"
  }
 },
 "nbformat": 4,
 "nbformat_minor": 0
}
