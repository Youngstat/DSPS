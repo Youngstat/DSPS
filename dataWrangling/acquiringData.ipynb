{
 "cells": [
  {
   "cell_type": "code",
   "execution_count": 8,
   "metadata": {
    "collapsed": false
   },
   "outputs": [],
   "source": [
    "from __future__ import print_function\n",
    "__author__ = 'fbb CUSP PUI2016'"
   ]
  },
  {
   "cell_type": "markdown",
   "metadata": {},
   "source": [
    "# Notebook on how to download data within your notebooks\n"
   ]
  },
  {
   "cell_type": "markdown",
   "metadata": {},
   "source": [
    "### CSV file"
   ]
  },
  {
   "cell_type": "code",
   "execution_count": 2,
   "metadata": {
    "collapsed": false
   },
   "outputs": [
    {
     "name": "stderr",
     "output_type": "stream",
     "text": [
      "/Users/fbianco/Library/Enthought/Canopy_64bit/User/lib/python2.7/site-packages/requests/packages/urllib3/util/ssl_.py:318: SNIMissingWarning: An HTTPS request has been made, but the SNI (Subject Name Indication) extension to TLS is not available on this platform. This may cause the server to present an incorrect TLS certificate, which can cause validation failures. You can upgrade to a newer version of Python to solve this. For more information, see https://urllib3.readthedocs.io/en/latest/security.html#snimissingwarning.\n",
      "  SNIMissingWarning\n",
      "/Users/fbianco/Library/Enthought/Canopy_64bit/User/lib/python2.7/site-packages/requests/packages/urllib3/util/ssl_.py:122: InsecurePlatformWarning: A true SSLContext object is not available. This prevents urllib3 from configuring SSL appropriately and may cause certain SSL connections to fail. You can upgrade to a newer version of Python to solve this. For more information, see https://urllib3.readthedocs.io/en/latest/security.html#insecureplatformwarning.\n",
      "  InsecurePlatformWarning\n"
     ]
    },
    {
     "data": {
      "text/plain": [
       "[['#Students Name',\n",
       "  'Hair Color',\n",
       "  'Gender',\n",
       "  'Major',\n",
       "  'Height',\n",
       "  'Computer Experience'],\n",
       " ['Norma', 'Brown', 'Female', 'Psychology', '5\\'4\"', 'Lots'],\n",
       " ['Amber', 'Blonde', 'Female', 'Social Science', '5\\'7\"', 'Very Little'],\n",
       " ['Paul', 'Blonde', 'Male', 'History', '6\\'1\"', 'Moderate'],\n",
       " ['Christopher', 'Black', 'Male', 'Biology', '5\\'10\"', 'Lots'],\n",
       " ['Sonya', 'Brown', 'Female', 'Psychology', '5\\'4\"', 'Little']]"
      ]
     },
     "execution_count": 2,
     "metadata": {},
     "output_type": "execute_result"
    }
   ],
   "source": [
    "import csv\n",
    "import requests\n",
    "\n",
    "#slightly better than just using !curl -O https://serv.cusp.nyu.edu/~fbianco/PUI2017/data/IntrotoStats_Table6_1.csv\n",
    "\n",
    "CSV_URL = 'https://serv.cusp.nyu.edu/~fbianco/PUI2017/data/IntrotoStats_Table6_1.csv'\n",
    "\n",
    "\n",
    "with requests.Session() as s:\n",
    "    #downloading\n",
    "    download = s.get(CSV_URL)\n",
    "\n",
    "    decoded_content = download.content.decode('utf-8')\n",
    "    #reading\n",
    "    cr = csv.reader(decoded_content.splitlines(), delimiter=',')\n",
    "    csvData = list(cr)\n",
    "csvData\n"
   ]
  },
  {
   "cell_type": "markdown",
   "metadata": {},
   "source": [
    "### JSON file"
   ]
  },
  {
   "cell_type": "code",
   "execution_count": 3,
   "metadata": {
    "collapsed": false
   },
   "outputs": [
    {
     "data": {
      "text/plain": [
       "{u'city': {u'coord': {u'lat': 40.714272, u'lon': -74.005966},\n",
       "  u'country': u'US',\n",
       "  u'id': 5128581,\n",
       "  u'name': u'New York',\n",
       "  u'population': 0},\n",
       " u'cnt': 7,\n",
       " u'cod': u'200',\n",
       " u'list': [{u'clouds': 0,\n",
       "   u'deg': 173,\n",
       "   u'dt': 1473696000,\n",
       "   u'humidity': 80,\n",
       "   u'pressure': 1018.36,\n",
       "   u'speed': 1.16,\n",
       "   u'temp': {u'day': 16.23,\n",
       "    u'eve': 16.23,\n",
       "    u'max': 16.23,\n",
       "    u'min': 16.23,\n",
       "    u'morn': 16.23,\n",
       "    u'night': 16.23},\n",
       "   u'weather': [{u'description': u'clear sky',\n",
       "     u'icon': u'01n',\n",
       "     u'id': 800,\n",
       "     u'main': u'Clear'}]},\n",
       "  {u'clouds': 0,\n",
       "   u'deg': 223,\n",
       "   u'dt': 1473782400,\n",
       "   u'humidity': 59,\n",
       "   u'pressure': 1018.67,\n",
       "   u'speed': 1.43,\n",
       "   u'temp': {u'day': 24.4,\n",
       "    u'eve': 27.97,\n",
       "    u'max': 27.97,\n",
       "    u'min': 13.39,\n",
       "    u'morn': 13.39,\n",
       "    u'night': 20.78},\n",
       "   u'weather': [{u'description': u'clear sky',\n",
       "     u'icon': u'01d',\n",
       "     u'id': 800,\n",
       "     u'main': u'Clear'}]},\n",
       "  {u'clouds': 0,\n",
       "   u'deg': 235,\n",
       "   u'dt': 1473868800,\n",
       "   u'humidity': 59,\n",
       "   u'pressure': 1012.74,\n",
       "   u'rain': 2.1,\n",
       "   u'speed': 1.86,\n",
       "   u'temp': {u'day': 27.06,\n",
       "    u'eve': 29.59,\n",
       "    u'max': 30.38,\n",
       "    u'min': 18.72,\n",
       "    u'morn': 19.93,\n",
       "    u'night': 18.72},\n",
       "   u'weather': [{u'description': u'light rain',\n",
       "     u'icon': u'10d',\n",
       "     u'id': 500,\n",
       "     u'main': u'Rain'}]},\n",
       "  {u'clouds': 0,\n",
       "   u'deg': 4,\n",
       "   u'dt': 1473955200,\n",
       "   u'humidity': 54,\n",
       "   u'pressure': 1019.09,\n",
       "   u'speed': 2.74,\n",
       "   u'temp': {u'day': 16.58,\n",
       "    u'eve': 19.93,\n",
       "    u'max': 19.93,\n",
       "    u'min': 12.54,\n",
       "    u'morn': 13.61,\n",
       "    u'night': 12.54},\n",
       "   u'weather': [{u'description': u'clear sky',\n",
       "     u'icon': u'01d',\n",
       "     u'id': 800,\n",
       "     u'main': u'Clear'}]},\n",
       "  {u'clouds': 0,\n",
       "   u'deg': 28,\n",
       "   u'dt': 1474041600,\n",
       "   u'humidity': 0,\n",
       "   u'pressure': 1021.91,\n",
       "   u'speed': 1.33,\n",
       "   u'temp': {u'day': 22.08,\n",
       "    u'eve': 17.4,\n",
       "    u'max': 22.08,\n",
       "    u'min': 13.54,\n",
       "    u'morn': 13.56,\n",
       "    u'night': 13.54},\n",
       "   u'weather': [{u'description': u'clear sky',\n",
       "     u'icon': u'01d',\n",
       "     u'id': 800,\n",
       "     u'main': u'Clear'}]},\n",
       "  {u'clouds': 90,\n",
       "   u'deg': 169,\n",
       "   u'dt': 1474128000,\n",
       "   u'humidity': 0,\n",
       "   u'pressure': 1018.87,\n",
       "   u'rain': 1.44,\n",
       "   u'speed': 3.85,\n",
       "   u'temp': {u'day': 22.83,\n",
       "    u'eve': 21.99,\n",
       "    u'max': 22.83,\n",
       "    u'min': 15.57,\n",
       "    u'morn': 15.57,\n",
       "    u'night': 21.26},\n",
       "   u'weather': [{u'description': u'light rain',\n",
       "     u'icon': u'10d',\n",
       "     u'id': 500,\n",
       "     u'main': u'Rain'}]},\n",
       "  {u'clouds': 27,\n",
       "   u'deg': 277,\n",
       "   u'dt': 1474214400,\n",
       "   u'humidity': 0,\n",
       "   u'pressure': 1012.14,\n",
       "   u'rain': 4.02,\n",
       "   u'speed': 1.86,\n",
       "   u'temp': {u'day': 24.99,\n",
       "    u'eve': 21.1,\n",
       "    u'max': 24.99,\n",
       "    u'min': 16.6,\n",
       "    u'morn': 21.25,\n",
       "    u'night': 16.6},\n",
       "   u'weather': [{u'description': u'moderate rain',\n",
       "     u'icon': u'10d',\n",
       "     u'id': 501,\n",
       "     u'main': u'Rain'}]}],\n",
       " u'message': 0.0274}"
      ]
     },
     "execution_count": 3,
     "metadata": {},
     "output_type": "execute_result"
    }
   ],
   "source": [
    "import sys\n",
    "import json\n",
    "try:\n",
    "    import urllib2 as urllib\n",
    "except ImportError:\n",
    "    import urllib.request as urllib\n",
    "\n",
    "\n",
    "def get_jsonparsed_data(url):\n",
    "    \"\"\"\n",
    "    from http://stackoverflow.com/questions/12965203/how-to-get-json-from-webpage-into-python-script\n",
    "    Receive the content of ``url``, parse it as JSON and return the object.\n",
    "\n",
    "    Parameters\n",
    "    ----------\n",
    "    url : str\n",
    "\n",
    "    Returns\n",
    "    -------\n",
    "    dict\n",
    "    \"\"\"\n",
    "    response = urllib.urlopen(url)\n",
    "    data = response.read().decode(\"utf-8\")\n",
    "    return json.loads(data)\n",
    "jsonData = get_jsonparsed_data(\\\n",
    "                    \"https://serv.cusp.nyu.edu/~fbianco/PUI2017/data/cityWeather.json\")\n",
    "jsonData"
   ]
  },
  {
   "cell_type": "code",
   "execution_count": null,
   "metadata": {
    "collapsed": true
   },
   "outputs": [],
   "source": []
  }
 ],
 "metadata": {
  "anaconda-cloud": {},
  "kernelspec": {
   "display_name": "Python [default]",
   "language": "python",
   "name": "python2"
  },
  "language_info": {
   "codemirror_mode": {
    "name": "ipython",
    "version": 2
   },
   "file_extension": ".py",
   "mimetype": "text/x-python",
   "name": "python",
   "nbconvert_exporter": "python",
   "pygments_lexer": "ipython2",
   "version": "2.7.3"
  }
 },
 "nbformat": 4,
 "nbformat_minor": 0
}
